{
 "cells": [
  {
   "cell_type": "markdown",
   "metadata": {},
   "source": [
    "## Assignment - Logistic Regression - Bank Data"
   ]
  },
  {
   "cell_type": "markdown",
   "metadata": {},
   "source": [
    "## Business Problem / Objective\n",
    "**Our aim is classify customers who have subscribed for Fixed Deposit(FD) and predict the customers who will take the FD based on the given attributes of the customer.**"
   ]
  },
  {
   "cell_type": "code",
   "execution_count": 1,
   "metadata": {},
   "outputs": [],
   "source": [
    "import pandas as pd\n",
    "# import warnings\n",
    "# warnings.filterwarnings(\"ignore\")"
   ]
  },
  {
   "cell_type": "code",
   "execution_count": 2,
   "metadata": {},
   "outputs": [
    {
     "data": {
      "text/html": [
       "<div>\n",
       "<style scoped>\n",
       "    .dataframe tbody tr th:only-of-type {\n",
       "        vertical-align: middle;\n",
       "    }\n",
       "\n",
       "    .dataframe tbody tr th {\n",
       "        vertical-align: top;\n",
       "    }\n",
       "\n",
       "    .dataframe thead th {\n",
       "        text-align: right;\n",
       "    }\n",
       "</style>\n",
       "<table border=\"1\" class=\"dataframe\">\n",
       "  <thead>\n",
       "    <tr style=\"text-align: right;\">\n",
       "      <th></th>\n",
       "      <th>age</th>\n",
       "      <th>job</th>\n",
       "      <th>marital</th>\n",
       "      <th>education</th>\n",
       "      <th>default</th>\n",
       "      <th>balance</th>\n",
       "      <th>housing</th>\n",
       "      <th>loan</th>\n",
       "      <th>contact</th>\n",
       "      <th>day</th>\n",
       "      <th>month</th>\n",
       "      <th>duration</th>\n",
       "      <th>campaign</th>\n",
       "      <th>pdays</th>\n",
       "      <th>previous</th>\n",
       "      <th>poutcome</th>\n",
       "      <th>y</th>\n",
       "    </tr>\n",
       "  </thead>\n",
       "  <tbody>\n",
       "    <tr>\n",
       "      <th>0</th>\n",
       "      <td>58</td>\n",
       "      <td>management</td>\n",
       "      <td>married</td>\n",
       "      <td>tertiary</td>\n",
       "      <td>no</td>\n",
       "      <td>2143</td>\n",
       "      <td>yes</td>\n",
       "      <td>no</td>\n",
       "      <td>unknown</td>\n",
       "      <td>5</td>\n",
       "      <td>may</td>\n",
       "      <td>261</td>\n",
       "      <td>1</td>\n",
       "      <td>-1</td>\n",
       "      <td>0</td>\n",
       "      <td>unknown</td>\n",
       "      <td>no</td>\n",
       "    </tr>\n",
       "    <tr>\n",
       "      <th>1</th>\n",
       "      <td>44</td>\n",
       "      <td>technician</td>\n",
       "      <td>single</td>\n",
       "      <td>secondary</td>\n",
       "      <td>no</td>\n",
       "      <td>29</td>\n",
       "      <td>yes</td>\n",
       "      <td>no</td>\n",
       "      <td>unknown</td>\n",
       "      <td>5</td>\n",
       "      <td>may</td>\n",
       "      <td>151</td>\n",
       "      <td>1</td>\n",
       "      <td>-1</td>\n",
       "      <td>0</td>\n",
       "      <td>unknown</td>\n",
       "      <td>no</td>\n",
       "    </tr>\n",
       "    <tr>\n",
       "      <th>2</th>\n",
       "      <td>33</td>\n",
       "      <td>entrepreneur</td>\n",
       "      <td>married</td>\n",
       "      <td>secondary</td>\n",
       "      <td>no</td>\n",
       "      <td>2</td>\n",
       "      <td>yes</td>\n",
       "      <td>yes</td>\n",
       "      <td>unknown</td>\n",
       "      <td>5</td>\n",
       "      <td>may</td>\n",
       "      <td>76</td>\n",
       "      <td>1</td>\n",
       "      <td>-1</td>\n",
       "      <td>0</td>\n",
       "      <td>unknown</td>\n",
       "      <td>no</td>\n",
       "    </tr>\n",
       "    <tr>\n",
       "      <th>3</th>\n",
       "      <td>47</td>\n",
       "      <td>blue-collar</td>\n",
       "      <td>married</td>\n",
       "      <td>unknown</td>\n",
       "      <td>no</td>\n",
       "      <td>1506</td>\n",
       "      <td>yes</td>\n",
       "      <td>no</td>\n",
       "      <td>unknown</td>\n",
       "      <td>5</td>\n",
       "      <td>may</td>\n",
       "      <td>92</td>\n",
       "      <td>1</td>\n",
       "      <td>-1</td>\n",
       "      <td>0</td>\n",
       "      <td>unknown</td>\n",
       "      <td>no</td>\n",
       "    </tr>\n",
       "    <tr>\n",
       "      <th>4</th>\n",
       "      <td>33</td>\n",
       "      <td>unknown</td>\n",
       "      <td>single</td>\n",
       "      <td>unknown</td>\n",
       "      <td>no</td>\n",
       "      <td>1</td>\n",
       "      <td>no</td>\n",
       "      <td>no</td>\n",
       "      <td>unknown</td>\n",
       "      <td>5</td>\n",
       "      <td>may</td>\n",
       "      <td>198</td>\n",
       "      <td>1</td>\n",
       "      <td>-1</td>\n",
       "      <td>0</td>\n",
       "      <td>unknown</td>\n",
       "      <td>no</td>\n",
       "    </tr>\n",
       "  </tbody>\n",
       "</table>\n",
       "</div>"
      ],
      "text/plain": [
       "   age           job  marital  education default  balance housing loan  \\\n",
       "0   58    management  married   tertiary      no     2143     yes   no   \n",
       "1   44    technician   single  secondary      no       29     yes   no   \n",
       "2   33  entrepreneur  married  secondary      no        2     yes  yes   \n",
       "3   47   blue-collar  married    unknown      no     1506     yes   no   \n",
       "4   33       unknown   single    unknown      no        1      no   no   \n",
       "\n",
       "   contact  day month  duration  campaign  pdays  previous poutcome   y  \n",
       "0  unknown    5   may       261         1     -1         0  unknown  no  \n",
       "1  unknown    5   may       151         1     -1         0  unknown  no  \n",
       "2  unknown    5   may        76         1     -1         0  unknown  no  \n",
       "3  unknown    5   may        92         1     -1         0  unknown  no  \n",
       "4  unknown    5   may       198         1     -1         0  unknown  no  "
      ]
     },
     "execution_count": 2,
     "metadata": {},
     "output_type": "execute_result"
    }
   ],
   "source": [
    "masterData = pd.read_csv('bank-full.csv',sep=';') # Read the data and display the data for integrity\n",
    "masterData.head()"
   ]
  },
  {
   "cell_type": "code",
   "execution_count": 3,
   "metadata": {},
   "outputs": [
    {
     "name": "stdout",
     "output_type": "stream",
     "text": [
      "<class 'pandas.core.frame.DataFrame'>\n",
      "RangeIndex: 45211 entries, 0 to 45210\n",
      "Data columns (total 17 columns):\n",
      " #   Column     Non-Null Count  Dtype \n",
      "---  ------     --------------  ----- \n",
      " 0   age        45211 non-null  int64 \n",
      " 1   job        45211 non-null  object\n",
      " 2   marital    45211 non-null  object\n",
      " 3   education  45211 non-null  object\n",
      " 4   default    45211 non-null  object\n",
      " 5   balance    45211 non-null  int64 \n",
      " 6   housing    45211 non-null  object\n",
      " 7   loan       45211 non-null  object\n",
      " 8   contact    45211 non-null  object\n",
      " 9   day        45211 non-null  int64 \n",
      " 10  month      45211 non-null  object\n",
      " 11  duration   45211 non-null  int64 \n",
      " 12  campaign   45211 non-null  int64 \n",
      " 13  pdays      45211 non-null  int64 \n",
      " 14  previous   45211 non-null  int64 \n",
      " 15  poutcome   45211 non-null  object\n",
      " 16  y          45211 non-null  object\n",
      "dtypes: int64(7), object(10)\n",
      "memory usage: 5.9+ MB\n"
     ]
    }
   ],
   "source": [
    "masterData.info() # no null values"
   ]
  },
  {
   "cell_type": "code",
   "execution_count": 4,
   "metadata": {},
   "outputs": [],
   "source": [
    "import numpy as np"
   ]
  },
  {
   "cell_type": "markdown",
   "metadata": {},
   "source": [
    "### Checking the unique values in each columns"
   ]
  },
  {
   "cell_type": "code",
   "execution_count": 5,
   "metadata": {},
   "outputs": [
    {
     "name": "stdout",
     "output_type": "stream",
     "text": [
      "Number of unique vals in age - 77\n",
      "Number of unique vals in job - 12\n",
      "Number of unique vals in marital - 3 ---> ['divorced' 'married' 'single']\n",
      "Number of unique vals in education - 4 ---> ['primary' 'secondary' 'tertiary' 'unknown']\n",
      "Number of unique vals in default - 2 ---> ['no' 'yes']\n",
      "Number of unique vals in balance - 7168\n",
      "Number of unique vals in housing - 2 ---> ['no' 'yes']\n",
      "Number of unique vals in loan - 2 ---> ['no' 'yes']\n",
      "Number of unique vals in contact - 3 ---> ['cellular' 'telephone' 'unknown']\n",
      "Number of unique vals in day - 31\n",
      "Number of unique vals in month - 12\n",
      "Number of unique vals in duration - 1573\n",
      "Number of unique vals in campaign - 48\n",
      "Number of unique vals in pdays - 559\n",
      "Number of unique vals in previous - 41\n",
      "Number of unique vals in poutcome - 4 ---> ['failure' 'other' 'success' 'unknown']\n",
      "Number of unique vals in y - 2 ---> ['no' 'yes']\n"
     ]
    }
   ],
   "source": [
    "# Display the categories with unique values less than 10 else show the count of unique values\n",
    "\n",
    "\n",
    "for x in masterData.columns:\n",
    "    if len(np.unique(masterData[x])) <= 10:\n",
    "        print(f'Number of unique vals in {x} - {len(np.unique(masterData[x]))} --->',np.unique(masterData[x]))\n",
    "    else:\n",
    "        print(f'Number of unique vals in {x} - {len(np.unique(masterData[x]))}')"
   ]
  },
  {
   "cell_type": "code",
   "execution_count": 6,
   "metadata": {},
   "outputs": [],
   "source": [
    "import seaborn as sns\n",
    "import matplotlib.pyplot as plt"
   ]
  },
  {
   "cell_type": "markdown",
   "metadata": {},
   "source": [
    "### Using the count plot to check the relation of cateforical variable with our Dependent variable\n",
    "\n",
    "    ***First check the distribution of our Dependent Variable"
   ]
  },
  {
   "cell_type": "code",
   "execution_count": 7,
   "metadata": {},
   "outputs": [
    {
     "data": {
      "text/plain": [
       "<AxesSubplot:xlabel='y', ylabel='count'>"
      ]
     },
     "execution_count": 7,
     "metadata": {},
     "output_type": "execute_result"
    },
    {
     "data": {
      "image/png": "[encoded data removed]",
      "text/plain": [
       "<Figure size 432x288 with 1 Axes>"
      ]
     },
     "metadata": {
      "needs_background": "light"
     },
     "output_type": "display_data"
    }
   ],
   "source": [
    "sns.countplot(x=masterData['y'], data = masterData)"
   ]
  },
  {
   "cell_type": "markdown",
   "metadata": {},
   "source": [
    "***This is a very biased data out of 45211 number of observations approximately only 5000 are yes which makes the probability of such occurance 5000 / 45211 = 11% of the total data set is in favour of the interested event. it is very difficlut to build a efficient model in this scenario, without modifying the threshold in the model. which is out of scope for now.***"
   ]
  },
  {
   "cell_type": "markdown",
   "metadata": {},
   "source": [
    "### </n>Let us check the correlation of our categorical variable with  the dependent variable.</n>"
   ]
  },
  {
   "cell_type": "code",
   "execution_count": 8,
   "metadata": {},
   "outputs": [
    {
     "data": {
      "image/png": "[encoded data removed]",
      "text/plain": [
       "<Figure size 432x288 with 1 Axes>"
      ]
     },
     "metadata": {
      "needs_background": "light"
     },
     "output_type": "display_data"
    },
    {
     "data": {
      "image/png": "[encoded data removed]",
      "text/plain": [
       "<Figure size 432x288 with 1 Axes>"
      ]
     },
     "metadata": {
      "needs_background": "light"
     },
     "output_type": "display_data"
    },
    {
     "data": {
      "image/png": "[encoded data removed]",
      "text/plain": [
       "<Figure size 432x288 with 1 Axes>"
      ]
     },
     "metadata": {
      "needs_background": "light"
     },
     "output_type": "display_data"
    },
    {
     "data": {
      "image/png": "[encoded data removed]",
      "text/plain": [
       "<Figure size 432x288 with 1 Axes>"
      ]
     },
     "metadata": {
      "needs_background": "light"
     },
     "output_type": "display_data"
    },
    {
     "data": {
      "image/png": "[encoded data removed]",
      "text/plain": [
       "<Figure size 432x288 with 1 Axes>"
      ]
     },
     "metadata": {
      "needs_background": "light"
     },
     "output_type": "display_data"
    },
    {
     "data": {
      "image/png": "[encoded data removed]",
      "text/plain": [
       "<Figure size 432x288 with 1 Axes>"
      ]
     },
     "metadata": {
      "needs_background": "light"
     },
     "output_type": "display_data"
    },
    {
     "data": {
      "image/png": "[encoded data removed]",
      "text/plain": [
       "<Figure size 432x288 with 1 Axes>"
      ]
     },
     "metadata": {
      "needs_background": "light"
     },
     "output_type": "display_data"
    },
    {
     "data": {
      "image/png": "[encoded data removed]",
      "text/plain": [
       "<Figure size 432x288 with 1 Axes>"
      ]
     },
     "metadata": {
      "needs_background": "light"
     },
     "output_type": "display_data"
    },
    {
     "data": {
      "image/png": "[encoded data removed]",
      "text/plain": [
       "<Figure size 432x288 with 1 Axes>"
      ]
     },
     "metadata": {
      "needs_background": "light"
     },
     "output_type": "display_data"
    },
    {
     "data": {
      "image/png": "[encoded data removed]",
      "text/plain": [
       "<Figure size 432x288 with 1 Axes>"
      ]
     },
     "metadata": {
      "needs_background": "light"
     },
     "output_type": "display_data"
    }
   ],
   "source": [
    "Cat_Var = [feature for feature in masterData.columns if masterData[feature].dtypes == 'O']\n",
    "Cat_Var\n",
    "for feature in Cat_Var:\n",
    "    sns.countplot(x=masterData[feature], data=masterData, hue='y')\n",
    "    plt.title(feature)\n",
    "    plt.show()"
   ]
  },
  {
   "cell_type": "markdown",
   "metadata": {},
   "source": [
    "***There is a reasonalbe distribution of 'Y' and 'N' among all categorical variables. let us see how to use them in regression.***"
   ]
  },
  {
   "cell_type": "markdown",
   "metadata": {},
   "source": [
    "### Coverting categorical variables into numerical using get_dummies"
   ]
  },
  {
   "cell_type": "code",
   "execution_count": 9,
   "metadata": {},
   "outputs": [
    {
     "name": "stdout",
     "output_type": "stream",
     "text": [
      "(45211, 17)\n"
     ]
    }
   ],
   "source": [
    "EDA_Data = masterData.copy(deep=True) # creating a copy of EDA\n",
    "print(EDA_Data.shape)\n",
    "EDA_Data.drop('y',axis=1,inplace = True) #segregating dependent and independent variables"
   ]
  },
  {
   "cell_type": "markdown",
   "metadata": {},
   "source": [
    "### one hot coding for all independent variables"
   ]
  },
  {
   "cell_type": "code",
   "execution_count": 10,
   "metadata": {},
   "outputs": [
    {
     "data": {
      "text/plain": [
       "(45211, 51)"
      ]
     },
     "execution_count": 10,
     "metadata": {},
     "output_type": "execute_result"
    }
   ],
   "source": [
    "edaData = pd.get_dummies(EDA_Data)\n",
    "edaData.shape"
   ]
  },
  {
   "cell_type": "markdown",
   "metadata": {},
   "source": [
    "### Converting y column into integer type - 1 = 'no' , 0 = 'yes'"
   ]
  },
  {
   "cell_type": "code",
   "execution_count": 11,
   "metadata": {},
   "outputs": [
    {
     "data": {
      "text/plain": [
       "0        1\n",
       "1        1\n",
       "2        1\n",
       "3        1\n",
       "4        1\n",
       "        ..\n",
       "45206    0\n",
       "45207    0\n",
       "45208    0\n",
       "45209    1\n",
       "45210    1\n",
       "Name: y, Length: 45211, dtype: object"
      ]
     },
     "execution_count": 11,
     "metadata": {},
     "output_type": "execute_result"
    }
   ],
   "source": [
    "y = masterData['y'].copy(deep=True)\n",
    "y[y == 'no'] = 1\n",
    "y[y == 'yes'] = 0\n",
    "y"
   ]
  },
  {
   "cell_type": "code",
   "execution_count": 12,
   "metadata": {},
   "outputs": [
    {
     "name": "stdout",
     "output_type": "stream",
     "text": [
      "1    39922\n",
      "0     5289\n",
      "Name: y, dtype: int64\n",
      "object\n",
      "int32\n"
     ]
    }
   ],
   "source": [
    "print(y.value_counts())\n",
    "print(y.dtypes)\n",
    "y = y.astype(int) # Changing our 'y' column from object to int.\n",
    "print(y.dtypes)"
   ]
  },
  {
   "cell_type": "code",
   "execution_count": 13,
   "metadata": {},
   "outputs": [
    {
     "name": "stdout",
     "output_type": "stream",
     "text": [
      "<class 'pandas.core.frame.DataFrame'>\n",
      "RangeIndex: 45211 entries, 0 to 45210\n",
      "Data columns (total 51 columns):\n",
      " #   Column               Non-Null Count  Dtype\n",
      "---  ------               --------------  -----\n",
      " 0   age                  45211 non-null  int64\n",
      " 1   balance              45211 non-null  int64\n",
      " 2   day                  45211 non-null  int64\n",
      " 3   duration             45211 non-null  int64\n",
      " 4   campaign             45211 non-null  int64\n",
      " 5   pdays                45211 non-null  int64\n",
      " 6   previous             45211 non-null  int64\n",
      " 7   job_admin.           45211 non-null  uint8\n",
      " 8   job_blue-collar      45211 non-null  uint8\n",
      " 9   job_entrepreneur     45211 non-null  uint8\n",
      " 10  job_housemaid        45211 non-null  uint8\n",
      " 11  job_management       45211 non-null  uint8\n",
      " 12  job_retired          45211 non-null  uint8\n",
      " 13  job_self-employed    45211 non-null  uint8\n",
      " 14  job_services         45211 non-null  uint8\n",
      " 15  job_student          45211 non-null  uint8\n",
      " 16  job_technician       45211 non-null  uint8\n",
      " 17  job_unemployed       45211 non-null  uint8\n",
      " 18  job_unknown          45211 non-null  uint8\n",
      " 19  marital_divorced     45211 non-null  uint8\n",
      " 20  marital_married      45211 non-null  uint8\n",
      " 21  marital_single       45211 non-null  uint8\n",
      " 22  education_primary    45211 non-null  uint8\n",
      " 23  education_secondary  45211 non-null  uint8\n",
      " 24  education_tertiary   45211 non-null  uint8\n",
      " 25  education_unknown    45211 non-null  uint8\n",
      " 26  default_no           45211 non-null  uint8\n",
      " 27  default_yes          45211 non-null  uint8\n",
      " 28  housing_no           45211 non-null  uint8\n",
      " 29  housing_yes          45211 non-null  uint8\n",
      " 30  loan_no              45211 non-null  uint8\n",
      " 31  loan_yes             45211 non-null  uint8\n",
      " 32  contact_cellular     45211 non-null  uint8\n",
      " 33  contact_telephone    45211 non-null  uint8\n",
      " 34  contact_unknown      45211 non-null  uint8\n",
      " 35  month_apr            45211 non-null  uint8\n",
      " 36  month_aug            45211 non-null  uint8\n",
      " 37  month_dec            45211 non-null  uint8\n",
      " 38  month_feb            45211 non-null  uint8\n",
      " 39  month_jan            45211 non-null  uint8\n",
      " 40  month_jul            45211 non-null  uint8\n",
      " 41  month_jun            45211 non-null  uint8\n",
      " 42  month_mar            45211 non-null  uint8\n",
      " 43  month_may            45211 non-null  uint8\n",
      " 44  month_nov            45211 non-null  uint8\n",
      " 45  month_oct            45211 non-null  uint8\n",
      " 46  month_sep            45211 non-null  uint8\n",
      " 47  poutcome_failure     45211 non-null  uint8\n",
      " 48  poutcome_other       45211 non-null  uint8\n",
      " 49  poutcome_success     45211 non-null  uint8\n",
      " 50  poutcome_unknown     45211 non-null  uint8\n",
      "dtypes: int64(7), uint8(44)\n",
      "memory usage: 4.3 MB\n"
     ]
    }
   ],
   "source": [
    "edaData.info()"
   ]
  },
  {
   "cell_type": "code",
   "execution_count": 20,
   "metadata": {},
   "outputs": [],
   "source": [
    "edaDataMaster = edaData.copy(deep=True) ## Making a master copy for backup"
   ]
  },
  {
   "cell_type": "code",
   "execution_count": null,
   "metadata": {},
   "outputs": [],
   "source": []
  },
  {
   "cell_type": "markdown",
   "metadata": {},
   "source": [
    "### Feature selection using SKLEARN.FEATURE_SELECTION.RFE"
   ]
  },
  {
   "cell_type": "code",
   "execution_count": 39,
   "metadata": {},
   "outputs": [],
   "source": [
    "from sklearn.feature_selection import RFE"
   ]
  },
  {
   "cell_type": "code",
   "execution_count": 71,
   "metadata": {},
   "outputs": [],
   "source": [
    "lg_reg = LogisticRegression(max_iter=10000)\n",
    "rfe_fit = RFE(lg_reg,n_features_to_select=10).fit(edaData,y)"
   ]
  },
  {
   "cell_type": "code",
   "execution_count": 72,
   "metadata": {},
   "outputs": [
    {
     "data": {
      "text/plain": [
       "array([35, 37, 33, 34, 24, 36, 32, 26, 31,  7, 27,  8, 30,  3, 28, 17, 23,\n",
       "       29, 10, 25, 19, 16, 18, 20,  1, 11, 15,  6,  9, 12,  1, 22,  1,  1,\n",
       "        5,  1,  1, 21,  1,  4,  2,  1,  1, 13,  1, 14])"
      ]
     },
     "execution_count": 72,
     "metadata": {},
     "output_type": "execute_result"
    }
   ],
   "source": [
    "rfe_fit.ranking_"
   ]
  },
  {
   "cell_type": "code",
   "execution_count": 73,
   "metadata": {},
   "outputs": [],
   "source": [
    "rfeSelCol = pd.DataFrame(rfe_fit.ranking_,index=edaData.columns,columns=['Ranking']).sort_values(by='Ranking',ascending=True)"
   ]
  },
  {
   "cell_type": "code",
   "execution_count": 81,
   "metadata": {},
   "outputs": [],
   "source": [
    "ColToSelect = [x for x , y in enumerate(rfe_fit.ranking_) if y == 1]"
   ]
  },
  {
   "cell_type": "code",
   "execution_count": 86,
   "metadata": {},
   "outputs": [],
   "source": [
    "rfeEdaData = edaData.iloc[:,ColToSelect]"
   ]
  },
  {
   "cell_type": "code",
   "execution_count": 97,
   "metadata": {},
   "outputs": [
    {
     "name": "stdout",
     "output_type": "stream",
     "text": [
      "(45211, 10)\n",
      "(45211,)\n"
     ]
    }
   ],
   "source": [
    "X = rfeEdaData.copy(deep=True) # converting edaData into X data. for convinience\n",
    "print(X.shape)\n",
    "print(y.shape)"
   ]
  },
  {
   "cell_type": "markdown",
   "metadata": {},
   "source": [
    "### Feature selectino using entropy  - information gain."
   ]
  },
  {
   "cell_type": "code",
   "execution_count": 88,
   "metadata": {},
   "outputs": [],
   "source": [
    "# from sklearn.tree import DecisionTreeClassifier"
   ]
  },
  {
   "cell_type": "code",
   "execution_count": 89,
   "metadata": {},
   "outputs": [],
   "source": [
    "# dt = DecisionTreeClassifier(random_state=15, criterion='entropy', max_depth=10) # fitting the feature section function using \n",
    "# dt.fit(edaData,y)                                                               # entropy - information gain."
   ]
  },
  {
   "cell_type": "markdown",
   "metadata": {},
   "source": [
    "***Creating the two lists with feature name (fi_Col) and feature importance score (fimp). So that we can sort the feature importance score. Then we can select the features with highest importance score / information gain score***"
   ]
  },
  {
   "cell_type": "code",
   "execution_count": 87,
   "metadata": {},
   "outputs": [],
   "source": [
    "# fi_Col = []\n",
    "# fimp = []\n",
    "# for i,column in enumerate(edaData):\n",
    "#     print('The feature importance for {} is : {}'.format(column, dt.feature_importances_[i]))\n",
    "#     fi_Col.append(column)\n",
    "#     fimp.append(dt.feature_importances_[i])"
   ]
  },
  {
   "cell_type": "code",
   "execution_count": 90,
   "metadata": {},
   "outputs": [],
   "source": [
    "# fimp_df = pd.DataFrame({'Feature':fi_Col,'FeatureImp':fimp}) ## creating the data frame using the two lists\n",
    "# fimp_df.head()"
   ]
  },
  {
   "cell_type": "code",
   "execution_count": 94,
   "metadata": {},
   "outputs": [],
   "source": [
    "# fimp_df = fimp_df.sort_values(\"FeatureImp\", ascending=False).reset_index() ## sorting the dataframe for Feature imp column\n",
    "# fimp_df.head()"
   ]
  },
  {
   "cell_type": "code",
   "execution_count": 93,
   "metadata": {},
   "outputs": [],
   "source": [
    "# col_to_drop = fimp_df.Feature[46:] # col_to_drop with columns whose information gain score '0'\n",
    "# col_to_drop"
   ]
  },
  {
   "cell_type": "code",
   "execution_count": 134,
   "metadata": {},
   "outputs": [],
   "source": [
    "# edaData.drop(col_to_drop,axis=1,inplace=True) ## drop columns in the col_to_drop list\n",
    "# edaData.shape"
   ]
  },
  {
   "cell_type": "code",
   "execution_count": 96,
   "metadata": {},
   "outputs": [],
   "source": [
    "# X = edaData.copy(deep=True) # converting edaData into X data. for convinience\n",
    "# print(X.shape)\n",
    "# print(y.shape)"
   ]
  },
  {
   "cell_type": "markdown",
   "metadata": {},
   "source": [
    "## Model building"
   ]
  },
  {
   "cell_type": "code",
   "execution_count": 98,
   "metadata": {},
   "outputs": [],
   "source": [
    "from sklearn.linear_model import LogisticRegression"
   ]
  },
  {
   "cell_type": "code",
   "execution_count": 99,
   "metadata": {},
   "outputs": [],
   "source": [
    "from sklearn.model_selection import train_test_split"
   ]
  },
  {
   "cell_type": "markdown",
   "metadata": {},
   "source": [
    "#### Train Test and Validation Split (70,20,10)"
   ]
  },
  {
   "cell_type": "code",
   "execution_count": 100,
   "metadata": {},
   "outputs": [
    {
     "name": "stdout",
     "output_type": "stream",
     "text": [
      "(32551, 10)\n",
      "(9043, 10)\n",
      "(3617, 10)\n",
      "(32551,)\n",
      "(9043,)\n",
      "(3617,)\n"
     ]
    }
   ],
   "source": [
    "# first split\n",
    "X_train,X_test,y_train,y_test = train_test_split(X,y,train_size = 0.8,test_size = 0.2, random_state=15)\n",
    "\n",
    "# second split\n",
    "X_train,X_valid,y_train,y_valid = train_test_split(X_train,y_train,train_size = 0.9, test_size = 0.1, random_state=15)\n",
    "\n",
    "print(X_train.shape)\n",
    "print(X_test.shape)\n",
    "print(X_valid.shape)\n",
    "\n",
    "print(y_train.shape)\n",
    "print(y_test.shape)\n",
    "print(y_valid.shape)"
   ]
  },
  {
   "cell_type": "code",
   "execution_count": 101,
   "metadata": {},
   "outputs": [
    {
     "data": {
      "text/plain": [
       "<AxesSubplot:xlabel='y', ylabel='count'>"
      ]
     },
     "execution_count": 101,
     "metadata": {},
     "output_type": "execute_result"
    },
    {
     "data": {
      "image/png": "[encoded data removed]",
      "text/plain": [
       "<Figure size 432x288 with 1 Axes>"
      ]
     },
     "metadata": {
      "needs_background": "light"
     },
     "output_type": "display_data"
    }
   ],
   "source": [
    "sns.countplot(x=y_test,palette='Set3') # Verifying the distribution of Train Test Validatin split"
   ]
  },
  {
   "cell_type": "code",
   "execution_count": 102,
   "metadata": {},
   "outputs": [
    {
     "data": {
      "text/plain": [
       "<AxesSubplot:xlabel='y', ylabel='count'>"
      ]
     },
     "execution_count": 102,
     "metadata": {},
     "output_type": "execute_result"
    },
    {
     "data": {
      "image/png": "[encoded data removed]",
      "text/plain": [
       "<Figure size 432x288 with 1 Axes>"
      ]
     },
     "metadata": {
      "needs_background": "light"
     },
     "output_type": "display_data"
    }
   ],
   "source": [
    "sns.countplot(x=y_train,palette='Set3')"
   ]
  },
  {
   "cell_type": "code",
   "execution_count": 103,
   "metadata": {},
   "outputs": [
    {
     "data": {
      "text/plain": [
       "<AxesSubplot:xlabel='y', ylabel='count'>"
      ]
     },
     "execution_count": 103,
     "metadata": {},
     "output_type": "execute_result"
    },
    {
     "data": {
      "image/png": "[encoded data removed]",
      "text/plain": [
       "<Figure size 432x288 with 1 Axes>"
      ]
     },
     "metadata": {
      "needs_background": "light"
     },
     "output_type": "display_data"
    }
   ],
   "source": [
    "sns.countplot(x=y_valid,palette='Set3')"
   ]
  },
  {
   "cell_type": "markdown",
   "metadata": {},
   "source": [
    "We don't observe any bias in our spilt."
   ]
  },
  {
   "cell_type": "markdown",
   "metadata": {},
   "source": [
    "### Create Regression model"
   ]
  },
  {
   "cell_type": "code",
   "execution_count": 107,
   "metadata": {},
   "outputs": [
    {
     "data": {
      "text/plain": [
       "LogisticRegression(class_weight='balanced', max_iter=10000, random_state=0)"
      ]
     },
     "execution_count": 107,
     "metadata": {},
     "output_type": "execute_result"
    }
   ],
   "source": [
    "logi_reg = LogisticRegression(random_state=0,class_weight='balanced',max_iter=10000)\n",
    "# logi_reg = LogisticRegression(max_iter=5000)\n",
    "logi_reg.fit(X_train,y_train)"
   ]
  },
  {
   "cell_type": "markdown",
   "metadata": {},
   "source": [
    "#### Getting Probabilities, Predictions and Coefs from logistic regression model"
   ]
  },
  {
   "cell_type": "code",
   "execution_count": 108,
   "metadata": {},
   "outputs": [
    {
     "name": "stdout",
     "output_type": "stream",
     "text": [
      "[[0.61038606 0.38961394]\n",
      " [0.44716818 0.55283182]\n",
      " [0.44716818 0.55283182]\n",
      " ...\n",
      " [0.20873583 0.79126417]\n",
      " [0.46337264 0.53662736]\n",
      " [0.20873583 0.79126417]]\n"
     ]
    },
    {
     "data": {
      "text/plain": [
       "array([[-0.59570768,  1.18579004,  0.66105435, -1.17525579,  0.74013256,\n",
       "         0.59705278, -1.63310171, -1.37092062, -1.24830921, -2.38237938]])"
      ]
     },
     "execution_count": 108,
     "metadata": {},
     "output_type": "execute_result"
    }
   ],
   "source": [
    "logi_reg.predict(X_train)\n",
    "y_pred = logi_reg.predict(X_train)\n",
    "\n",
    "pred_proba = logi_reg.predict_proba(X_train)\n",
    "\n",
    "print(pred_proba)\n",
    "\n",
    "logi_reg.coef_"
   ]
  },
  {
   "cell_type": "markdown",
   "metadata": {},
   "source": [
    "#### Checking the accuracy of the model"
   ]
  },
  {
   "cell_type": "code",
   "execution_count": 109,
   "metadata": {},
   "outputs": [
    {
     "name": "stdout",
     "output_type": "stream",
     "text": [
      "The Training Accuracy is:  0.8208657184111087\n",
      "The Testing Accuracy is :  0.8246157248700653\n",
      "Classification Report\n",
      "              precision    recall  f1-score   support\n",
      "\n",
      "           0       0.33      0.52      0.40      3805\n",
      "           1       0.93      0.86      0.89     28746\n",
      "\n",
      "    accuracy                           0.82     32551\n",
      "   macro avg       0.63      0.69      0.65     32551\n",
      "weighted avg       0.86      0.82      0.84     32551\n",
      "\n"
     ]
    }
   ],
   "source": [
    "# Accuracy on Train\n",
    "print(\"The Training Accuracy is: \", logi_reg.score(X_train, y_train))\n",
    "\n",
    "# Accuracy on Test\n",
    "print(\"The Testing Accuracy is : \", logi_reg.score(X_test, y_test))\n",
    "\n",
    "from sklearn.metrics import classification_report\n",
    "# Classification Report\n",
    "print('Classification Report')\n",
    "print(classification_report(y_train, y_pred))"
   ]
  },
  {
   "cell_type": "code",
   "execution_count": 110,
   "metadata": {},
   "outputs": [
    {
     "data": {
      "text/plain": [
       "array([[ 1981,  1824],\n",
       "       [ 4007, 24739]], dtype=int64)"
      ]
     },
     "execution_count": 110,
     "metadata": {},
     "output_type": "execute_result"
    }
   ],
   "source": [
    "from sklearn.metrics import confusion_matrix ## CONFUSION METRICS\n",
    "confusion_matrix(y_train,y_pred)."
   ]
  },
  {
   "cell_type": "code",
   "execution_count": 111,
   "metadata": {},
   "outputs": [
    {
     "data": {
      "text/plain": [
       "1    28746\n",
       "0     3805\n",
       "Name: y, dtype: int64"
      ]
     },
     "execution_count": 111,
     "metadata": {},
     "output_type": "execute_result"
    }
   ],
   "source": [
    "y_train.value_counts()"
   ]
  },
  {
   "cell_type": "code",
   "execution_count": 130,
   "metadata": {},
   "outputs": [],
   "source": [
    "np.set_printoptions(formatter={'float_kind':'{:f}'.format})\n",
    "cm = confusion_matrix(y_train,y_pred)\n",
    "cm_norm = cm / cm.sum(axis=1).reshape(-1,1)\n",
    "\n",
    "def plot_confustion_matrix(cm,classes,title=\"Confusion Matrix\"):\n",
    "    if classes is not None:\n",
    "        sns.heatmap(cm,xticklabels=classes,yticklabels=classes,vmin=0.,vmax=1.,annot=True,annot_kws={'size':20})\n",
    "    else:\n",
    "        sns.heatmap(cm,vmax=1.,vmin=0.)\n",
    "    plt.title(title)\n",
    "    plt.ylabel('True lable')\n",
    "    plt.xlabel('Predicted Lable')"
   ]
  },
  {
   "cell_type": "code",
   "execution_count": 133,
   "metadata": {},
   "outputs": [
    {
     "data": {
      "text/plain": [
       "array([[ 1981,  1824],\n",
       "       [ 4007, 24739]], dtype=int64)"
      ]
     },
     "execution_count": 133,
     "metadata": {},
     "output_type": "execute_result"
    },
    {
     "data": {
      "image/png": "[encoded data removed]",
      "text/plain": [
       "<Figure size 432x288 with 2 Axes>"
      ]
     },
     "metadata": {
      "needs_background": "light"
     },
     "output_type": "display_data"
    }
   ],
   "source": [
    "plot_confustion_matrix(cm_norm,logi_reg.classes_)\n",
    "cm"
   ]
  },
  {
   "cell_type": "markdown",
   "metadata": {},
   "source": [
    "#### PRECISION, SPECIFICITY AND RECALL/SENSITIVITY "
   ]
  },
  {
   "cell_type": "code",
   "execution_count": 157,
   "metadata": {},
   "outputs": [
    {
     "name": "stdout",
     "output_type": "stream",
     "text": [
      "The True Positive Rate is : 0.52 \n",
      "The Precision is          : 0.33 \n",
      "The False positive rate is: 0.14 \n",
      "The False Negative Rate is: 0.48 \n",
      "\n",
      "The average TPR is: 0.6906187210597912\n",
      "The average Precision is: 0.6310806902866959\n",
      "The average False positive rate is: 0.30938127894020884\n",
      "The average False Negative Rate is: 0.30938127894020884\n"
     ]
    }
   ],
   "source": [
    "# Calculating False Positives (FP), False Negatives (FN), True Positives (TP) & True Negatives (TN)\n",
    "\n",
    "FP = cm.sum(axis=0) - np.diag(cm)\n",
    "FN = cm.sum(axis=1) - np.diag(cm)\n",
    "TP = np.diag(cm)\n",
    "TN = cm.sum() - (FP + FN + TP)\n",
    "\n",
    "# Sensitivity, hit rate, recall, or true positive rate\n",
    "TPR = TP / (TP + FN)\n",
    "print(\"The True Positive Rate is : {:.2f} \".format(TPR[0]))\n",
    "\n",
    "# Precision or positive predictive value\n",
    "PPV = TP / (TP + FP)\n",
    "print(\"The Precision is          : {:.2f} \".format(PPV[0]))\n",
    "\n",
    "# False positive rate or False alarm rate\n",
    "FPR = FP / (FP + TN)\n",
    "print(\"The False positive rate is: {:.2f} \".format(FPR[0]))\n",
    "\n",
    "# False negative rate or Miss Rate\n",
    "FNR = FN / (FN + TP)\n",
    "print(\"The False Negative Rate is: {:.2f} \".format(FNR[0]))"
   ]
  },
  {
   "cell_type": "code",
   "execution_count": 150,
   "metadata": {},
   "outputs": [
    {
     "name": "stdout",
     "output_type": "stream",
     "text": [
      "Precision-0.33\n",
      "Recall-0.52\n",
      "Specificity-0.86\n",
      "FPR =  0.13939330689487234 0.13939330689487228\n",
      "FNR =  0.47936925098554534\n"
     ]
    },
    {
     "data": {
      "text/plain": [
       "array([[ 1981,  1824],\n",
       "       [ 4007, 24739]], dtype=int64)"
      ]
     },
     "execution_count": 150,
     "metadata": {},
     "output_type": "execute_result"
    }
   ],
   "source": [
    "# precision = TP/TP+FP (accuracy of positive predictions out of total predicted positivies - prositive predictive value)\n",
    "precision = 1981/(1981+4007)\n",
    "# recall / sensitivity = TP/TP+FN (accuracy of positive prediction out of total actual positives - true positive rate)\n",
    "recall = 1981 / (1981+1824)\n",
    "# specificity = TN /TN+FP (coverage of actual negetive sample meaning how many true negetives are correctly predicted)\n",
    "specificity = 24739/(24739+4007)\n",
    "print(f'Precision-{precision:.2f}\\nRecall-{recall:.2f}\\nSpecificity-{specificity:.2f}')\n",
    "# False positive rate is the rate of wrong positives predicted out of total actual negatives - inverse of specificity\n",
    "# FPR = FP / FP+TN\n",
    "print(F\"FPR = \", 4007/(4007+24739),1-specificity)\n",
    "# FNR(False Negetive Rate) = FN/(FN+TP)\n",
    "print('FNR = ', 1824/(1824+1981))\n",
    "cm"
   ]
  },
  {
   "cell_type": "markdown",
   "metadata": {},
   "source": [
    "**We are interested in prediction TP as that is our classification problem we need to identify customers who took the FD correctly. Our model is correctly predicting the customer who have not taken the FD but it prdiction for customers who have taken the FD is as low as 0.52. Technically this is a useless model.***"
   ]
  },
  {
   "cell_type": "markdown",
   "metadata": {},
   "source": [
    "## ROC Curve"
   ]
  },
  {
   "cell_type": "code",
   "execution_count": 158,
   "metadata": {},
   "outputs": [],
   "source": [
    "from sklearn.metrics import roc_curve, roc_auc_score"
   ]
  },
  {
   "cell_type": "code",
   "execution_count": 159,
   "metadata": {},
   "outputs": [
    {
     "data": {
      "text/html": [
       "<div>\n",
       "<style scoped>\n",
       "    .dataframe tbody tr th:only-of-type {\n",
       "        vertical-align: middle;\n",
       "    }\n",
       "\n",
       "    .dataframe tbody tr th {\n",
       "        vertical-align: top;\n",
       "    }\n",
       "\n",
       "    .dataframe thead th {\n",
       "        text-align: right;\n",
       "    }\n",
       "</style>\n",
       "<table border=\"1\" class=\"dataframe\">\n",
       "  <thead>\n",
       "    <tr style=\"text-align: right;\">\n",
       "      <th></th>\n",
       "      <th>0</th>\n",
       "      <th>1</th>\n",
       "    </tr>\n",
       "  </thead>\n",
       "  <tbody>\n",
       "    <tr>\n",
       "      <th>0</th>\n",
       "      <td>0.610386</td>\n",
       "      <td>0.389614</td>\n",
       "    </tr>\n",
       "    <tr>\n",
       "      <th>1</th>\n",
       "      <td>0.447168</td>\n",
       "      <td>0.552832</td>\n",
       "    </tr>\n",
       "    <tr>\n",
       "      <th>2</th>\n",
       "      <td>0.447168</td>\n",
       "      <td>0.552832</td>\n",
       "    </tr>\n",
       "    <tr>\n",
       "      <th>3</th>\n",
       "      <td>0.610386</td>\n",
       "      <td>0.389614</td>\n",
       "    </tr>\n",
       "    <tr>\n",
       "      <th>4</th>\n",
       "      <td>0.463373</td>\n",
       "      <td>0.536627</td>\n",
       "    </tr>\n",
       "    <tr>\n",
       "      <th>...</th>\n",
       "      <td>...</td>\n",
       "      <td>...</td>\n",
       "    </tr>\n",
       "    <tr>\n",
       "      <th>32546</th>\n",
       "      <td>0.463373</td>\n",
       "      <td>0.536627</td>\n",
       "    </tr>\n",
       "    <tr>\n",
       "      <th>32547</th>\n",
       "      <td>0.322168</td>\n",
       "      <td>0.677832</td>\n",
       "    </tr>\n",
       "    <tr>\n",
       "      <th>32548</th>\n",
       "      <td>0.208736</td>\n",
       "      <td>0.791264</td>\n",
       "    </tr>\n",
       "    <tr>\n",
       "      <th>32549</th>\n",
       "      <td>0.463373</td>\n",
       "      <td>0.536627</td>\n",
       "    </tr>\n",
       "    <tr>\n",
       "      <th>32550</th>\n",
       "      <td>0.208736</td>\n",
       "      <td>0.791264</td>\n",
       "    </tr>\n",
       "  </tbody>\n",
       "</table>\n",
       "<p>32551 rows × 2 columns</p>\n",
       "</div>"
      ],
      "text/plain": [
       "              0         1\n",
       "0      0.610386  0.389614\n",
       "1      0.447168  0.552832\n",
       "2      0.447168  0.552832\n",
       "3      0.610386  0.389614\n",
       "4      0.463373  0.536627\n",
       "...         ...       ...\n",
       "32546  0.463373  0.536627\n",
       "32547  0.322168  0.677832\n",
       "32548  0.208736  0.791264\n",
       "32549  0.463373  0.536627\n",
       "32550  0.208736  0.791264\n",
       "\n",
       "[32551 rows x 2 columns]"
      ]
     },
     "execution_count": 159,
     "metadata": {},
     "output_type": "execute_result"
    }
   ],
   "source": [
    "pred_proba = pd.DataFrame(pred_proba)\n",
    "pred_proba"
   ]
  },
  {
   "cell_type": "code",
   "execution_count": 160,
   "metadata": {},
   "outputs": [
    {
     "data": {
      "text/plain": [
       "Text(0, 0.5, 'True Positive Rate')"
      ]
     },
     "execution_count": 160,
     "metadata": {},
     "output_type": "execute_result"
    },
    {
     "data": {
      "image/png": "[encoded data removed]",
      "text/plain": [
       "<Figure size 432x288 with 1 Axes>"
      ]
     },
     "metadata": {
      "needs_background": "light"
     },
     "output_type": "display_data"
    }
   ],
   "source": [
    "fpr,tpr,threshold = roc_curve(y_train, logi_reg.predict_proba(X_train)[:,1])\n",
    "\n",
    "auc = roc_auc_score(y_train,y_pred)\n",
    "\n",
    "plt.plot(fpr, tpr, color='red', label = f'logit model area  = {auc}')\n",
    "plt.title(f'logit model area  = {auc:.2f}')\n",
    "plt.plot([0, 1], [0, 1], 'k--')\n",
    "plt.xlabel('False Positive Rate or [1 - True Negative Rate]')\n",
    "plt.ylabel('True Positive Rate')"
   ]
  },
  {
   "cell_type": "markdown",
   "metadata": {},
   "source": [
    "### Applying logarithamic loss or log loss function to calculate parameter C (Inverse Regularization Strength) "
   ]
  },
  {
   "cell_type": "code",
   "execution_count": 161,
   "metadata": {},
   "outputs": [],
   "source": [
    "from sklearn.metrics import log_loss"
   ]
  },
  {
   "cell_type": "code",
   "execution_count": 164,
   "metadata": {},
   "outputs": [
    {
     "name": "stdout",
     "output_type": "stream",
     "text": [
      "The mean accuracy CA of parameter 1e-05 is 0.68\n",
      "The log loss of C parameter is 1e-05 is 0.6905223260273574 \n",
      "\n",
      "The mean accuracy CA of parameter 1.5998587196060572e-05 is 0.68\n",
      "The log loss of C parameter is 1.5998587196060572e-05 is 0.6890138334273874 \n",
      "\n",
      "The mean accuracy CA of parameter 2.559547922699533e-05 is 0.68\n",
      "The log loss of C parameter is 2.559547922699533e-05 is 0.6866943782072629 \n",
      "\n",
      "The mean accuracy CA of parameter 4.094915062380427e-05 is 0.68\n",
      "The log loss of C parameter is 4.094915062380427e-05 is 0.6832150514193598 \n",
      "\n",
      "The mean accuracy CA of parameter 6.55128556859551e-05 is 0.68\n",
      "The log loss of C parameter is 6.55128556859551e-05 is 0.6781541380539602 \n",
      "\n",
      "The mean accuracy CA of parameter 0.00010481131341546853 is 0.68\n",
      "The log loss of C parameter is 0.00010481131341546853 is 0.6711302184190899 \n",
      "\n",
      "The mean accuracy CA of parameter 0.00016768329368110083 is 0.68\n",
      "The log loss of C parameter is 0.00016768329368110083 is 0.6619588097169476 \n",
      "\n",
      "The mean accuracy CA of parameter 0.0002682695795279727 is 0.68\n",
      "The log loss of C parameter is 0.0002682695795279727 is 0.6508360514390351 \n",
      "\n",
      "The mean accuracy CA of parameter 0.00042919342601287783 is 0.68\n",
      "The log loss of C parameter is 0.00042919342601287783 is 0.6383971007601013 \n",
      "\n",
      "The mean accuracy CA of parameter 0.0006866488450042998 is 0.68\n",
      "The log loss of C parameter is 0.0006866488450042998 is 0.625571816437102 \n",
      "\n",
      "The mean accuracy CA of parameter 0.0010985411419875584 is 0.68\n",
      "The log loss of C parameter is 0.0010985411419875584 is 0.6133508679268781 \n",
      "\n",
      "The mean accuracy CA of parameter 0.001757510624854793 is 0.68\n",
      "The log loss of C parameter is 0.001757510624854793 is 0.6025451481251096 \n",
      "\n",
      "The mean accuracy CA of parameter 0.002811768697974231 is 0.68\n",
      "The log loss of C parameter is 0.002811768697974231 is 0.5936515348162293 \n",
      "\n",
      "The mean accuracy CA of parameter 0.004498432668969444 is 0.81\n",
      "The log loss of C parameter is 0.004498432668969444 is 0.5867917976517725 \n",
      "\n",
      "The mean accuracy CA of parameter 0.0071968567300115215 is 0.81\n",
      "The log loss of C parameter is 0.0071968567300115215 is 0.5818604122534823 \n",
      "\n",
      "The mean accuracy CA of parameter 0.011513953993264481 is 0.83\n",
      "The log loss of C parameter is 0.011513953993264481 is 0.5785470101615068 \n",
      "\n",
      "The mean accuracy CA of parameter 0.018420699693267165 is 0.83\n",
      "The log loss of C parameter is 0.018420699693267165 is 0.5764946548216937 \n",
      "\n",
      "The mean accuracy CA of parameter 0.029470517025518096 is 0.83\n",
      "The log loss of C parameter is 0.029470517025518096 is 0.5753303932777675 \n",
      "\n",
      "The mean accuracy CA of parameter 0.04714866363457394 is 0.82\n",
      "The log loss of C parameter is 0.04714866363457394 is 0.5747501280308401 \n",
      "\n",
      "The mean accuracy CA of parameter 0.07543120063354623 is 0.82\n",
      "The log loss of C parameter is 0.07543120063354623 is 0.5744999491941064 \n",
      "\n",
      "The mean accuracy CA of parameter 0.1206792640639329 is 0.82\n",
      "The log loss of C parameter is 0.1206792640639329 is 0.5744085457598644 \n",
      "\n",
      "The mean accuracy CA of parameter 0.19306977288832497 is 0.82\n",
      "The log loss of C parameter is 0.19306977288832497 is 0.5744035390864439 \n",
      "\n",
      "The mean accuracy CA of parameter 0.30888435964774846 is 0.82\n",
      "The log loss of C parameter is 0.30888435964774846 is 0.5744159080262538 \n",
      "\n",
      "The mean accuracy CA of parameter 0.49417133613238384 is 0.82\n",
      "The log loss of C parameter is 0.49417133613238384 is 0.5744284069223017 \n",
      "\n",
      "The mean accuracy CA of parameter 0.7906043210907702 is 0.82\n",
      "The log loss of C parameter is 0.7906043210907702 is 0.5744502862352976 \n",
      "\n",
      "The mean accuracy CA of parameter 1.2648552168552958 is 0.82\n",
      "The log loss of C parameter is 1.2648552168552958 is 0.5744578296079844 \n",
      "\n",
      "The mean accuracy CA of parameter 2.0235896477251556 is 0.82\n",
      "The log loss of C parameter is 2.0235896477251556 is 0.5744694718625362 \n",
      "\n",
      "The mean accuracy CA of parameter 3.2374575428176464 is 0.82\n",
      "The log loss of C parameter is 3.2374575428176464 is 0.5744755835867639 \n",
      "\n",
      "The mean accuracy CA of parameter 5.1794746792312125 is 0.82\n",
      "The log loss of C parameter is 5.1794746792312125 is 0.57447367082871 \n",
      "\n",
      "The mean accuracy CA of parameter 8.286427728546842 is 0.82\n",
      "The log loss of C parameter is 8.286427728546842 is 0.5744786467317163 \n",
      "\n",
      "The mean accuracy CA of parameter 13.257113655901108 is 0.82\n",
      "The log loss of C parameter is 13.257113655901108 is 0.5744806769859614 \n",
      "\n",
      "The mean accuracy CA of parameter 21.209508879201927 is 0.82\n",
      "The log loss of C parameter is 21.209508879201927 is 0.574482049334055 \n",
      "\n",
      "The mean accuracy CA of parameter 33.9322177189533 is 0.82\n",
      "The log loss of C parameter is 33.9322177189533 is 0.5744831113271648 \n",
      "\n",
      "The mean accuracy CA of parameter 54.286754393238596 is 0.82\n",
      "The log loss of C parameter is 54.286754393238596 is 0.5744838467339693 \n",
      "\n",
      "The mean accuracy CA of parameter 86.85113737513521 is 0.82\n",
      "The log loss of C parameter is 86.85113737513521 is 0.5744843321695956 \n",
      "\n",
      "The mean accuracy CA of parameter 138.9495494373139 is 0.82\n",
      "The log loss of C parameter is 138.9495494373139 is 0.5744846452633499 \n",
      "\n",
      "The mean accuracy CA of parameter 222.29964825261956 is 0.82\n",
      "The log loss of C parameter is 222.29964825261956 is 0.574484844669751 \n",
      "\n",
      "The mean accuracy CA of parameter 355.64803062231283 is 0.82\n",
      "The log loss of C parameter is 355.64803062231283 is 0.5744849707433795 \n",
      "\n",
      "The mean accuracy CA of parameter 568.9866029018305 is 0.82\n",
      "The log loss of C parameter is 568.9866029018305 is 0.5744850501035221 \n",
      "\n",
      "The mean accuracy CA of parameter 910.2981779915227 is 0.82\n",
      "The log loss of C parameter is 910.2981779915227 is 0.5744850999250308 \n",
      "\n",
      "The mean accuracy CA of parameter 1456.3484775012444 is 0.82\n",
      "The log loss of C parameter is 1456.3484775012444 is 0.5744851311508775 \n",
      "\n",
      "The mean accuracy CA of parameter 2329.951810515372 is 0.82\n",
      "The log loss of C parameter is 2329.951810515372 is 0.5744851507017893 \n",
      "\n",
      "The mean accuracy CA of parameter 3727.593720314938 is 0.82\n",
      "The log loss of C parameter is 3727.593720314938 is 0.5744851629350882 \n",
      "\n",
      "The mean accuracy CA of parameter 5963.623316594637 is 0.82\n",
      "The log loss of C parameter is 5963.623316594637 is 0.5744851705866159 \n",
      "\n",
      "The mean accuracy CA of parameter 9540.954763499964 is 0.82\n",
      "The log loss of C parameter is 9540.954763499964 is 0.5744851753712087 \n",
      "\n",
      "The mean accuracy CA of parameter 15264.179671752365 is 0.82\n",
      "The log loss of C parameter is 15264.179671752365 is 0.5744851783626107 \n",
      "\n",
      "The mean accuracy CA of parameter 24420.53094548655 is 0.82\n",
      "The log loss of C parameter is 24420.53094548655 is 0.5744851802327035 \n",
      "\n",
      "The mean accuracy CA of parameter 39069.39937054621 is 0.82\n",
      "The log loss of C parameter is 39069.39937054621 is 0.574485181401734 \n",
      "\n",
      "The mean accuracy CA of parameter 62505.51925273976 is 0.82\n",
      "The log loss of C parameter is 62505.51925273976 is 0.574485182132483 \n",
      "\n",
      "The mean accuracy CA of parameter 100000.0 is 0.82\n",
      "The log loss of C parameter is 100000.0 is 0.5744851825892625 \n",
      "\n"
     ]
    }
   ],
   "source": [
    "C_List = np.geomspace(1e-5, 1e5, num=50)\n",
    "CA = []\n",
    "logarithamic_loss = []\n",
    "\n",
    "for c in C_List:\n",
    "    logi_reg1 = LogisticRegression(random_state=0,class_weight='balanced',max_iter=5000,C=c)\n",
    "    logi_reg1.fit(X_train,y_train)\n",
    "    score = logi_reg1.score(X_test,y_test)\n",
    "    CA.append(score)\n",
    "    print( f'The mean accuracy CA of parameter {c} is {score:.2f}')\n",
    "    pred_proba_test = logi_reg1.predict_proba(X_test)\n",
    "    logLoss1 = log_loss(y_test,pred_proba_test)\n",
    "    logarithamic_loss.append(logLoss1)\n",
    "    print(f\"The log loss of C parameter is {c} is {logLoss1} \\n\")  "
   ]
  },
  {
   "cell_type": "code",
   "execution_count": 169,
   "metadata": {},
   "outputs": [
    {
     "data": {
      "text/html": [
       "<div>\n",
       "<style scoped>\n",
       "    .dataframe tbody tr th:only-of-type {\n",
       "        vertical-align: middle;\n",
       "    }\n",
       "\n",
       "    .dataframe tbody tr th {\n",
       "        vertical-align: top;\n",
       "    }\n",
       "\n",
       "    .dataframe thead th {\n",
       "        text-align: right;\n",
       "    }\n",
       "</style>\n",
       "<table border=\"1\" class=\"dataframe\">\n",
       "  <thead>\n",
       "    <tr style=\"text-align: right;\">\n",
       "      <th></th>\n",
       "      <th>index</th>\n",
       "      <th>C_List</th>\n",
       "      <th>CA2</th>\n",
       "      <th>Logarithmic_Loss2</th>\n",
       "    </tr>\n",
       "  </thead>\n",
       "  <tbody>\n",
       "    <tr>\n",
       "      <th>0</th>\n",
       "      <td>21</td>\n",
       "      <td>0.193070</td>\n",
       "      <td>0.824837</td>\n",
       "      <td>0.574404</td>\n",
       "    </tr>\n",
       "    <tr>\n",
       "      <th>1</th>\n",
       "      <td>20</td>\n",
       "      <td>0.120679</td>\n",
       "      <td>0.824837</td>\n",
       "      <td>0.574409</td>\n",
       "    </tr>\n",
       "    <tr>\n",
       "      <th>2</th>\n",
       "      <td>22</td>\n",
       "      <td>0.308884</td>\n",
       "      <td>0.824616</td>\n",
       "      <td>0.574416</td>\n",
       "    </tr>\n",
       "    <tr>\n",
       "      <th>3</th>\n",
       "      <td>23</td>\n",
       "      <td>0.494171</td>\n",
       "      <td>0.824616</td>\n",
       "      <td>0.574428</td>\n",
       "    </tr>\n",
       "    <tr>\n",
       "      <th>4</th>\n",
       "      <td>24</td>\n",
       "      <td>0.790604</td>\n",
       "      <td>0.824616</td>\n",
       "      <td>0.574450</td>\n",
       "    </tr>\n",
       "    <tr>\n",
       "      <th>5</th>\n",
       "      <td>25</td>\n",
       "      <td>1.264855</td>\n",
       "      <td>0.824616</td>\n",
       "      <td>0.574458</td>\n",
       "    </tr>\n",
       "    <tr>\n",
       "      <th>6</th>\n",
       "      <td>26</td>\n",
       "      <td>2.023590</td>\n",
       "      <td>0.824616</td>\n",
       "      <td>0.574469</td>\n",
       "    </tr>\n",
       "    <tr>\n",
       "      <th>7</th>\n",
       "      <td>28</td>\n",
       "      <td>5.179475</td>\n",
       "      <td>0.824616</td>\n",
       "      <td>0.574474</td>\n",
       "    </tr>\n",
       "    <tr>\n",
       "      <th>8</th>\n",
       "      <td>27</td>\n",
       "      <td>3.237458</td>\n",
       "      <td>0.824616</td>\n",
       "      <td>0.574476</td>\n",
       "    </tr>\n",
       "    <tr>\n",
       "      <th>9</th>\n",
       "      <td>29</td>\n",
       "      <td>8.286428</td>\n",
       "      <td>0.824616</td>\n",
       "      <td>0.574479</td>\n",
       "    </tr>\n",
       "    <tr>\n",
       "      <th>10</th>\n",
       "      <td>30</td>\n",
       "      <td>13.257114</td>\n",
       "      <td>0.824616</td>\n",
       "      <td>0.574481</td>\n",
       "    </tr>\n",
       "    <tr>\n",
       "      <th>11</th>\n",
       "      <td>31</td>\n",
       "      <td>21.209509</td>\n",
       "      <td>0.824616</td>\n",
       "      <td>0.574482</td>\n",
       "    </tr>\n",
       "    <tr>\n",
       "      <th>12</th>\n",
       "      <td>32</td>\n",
       "      <td>33.932218</td>\n",
       "      <td>0.824616</td>\n",
       "      <td>0.574483</td>\n",
       "    </tr>\n",
       "    <tr>\n",
       "      <th>13</th>\n",
       "      <td>33</td>\n",
       "      <td>54.286754</td>\n",
       "      <td>0.824616</td>\n",
       "      <td>0.574484</td>\n",
       "    </tr>\n",
       "    <tr>\n",
       "      <th>14</th>\n",
       "      <td>34</td>\n",
       "      <td>86.851137</td>\n",
       "      <td>0.824616</td>\n",
       "      <td>0.574484</td>\n",
       "    </tr>\n",
       "    <tr>\n",
       "      <th>15</th>\n",
       "      <td>35</td>\n",
       "      <td>138.949549</td>\n",
       "      <td>0.824616</td>\n",
       "      <td>0.574485</td>\n",
       "    </tr>\n",
       "    <tr>\n",
       "      <th>16</th>\n",
       "      <td>36</td>\n",
       "      <td>222.299648</td>\n",
       "      <td>0.824616</td>\n",
       "      <td>0.574485</td>\n",
       "    </tr>\n",
       "    <tr>\n",
       "      <th>17</th>\n",
       "      <td>37</td>\n",
       "      <td>355.648031</td>\n",
       "      <td>0.824616</td>\n",
       "      <td>0.574485</td>\n",
       "    </tr>\n",
       "    <tr>\n",
       "      <th>18</th>\n",
       "      <td>38</td>\n",
       "      <td>568.986603</td>\n",
       "      <td>0.824616</td>\n",
       "      <td>0.574485</td>\n",
       "    </tr>\n",
       "    <tr>\n",
       "      <th>19</th>\n",
       "      <td>39</td>\n",
       "      <td>910.298178</td>\n",
       "      <td>0.824616</td>\n",
       "      <td>0.574485</td>\n",
       "    </tr>\n",
       "    <tr>\n",
       "      <th>20</th>\n",
       "      <td>40</td>\n",
       "      <td>1456.348478</td>\n",
       "      <td>0.824616</td>\n",
       "      <td>0.574485</td>\n",
       "    </tr>\n",
       "    <tr>\n",
       "      <th>21</th>\n",
       "      <td>41</td>\n",
       "      <td>2329.951811</td>\n",
       "      <td>0.824616</td>\n",
       "      <td>0.574485</td>\n",
       "    </tr>\n",
       "    <tr>\n",
       "      <th>22</th>\n",
       "      <td>42</td>\n",
       "      <td>3727.593720</td>\n",
       "      <td>0.824616</td>\n",
       "      <td>0.574485</td>\n",
       "    </tr>\n",
       "    <tr>\n",
       "      <th>23</th>\n",
       "      <td>43</td>\n",
       "      <td>5963.623317</td>\n",
       "      <td>0.824616</td>\n",
       "      <td>0.574485</td>\n",
       "    </tr>\n",
       "    <tr>\n",
       "      <th>24</th>\n",
       "      <td>44</td>\n",
       "      <td>9540.954763</td>\n",
       "      <td>0.824616</td>\n",
       "      <td>0.574485</td>\n",
       "    </tr>\n",
       "    <tr>\n",
       "      <th>25</th>\n",
       "      <td>45</td>\n",
       "      <td>15264.179672</td>\n",
       "      <td>0.824616</td>\n",
       "      <td>0.574485</td>\n",
       "    </tr>\n",
       "    <tr>\n",
       "      <th>26</th>\n",
       "      <td>46</td>\n",
       "      <td>24420.530945</td>\n",
       "      <td>0.824616</td>\n",
       "      <td>0.574485</td>\n",
       "    </tr>\n",
       "    <tr>\n",
       "      <th>27</th>\n",
       "      <td>47</td>\n",
       "      <td>39069.399371</td>\n",
       "      <td>0.824616</td>\n",
       "      <td>0.574485</td>\n",
       "    </tr>\n",
       "    <tr>\n",
       "      <th>28</th>\n",
       "      <td>48</td>\n",
       "      <td>62505.519253</td>\n",
       "      <td>0.824616</td>\n",
       "      <td>0.574485</td>\n",
       "    </tr>\n",
       "    <tr>\n",
       "      <th>29</th>\n",
       "      <td>49</td>\n",
       "      <td>100000.000000</td>\n",
       "      <td>0.824616</td>\n",
       "      <td>0.574485</td>\n",
       "    </tr>\n",
       "    <tr>\n",
       "      <th>30</th>\n",
       "      <td>19</td>\n",
       "      <td>0.075431</td>\n",
       "      <td>0.824837</td>\n",
       "      <td>0.574500</td>\n",
       "    </tr>\n",
       "    <tr>\n",
       "      <th>31</th>\n",
       "      <td>18</td>\n",
       "      <td>0.047149</td>\n",
       "      <td>0.824837</td>\n",
       "      <td>0.574750</td>\n",
       "    </tr>\n",
       "    <tr>\n",
       "      <th>32</th>\n",
       "      <td>17</td>\n",
       "      <td>0.029471</td>\n",
       "      <td>0.825058</td>\n",
       "      <td>0.575330</td>\n",
       "    </tr>\n",
       "    <tr>\n",
       "      <th>33</th>\n",
       "      <td>16</td>\n",
       "      <td>0.018421</td>\n",
       "      <td>0.825058</td>\n",
       "      <td>0.576495</td>\n",
       "    </tr>\n",
       "    <tr>\n",
       "      <th>34</th>\n",
       "      <td>15</td>\n",
       "      <td>0.011514</td>\n",
       "      <td>0.825169</td>\n",
       "      <td>0.578547</td>\n",
       "    </tr>\n",
       "    <tr>\n",
       "      <th>35</th>\n",
       "      <td>14</td>\n",
       "      <td>0.007197</td>\n",
       "      <td>0.809355</td>\n",
       "      <td>0.581860</td>\n",
       "    </tr>\n",
       "    <tr>\n",
       "      <th>36</th>\n",
       "      <td>13</td>\n",
       "      <td>0.004498</td>\n",
       "      <td>0.809798</td>\n",
       "      <td>0.586792</td>\n",
       "    </tr>\n",
       "    <tr>\n",
       "      <th>37</th>\n",
       "      <td>12</td>\n",
       "      <td>0.002812</td>\n",
       "      <td>0.676324</td>\n",
       "      <td>0.593652</td>\n",
       "    </tr>\n",
       "    <tr>\n",
       "      <th>38</th>\n",
       "      <td>11</td>\n",
       "      <td>0.001758</td>\n",
       "      <td>0.676324</td>\n",
       "      <td>0.602545</td>\n",
       "    </tr>\n",
       "    <tr>\n",
       "      <th>39</th>\n",
       "      <td>10</td>\n",
       "      <td>0.001099</td>\n",
       "      <td>0.676324</td>\n",
       "      <td>0.613351</td>\n",
       "    </tr>\n",
       "    <tr>\n",
       "      <th>40</th>\n",
       "      <td>9</td>\n",
       "      <td>0.000687</td>\n",
       "      <td>0.676324</td>\n",
       "      <td>0.625572</td>\n",
       "    </tr>\n",
       "    <tr>\n",
       "      <th>41</th>\n",
       "      <td>8</td>\n",
       "      <td>0.000429</td>\n",
       "      <td>0.676435</td>\n",
       "      <td>0.638397</td>\n",
       "    </tr>\n",
       "    <tr>\n",
       "      <th>42</th>\n",
       "      <td>7</td>\n",
       "      <td>0.000268</td>\n",
       "      <td>0.677541</td>\n",
       "      <td>0.650836</td>\n",
       "    </tr>\n",
       "    <tr>\n",
       "      <th>43</th>\n",
       "      <td>6</td>\n",
       "      <td>0.000168</td>\n",
       "      <td>0.678868</td>\n",
       "      <td>0.661959</td>\n",
       "    </tr>\n",
       "    <tr>\n",
       "      <th>44</th>\n",
       "      <td>5</td>\n",
       "      <td>0.000105</td>\n",
       "      <td>0.678868</td>\n",
       "      <td>0.671130</td>\n",
       "    </tr>\n",
       "    <tr>\n",
       "      <th>45</th>\n",
       "      <td>4</td>\n",
       "      <td>0.000066</td>\n",
       "      <td>0.678868</td>\n",
       "      <td>0.678154</td>\n",
       "    </tr>\n",
       "    <tr>\n",
       "      <th>46</th>\n",
       "      <td>3</td>\n",
       "      <td>0.000041</td>\n",
       "      <td>0.678868</td>\n",
       "      <td>0.683215</td>\n",
       "    </tr>\n",
       "    <tr>\n",
       "      <th>47</th>\n",
       "      <td>2</td>\n",
       "      <td>0.000026</td>\n",
       "      <td>0.678868</td>\n",
       "      <td>0.686694</td>\n",
       "    </tr>\n",
       "    <tr>\n",
       "      <th>48</th>\n",
       "      <td>1</td>\n",
       "      <td>0.000016</td>\n",
       "      <td>0.678868</td>\n",
       "      <td>0.689014</td>\n",
       "    </tr>\n",
       "    <tr>\n",
       "      <th>49</th>\n",
       "      <td>0</td>\n",
       "      <td>0.000010</td>\n",
       "      <td>0.678868</td>\n",
       "      <td>0.690522</td>\n",
       "    </tr>\n",
       "  </tbody>\n",
       "</table>\n",
       "</div>"
      ],
      "text/plain": [
       "    index         C_List       CA2  Logarithmic_Loss2\n",
       "0      21       0.193070  0.824837           0.574404\n",
       "1      20       0.120679  0.824837           0.574409\n",
       "2      22       0.308884  0.824616           0.574416\n",
       "3      23       0.494171  0.824616           0.574428\n",
       "4      24       0.790604  0.824616           0.574450\n",
       "5      25       1.264855  0.824616           0.574458\n",
       "6      26       2.023590  0.824616           0.574469\n",
       "7      28       5.179475  0.824616           0.574474\n",
       "8      27       3.237458  0.824616           0.574476\n",
       "9      29       8.286428  0.824616           0.574479\n",
       "10     30      13.257114  0.824616           0.574481\n",
       "11     31      21.209509  0.824616           0.574482\n",
       "12     32      33.932218  0.824616           0.574483\n",
       "13     33      54.286754  0.824616           0.574484\n",
       "14     34      86.851137  0.824616           0.574484\n",
       "15     35     138.949549  0.824616           0.574485\n",
       "16     36     222.299648  0.824616           0.574485\n",
       "17     37     355.648031  0.824616           0.574485\n",
       "18     38     568.986603  0.824616           0.574485\n",
       "19     39     910.298178  0.824616           0.574485\n",
       "20     40    1456.348478  0.824616           0.574485\n",
       "21     41    2329.951811  0.824616           0.574485\n",
       "22     42    3727.593720  0.824616           0.574485\n",
       "23     43    5963.623317  0.824616           0.574485\n",
       "24     44    9540.954763  0.824616           0.574485\n",
       "25     45   15264.179672  0.824616           0.574485\n",
       "26     46   24420.530945  0.824616           0.574485\n",
       "27     47   39069.399371  0.824616           0.574485\n",
       "28     48   62505.519253  0.824616           0.574485\n",
       "29     49  100000.000000  0.824616           0.574485\n",
       "30     19       0.075431  0.824837           0.574500\n",
       "31     18       0.047149  0.824837           0.574750\n",
       "32     17       0.029471  0.825058           0.575330\n",
       "33     16       0.018421  0.825058           0.576495\n",
       "34     15       0.011514  0.825169           0.578547\n",
       "35     14       0.007197  0.809355           0.581860\n",
       "36     13       0.004498  0.809798           0.586792\n",
       "37     12       0.002812  0.676324           0.593652\n",
       "38     11       0.001758  0.676324           0.602545\n",
       "39     10       0.001099  0.676324           0.613351\n",
       "40      9       0.000687  0.676324           0.625572\n",
       "41      8       0.000429  0.676435           0.638397\n",
       "42      7       0.000268  0.677541           0.650836\n",
       "43      6       0.000168  0.678868           0.661959\n",
       "44      5       0.000105  0.678868           0.671130\n",
       "45      4       0.000066  0.678868           0.678154\n",
       "46      3       0.000041  0.678868           0.683215\n",
       "47      2       0.000026  0.678868           0.686694\n",
       "48      1       0.000016  0.678868           0.689014\n",
       "49      0       0.000010  0.678868           0.690522"
      ]
     },
     "execution_count": 169,
     "metadata": {},
     "output_type": "execute_result"
    }
   ],
   "source": [
    "# putting the outcomes in a Table\n",
    "\n",
    "# reshaping\n",
    "CA2 = np.array(CA).reshape(50,)\n",
    "logarithmic_loss2 = np.array(logarithamic_loss).reshape(50,)\n",
    "\n",
    "# zip\n",
    "outcomes = zip(C_List, CA2, logarithmic_loss2)\n",
    "\n",
    "#df\n",
    "df_outcomes = pd.DataFrame(outcomes, columns = [\"C_List\", 'CA2','Logarithmic_Loss2'])\n",
    "\n",
    "#print\n",
    "# df_outcomes\n",
    "\n",
    "# Ordering the data (sort_values)\n",
    "df_outcomes.sort_values(\"Logarithmic_Loss2\", ascending = True).reset_index()"
   ]
  },
  {
   "cell_type": "code",
   "execution_count": 170,
   "metadata": {},
   "outputs": [],
   "source": [
    "# Another way of doing the above\n",
    "# Scikit-learn offers a LogisticRegressionCV module which implements Logistic Regression \n",
    "# with builtin cross-validation to find out the optimal C parameter\n",
    "\n",
    "from sklearn.linear_model import LogisticRegressionCV\n",
    "from sklearn.model_selection import KFold\n",
    "kf = KFold(n_splits=5, random_state=0, shuffle=True)"
   ]
  },
  {
   "cell_type": "code",
   "execution_count": 184,
   "metadata": {},
   "outputs": [
    {
     "name": "stdout",
     "output_type": "stream",
     "text": [
      "The CA is                       :  0.8250580559548822\n",
      "The log loss or logistic loss is : 0.5753402996130669\n",
      "The optimal c parameter is       : [0.029471]\n"
     ]
    }
   ],
   "source": [
    "# Logistic Regression CV\n",
    "logi_reg3 = LogisticRegressionCV(random_state=0,class_weight='balanced',Cs=C_List,max_iter=5000)\n",
    "logi_reg3.fit(X_train,y_train)\n",
    "print (\"The CA is                       : \", logi_reg3.score(X_test,y_test))\n",
    "pred_proba_tCV = logi_reg3.predict_proba(X_test)\n",
    "logarthmic_loss3 = log_loss(y_test,pred_proba_tCV)\n",
    "print(\"The log loss or logistic loss is :\", logarthmic_loss3)\n",
    "\n",
    "print(\"The optimal c parameter is       :\", logi_reg3.C_)"
   ]
  },
  {
   "cell_type": "markdown",
   "metadata": {},
   "source": [
    "### Final model with selected parameters after hyper parameter tuning"
   ]
  },
  {
   "cell_type": "code",
   "execution_count": 193,
   "metadata": {},
   "outputs": [
    {
     "data": {
      "text/plain": [
       "LogisticRegression(C=0.193, class_weight='balanced', max_iter=5000,\n",
       "                   random_state=0)"
      ]
     },
     "execution_count": 193,
     "metadata": {},
     "output_type": "execute_result"
    }
   ],
   "source": [
    "final_model = LogisticRegression(random_state=0,class_weight='balanced',max_iter=5000,C=0.193)\n",
    "final_model.fit(X_train,y_train)"
   ]
  },
  {
   "cell_type": "code",
   "execution_count": 194,
   "metadata": {},
   "outputs": [
    {
     "name": "stdout",
     "output_type": "stream",
     "text": [
      "Validity Accuracy :  0.8153165606856511\n",
      "log loss is       :  0.5773271966468511\n"
     ]
    }
   ],
   "source": [
    "Score = final_model.score(X_valid,y_valid)\n",
    "pred_proba_valid = final_model.predict_proba(X_valid)\n",
    "logarthmic_loss4 = log_loss(y_valid,pred_proba_valid)\n",
    "\n",
    "print('Validity Accuracy : ', Score)\n",
    "print('log loss is       : ', logarthmic_loss4)"
   ]
  },
  {
   "cell_type": "code",
   "execution_count": 195,
   "metadata": {},
   "outputs": [
    {
     "data": {
      "text/plain": [
       "Text(0, 0.5, 'True Positive Rate')"
      ]
     },
     "execution_count": 195,
     "metadata": {},
     "output_type": "execute_result"
    },
    {
     "data": {
      "image/png": "[encoded data removed]",
      "text/plain": [
       "<Figure size 432x288 with 1 Axes>"
      ]
     },
     "metadata": {
      "needs_background": "light"
     },
     "output_type": "display_data"
    }
   ],
   "source": [
    "y_pred_valid = final_model.predict(X_valid)\n",
    "fpr,tpr,threshold = roc_curve(y_valid, final_model.predict_proba(X_valid)[:,1])\n",
    "\n",
    "auc = roc_auc_score(y_valid,y_pred_valid)\n",
    "\n",
    "plt.plot(fpr, tpr, color='red', label = f'logit model area  = {auc}')\n",
    "plt.title(f'logit model area  = {auc:.2f}')\n",
    "plt.plot([0, 1], [0, 1], 'k--')\n",
    "plt.xlabel('False Positive Rate or [1 - True Negative Rate]')\n",
    "plt.ylabel('True Positive Rate')"
   ]
  },
  {
   "cell_type": "code",
   "execution_count": 196,
   "metadata": {},
   "outputs": [
    {
     "name": "stdout",
     "output_type": "stream",
     "text": [
      "              precision    recall  f1-score   support\n",
      "\n",
      "           0       0.35      0.52      0.42       455\n",
      "           1       0.93      0.86      0.89      3162\n",
      "\n",
      "    accuracy                           0.82      3617\n",
      "   macro avg       0.64      0.69      0.65      3617\n",
      "weighted avg       0.85      0.82      0.83      3617\n",
      "\n"
     ]
    }
   ],
   "source": [
    "print(classification_report(y_valid,y_pred_valid))"
   ]
  },
  {
   "cell_type": "code",
   "execution_count": 197,
   "metadata": {},
   "outputs": [
    {
     "data": {
      "text/plain": [
       "array([[ 238,  217],\n",
       "       [ 451, 2711]], dtype=int64)"
      ]
     },
     "execution_count": 197,
     "metadata": {},
     "output_type": "execute_result"
    }
   ],
   "source": [
    "confusion_matrix(y_valid,y_pred_valid)"
   ]
  },
  {
   "cell_type": "code",
   "execution_count": null,
   "metadata": {},
   "outputs": [],
   "source": []
  }
 ],
 "metadata": {
  "hide_input": false,
  "kernelspec": {
   "display_name": "Python 3",
   "language": "python",
   "name": "python3"
  },
  "language_info": {
   "codemirror_mode": {
    "name": "ipython",
    "version": 3
   },
   "file_extension": ".py",
   "mimetype": "text/x-python",
   "name": "python",
   "nbconvert_exporter": "python",
   "pygments_lexer": "ipython3",
   "version": "3.8.10"
  },
  "toc": {
   "base_numbering": 1,
   "nav_menu": {},
   "number_sections": true,
   "sideBar": true,
   "skip_h1_title": false,
   "title_cell": "Table of Contents",
   "title_sidebar": "Contents",
   "toc_cell": false,
   "toc_position": {},
   "toc_section_display": true,
   "toc_window_display": false
  },
  "varInspector": {
   "cols": {
    "lenName": 16,
    "lenType": 16,
    "lenVar": 40
   },
   "kernels_config": {
    "python": {
     "delete_cmd_postfix": "",
     "delete_cmd_prefix": "del ",
     "library": "var_list.py",
     "varRefreshCmd": "print(var_dic_list())"
    },
    "r": {
     "delete_cmd_postfix": ") ",
     "delete_cmd_prefix": "rm(",
     "library": "var_list.r",
     "varRefreshCmd": "cat(var_dic_list()) "
    }
   },
   "types_to_exclude": [
    "module",
    "function",
    "builtin_function_or_method",
    "instance",
    "_Feature"
   ],
   "window_display": false
  }
 },
 "nbformat": 4,
 "nbformat_minor": 4
}
