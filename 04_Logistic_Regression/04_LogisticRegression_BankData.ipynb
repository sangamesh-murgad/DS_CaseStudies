{
 "cells": [
  {
   "cell_type": "markdown",
   "metadata": {},
   "source": [
    "**Business Problem / Objective**\n",
    "\n",
    "Our aim is classify customers who have subscribed for Fixed Deposit(FD) and predict the customers who will take the FD based on the given attributes of the customer."
   ]
  },
  {
   "cell_type": "markdown",
   "metadata": {},
   "source": [
    "# Understanding the data"
   ]
  },
  {
   "cell_type": "code",
   "execution_count": 1,
   "metadata": {
    "ExecuteTime": {
     "end_time": "2021-09-04T10:01:03.860472Z",
     "start_time": "2021-09-04T10:01:02.184661Z"
    }
   },
   "outputs": [],
   "source": [
    "import pandas as pd\n",
    "import numpy as np\n",
    "import seaborn as sns\n",
    "import matplotlib.pyplot as plt\n",
    "%matplotlib inline\n",
    "# import warnings\n",
    "# warnings.filterwarnings(\"ignore\")"
   ]
  },
  {
   "cell_type": "code",
   "execution_count": 2,
   "metadata": {
    "ExecuteTime": {
     "end_time": "2021-09-04T10:01:03.969628Z",
     "start_time": "2021-09-04T10:01:03.863503Z"
    },
    "scrolled": true
   },
   "outputs": [
    {
     "data": {
      "text/html": [
       "<div>\n",
       "<style scoped>\n",
       "    .dataframe tbody tr th:only-of-type {\n",
       "        vertical-align: middle;\n",
       "    }\n",
       "\n",
       "    .dataframe tbody tr th {\n",
       "        vertical-align: top;\n",
       "    }\n",
       "\n",
       "    .dataframe thead th {\n",
       "        text-align: right;\n",
       "    }\n",
       "</style>\n",
       "<table border=\"1\" class=\"dataframe\">\n",
       "  <thead>\n",
       "    <tr style=\"text-align: right;\">\n",
       "      <th></th>\n",
       "      <th>age</th>\n",
       "      <th>job</th>\n",
       "      <th>marital</th>\n",
       "      <th>education</th>\n",
       "      <th>default</th>\n",
       "      <th>balance</th>\n",
       "      <th>housing</th>\n",
       "      <th>loan</th>\n",
       "      <th>contact</th>\n",
       "      <th>day</th>\n",
       "      <th>month</th>\n",
       "      <th>duration</th>\n",
       "      <th>campaign</th>\n",
       "      <th>pdays</th>\n",
       "      <th>previous</th>\n",
       "      <th>poutcome</th>\n",
       "      <th>y</th>\n",
       "    </tr>\n",
       "  </thead>\n",
       "  <tbody>\n",
       "    <tr>\n",
       "      <th>0</th>\n",
       "      <td>58</td>\n",
       "      <td>management</td>\n",
       "      <td>married</td>\n",
       "      <td>tertiary</td>\n",
       "      <td>no</td>\n",
       "      <td>2143</td>\n",
       "      <td>yes</td>\n",
       "      <td>no</td>\n",
       "      <td>unknown</td>\n",
       "      <td>5</td>\n",
       "      <td>may</td>\n",
       "      <td>261</td>\n",
       "      <td>1</td>\n",
       "      <td>-1</td>\n",
       "      <td>0</td>\n",
       "      <td>unknown</td>\n",
       "      <td>no</td>\n",
       "    </tr>\n",
       "    <tr>\n",
       "      <th>1</th>\n",
       "      <td>44</td>\n",
       "      <td>technician</td>\n",
       "      <td>single</td>\n",
       "      <td>secondary</td>\n",
       "      <td>no</td>\n",
       "      <td>29</td>\n",
       "      <td>yes</td>\n",
       "      <td>no</td>\n",
       "      <td>unknown</td>\n",
       "      <td>5</td>\n",
       "      <td>may</td>\n",
       "      <td>151</td>\n",
       "      <td>1</td>\n",
       "      <td>-1</td>\n",
       "      <td>0</td>\n",
       "      <td>unknown</td>\n",
       "      <td>no</td>\n",
       "    </tr>\n",
       "    <tr>\n",
       "      <th>2</th>\n",
       "      <td>33</td>\n",
       "      <td>entrepreneur</td>\n",
       "      <td>married</td>\n",
       "      <td>secondary</td>\n",
       "      <td>no</td>\n",
       "      <td>2</td>\n",
       "      <td>yes</td>\n",
       "      <td>yes</td>\n",
       "      <td>unknown</td>\n",
       "      <td>5</td>\n",
       "      <td>may</td>\n",
       "      <td>76</td>\n",
       "      <td>1</td>\n",
       "      <td>-1</td>\n",
       "      <td>0</td>\n",
       "      <td>unknown</td>\n",
       "      <td>no</td>\n",
       "    </tr>\n",
       "    <tr>\n",
       "      <th>3</th>\n",
       "      <td>47</td>\n",
       "      <td>blue-collar</td>\n",
       "      <td>married</td>\n",
       "      <td>unknown</td>\n",
       "      <td>no</td>\n",
       "      <td>1506</td>\n",
       "      <td>yes</td>\n",
       "      <td>no</td>\n",
       "      <td>unknown</td>\n",
       "      <td>5</td>\n",
       "      <td>may</td>\n",
       "      <td>92</td>\n",
       "      <td>1</td>\n",
       "      <td>-1</td>\n",
       "      <td>0</td>\n",
       "      <td>unknown</td>\n",
       "      <td>no</td>\n",
       "    </tr>\n",
       "    <tr>\n",
       "      <th>4</th>\n",
       "      <td>33</td>\n",
       "      <td>unknown</td>\n",
       "      <td>single</td>\n",
       "      <td>unknown</td>\n",
       "      <td>no</td>\n",
       "      <td>1</td>\n",
       "      <td>no</td>\n",
       "      <td>no</td>\n",
       "      <td>unknown</td>\n",
       "      <td>5</td>\n",
       "      <td>may</td>\n",
       "      <td>198</td>\n",
       "      <td>1</td>\n",
       "      <td>-1</td>\n",
       "      <td>0</td>\n",
       "      <td>unknown</td>\n",
       "      <td>no</td>\n",
       "    </tr>\n",
       "  </tbody>\n",
       "</table>\n",
       "</div>"
      ],
      "text/plain": [
       "   age           job  marital  education default  balance housing loan  \\\n",
       "0   58    management  married   tertiary      no     2143     yes   no   \n",
       "1   44    technician   single  secondary      no       29     yes   no   \n",
       "2   33  entrepreneur  married  secondary      no        2     yes  yes   \n",
       "3   47   blue-collar  married    unknown      no     1506     yes   no   \n",
       "4   33       unknown   single    unknown      no        1      no   no   \n",
       "\n",
       "   contact  day month  duration  campaign  pdays  previous poutcome   y  \n",
       "0  unknown    5   may       261         1     -1         0  unknown  no  \n",
       "1  unknown    5   may       151         1     -1         0  unknown  no  \n",
       "2  unknown    5   may        76         1     -1         0  unknown  no  \n",
       "3  unknown    5   may        92         1     -1         0  unknown  no  \n",
       "4  unknown    5   may       198         1     -1         0  unknown  no  "
      ]
     },
     "execution_count": 2,
     "metadata": {},
     "output_type": "execute_result"
    }
   ],
   "source": [
    "masterData = pd.read_csv('bank-full.csv',sep=';') # Read the data and display the data for integrity\n",
    "masterData.head()"
   ]
  },
  {
   "cell_type": "code",
   "execution_count": 3,
   "metadata": {
    "ExecuteTime": {
     "end_time": "2021-09-04T10:01:04.027945Z",
     "start_time": "2021-09-04T10:01:03.971590Z"
    }
   },
   "outputs": [
    {
     "name": "stdout",
     "output_type": "stream",
     "text": [
      "<class 'pandas.core.frame.DataFrame'>\n",
      "RangeIndex: 45211 entries, 0 to 45210\n",
      "Data columns (total 17 columns):\n",
      " #   Column     Non-Null Count  Dtype \n",
      "---  ------     --------------  ----- \n",
      " 0   age        45211 non-null  int64 \n",
      " 1   job        45211 non-null  object\n",
      " 2   marital    45211 non-null  object\n",
      " 3   education  45211 non-null  object\n",
      " 4   default    45211 non-null  object\n",
      " 5   balance    45211 non-null  int64 \n",
      " 6   housing    45211 non-null  object\n",
      " 7   loan       45211 non-null  object\n",
      " 8   contact    45211 non-null  object\n",
      " 9   day        45211 non-null  int64 \n",
      " 10  month      45211 non-null  object\n",
      " 11  duration   45211 non-null  int64 \n",
      " 12  campaign   45211 non-null  int64 \n",
      " 13  pdays      45211 non-null  int64 \n",
      " 14  previous   45211 non-null  int64 \n",
      " 15  poutcome   45211 non-null  object\n",
      " 16  y          45211 non-null  object\n",
      "dtypes: int64(7), object(10)\n",
      "memory usage: 5.9+ MB\n"
     ]
    }
   ],
   "source": [
    "masterData.info() # no null values"
   ]
  },
  {
   "cell_type": "markdown",
   "metadata": {},
   "source": [
    "* There are 17 columns and no null values \n",
    "* There are 7 features of integer type and 10 features of object type basically they are all categorical data\n",
    "* While first 16 columns are independent variables and we are to predict the 17th column"
   ]
  },
  {
   "cell_type": "code",
   "execution_count": 4,
   "metadata": {
    "ExecuteTime": {
     "end_time": "2021-09-04T10:01:04.107133Z",
     "start_time": "2021-09-04T10:01:04.029695Z"
    }
   },
   "outputs": [
    {
     "name": "stdout",
     "output_type": "stream",
     "text": [
      "<class 'pandas.core.frame.DataFrame'>\n",
      "RangeIndex: 45211 entries, 0 to 45210\n",
      "Data columns (total 17 columns):\n",
      " #   Column     Non-Null Count  Dtype \n",
      "---  ------     --------------  ----- \n",
      " 0   age        45211 non-null  int64 \n",
      " 1   job        45211 non-null  object\n",
      " 2   marital    45211 non-null  object\n",
      " 3   education  45211 non-null  object\n",
      " 4   default    45211 non-null  object\n",
      " 5   balance    45211 non-null  int64 \n",
      " 6   housing    45211 non-null  object\n",
      " 7   loan       45211 non-null  object\n",
      " 8   contact    45211 non-null  object\n",
      " 9   day        45211 non-null  int64 \n",
      " 10  month      45211 non-null  object\n",
      " 11  duration   45211 non-null  int64 \n",
      " 12  campaign   45211 non-null  int64 \n",
      " 13  pdays      45211 non-null  int64 \n",
      " 14  previous   45211 non-null  int64 \n",
      " 15  poutcome   45211 non-null  object\n",
      " 16  y          45211 non-null  object\n",
      "dtypes: int64(7), object(10)\n",
      "memory usage: 5.9+ MB\n"
     ]
    }
   ],
   "source": [
    "# temp = masterData.select_dtypes(include='object').columns\n",
    "# for x in temp:\n",
    "#     masterData[x] = masterData[x].astype('category')\n",
    "\n",
    "masterData.info()"
   ]
  },
  {
   "cell_type": "markdown",
   "metadata": {},
   "source": [
    "### Checking the key statistics of the numeric data "
   ]
  },
  {
   "cell_type": "code",
   "execution_count": 5,
   "metadata": {
    "ExecuteTime": {
     "end_time": "2021-09-04T10:01:04.201899Z",
     "start_time": "2021-09-04T10:01:04.109369Z"
    }
   },
   "outputs": [
    {
     "data": {
      "text/html": [
       "<div>\n",
       "<style scoped>\n",
       "    .dataframe tbody tr th:only-of-type {\n",
       "        vertical-align: middle;\n",
       "    }\n",
       "\n",
       "    .dataframe tbody tr th {\n",
       "        vertical-align: top;\n",
       "    }\n",
       "\n",
       "    .dataframe thead th {\n",
       "        text-align: right;\n",
       "    }\n",
       "</style>\n",
       "<table border=\"1\" class=\"dataframe\">\n",
       "  <thead>\n",
       "    <tr style=\"text-align: right;\">\n",
       "      <th></th>\n",
       "      <th>age</th>\n",
       "      <th>balance</th>\n",
       "      <th>day</th>\n",
       "      <th>duration</th>\n",
       "      <th>campaign</th>\n",
       "      <th>pdays</th>\n",
       "      <th>previous</th>\n",
       "    </tr>\n",
       "  </thead>\n",
       "  <tbody>\n",
       "    <tr>\n",
       "      <th>count</th>\n",
       "      <td>45211.000000</td>\n",
       "      <td>45211.000000</td>\n",
       "      <td>45211.000000</td>\n",
       "      <td>45211.000000</td>\n",
       "      <td>45211.000000</td>\n",
       "      <td>45211.000000</td>\n",
       "      <td>45211.000000</td>\n",
       "    </tr>\n",
       "    <tr>\n",
       "      <th>mean</th>\n",
       "      <td>40.936210</td>\n",
       "      <td>1362.272058</td>\n",
       "      <td>15.806419</td>\n",
       "      <td>258.163080</td>\n",
       "      <td>2.763841</td>\n",
       "      <td>40.197828</td>\n",
       "      <td>0.580323</td>\n",
       "    </tr>\n",
       "    <tr>\n",
       "      <th>std</th>\n",
       "      <td>10.618762</td>\n",
       "      <td>3044.765829</td>\n",
       "      <td>8.322476</td>\n",
       "      <td>257.527812</td>\n",
       "      <td>3.098021</td>\n",
       "      <td>100.128746</td>\n",
       "      <td>2.303441</td>\n",
       "    </tr>\n",
       "    <tr>\n",
       "      <th>min</th>\n",
       "      <td>18.000000</td>\n",
       "      <td>-8019.000000</td>\n",
       "      <td>1.000000</td>\n",
       "      <td>0.000000</td>\n",
       "      <td>1.000000</td>\n",
       "      <td>-1.000000</td>\n",
       "      <td>0.000000</td>\n",
       "    </tr>\n",
       "    <tr>\n",
       "      <th>25%</th>\n",
       "      <td>33.000000</td>\n",
       "      <td>72.000000</td>\n",
       "      <td>8.000000</td>\n",
       "      <td>103.000000</td>\n",
       "      <td>1.000000</td>\n",
       "      <td>-1.000000</td>\n",
       "      <td>0.000000</td>\n",
       "    </tr>\n",
       "    <tr>\n",
       "      <th>50%</th>\n",
       "      <td>39.000000</td>\n",
       "      <td>448.000000</td>\n",
       "      <td>16.000000</td>\n",
       "      <td>180.000000</td>\n",
       "      <td>2.000000</td>\n",
       "      <td>-1.000000</td>\n",
       "      <td>0.000000</td>\n",
       "    </tr>\n",
       "    <tr>\n",
       "      <th>75%</th>\n",
       "      <td>48.000000</td>\n",
       "      <td>1428.000000</td>\n",
       "      <td>21.000000</td>\n",
       "      <td>319.000000</td>\n",
       "      <td>3.000000</td>\n",
       "      <td>-1.000000</td>\n",
       "      <td>0.000000</td>\n",
       "    </tr>\n",
       "    <tr>\n",
       "      <th>max</th>\n",
       "      <td>95.000000</td>\n",
       "      <td>102127.000000</td>\n",
       "      <td>31.000000</td>\n",
       "      <td>4918.000000</td>\n",
       "      <td>63.000000</td>\n",
       "      <td>871.000000</td>\n",
       "      <td>275.000000</td>\n",
       "    </tr>\n",
       "  </tbody>\n",
       "</table>\n",
       "</div>"
      ],
      "text/plain": [
       "                age        balance           day      duration      campaign  \\\n",
       "count  45211.000000   45211.000000  45211.000000  45211.000000  45211.000000   \n",
       "mean      40.936210    1362.272058     15.806419    258.163080      2.763841   \n",
       "std       10.618762    3044.765829      8.322476    257.527812      3.098021   \n",
       "min       18.000000   -8019.000000      1.000000      0.000000      1.000000   \n",
       "25%       33.000000      72.000000      8.000000    103.000000      1.000000   \n",
       "50%       39.000000     448.000000     16.000000    180.000000      2.000000   \n",
       "75%       48.000000    1428.000000     21.000000    319.000000      3.000000   \n",
       "max       95.000000  102127.000000     31.000000   4918.000000     63.000000   \n",
       "\n",
       "              pdays      previous  \n",
       "count  45211.000000  45211.000000  \n",
       "mean      40.197828      0.580323  \n",
       "std      100.128746      2.303441  \n",
       "min       -1.000000      0.000000  \n",
       "25%       -1.000000      0.000000  \n",
       "50%       -1.000000      0.000000  \n",
       "75%       -1.000000      0.000000  \n",
       "max      871.000000    275.000000  "
      ]
     },
     "execution_count": 5,
     "metadata": {},
     "output_type": "execute_result"
    }
   ],
   "source": [
    "masterData.describe()"
   ]
  },
  {
   "cell_type": "markdown",
   "metadata": {},
   "source": [
    "### Checking the unique values in each columns"
   ]
  },
  {
   "cell_type": "code",
   "execution_count": 6,
   "metadata": {
    "ExecuteTime": {
     "end_time": "2021-09-04T10:01:04.937468Z",
     "start_time": "2021-09-04T10:01:04.203190Z"
    }
   },
   "outputs": [
    {
     "name": "stdout",
     "output_type": "stream",
     "text": [
      "\n",
      " \u001b[7m Unique Values and their Categories \u001b[0m\n",
      "\n",
      "Number of unique vals in age        - 77  \n",
      "Number of unique vals in job        - 12  \n",
      "Number of unique vals in marital    - 3     :- Categories are  ['divorced' 'married' 'single']\n",
      "Number of unique vals in education  - 4     :- Categories are  ['primary' 'secondary' 'tertiary' 'unknown']\n",
      "Number of unique vals in default    - 2     :- Categories are  ['no' 'yes']\n",
      "Number of unique vals in balance    - 7168\n",
      "Number of unique vals in housing    - 2     :- Categories are  ['no' 'yes']\n",
      "Number of unique vals in loan       - 2     :- Categories are  ['no' 'yes']\n",
      "Number of unique vals in contact    - 3     :- Categories are  ['cellular' 'telephone' 'unknown']\n",
      "Number of unique vals in day        - 31  \n",
      "Number of unique vals in month      - 12  \n",
      "Number of unique vals in duration   - 1573\n",
      "Number of unique vals in campaign   - 48  \n",
      "Number of unique vals in pdays      - 559 \n",
      "Number of unique vals in previous   - 41  \n",
      "Number of unique vals in poutcome   - 4     :- Categories are  ['failure' 'other' 'success' 'unknown']\n",
      "Number of unique vals in y          - 2     :- Categories are  ['no' 'yes']\n"
     ]
    }
   ],
   "source": [
    "# Display the categories with unique values less than 10 else show the count of unique values\n",
    "\n",
    "print('\\n \\033[7m Unique Values and their Categories \\033[0m\\n')\n",
    "for x in masterData.columns:\n",
    "    if len(np.unique(masterData[x])) <= 10:\n",
    "        print(f'Number of unique vals in {x:<10} - {len(np.unique(masterData[x])):<4}  :- Categories are ',np.unique(masterData[x]))\n",
    "    else:\n",
    "        print(f'Number of unique vals in {x:<10} - {len(np.unique(masterData[x])):<4}')"
   ]
  },
  {
   "cell_type": "code",
   "execution_count": null,
   "metadata": {},
   "outputs": [],
   "source": []
  },
  {
   "cell_type": "markdown",
   "metadata": {},
   "source": [
    "### Using the count plot to check the relation of cateforical variable with our Dependent variable\n",
    "\n",
    "    ***First check the distribution of our Dependent Variable"
   ]
  },
  {
   "cell_type": "code",
   "execution_count": 7,
   "metadata": {
    "ExecuteTime": {
     "end_time": "2021-09-04T10:01:05.128215Z",
     "start_time": "2021-09-04T10:01:04.940955Z"
    }
   },
   "outputs": [
    {
     "data": {
      "text/plain": [
       "<AxesSubplot:xlabel='y', ylabel='count'>"
      ]
     },
     "execution_count": 7,
     "metadata": {},
     "output_type": "execute_result"
    },
    {
     "data": {
      "image/png": "[encoded data removed]",
      "text/plain": [
       "<Figure size 432x288 with 1 Axes>"
      ]
     },
     "metadata": {
      "needs_background": "light"
     },
     "output_type": "display_data"
    }
   ],
   "source": [
    "sns.countplot(x=masterData['y'], data = masterData)"
   ]
  },
  {
   "cell_type": "markdown",
   "metadata": {},
   "source": [
    "***This is a very biased data out of 45211 number of observations approximately only 5000 are yes which makes the probability of such occurance 5000 / 45211 = 11% of the total data set is in favour of the interested event. it is very difficlut to build a efficient model in this scenario, without modifying the threshold in the model. which is out of scope for now.***"
   ]
  },
  {
   "cell_type": "markdown",
   "metadata": {},
   "source": [
    "### </n>Let us check the correlation of our categorical variable with  the dependent variable.</n>"
   ]
  },
  {
   "cell_type": "code",
   "execution_count": 8,
   "metadata": {
    "ExecuteTime": {
     "end_time": "2021-09-04T10:01:05.139493Z",
     "start_time": "2021-09-04T10:01:05.130974Z"
    },
    "scrolled": false
   },
   "outputs": [],
   "source": [
    "# Cat_Var = [feature for feature in masterData.columns if masterData[feature].dtypes == 'O']\n",
    "Cat_Var = masterData.select_dtypes(include='category').columns\n",
    "\n",
    "for feature in Cat_Var:\n",
    "    plt.figure(figsize=(8,2.5))\n",
    "    sns.countplot(x=masterData[feature], data=masterData, hue='y')\n",
    "    plt.title(f'Distribution of Fixed Deposit Status for categories in \"{feature}\"',fontsize=14)\n",
    "    plt.xticks(rotation = 90)\n",
    "    plt.show()"
   ]
  },
  {
   "cell_type": "markdown",
   "metadata": {},
   "source": [
    "***There is a reasonalbe distribution of Fixed Deposit status `'Y' and 'N'` among all categorical variables. let us see how to use them in prediction.***"
   ]
  },
  {
   "cell_type": "markdown",
   "metadata": {},
   "source": [
    "### Coverting categorical variables into numerical using get_dummies\n",
    "\n",
    "For machine learning algorithm it is important to feed the data in number format as computers can not process text. We can convert all categorical values in numeric form just by labeling them with numbers. We shall use Get_dummies method to label the data with numbers. \n",
    "\n",
    "**`get_dummies method`**\n",
    "\n",
    "Pandas get_dummies method will automatically create columns for each categoric label and fill it with 0 or 1 to represent true or false.\n",
    "\n",
    "first let us segregate dependent/predicted feature from rest of the data. Then we can apply get_dummies on rest of the data and create dummy features. \n",
    "\n",
    "We want to keep all categories in the single column for the predicted features. We can manually label the data or label them using oneHot coding method in SKlearn library."
   ]
  },
  {
   "cell_type": "code",
   "execution_count": 9,
   "metadata": {
    "ExecuteTime": {
     "end_time": "2021-09-04T10:01:05.236397Z",
     "start_time": "2021-09-04T10:01:05.141841Z"
    }
   },
   "outputs": [
    {
     "name": "stdout",
     "output_type": "stream",
     "text": [
      "(45211, 17)\n"
     ]
    }
   ],
   "source": [
    "# Segregating predicted variable from predictor valriables.\n",
    "\n",
    "EDA_Data = masterData.copy(deep=True) # creating a copy of EDA\n",
    "print(EDA_Data.shape)\n",
    "EDA_Data.drop('y',axis=1,inplace = True) #segregating dependent and independent variables"
   ]
  },
  {
   "cell_type": "markdown",
   "metadata": {},
   "source": [
    "### one hot coding for all independent variables"
   ]
  },
  {
   "cell_type": "code",
   "execution_count": 10,
   "metadata": {
    "ExecuteTime": {
     "end_time": "2021-09-04T10:01:05.423746Z",
     "start_time": "2021-09-04T10:01:05.242657Z"
    }
   },
   "outputs": [
    {
     "data": {
      "text/plain": [
       "(45211, 51)"
      ]
     },
     "execution_count": 10,
     "metadata": {},
     "output_type": "execute_result"
    }
   ],
   "source": [
    "edaData = pd.get_dummies(EDA_Data)\n",
    "edaData.shape"
   ]
  },
  {
   "cell_type": "markdown",
   "metadata": {},
   "source": [
    "As we can see after applying get_dummies on our dataset the number of columns increased from 17 features to 51 features."
   ]
  },
  {
   "cell_type": "markdown",
   "metadata": {},
   "source": [
    "### Converting y column into integer type - 1 = 'no' , 0 = 'yes'"
   ]
  },
  {
   "cell_type": "code",
   "execution_count": 11,
   "metadata": {
    "ExecuteTime": {
     "end_time": "2021-09-04T10:01:05.448533Z",
     "start_time": "2021-09-04T10:01:05.427050Z"
    }
   },
   "outputs": [
    {
     "data": {
      "text/plain": [
       "0    1\n",
       "1    1\n",
       "2    1\n",
       "3    1\n",
       "4    1\n",
       "Name: y, dtype: int64"
      ]
     },
     "execution_count": 11,
     "metadata": {},
     "output_type": "execute_result"
    }
   ],
   "source": [
    "y = masterData['y'].copy(deep=True)\n",
    "y = y.map({'no':1,'yes':0})\n",
    "y.head()"
   ]
  },
  {
   "cell_type": "code",
   "execution_count": 12,
   "metadata": {
    "ExecuteTime": {
     "end_time": "2021-09-04T10:01:05.552569Z",
     "start_time": "2021-09-04T10:01:05.450324Z"
    }
   },
   "outputs": [
    {
     "name": "stdout",
     "output_type": "stream",
     "text": [
      "1    39922\n",
      "0     5289\n",
      "Name: y, dtype: int64 \n",
      "\n",
      "Before typecasting datatype : int64\n",
      "After typecasting datatype : int32\n"
     ]
    }
   ],
   "source": [
    "print(y.value_counts(),'\\n')\n",
    "print('Before typecasting datatype :', y.dtypes)\n",
    "y = y.astype(int) # Changing our 'y' column from object to int.\n",
    "print('After typecasting datatype :', y.dtypes)"
   ]
  },
  {
   "cell_type": "markdown",
   "metadata": {},
   "source": [
    "Now our data is ready for feeding into the algorithm as required by the SKlearn library. As required we have segregated the DATA into \"X\" and \"y\", X being independent features which act as predictors and y being dependent feature, which will be predicted. Let us check the X data for now. "
   ]
  },
  {
   "cell_type": "code",
   "execution_count": 13,
   "metadata": {
    "ExecuteTime": {
     "end_time": "2021-09-04T10:01:05.643237Z",
     "start_time": "2021-09-04T10:01:05.559390Z"
    }
   },
   "outputs": [
    {
     "name": "stdout",
     "output_type": "stream",
     "text": [
      "<class 'pandas.core.frame.DataFrame'>\n",
      "RangeIndex: 45211 entries, 0 to 45210\n",
      "Data columns (total 51 columns):\n",
      " #   Column               Non-Null Count  Dtype\n",
      "---  ------               --------------  -----\n",
      " 0   age                  45211 non-null  int64\n",
      " 1   balance              45211 non-null  int64\n",
      " 2   day                  45211 non-null  int64\n",
      " 3   duration             45211 non-null  int64\n",
      " 4   campaign             45211 non-null  int64\n",
      " 5   pdays                45211 non-null  int64\n",
      " 6   previous             45211 non-null  int64\n",
      " 7   job_admin.           45211 non-null  uint8\n",
      " 8   job_blue-collar      45211 non-null  uint8\n",
      " 9   job_entrepreneur     45211 non-null  uint8\n",
      " 10  job_housemaid        45211 non-null  uint8\n",
      " 11  job_management       45211 non-null  uint8\n",
      " 12  job_retired          45211 non-null  uint8\n",
      " 13  job_self-employed    45211 non-null  uint8\n",
      " 14  job_services         45211 non-null  uint8\n",
      " 15  job_student          45211 non-null  uint8\n",
      " 16  job_technician       45211 non-null  uint8\n",
      " 17  job_unemployed       45211 non-null  uint8\n",
      " 18  job_unknown          45211 non-null  uint8\n",
      " 19  marital_divorced     45211 non-null  uint8\n",
      " 20  marital_married      45211 non-null  uint8\n",
      " 21  marital_single       45211 non-null  uint8\n",
      " 22  education_primary    45211 non-null  uint8\n",
      " 23  education_secondary  45211 non-null  uint8\n",
      " 24  education_tertiary   45211 non-null  uint8\n",
      " 25  education_unknown    45211 non-null  uint8\n",
      " 26  default_no           45211 non-null  uint8\n",
      " 27  default_yes          45211 non-null  uint8\n",
      " 28  housing_no           45211 non-null  uint8\n",
      " 29  housing_yes          45211 non-null  uint8\n",
      " 30  loan_no              45211 non-null  uint8\n",
      " 31  loan_yes             45211 non-null  uint8\n",
      " 32  contact_cellular     45211 non-null  uint8\n",
      " 33  contact_telephone    45211 non-null  uint8\n",
      " 34  contact_unknown      45211 non-null  uint8\n",
      " 35  month_apr            45211 non-null  uint8\n",
      " 36  month_aug            45211 non-null  uint8\n",
      " 37  month_dec            45211 non-null  uint8\n",
      " 38  month_feb            45211 non-null  uint8\n",
      " 39  month_jan            45211 non-null  uint8\n",
      " 40  month_jul            45211 non-null  uint8\n",
      " 41  month_jun            45211 non-null  uint8\n",
      " 42  month_mar            45211 non-null  uint8\n",
      " 43  month_may            45211 non-null  uint8\n",
      " 44  month_nov            45211 non-null  uint8\n",
      " 45  month_oct            45211 non-null  uint8\n",
      " 46  month_sep            45211 non-null  uint8\n",
      " 47  poutcome_failure     45211 non-null  uint8\n",
      " 48  poutcome_other       45211 non-null  uint8\n",
      " 49  poutcome_success     45211 non-null  uint8\n",
      " 50  poutcome_unknown     45211 non-null  uint8\n",
      "dtypes: int64(7), uint8(44)\n",
      "memory usage: 4.3 MB\n"
     ]
    }
   ],
   "source": [
    "edaData.info()"
   ]
  },
  {
   "cell_type": "markdown",
   "metadata": {},
   "source": [
    "### Feature selection using entropy  - information gain."
   ]
  },
  {
   "cell_type": "code",
   "execution_count": 14,
   "metadata": {
    "ExecuteTime": {
     "end_time": "2021-09-04T10:01:06.529146Z",
     "start_time": "2021-09-04T10:01:05.645887Z"
    }
   },
   "outputs": [],
   "source": [
    "from sklearn.tree import DecisionTreeClassifier"
   ]
  },
  {
   "cell_type": "code",
   "execution_count": 15,
   "metadata": {
    "ExecuteTime": {
     "end_time": "2021-09-04T10:01:06.876630Z",
     "start_time": "2021-09-04T10:01:06.533293Z"
    }
   },
   "outputs": [
    {
     "data": {
      "text/plain": [
       "DecisionTreeClassifier(criterion='entropy', max_depth=10, random_state=15)"
      ]
     },
     "execution_count": 15,
     "metadata": {},
     "output_type": "execute_result"
    }
   ],
   "source": [
    "dt = DecisionTreeClassifier(random_state=15, criterion='entropy', max_depth=10) # fitting the feature section function using \n",
    "dt.fit(edaData,y)                                                               # entropy - information gain."
   ]
  },
  {
   "cell_type": "markdown",
   "metadata": {},
   "source": [
    "***Creating the two lists with feature name (fi_Col) and feature importance score (fimp). So that we can sort the feature importance score. Then we can select the features with highest importance score / information gain score***"
   ]
  },
  {
   "cell_type": "code",
   "execution_count": 16,
   "metadata": {
    "ExecuteTime": {
     "end_time": "2021-09-04T10:01:06.920731Z",
     "start_time": "2021-09-04T10:01:06.879609Z"
    }
   },
   "outputs": [
    {
     "name": "stdout",
     "output_type": "stream",
     "text": [
      "The feature importance for age                   : 0.01957928917178551\n",
      "The feature importance for balance               : 0.02073061732012218\n",
      "The feature importance for day                   : 0.047451982007638345\n",
      "The feature importance for duration              : 0.4102147390614419\n",
      "The feature importance for campaign              : 0.011042484016632862\n",
      "The feature importance for pdays                 : 0.03831795189431376\n",
      "The feature importance for previous              : 0.005048387969711429\n",
      "The feature importance for job_admin.            : 0.0021001434054631766\n",
      "The feature importance for job_blue-collar       : 0.0012781681156430887\n",
      "The feature importance for job_entrepreneur      : 0.0\n",
      "The feature importance for job_housemaid         : 0.0005408791116081995\n",
      "The feature importance for job_management        : 0.0018238854573468981\n",
      "The feature importance for job_retired           : 0.00024309334935137205\n",
      "The feature importance for job_self-employed     : 0.00040562003238544945\n",
      "The feature importance for job_services          : 0.0\n",
      "The feature importance for job_student           : 0.0011608365123929613\n",
      "The feature importance for job_technician        : 0.002006846500008225\n",
      "The feature importance for job_unemployed        : 0.00015866899298366927\n",
      "The feature importance for job_unknown           : 0.00027361911715121246\n",
      "The feature importance for marital_divorced      : 0.0020233948571633433\n",
      "The feature importance for marital_married       : 0.0032750106684779827\n",
      "The feature importance for marital_single        : 0.002774973300542957\n",
      "The feature importance for education_primary     : 0.0\n",
      "The feature importance for education_secondary   : 0.0022593325558613315\n",
      "The feature importance for education_tertiary    : 0.0013171155590463101\n",
      "The feature importance for education_unknown     : 0.0019428055581271941\n",
      "The feature importance for default_no            : 0.0007622253335082715\n",
      "The feature importance for default_yes           : 0.0\n",
      "The feature importance for housing_no            : 0.006922839843745471\n",
      "The feature importance for housing_yes           : 0.03279116838160453\n",
      "The feature importance for loan_no               : 0.0020896677117992037\n",
      "The feature importance for loan_yes              : 0.0028511254305042654\n",
      "The feature importance for contact_cellular      : 0.004644871120002957\n",
      "The feature importance for contact_telephone     : 0.00028228218074662076\n",
      "The feature importance for contact_unknown       : 0.06611796251608724\n",
      "The feature importance for month_apr             : 0.005897310712773831\n",
      "The feature importance for month_aug             : 0.016813874988544378\n",
      "The feature importance for month_dec             : 0.00040605087291906324\n",
      "The feature importance for month_feb             : 0.012355935367909385\n",
      "The feature importance for month_jan             : 0.007534047168527534\n",
      "The feature importance for month_jul             : 0.019692077603701837\n",
      "The feature importance for month_jun             : 0.013260830027987907\n",
      "The feature importance for month_mar             : 0.014386632558082741\n",
      "The feature importance for month_may             : 0.007561667944155694\n",
      "The feature importance for month_nov             : 0.01402145700517197\n",
      "The feature importance for month_oct             : 0.01543345326678695\n",
      "The feature importance for month_sep             : 0.004609234364905481\n",
      "The feature importance for poutcome_failure      : 0.00085479746607237\n",
      "The feature importance for poutcome_other        : 0.0\n",
      "The feature importance for poutcome_success      : 0.17409171674194956\n",
      "The feature importance for poutcome_unknown      : 0.0006489268573134096\n"
     ]
    }
   ],
   "source": [
    "fi_Col = []\n",
    "fimp = []\n",
    "for i,column in enumerate(edaData):\n",
    "    print('The feature importance for {:<20}  : {}'.format(column, dt.feature_importances_[i]))\n",
    "    fi_Col.append(column)\n",
    "    fimp.append(dt.feature_importances_[i])"
   ]
  },
  {
   "cell_type": "code",
   "execution_count": 17,
   "metadata": {
    "ExecuteTime": {
     "end_time": "2021-09-04T10:01:07.035635Z",
     "start_time": "2021-09-04T10:01:06.924927Z"
    }
   },
   "outputs": [
    {
     "name": "stdout",
     "output_type": "stream",
     "text": [
      "\n",
      " \u001b[7m SORTED FEATURE IMPORTANCE TABLE \u001b[0m\n"
     ]
    },
    {
     "data": {
      "text/html": [
       "<div>\n",
       "<style scoped>\n",
       "    .dataframe tbody tr th:only-of-type {\n",
       "        vertical-align: middle;\n",
       "    }\n",
       "\n",
       "    .dataframe tbody tr th {\n",
       "        vertical-align: top;\n",
       "    }\n",
       "\n",
       "    .dataframe thead th {\n",
       "        text-align: right;\n",
       "    }\n",
       "</style>\n",
       "<table border=\"1\" class=\"dataframe\">\n",
       "  <thead>\n",
       "    <tr style=\"text-align: right;\">\n",
       "      <th></th>\n",
       "      <th>index</th>\n",
       "      <th>Feature</th>\n",
       "      <th>FeatureImp</th>\n",
       "    </tr>\n",
       "  </thead>\n",
       "  <tbody>\n",
       "    <tr>\n",
       "      <th>0</th>\n",
       "      <td>3</td>\n",
       "      <td>duration</td>\n",
       "      <td>0.410215</td>\n",
       "    </tr>\n",
       "    <tr>\n",
       "      <th>1</th>\n",
       "      <td>49</td>\n",
       "      <td>poutcome_success</td>\n",
       "      <td>0.174092</td>\n",
       "    </tr>\n",
       "    <tr>\n",
       "      <th>2</th>\n",
       "      <td>34</td>\n",
       "      <td>contact_unknown</td>\n",
       "      <td>0.066118</td>\n",
       "    </tr>\n",
       "    <tr>\n",
       "      <th>3</th>\n",
       "      <td>2</td>\n",
       "      <td>day</td>\n",
       "      <td>0.047452</td>\n",
       "    </tr>\n",
       "    <tr>\n",
       "      <th>4</th>\n",
       "      <td>5</td>\n",
       "      <td>pdays</td>\n",
       "      <td>0.038318</td>\n",
       "    </tr>\n",
       "  </tbody>\n",
       "</table>\n",
       "</div>"
      ],
      "text/plain": [
       "   index           Feature  FeatureImp\n",
       "0      3          duration    0.410215\n",
       "1     49  poutcome_success    0.174092\n",
       "2     34   contact_unknown    0.066118\n",
       "3      2               day    0.047452\n",
       "4      5             pdays    0.038318"
      ]
     },
     "execution_count": 17,
     "metadata": {},
     "output_type": "execute_result"
    }
   ],
   "source": [
    "# Creating the dataframe with feature importance\n",
    "# print('\\n \\033[7m FEATURE IMPORTANCE TABLE \\033[0m \\n')\n",
    "fimp_df = pd.DataFrame({'Feature':fi_Col,'FeatureImp':fimp}) ## creating the data frame using the two lists\n",
    "\n",
    "# Sorting the Feature importance table \n",
    "print('\\n \\033[7m SORTED FEATURE IMPORTANCE TABLE \\033[0m')\n",
    "fimp_df = fimp_df.sort_values(\"FeatureImp\", ascending=False).reset_index() ## sorting the dataframe for Feature imp column\n",
    "fimp_df.head()"
   ]
  },
  {
   "cell_type": "code",
   "execution_count": 18,
   "metadata": {
    "ExecuteTime": {
     "end_time": "2021-09-04T10:01:07.126365Z",
     "start_time": "2021-09-04T10:01:07.041896Z"
    }
   },
   "outputs": [
    {
     "name": "stdout",
     "output_type": "stream",
     "text": [
      "\n",
      "   \u001b[7m COLUMNS TO DROP \u001b[0m\n"
     ]
    },
    {
     "data": {
      "text/plain": [
       "46       poutcome_other\n",
       "47          default_yes\n",
       "48     job_entrepreneur\n",
       "49    education_primary\n",
       "50         job_services\n",
       "Name: Feature, dtype: object"
      ]
     },
     "execution_count": 18,
     "metadata": {},
     "output_type": "execute_result"
    }
   ],
   "source": [
    "col_to_drop = fimp_df.Feature[46:] # col_to_drop with columns whose information gain score '0'\n",
    "print('\\n   \\033[7m COLUMNS TO DROP \\033[0m')\n",
    "col_to_drop"
   ]
  },
  {
   "cell_type": "code",
   "execution_count": 19,
   "metadata": {
    "ExecuteTime": {
     "end_time": "2021-09-04T10:01:07.241500Z",
     "start_time": "2021-09-04T10:01:07.130000Z"
    }
   },
   "outputs": [
    {
     "name": "stdout",
     "output_type": "stream",
     "text": [
      "\n",
      " \u001b[7m SHAPES OR \"X\" AND \"y\" \u001b[0m \n",
      "\n",
      "(45211, 46)\n",
      "(45211,)\n"
     ]
    }
   ],
   "source": [
    "edaDataMaster = edaData.copy(deep=True) ## Making a master copy for backup\n",
    "\n",
    "edaData.drop(col_to_drop,axis=1,inplace=True) ## drop columns in the col_to_drop list\n",
    "\n",
    "X = edaData.copy(deep=True) # converting edaData into X data. for convinience\n",
    "print('\\n \\033[7m SHAPES OR \"X\" AND \"y\" \\033[0m \\n')\n",
    "print(X.shape)\n",
    "print(y.shape)"
   ]
  },
  {
   "cell_type": "markdown",
   "metadata": {},
   "source": [
    "# Model building"
   ]
  },
  {
   "cell_type": "code",
   "execution_count": 20,
   "metadata": {
    "ExecuteTime": {
     "end_time": "2021-09-04T10:01:07.293108Z",
     "start_time": "2021-09-04T10:01:07.245186Z"
    }
   },
   "outputs": [],
   "source": [
    "from sklearn.linear_model import LogisticRegression\n",
    "\n",
    "from sklearn.model_selection import train_test_split"
   ]
  },
  {
   "cell_type": "markdown",
   "metadata": {},
   "source": [
    "### Train Test and Validation Split (70,20,10)\n",
    "\n",
    "It is important to split the data into train and test, so that we can train the algorithm with train data and test on the unseen data (test data). I have split the data in three sets Train, Test, Validation sets. We shall use train data to train the algorithm and validation data to tune the model and test to validate the model."
   ]
  },
  {
   "cell_type": "code",
   "execution_count": 21,
   "metadata": {
    "ExecuteTime": {
     "end_time": "2021-09-04T10:01:07.420328Z",
     "start_time": "2021-09-04T10:01:07.297317Z"
    }
   },
   "outputs": [
    {
     "name": "stdout",
     "output_type": "stream",
     "text": [
      "\n",
      "\u001b[7m SHAPE OF TRAIN DATA \u001b[0m \n",
      "\n",
      "(36168, 46)\n",
      "(36168,)\n",
      "\n",
      "\u001b[7m SHAPE OF TEST DATA \u001b[0m \n",
      "\n",
      "(9043, 46)\n",
      "(9043,)\n"
     ]
    }
   ],
   "source": [
    "# first split\n",
    "X_train,X_test,y_train,y_test = train_test_split(X,y,train_size = 0.8,test_size = 0.2, random_state=15)\n",
    "\n",
    "print('\\n\\033[7m SHAPE OF TRAIN DATA \\033[0m \\n')\n",
    "print(X_train.shape)\n",
    "print(y_train.shape)\n",
    "\n",
    "print('\\n\\033[7m SHAPE OF TEST DATA \\033[0m \\n')\n",
    "print(X_test.shape)\n",
    "print(y_test.shape)\n"
   ]
  },
  {
   "cell_type": "code",
   "execution_count": 22,
   "metadata": {
    "ExecuteTime": {
     "end_time": "2021-09-04T10:01:07.608143Z",
     "start_time": "2021-09-04T10:01:07.423918Z"
    }
   },
   "outputs": [
    {
     "name": "stdout",
     "output_type": "stream",
     "text": [
      "\u001b[7m Distribution of FD Status \"Yes\" and \"NO\" on Train, Test and Validation Data \u001b[0m\n"
     ]
    },
    {
     "data": {
      "image/png": "[encoded data removed]",
      "text/plain": [
       "<Figure size 576x432 with 2 Axes>"
      ]
     },
     "metadata": {
      "needs_background": "light"
     },
     "output_type": "display_data"
    }
   ],
   "source": [
    "print('\\033[7m Distribution of FD Status \"Yes\" and \"NO\" on Train, Test and Validation Data \\033[0m')\n",
    "\n",
    "fig,ax = plt.subplots(2,1,figsize = (8,6))\n",
    "\n",
    "sns.countplot(x = y_train, palette='CMRmap_r', ax=ax[0])# Verifying the distribution of Train Test Validatin split\n",
    "sns.countplot(x = y_test, palette='CMRmap_r', ax=ax[1]) \n",
    "\n",
    "plt.show()"
   ]
  },
  {
   "cell_type": "markdown",
   "metadata": {},
   "source": [
    "We don't observe any bias in our spilt."
   ]
  },
  {
   "cell_type": "markdown",
   "metadata": {},
   "source": [
    "## Create Regression model\n",
    "\n",
    "LogisticRegression is an ready made algorithm from SKlearn Library, We first initiate the model by passing the relevant parameters and them train the model by passing Train data.\n",
    "\n",
    "**`Logistic Regression algorithm Parameters: `**\n",
    "\n",
    "    penalty='l2',\n",
    "    dual=False,\n",
    "    tol=0.0001,\n",
    "    C=1.0,\n",
    "    fit_intercept=True,\n",
    "    intercept_scaling=1,\n",
    "    class_weight=None,\n",
    "    random_state=None,\n",
    "    solver='lbfgs',\n",
    "    max_iter=100,\n",
    "    multi_class='auto',\n",
    "    verbose=0,\n",
    "    warm_start=False,\n",
    "    n_jobs=None,\n",
    "    l1_ratio=None,\n",
    "    \n",
    "WE are using parameters\n",
    "\n",
    "* Random State : - to make sure we get same result every time we run the algorithm\n",
    "* Class_weight : - As the data is imbalanced \n",
    "* max_iter     : - As it takes longer to converge due to large dataset"
   ]
  },
  {
   "cell_type": "code",
   "execution_count": 23,
   "metadata": {
    "ExecuteTime": {
     "end_time": "2021-09-04T10:01:32.840213Z",
     "start_time": "2021-09-04T10:01:07.612099Z"
    }
   },
   "outputs": [
    {
     "data": {
      "text/plain": [
       "LogisticRegression(class_weight='balanced', max_iter=10000, random_state=0)"
      ]
     },
     "execution_count": 23,
     "metadata": {},
     "output_type": "execute_result"
    }
   ],
   "source": [
    "logi_reg = LogisticRegression(random_state=0,class_weight='balanced',max_iter=10000)\n",
    "logi_reg.fit(X_train,y_train)"
   ]
  },
  {
   "cell_type": "markdown",
   "metadata": {},
   "source": [
    "### Getting Probabilities, Predictions and Coefs from logistic regression model"
   ]
  },
  {
   "cell_type": "code",
   "execution_count": 34,
   "metadata": {
    "ExecuteTime": {
     "end_time": "2021-09-04T10:04:12.598974Z",
     "start_time": "2021-09-04T10:04:12.519143Z"
    }
   },
   "outputs": [
    {
     "name": "stdout",
     "output_type": "stream",
     "text": [
      "\n",
      " \u001b[7m probabilities for 0th class and 1th class \u001b[0m \n",
      "\n",
      "[[0.01450698 0.98549302]\n",
      " [0.06808414 0.93191586]\n",
      " [0.94306356 0.05693644]\n",
      " ...\n",
      " [0.00962376 0.99037624]\n",
      " [0.08075409 0.91924591]\n",
      " [0.04352354 0.95647646]]\n",
      "\n",
      " \u001b[7m Coefficients for Logistic model \u001b[0m \n",
      "\n"
     ]
    },
    {
     "data": {
      "text/plain": [
       "array([[ 2.57271727e-03, -2.67854563e-05, -2.50073680e-03,\n",
       "        -5.87791711e-03,  9.08457111e-02,  1.51463027e-03,\n",
       "        -6.52787062e-04, -2.29925316e-01,  2.43849251e-01,\n",
       "         2.88807051e-01,  1.20107671e-02, -5.85541276e-01,\n",
       "         2.57430939e-01, -6.23215716e-01, -3.63386855e-02,\n",
       "         6.83419813e-03,  6.35708165e-02,  1.17519552e-01,\n",
       "         3.45211980e-01, -2.73978352e-02, -1.67530894e-01,\n",
       "        -3.81276733e-01, -1.49212851e-01,  6.49097860e-02,\n",
       "        -1.08887752e-01,  5.44221449e-01, -7.82358438e-02,\n",
       "         5.13569541e-01, -4.39867751e-01, -4.11485702e-01,\n",
       "         1.28668715e+00, -1.14480534e-01,  9.97450220e-01,\n",
       "        -3.51570447e-01,  1.02906588e-01,  1.00837764e+00,\n",
       "         1.15524599e+00, -3.41312627e-01, -1.51567039e+00,\n",
       "         6.17433725e-01,  1.02653557e+00, -1.26063299e+00,\n",
       "        -8.88949051e-01,  5.93636123e-01, -2.08152161e+00,\n",
       "         1.10580969e+00]])"
      ]
     },
     "execution_count": 34,
     "metadata": {},
     "output_type": "execute_result"
    }
   ],
   "source": [
    "logi_reg.predict(X_train)\n",
    "y_pred = logi_reg.predict(X_train)\n",
    "\n",
    "pred_proba = logi_reg.predict_proba(X_train)\n",
    "\n",
    "print('\\n \\033[7m probabilities for 0th class and 1th class \\033[0m \\n')\n",
    "print(pred_proba)\n",
    "print('\\n\\n \\033[7m Coefficients for Logistic model \\033[0m \\n')\n",
    "logi_reg.coef_"
   ]
  },
  {
   "cell_type": "markdown",
   "metadata": {},
   "source": [
    "### Checking the accuracy of the model"
   ]
  },
  {
   "cell_type": "code",
   "execution_count": 25,
   "metadata": {
    "ExecuteTime": {
     "end_time": "2021-09-04T10:01:33.569946Z",
     "start_time": "2021-09-04T10:01:32.934405Z"
    }
   },
   "outputs": [
    {
     "name": "stdout",
     "output_type": "stream",
     "text": [
      "\n",
      " \t\t\u001b[7m Accuracy Score \u001b[0m \n",
      "\n",
      "The Training Accuracy is:  0.8440610484406105\n",
      "The Testing Accuracy is :  0.837996240185779\n",
      "\n",
      "\n",
      " \t\t\u001b[7m Classification Report \u001b[0m \n",
      "\n",
      "              precision    recall  f1-score   support\n",
      "\n",
      "           0       0.42      0.82      0.55      4260\n",
      "           1       0.97      0.85      0.91     31908\n",
      "\n",
      "    accuracy                           0.84     36168\n",
      "   macro avg       0.70      0.84      0.73     36168\n",
      "weighted avg       0.91      0.84      0.86     36168\n",
      "\n"
     ]
    },
    {
     "data": {
      "image/png": "[encoded data removed]",
      "text/plain": [
       "<Figure size 432x432 with 2 Axes>"
      ]
     },
     "metadata": {
      "needs_background": "light"
     },
     "output_type": "display_data"
    },
    {
     "name": "stdout",
     "output_type": "stream",
     "text": [
      "\n",
      " \u001b[7m  Category Value counts for in \"y_train\" \u001b[0m\n"
     ]
    },
    {
     "data": {
      "text/plain": [
       "1    31908\n",
       "0     4260\n",
       "Name: y, dtype: int64"
      ]
     },
     "execution_count": 25,
     "metadata": {},
     "output_type": "execute_result"
    }
   ],
   "source": [
    "print('\\n \\t\\t\\033[7m Accuracy Score \\033[0m \\n')\n",
    "# Accuracy on Train\n",
    "print(\"The Training Accuracy is: \", logi_reg.score(X_train, y_train))\n",
    "\n",
    "# Accuracy on Test\n",
    "print(\"The Testing Accuracy is : \", logi_reg.score(X_test, y_test))\n",
    "\n",
    "from sklearn.metrics import classification_report\n",
    "print('\\n\\n \\t\\t\\033[7m Classification Report \\033[0m \\n')\n",
    "print(classification_report(y_train,y_pred))\n",
    "\n",
    "from sklearn.metrics import confusion_matrix, plot_confusion_matrix ## CONFUSION METRICS\n",
    "fig,ax = plt.subplots(1,1,figsize=(6,6))\n",
    "plot_confusion_matrix(logi_reg,X_train,y_train,display_labels = ['YES', 'NO'],cmap='viridis',ax=ax)\n",
    "plt.title('Confusion Matrix', fontsize = 20)\n",
    "plt.show()\n",
    "\n",
    "print('\\n \\033[7m  Category Value counts for in \"y_train\" \\033[0m')\n",
    "y_train.value_counts()"
   ]
  },
  {
   "cell_type": "markdown",
   "metadata": {},
   "source": [
    "### PRECISION, SPECIFICITY AND RECALL/SENSITIVITY "
   ]
  },
  {
   "cell_type": "code",
   "execution_count": 26,
   "metadata": {
    "ExecuteTime": {
     "end_time": "2021-09-04T10:01:33.595480Z",
     "start_time": "2021-09-04T10:01:33.571974Z"
    }
   },
   "outputs": [
    {
     "name": "stdout",
     "output_type": "stream",
     "text": [
      "\n",
      " \u001b[7m Precission, Recall, Specificity and False Positive Rate(FPR) \u001b[0m \n",
      "\n",
      "Precision\t-\t0.42\n",
      "Recall\t\t-\t0.83\n",
      "Specificity\t-\t0.85\n",
      "FPR =  0.1532734989215891 0.15327349892158904\n"
     ]
    }
   ],
   "source": [
    "# precision = TP/TP+FP (accuracy of positive predictions out of total predicted positivies - prositive predictive value)\n",
    "precision = 3141/(3141+4406)\n",
    "# recall / sensitivity = TP/TP+FN (accuracy of positive prediction out of total actual positives - true positive rate)\n",
    "recall = 3141 / (3141+664)\n",
    "# specificity = TN /TN+FP (coverage of actual negetive sample meaning how many true negetives are correctly predicted)\n",
    "specificity = 24340/(24340+4406)\n",
    "print('\\n \\033[7m Precission, Recall, Specificity and False Positive Rate(FPR) \\033[0m \\n')\n",
    "print(f'Precision\\t-\\t{precision:.2f}\\nRecall\\t\\t-\\t{recall:.2f}\\nSpecificity\\t-\\t{specificity:.2f}')\n",
    "# False positive rate is the rate of wrong positives predicted out of total actual negatives - inverse of specificity\n",
    "print(F\"FPR = \", 4406/(4406+24340),1-specificity)  "
   ]
  },
  {
   "cell_type": "markdown",
   "metadata": {},
   "source": [
    "**We are interested in prediction TP as that is our classification problem we need to identify customers who took the FD correctly. Our model is correctly predicting the customer who have not taken the FD but its prdiction for customers who have taken the FD is as low as 0.19. Technically this is a useless model. By tweaking couple of parmeteres we could improve the recall by almost 60% now the correct prediction classification is at 84%.***"
   ]
  },
  {
   "cell_type": "markdown",
   "metadata": {},
   "source": [
    "## ROC Curve"
   ]
  },
  {
   "cell_type": "code",
   "execution_count": 27,
   "metadata": {
    "ExecuteTime": {
     "end_time": "2021-09-04T10:01:33.711136Z",
     "start_time": "2021-09-04T10:01:33.596514Z"
    }
   },
   "outputs": [],
   "source": [
    "from sklearn.metrics import roc_curve, roc_auc_score"
   ]
  },
  {
   "cell_type": "code",
   "execution_count": 28,
   "metadata": {
    "ExecuteTime": {
     "end_time": "2021-09-04T10:01:33.813832Z",
     "start_time": "2021-09-04T10:01:33.717487Z"
    }
   },
   "outputs": [
    {
     "data": {
      "text/html": [
       "<div>\n",
       "<style scoped>\n",
       "    .dataframe tbody tr th:only-of-type {\n",
       "        vertical-align: middle;\n",
       "    }\n",
       "\n",
       "    .dataframe tbody tr th {\n",
       "        vertical-align: top;\n",
       "    }\n",
       "\n",
       "    .dataframe thead th {\n",
       "        text-align: right;\n",
       "    }\n",
       "</style>\n",
       "<table border=\"1\" class=\"dataframe\">\n",
       "  <thead>\n",
       "    <tr style=\"text-align: right;\">\n",
       "      <th></th>\n",
       "      <th>0</th>\n",
       "      <th>1</th>\n",
       "    </tr>\n",
       "  </thead>\n",
       "  <tbody>\n",
       "    <tr>\n",
       "      <th>0</th>\n",
       "      <td>0.014507</td>\n",
       "      <td>0.985493</td>\n",
       "    </tr>\n",
       "    <tr>\n",
       "      <th>1</th>\n",
       "      <td>0.068084</td>\n",
       "      <td>0.931916</td>\n",
       "    </tr>\n",
       "    <tr>\n",
       "      <th>2</th>\n",
       "      <td>0.943064</td>\n",
       "      <td>0.056936</td>\n",
       "    </tr>\n",
       "    <tr>\n",
       "      <th>3</th>\n",
       "      <td>0.404178</td>\n",
       "      <td>0.595822</td>\n",
       "    </tr>\n",
       "    <tr>\n",
       "      <th>4</th>\n",
       "      <td>0.147512</td>\n",
       "      <td>0.852488</td>\n",
       "    </tr>\n",
       "    <tr>\n",
       "      <th>...</th>\n",
       "      <td>...</td>\n",
       "      <td>...</td>\n",
       "    </tr>\n",
       "    <tr>\n",
       "      <th>36163</th>\n",
       "      <td>0.113899</td>\n",
       "      <td>0.886101</td>\n",
       "    </tr>\n",
       "    <tr>\n",
       "      <th>36164</th>\n",
       "      <td>0.061368</td>\n",
       "      <td>0.938632</td>\n",
       "    </tr>\n",
       "    <tr>\n",
       "      <th>36165</th>\n",
       "      <td>0.009624</td>\n",
       "      <td>0.990376</td>\n",
       "    </tr>\n",
       "    <tr>\n",
       "      <th>36166</th>\n",
       "      <td>0.080754</td>\n",
       "      <td>0.919246</td>\n",
       "    </tr>\n",
       "    <tr>\n",
       "      <th>36167</th>\n",
       "      <td>0.043524</td>\n",
       "      <td>0.956476</td>\n",
       "    </tr>\n",
       "  </tbody>\n",
       "</table>\n",
       "<p>36168 rows × 2 columns</p>\n",
       "</div>"
      ],
      "text/plain": [
       "              0         1\n",
       "0      0.014507  0.985493\n",
       "1      0.068084  0.931916\n",
       "2      0.943064  0.056936\n",
       "3      0.404178  0.595822\n",
       "4      0.147512  0.852488\n",
       "...         ...       ...\n",
       "36163  0.113899  0.886101\n",
       "36164  0.061368  0.938632\n",
       "36165  0.009624  0.990376\n",
       "36166  0.080754  0.919246\n",
       "36167  0.043524  0.956476\n",
       "\n",
       "[36168 rows x 2 columns]"
      ]
     },
     "execution_count": 28,
     "metadata": {},
     "output_type": "execute_result"
    }
   ],
   "source": [
    "pred_proba = pd.DataFrame(pred_proba)\n",
    "pred_proba"
   ]
  },
  {
   "cell_type": "code",
   "execution_count": 29,
   "metadata": {
    "ExecuteTime": {
     "end_time": "2021-09-04T10:01:34.293840Z",
     "start_time": "2021-09-04T10:01:33.820965Z"
    }
   },
   "outputs": [
    {
     "data": {
      "image/png": "[encoded data removed]",
      "text/plain": [
       "<Figure size 576x432 with 1 Axes>"
      ]
     },
     "metadata": {
      "needs_background": "light"
     },
     "output_type": "display_data"
    }
   ],
   "source": [
    "fpr,tpr,threshold = roc_curve(y_train, logi_reg.predict_proba(X_train)[:,1])\n",
    "\n",
    "auc = roc_auc_score(y_train,y_pred)\n",
    "\n",
    "plt.figure(figsize=(8,6))\n",
    "plt.plot(fpr, tpr, color='red', label = f'logit model area  = {auc}',)\n",
    "plt.title(f'logit model area  = {auc:.2f}',fontsize = 20)\n",
    "plt.plot([0, 1], [0, 1], 'k--')\n",
    "plt.xlabel('False Positive Rate or [1 - True Negative Rate]')\n",
    "plt.ylabel('True Positive Rate')\n",
    "plt.show()"
   ]
  },
  {
   "cell_type": "markdown",
   "metadata": {},
   "source": [
    "# Prediction on the test data"
   ]
  },
  {
   "cell_type": "code",
   "execution_count": 30,
   "metadata": {
    "ExecuteTime": {
     "end_time": "2021-09-04T10:01:34.327206Z",
     "start_time": "2021-09-04T10:01:34.296725Z"
    }
   },
   "outputs": [],
   "source": [
    "test_y_pred = logi_reg.predict(X_test)\n",
    "test_pred_proba = logi_reg.predict_proba(X_test)"
   ]
  },
  {
   "cell_type": "code",
   "execution_count": 31,
   "metadata": {
    "ExecuteTime": {
     "end_time": "2021-09-04T10:01:34.742933Z",
     "start_time": "2021-09-04T10:01:34.329243Z"
    }
   },
   "outputs": [
    {
     "name": "stdout",
     "output_type": "stream",
     "text": [
      "\n",
      " \t\t\u001b[7m Classification Report \u001b[0m\n",
      "\n",
      "              precision    recall  f1-score   support\n",
      "\n",
      "           0       0.40      0.80      0.53      1029\n",
      "           1       0.97      0.84      0.90      8014\n",
      "\n",
      "    accuracy                           0.84      9043\n",
      "   macro avg       0.68      0.82      0.72      9043\n",
      "weighted avg       0.91      0.84      0.86      9043\n",
      "\n",
      "\n",
      " \u001b[7m Classification value counts on test data \u001b[0m\n",
      "\n",
      "1    31908\n",
      "0     4260\n",
      "Name: y, dtype: int64\n"
     ]
    },
    {
     "data": {
      "image/png": "[encoded data removed]",
      "text/plain": [
       "<Figure size 432x432 with 2 Axes>"
      ]
     },
     "metadata": {
      "needs_background": "light"
     },
     "output_type": "display_data"
    }
   ],
   "source": [
    "print('\\n \\t\\t\\033[7m Classification Report \\033[0m\\n')\n",
    "print(classification_report(y_test, test_y_pred))\n",
    "\n",
    "print('\\n \\033[7m Classification value counts on test data \\033[0m\\n')\n",
    "print(y_train.value_counts())\n",
    "\n",
    "fig,ax = plt.subplots(1,1,figsize = (6,6))\n",
    "plot_confusion_matrix(logi_reg,X_test,y_test,ax=ax,display_labels=['YES','NO'])\n",
    "plt.title('Confusion Matrix', fontsize = 20)\n",
    "plt.show()"
   ]
  },
  {
   "cell_type": "code",
   "execution_count": 32,
   "metadata": {
    "ExecuteTime": {
     "end_time": "2021-09-04T10:01:35.191710Z",
     "start_time": "2021-09-04T10:01:34.743931Z"
    }
   },
   "outputs": [
    {
     "name": "stdout",
     "output_type": "stream",
     "text": [
      "\n",
      " \t\t\u001b[7m Classification Report \u001b[0m\n",
      "\n",
      "              precision    recall  f1-score   support\n",
      "\n",
      "           0       0.42      0.82      0.55      4260\n",
      "           1       0.97      0.85      0.91     31908\n",
      "\n",
      "    accuracy                           0.84     36168\n",
      "   macro avg       0.70      0.84      0.73     36168\n",
      "weighted avg       0.91      0.84      0.86     36168\n",
      "\n"
     ]
    },
    {
     "data": {
      "image/png": "[encoded data removed]",
      "text/plain": [
       "<Figure size 432x432 with 2 Axes>"
      ]
     },
     "metadata": {
      "needs_background": "light"
     },
     "output_type": "display_data"
    }
   ],
   "source": [
    "print('\\n \\t\\t\\033[7m Classification Report \\033[0m\\n')\n",
    "print(classification_report(y_train, y_pred))\n",
    "\n",
    "fig,ax = plt.subplots(1,1,figsize = (6,6))\n",
    "plot_confusion_matrix(logi_reg,X_train,y_train,ax=ax,display_labels=['YES','NO'])\n",
    "plt.title('Confusion Matrix', fontsize = 20)\n",
    "plt.show()"
   ]
  },
  {
   "cell_type": "markdown",
   "metadata": {},
   "source": [
    "## Conclusion \n",
    "\n",
    "* The Scores on Train and Test data are very close to each other which indicates the model is not over-fitting or under-fitting. The model is just about right. \n",
    "\n",
    "* The accuracy on train and test score are more or less same at 85% and 84% respectively. However, if we check the individual classes the scores vary.\n",
    "\n",
    "* As we are more interested in class \"0\" (FD Status : 'NO'), the precision for this class is almost same for Train and Test data with 42% and 40% respectively. Even the deviation in recall is same (2%), with 82% and 79% respectively.\n",
    "\n",
    "**Our model is performing reasonably well for given dataset.** "
   ]
  },
  {
   "cell_type": "code",
   "execution_count": null,
   "metadata": {},
   "outputs": [],
   "source": []
  }
 ],
 "metadata": {
  "hide_input": false,
  "kernelspec": {
   "display_name": "Python 3",
   "language": "python",
   "name": "python3"
  },
  "language_info": {
   "codemirror_mode": {
    "name": "ipython",
    "version": 3
   },
   "file_extension": ".py",
   "mimetype": "text/x-python",
   "name": "python",
   "nbconvert_exporter": "python",
   "pygments_lexer": "ipython3",
   "version": "3.8.10"
  },
  "toc": {
   "base_numbering": 1,
   "nav_menu": {},
   "number_sections": true,
   "sideBar": true,
   "skip_h1_title": false,
   "title_cell": "Table of Contents",
   "title_sidebar": "Contents",
   "toc_cell": false,
   "toc_position": {},
   "toc_section_display": true,
   "toc_window_display": true
  },
  "varInspector": {
   "cols": {
    "lenName": 16,
    "lenType": 16,
    "lenVar": 40
   },
   "kernels_config": {
    "python": {
     "delete_cmd_postfix": "",
     "delete_cmd_prefix": "del ",
     "library": "var_list.py",
     "varRefreshCmd": "print(var_dic_list())"
    },
    "r": {
     "delete_cmd_postfix": ") ",
     "delete_cmd_prefix": "rm(",
     "library": "var_list.r",
     "varRefreshCmd": "cat(var_dic_list()) "
    }
   },
   "types_to_exclude": [
    "module",
    "function",
    "builtin_function_or_method",
    "instance",
    "_Feature"
   ],
   "window_display": false
  }
 },
 "nbformat": 4,
 "nbformat_minor": 4
}
