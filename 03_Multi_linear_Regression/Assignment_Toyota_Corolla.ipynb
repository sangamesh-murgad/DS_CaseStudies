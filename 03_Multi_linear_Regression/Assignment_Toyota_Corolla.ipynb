{
 "cells": [
  {
   "cell_type": "markdown",
   "metadata": {},
   "source": [
    "## Assignment MultiLinear Regression"
   ]
  },
  {
   "cell_type": "markdown",
   "metadata": {},
   "source": [
    "Consider only the below columns and prepare a prediction model for predicting Price.\n",
    "\n",
    "Corolla<-Corolla[c(\"Price\",\"Age_08_04\",\"KM\",\"HP\",\"cc\",\"Doors\",\"Gears\",\"Quarterly_Tax\",\"Weight\")]\n",
    "\n",
    " \n",
    "\n",
    "Model -- model of the car\n",
    "Price  -- Offer Price in EUROs\t\n",
    "Age_08_04 -- Age in months as in August 2004\t\n",
    "Mfg_Month -- Manufacturing month (1-12)\t\n",
    "Mfg_Year\t-- Manufacturing Year\n",
    "KM -- Accumulated Kilometers on odometer\n",
    "Fuel_Type\t -- Fuel Type (Petrol, Diesel, CNG)\n",
    "HP -- Horse Power\n",
    "Met_Color\t -- Metallic Color?  (Yes=1, No=0)\n",
    "Color -- Color (Blue, Red, Grey, Silver, Black, etc.)\n",
    "Automatic\t-- Automatic ( (Yes=1, No=0)\n",
    "cc -- Cylinder Volume in cubic centimeters\n",
    "Doors -- Number of doors\n",
    "Cylinders\t-- Number of cylinders\n",
    "Gears -- Number of gear positions\n",
    "Quarterly_Tax -- Quarterly road tax in EUROs\n",
    "Weight -- Weight in Kilograms\n",
    "Mfr_Guarantee -- Within Manufacturer's Guarantee period  (Yes=1, No=0)\n",
    "BOVAG_Guarantee -- BOVAG (Dutch dealer network) Guarantee  (Yes=1, No=0)\n",
    "Guarantee_Period -- \tGuarantee period in months\n",
    "ABS -- Anti-Lock Brake System (Yes=1, No=0)\n",
    "Airbag_1 -- Driver_Airbag  (Yes=1, No=0)\n",
    "Airbag_2 -- Passenger Airbag  (Yes=1, No=0)\n",
    "Airco -- Airconditioning  (Yes=1, No=0)\n",
    "Automatic_airco -- Automatic Airconditioning  (Yes=1, No=0)\n",
    "Boardcomputer -- Boardcomputer  (Yes=1, No=0)\n",
    "CD_Player -- CD Player  (Yes=1, No=0)\n",
    "Central_Lock -- Central Lock  (Yes=1, No=0)\n",
    "Powered_Windows -- Powered Windows  (Yes=1, No=0)\n",
    "Power_Steering -- Power Steering  (Yes=1, No=0)\n",
    "Radio -- Radio  (Yes=1, No=0)\n",
    "Mistlamps\t-- Mistlamps  (Yes=1, No=0)\n",
    "Sport_Model -- Sport Model  (Yes=1, No=0)\n",
    "Backseat_Divider -- Backseat Divider  (Yes=1, No=0)\n",
    "Metallic_Rim --Metallic Rim  (Yes=1, No=0)\n",
    "Radio_cassette -- Radio Cassette  (Yes=1, No=0)\n",
    "Tow_Bar -- Tow Bar  (Yes=1, No=0)"
   ]
  },
  {
   "cell_type": "code",
   "execution_count": 1,
   "metadata": {
    "ExecuteTime": {
     "end_time": "2022-01-04T07:05:31.896412Z",
     "start_time": "2022-01-04T07:05:22.227948Z"
    }
   },
   "outputs": [],
   "source": [
    "import pandas as pd\n",
    "import warnings\n",
    "warnings.filterwarnings('ignore')"
   ]
  },
  {
   "cell_type": "markdown",
   "metadata": {},
   "source": [
    "Importing the CSV dataset for analyisis with specified columns"
   ]
  },
  {
   "cell_type": "code",
   "execution_count": 2,
   "metadata": {
    "ExecuteTime": {
     "end_time": "2022-01-04T07:05:32.363882Z",
     "start_time": "2022-01-04T07:05:31.932178Z"
    }
   },
   "outputs": [
    {
     "data": {
      "text/plain": [
       "(1436, 9)"
      ]
     },
     "execution_count": 2,
     "metadata": {},
     "output_type": "execute_result"
    }
   ],
   "source": [
    "toyota = pd.read_csv('ToyotaCorolla1.csv',usecols=[\"Price\",\"Age_08_04\",\"KM\",\"HP\",\"cc\",\"Doors\",\"Gears\",\"Quarterly_Tax\",\"Weight\"])\n",
    "toyota.shape"
   ]
  },
  {
   "cell_type": "code",
   "execution_count": 3,
   "metadata": {
    "ExecuteTime": {
     "end_time": "2022-01-04T07:05:34.164175Z",
     "start_time": "2022-01-04T07:05:34.123252Z"
    }
   },
   "outputs": [
    {
     "data": {
      "text/html": [
       "<div>\n",
       "<style scoped>\n",
       "    .dataframe tbody tr th:only-of-type {\n",
       "        vertical-align: middle;\n",
       "    }\n",
       "\n",
       "    .dataframe tbody tr th {\n",
       "        vertical-align: top;\n",
       "    }\n",
       "\n",
       "    .dataframe thead th {\n",
       "        text-align: right;\n",
       "    }\n",
       "</style>\n",
       "<table border=\"1\" class=\"dataframe\">\n",
       "  <thead>\n",
       "    <tr style=\"text-align: right;\">\n",
       "      <th></th>\n",
       "      <th>Price</th>\n",
       "      <th>Age_08_04</th>\n",
       "      <th>KM</th>\n",
       "      <th>HP</th>\n",
       "      <th>cc</th>\n",
       "      <th>Doors</th>\n",
       "      <th>Gears</th>\n",
       "      <th>Quarterly_Tax</th>\n",
       "      <th>Weight</th>\n",
       "    </tr>\n",
       "  </thead>\n",
       "  <tbody>\n",
       "    <tr>\n",
       "      <th>0</th>\n",
       "      <td>13500</td>\n",
       "      <td>23</td>\n",
       "      <td>46986</td>\n",
       "      <td>90</td>\n",
       "      <td>2000</td>\n",
       "      <td>3</td>\n",
       "      <td>5</td>\n",
       "      <td>210</td>\n",
       "      <td>1165</td>\n",
       "    </tr>\n",
       "    <tr>\n",
       "      <th>1</th>\n",
       "      <td>13750</td>\n",
       "      <td>23</td>\n",
       "      <td>72937</td>\n",
       "      <td>90</td>\n",
       "      <td>2000</td>\n",
       "      <td>3</td>\n",
       "      <td>5</td>\n",
       "      <td>210</td>\n",
       "      <td>1165</td>\n",
       "    </tr>\n",
       "    <tr>\n",
       "      <th>2</th>\n",
       "      <td>13950</td>\n",
       "      <td>24</td>\n",
       "      <td>41711</td>\n",
       "      <td>90</td>\n",
       "      <td>2000</td>\n",
       "      <td>3</td>\n",
       "      <td>5</td>\n",
       "      <td>210</td>\n",
       "      <td>1165</td>\n",
       "    </tr>\n",
       "    <tr>\n",
       "      <th>3</th>\n",
       "      <td>14950</td>\n",
       "      <td>26</td>\n",
       "      <td>48000</td>\n",
       "      <td>90</td>\n",
       "      <td>2000</td>\n",
       "      <td>3</td>\n",
       "      <td>5</td>\n",
       "      <td>210</td>\n",
       "      <td>1165</td>\n",
       "    </tr>\n",
       "    <tr>\n",
       "      <th>4</th>\n",
       "      <td>13750</td>\n",
       "      <td>30</td>\n",
       "      <td>38500</td>\n",
       "      <td>90</td>\n",
       "      <td>2000</td>\n",
       "      <td>3</td>\n",
       "      <td>5</td>\n",
       "      <td>210</td>\n",
       "      <td>1170</td>\n",
       "    </tr>\n",
       "  </tbody>\n",
       "</table>\n",
       "</div>"
      ],
      "text/plain": [
       "   Price  Age_08_04     KM  HP    cc  Doors  Gears  Quarterly_Tax  Weight\n",
       "0  13500         23  46986  90  2000      3      5            210    1165\n",
       "1  13750         23  72937  90  2000      3      5            210    1165\n",
       "2  13950         24  41711  90  2000      3      5            210    1165\n",
       "3  14950         26  48000  90  2000      3      5            210    1165\n",
       "4  13750         30  38500  90  2000      3      5            210    1170"
      ]
     },
     "execution_count": 3,
     "metadata": {},
     "output_type": "execute_result"
    }
   ],
   "source": [
    "toyota.head() #checking the data - first look"
   ]
  },
  {
   "cell_type": "markdown",
   "metadata": {},
   "source": [
    "***Renaming few columns for uniformity and ease of typing / true representation*** -----below"
   ]
  },
  {
   "cell_type": "code",
   "execution_count": 4,
   "metadata": {
    "ExecuteTime": {
     "end_time": "2022-01-04T07:05:36.752289Z",
     "start_time": "2022-01-04T07:05:36.731346Z"
    },
    "scrolled": true
   },
   "outputs": [
    {
     "data": {
      "text/html": [
       "<div>\n",
       "<style scoped>\n",
       "    .dataframe tbody tr th:only-of-type {\n",
       "        vertical-align: middle;\n",
       "    }\n",
       "\n",
       "    .dataframe tbody tr th {\n",
       "        vertical-align: top;\n",
       "    }\n",
       "\n",
       "    .dataframe thead th {\n",
       "        text-align: right;\n",
       "    }\n",
       "</style>\n",
       "<table border=\"1\" class=\"dataframe\">\n",
       "  <thead>\n",
       "    <tr style=\"text-align: right;\">\n",
       "      <th></th>\n",
       "      <th>Price</th>\n",
       "      <th>AgeMonth</th>\n",
       "      <th>KM</th>\n",
       "      <th>HP</th>\n",
       "      <th>CC</th>\n",
       "      <th>Doors</th>\n",
       "      <th>Gears</th>\n",
       "      <th>QurtTax</th>\n",
       "      <th>Weight</th>\n",
       "    </tr>\n",
       "  </thead>\n",
       "  <tbody>\n",
       "    <tr>\n",
       "      <th>0</th>\n",
       "      <td>13500</td>\n",
       "      <td>23</td>\n",
       "      <td>46986</td>\n",
       "      <td>90</td>\n",
       "      <td>2000</td>\n",
       "      <td>3</td>\n",
       "      <td>5</td>\n",
       "      <td>210</td>\n",
       "      <td>1165</td>\n",
       "    </tr>\n",
       "    <tr>\n",
       "      <th>1</th>\n",
       "      <td>13750</td>\n",
       "      <td>23</td>\n",
       "      <td>72937</td>\n",
       "      <td>90</td>\n",
       "      <td>2000</td>\n",
       "      <td>3</td>\n",
       "      <td>5</td>\n",
       "      <td>210</td>\n",
       "      <td>1165</td>\n",
       "    </tr>\n",
       "    <tr>\n",
       "      <th>2</th>\n",
       "      <td>13950</td>\n",
       "      <td>24</td>\n",
       "      <td>41711</td>\n",
       "      <td>90</td>\n",
       "      <td>2000</td>\n",
       "      <td>3</td>\n",
       "      <td>5</td>\n",
       "      <td>210</td>\n",
       "      <td>1165</td>\n",
       "    </tr>\n",
       "    <tr>\n",
       "      <th>3</th>\n",
       "      <td>14950</td>\n",
       "      <td>26</td>\n",
       "      <td>48000</td>\n",
       "      <td>90</td>\n",
       "      <td>2000</td>\n",
       "      <td>3</td>\n",
       "      <td>5</td>\n",
       "      <td>210</td>\n",
       "      <td>1165</td>\n",
       "    </tr>\n",
       "    <tr>\n",
       "      <th>4</th>\n",
       "      <td>13750</td>\n",
       "      <td>30</td>\n",
       "      <td>38500</td>\n",
       "      <td>90</td>\n",
       "      <td>2000</td>\n",
       "      <td>3</td>\n",
       "      <td>5</td>\n",
       "      <td>210</td>\n",
       "      <td>1170</td>\n",
       "    </tr>\n",
       "  </tbody>\n",
       "</table>\n",
       "</div>"
      ],
      "text/plain": [
       "   Price  AgeMonth     KM  HP    CC  Doors  Gears  QurtTax  Weight\n",
       "0  13500        23  46986  90  2000      3      5      210    1165\n",
       "1  13750        23  72937  90  2000      3      5      210    1165\n",
       "2  13950        24  41711  90  2000      3      5      210    1165\n",
       "3  14950        26  48000  90  2000      3      5      210    1165\n",
       "4  13750        30  38500  90  2000      3      5      210    1170"
      ]
     },
     "execution_count": 4,
     "metadata": {},
     "output_type": "execute_result"
    }
   ],
   "source": [
    "toyota.rename({'Age_08_04':'AgeMonth','Quarterly_Tax':'QurtTax','cc':'CC'},axis=1,inplace=True)\n",
    "toyota.head(5)"
   ]
  },
  {
   "cell_type": "code",
   "execution_count": 5,
   "metadata": {
    "ExecuteTime": {
     "end_time": "2022-01-04T07:05:38.163781Z",
     "start_time": "2022-01-04T07:05:37.891444Z"
    },
    "scrolled": true
   },
   "outputs": [
    {
     "name": "stdout",
     "output_type": "stream",
     "text": [
      "<class 'pandas.core.frame.DataFrame'>\n",
      "RangeIndex: 1436 entries, 0 to 1435\n",
      "Data columns (total 9 columns):\n",
      " #   Column    Non-Null Count  Dtype\n",
      "---  ------    --------------  -----\n",
      " 0   Price     1436 non-null   int64\n",
      " 1   AgeMonth  1436 non-null   int64\n",
      " 2   KM        1436 non-null   int64\n",
      " 3   HP        1436 non-null   int64\n",
      " 4   CC        1436 non-null   int64\n",
      " 5   Doors     1436 non-null   int64\n",
      " 6   Gears     1436 non-null   int64\n",
      " 7   QurtTax   1436 non-null   int64\n",
      " 8   Weight    1436 non-null   int64\n",
      "dtypes: int64(9)\n",
      "memory usage: 101.1 KB\n"
     ]
    }
   ],
   "source": [
    "toyota.info() # Checking the Data type and other details"
   ]
  },
  {
   "cell_type": "markdown",
   "metadata": {},
   "source": [
    "All columns are marked 'int64' as their datatype. None of the features contain null values. There are total of 1436 records and 9 features in the dataset."
   ]
  },
  {
   "cell_type": "code",
   "execution_count": 6,
   "metadata": {
    "ExecuteTime": {
     "end_time": "2022-01-04T07:05:41.386836Z",
     "start_time": "2022-01-04T07:05:41.136844Z"
    }
   },
   "outputs": [
    {
     "data": {
      "text/html": [
       "<div>\n",
       "<style scoped>\n",
       "    .dataframe tbody tr th:only-of-type {\n",
       "        vertical-align: middle;\n",
       "    }\n",
       "\n",
       "    .dataframe tbody tr th {\n",
       "        vertical-align: top;\n",
       "    }\n",
       "\n",
       "    .dataframe thead th {\n",
       "        text-align: right;\n",
       "    }\n",
       "</style>\n",
       "<table border=\"1\" class=\"dataframe\">\n",
       "  <thead>\n",
       "    <tr style=\"text-align: right;\">\n",
       "      <th></th>\n",
       "      <th>Price</th>\n",
       "      <th>AgeMonth</th>\n",
       "      <th>KM</th>\n",
       "      <th>HP</th>\n",
       "      <th>CC</th>\n",
       "      <th>Doors</th>\n",
       "      <th>Gears</th>\n",
       "      <th>QurtTax</th>\n",
       "      <th>Weight</th>\n",
       "    </tr>\n",
       "  </thead>\n",
       "  <tbody>\n",
       "    <tr>\n",
       "      <th>count</th>\n",
       "      <td>1436.000000</td>\n",
       "      <td>1436.000000</td>\n",
       "      <td>1436.000000</td>\n",
       "      <td>1436.000000</td>\n",
       "      <td>1436.00000</td>\n",
       "      <td>1436.000000</td>\n",
       "      <td>1436.000000</td>\n",
       "      <td>1436.000000</td>\n",
       "      <td>1436.00000</td>\n",
       "    </tr>\n",
       "    <tr>\n",
       "      <th>mean</th>\n",
       "      <td>10730.824513</td>\n",
       "      <td>55.947075</td>\n",
       "      <td>68533.259749</td>\n",
       "      <td>101.502089</td>\n",
       "      <td>1576.85585</td>\n",
       "      <td>4.033426</td>\n",
       "      <td>5.026462</td>\n",
       "      <td>87.122563</td>\n",
       "      <td>1072.45961</td>\n",
       "    </tr>\n",
       "    <tr>\n",
       "      <th>std</th>\n",
       "      <td>3626.964585</td>\n",
       "      <td>18.599988</td>\n",
       "      <td>37506.448872</td>\n",
       "      <td>14.981080</td>\n",
       "      <td>424.38677</td>\n",
       "      <td>0.952677</td>\n",
       "      <td>0.188510</td>\n",
       "      <td>41.128611</td>\n",
       "      <td>52.64112</td>\n",
       "    </tr>\n",
       "    <tr>\n",
       "      <th>min</th>\n",
       "      <td>4350.000000</td>\n",
       "      <td>1.000000</td>\n",
       "      <td>1.000000</td>\n",
       "      <td>69.000000</td>\n",
       "      <td>1300.00000</td>\n",
       "      <td>2.000000</td>\n",
       "      <td>3.000000</td>\n",
       "      <td>19.000000</td>\n",
       "      <td>1000.00000</td>\n",
       "    </tr>\n",
       "    <tr>\n",
       "      <th>25%</th>\n",
       "      <td>8450.000000</td>\n",
       "      <td>44.000000</td>\n",
       "      <td>43000.000000</td>\n",
       "      <td>90.000000</td>\n",
       "      <td>1400.00000</td>\n",
       "      <td>3.000000</td>\n",
       "      <td>5.000000</td>\n",
       "      <td>69.000000</td>\n",
       "      <td>1040.00000</td>\n",
       "    </tr>\n",
       "    <tr>\n",
       "      <th>50%</th>\n",
       "      <td>9900.000000</td>\n",
       "      <td>61.000000</td>\n",
       "      <td>63389.500000</td>\n",
       "      <td>110.000000</td>\n",
       "      <td>1600.00000</td>\n",
       "      <td>4.000000</td>\n",
       "      <td>5.000000</td>\n",
       "      <td>85.000000</td>\n",
       "      <td>1070.00000</td>\n",
       "    </tr>\n",
       "    <tr>\n",
       "      <th>75%</th>\n",
       "      <td>11950.000000</td>\n",
       "      <td>70.000000</td>\n",
       "      <td>87020.750000</td>\n",
       "      <td>110.000000</td>\n",
       "      <td>1600.00000</td>\n",
       "      <td>5.000000</td>\n",
       "      <td>5.000000</td>\n",
       "      <td>85.000000</td>\n",
       "      <td>1085.00000</td>\n",
       "    </tr>\n",
       "    <tr>\n",
       "      <th>max</th>\n",
       "      <td>32500.000000</td>\n",
       "      <td>80.000000</td>\n",
       "      <td>243000.000000</td>\n",
       "      <td>192.000000</td>\n",
       "      <td>16000.00000</td>\n",
       "      <td>5.000000</td>\n",
       "      <td>6.000000</td>\n",
       "      <td>283.000000</td>\n",
       "      <td>1615.00000</td>\n",
       "    </tr>\n",
       "  </tbody>\n",
       "</table>\n",
       "</div>"
      ],
      "text/plain": [
       "              Price     AgeMonth             KM           HP           CC  \\\n",
       "count   1436.000000  1436.000000    1436.000000  1436.000000   1436.00000   \n",
       "mean   10730.824513    55.947075   68533.259749   101.502089   1576.85585   \n",
       "std     3626.964585    18.599988   37506.448872    14.981080    424.38677   \n",
       "min     4350.000000     1.000000       1.000000    69.000000   1300.00000   \n",
       "25%     8450.000000    44.000000   43000.000000    90.000000   1400.00000   \n",
       "50%     9900.000000    61.000000   63389.500000   110.000000   1600.00000   \n",
       "75%    11950.000000    70.000000   87020.750000   110.000000   1600.00000   \n",
       "max    32500.000000    80.000000  243000.000000   192.000000  16000.00000   \n",
       "\n",
       "             Doors        Gears      QurtTax      Weight  \n",
       "count  1436.000000  1436.000000  1436.000000  1436.00000  \n",
       "mean      4.033426     5.026462    87.122563  1072.45961  \n",
       "std       0.952677     0.188510    41.128611    52.64112  \n",
       "min       2.000000     3.000000    19.000000  1000.00000  \n",
       "25%       3.000000     5.000000    69.000000  1040.00000  \n",
       "50%       4.000000     5.000000    85.000000  1070.00000  \n",
       "75%       5.000000     5.000000    85.000000  1085.00000  \n",
       "max       5.000000     6.000000   283.000000  1615.00000  "
      ]
     },
     "execution_count": 6,
     "metadata": {},
     "output_type": "execute_result"
    }
   ],
   "source": [
    "toyota.describe() # Checking the key statistics for each feature"
   ]
  },
  {
   "cell_type": "markdown",
   "metadata": {},
   "source": [
    "***Looking at above describe table we can see that 'Price','KM', 'QuartTax','Weight' have mean higher than median, which means the right skewness & 'AgeMonth', 'HP', 'CC', have mean lower than median showing left skewness, where as 'Doors','Gears' have equal mean and meadian indicating normal distribution.*** **<u>Let us use Boxplot to see if we have outliers</u>**  "
   ]
  },
  {
   "cell_type": "markdown",
   "metadata": {},
   "source": [
    "***Importing numpy to check no of unique values in a data set, This will help us find the range of values and repetion of values in a data set. if there are very few unique values in comparision to price then we can decide to drop the column under low varience filter step, as it does not explain the variation in the price***"
   ]
  },
  {
   "cell_type": "code",
   "execution_count": 13,
   "metadata": {
    "ExecuteTime": {
     "end_time": "2022-01-04T07:08:52.318208Z",
     "start_time": "2022-01-04T07:08:52.308235Z"
    }
   },
   "outputs": [
    {
     "name": "stdout",
     "output_type": "stream",
     "text": [
      "\n",
      "\u001b[1m\u001b[7m Price \u001b[0m\n",
      "\u001b[1mNo of unique values 236,\n",
      "10-Unique vals\n",
      " [4350 4400 4450 4750 5150 5250 5600 5740 5750 5751]\n",
      "\n",
      "\u001b[1m\u001b[7m AgeMonth \u001b[0m\n",
      "\u001b[1mNo of unique values 77,\n",
      "Unique vals\n",
      " [ 1  2  4  6  7  8  9 10 11 12 13 14 15 16 17 18 19 20 22 23 24 25 26 27\n",
      " 28 29 30 31 32 33 34 35 36 37 38 39 40 41 42 43 44 45 46 47 48 49 50 51\n",
      " 52 53 54 55 56 57 58 59 60 61 62 63 64 65 66 67 68 69 70 71 72 73 74 75\n",
      " 76 77 78 79 80]\n",
      "\n",
      "\u001b[1m\u001b[7m KM \u001b[0m\n",
      "\u001b[1mNo of unique values 1263,\n",
      "10-Unique vals\n",
      " [   1   15  225  450 1500 2000 3000 4000 5000 5278]\n"
     ]
    }
   ],
   "source": [
    "# Checking the unique values for each variable\n",
    "import numpy as np\n",
    "print(f'\\n\\033[1m\\033[7m Price \\033[0m\\n\\033[1mNo of unique values {len(np.unique(toyota.Price))},\\n10-Unique vals\\n', np.unique(toyota.Price)[:10])\n",
    "print(f'\\n\\033[1m\\033[7m AgeMonth \\033[0m\\n\\033[1mNo of unique values {len(np.unique(toyota.AgeMonth))},\\nUnique vals\\n', np.unique(toyota.AgeMonth))\n",
    "print(f'\\n\\033[1m\\033[7m KM \\033[0m\\n\\033[1mNo of unique values {len(np.unique(toyota.KM))},\\n10-Unique vals\\n', np.unique(toyota.KM)[:10])"
   ]
  },
  {
   "cell_type": "code",
   "execution_count": 16,
   "metadata": {
    "ExecuteTime": {
     "end_time": "2022-01-04T07:11:25.900564Z",
     "start_time": "2022-01-04T07:11:25.868945Z"
    }
   },
   "outputs": [
    {
     "name": "stdout",
     "output_type": "stream",
     "text": [
      "\n",
      "\u001b[1m\u001b[7m HP \u001b[0m\n",
      "\u001b[1mNo of unique values 12,\n",
      "Unique vals\n",
      " [ 69  71  72  73  86  90  97  98 107 110]\n",
      "\n",
      "\u001b[1m\u001b[7m CC \u001b[0m\n",
      "\u001b[1mNo of unique values 13,\n",
      "Unique vals\n",
      " [ 1300  1332  1398  1400  1587  1598  1600  1800  1900  1975  1995  2000\n",
      " 16000]\n",
      "\n",
      "\u001b[1m\u001b[7m Doors \u001b[0m\n",
      "\u001b[1mNo of unique values 4,\n",
      "Unique vals\n",
      " [2 3 4 5]\n",
      "\n",
      "\u001b[1m\u001b[7m Gears \u001b[0m\n",
      "\u001b[1mNo of unique values 4,\n",
      "Unique vals\n",
      " [3 4 5 6]\n",
      "\n",
      "\u001b[1m\u001b[7m Quarterly_Tax \u001b[0m\n",
      "\u001b[1mNo of unique values 13,\n",
      "Unique vals\n",
      " [ 19  40  64  69  72  85 100 163 185 197 210 234 283]\n",
      "\n",
      "\u001b[1m\u001b[7m Weight \u001b[0m\n",
      "\u001b[1mNo of unique values 59,\n",
      "Unique vals\n",
      " [1000 1010 1015 1020 1025 1030 1035 1040 1045 1050 1055 1060 1065 1067\n",
      " 1070 1075 1078 1079 1080 1083 1084 1085 1090 1094 1095 1100 1103 1105\n",
      " 1109 1110 1114 1115 1119 1120 1121 1125 1130 1135 1140 1150 1155 1160\n",
      " 1165 1170 1172 1180 1185 1195 1205 1245 1255 1260 1265 1270 1275 1280\n",
      " 1320 1480 1615]\n"
     ]
    }
   ],
   "source": [
    "print(f'\\n\\033[1m\\033[7m HP \\033[0m\\n\\033[1mNo of unique values {len(np.unique(toyota.HP))},\\nUnique vals\\n', np.unique(toyota.HP)[:10])\n",
    "print(f'\\n\\033[1m\\033[7m CC \\033[0m\\n\\033[1mNo of unique values {len(np.unique(toyota.CC))},\\nUnique vals\\n', np.unique(toyota.CC))\n",
    "print(f'\\n\\033[1m\\033[7m Doors \\033[0m\\n\\033[1mNo of unique values {len(np.unique(toyota.Doors))},\\nUnique vals\\n', np.unique(toyota.Doors))\n",
    "print(f'\\n\\033[1m\\033[7m Gears \\033[0m\\n\\033[1mNo of unique values {len(np.unique(toyota.Gears))},\\nUnique vals\\n', np.unique(toyota.Gears))\n",
    "print(f'\\n\\033[1m\\033[7m Quarterly_Tax \\033[0m\\n\\033[1mNo of unique values {len(np.unique(toyota.QurtTax))},\\nUnique vals\\n', np.unique(toyota.QurtTax))\n",
    "print(f'\\n\\033[1m\\033[7m Weight \\033[0m\\n\\033[1mNo of unique values {len(np.unique(toyota.Weight))},\\nUnique vals\\n', np.unique(toyota.Weight))"
   ]
  },
  {
   "cell_type": "markdown",
   "metadata": {},
   "source": [
    "***As we can see that CC dataset has a value, <u>16000</u> which is far away from the rest of the values may be this is a typo error. also Doors and Gears have very few values compared to price, meaning they don't explain any variation in the price. we shall look at the correlation. HP and Quarterly Tax have reasonable spread of values to draw inferances.*** \n",
    "\n",
    "***What we can do is Quarterly Tax, Doors, Gears, HP, CC can be marked as Categories rather than int values.***"
   ]
  },
  {
   "cell_type": "code",
   "execution_count": 17,
   "metadata": {
    "ExecuteTime": {
     "end_time": "2022-01-04T07:11:38.735049Z",
     "start_time": "2022-01-04T07:11:38.611950Z"
    }
   },
   "outputs": [
    {
     "name": "stdout",
     "output_type": "stream",
     "text": [
      "<class 'pandas.core.frame.DataFrame'>\n",
      "RangeIndex: 1436 entries, 0 to 1435\n",
      "Data columns (total 9 columns):\n",
      " #   Column    Non-Null Count  Dtype   \n",
      "---  ------    --------------  -----   \n",
      " 0   Price     1436 non-null   int64   \n",
      " 1   AgeMonth  1436 non-null   int64   \n",
      " 2   KM        1436 non-null   int64   \n",
      " 3   HP        1436 non-null   category\n",
      " 4   CC        1436 non-null   category\n",
      " 5   Doors     1436 non-null   category\n",
      " 6   Gears     1436 non-null   category\n",
      " 7   QurtTax   1436 non-null   category\n",
      " 8   Weight    1436 non-null   int64   \n",
      "dtypes: category(5), int64(4)\n",
      "memory usage: 54.1 KB\n"
     ]
    }
   ],
   "source": [
    "# Markeig categorical features as category datatype\n",
    "toyota = toyota.astype({'HP':'category','CC':'category','Doors':'category',\n",
    "                        'Gears':'category','QurtTax':'category'})\n",
    "toyota.info()"
   ]
  },
  {
   "cell_type": "code",
   "execution_count": 36,
   "metadata": {
    "ExecuteTime": {
     "end_time": "2022-01-04T07:30:59.623442Z",
     "start_time": "2022-01-04T07:30:58.458567Z"
    },
    "scrolled": false
   },
   "outputs": [
    {
     "data": {
      "image/png": "[encoded data removed]",
      "text/plain": [
       "<Figure size 800x300 with 1 Axes>"
      ]
     },
     "metadata": {},
     "output_type": "display_data"
    },
    {
     "data": {
      "image/png": "[encoded data removed]",
      "text/plain": [
       "<Figure size 800x300 with 1 Axes>"
      ]
     },
     "metadata": {},
     "output_type": "display_data"
    },
    {
     "data": {
      "image/png": "[encoded data removed]",
      "text/plain": [
       "<Figure size 800x300 with 1 Axes>"
      ]
     },
     "metadata": {},
     "output_type": "display_data"
    },
    {
     "data": {
      "image/png": "[encoded data removed]",
      "text/plain": [
       "<Figure size 800x300 with 1 Axes>"
      ]
     },
     "metadata": {},
     "output_type": "display_data"
    },
    {
     "data": {
      "image/png": "[encoded data removed]",
      "text/plain": [
       "<Figure size 800x300 with 1 Axes>"
      ]
     },
     "metadata": {},
     "output_type": "display_data"
    }
   ],
   "source": [
    "# Plotting features with categorical datatype\n",
    "import matplotlib.pyplot as plt\n",
    "\n",
    "# Categorical_features = [feature for feature in toyota.columns if toyota[feature].dtypes == 'object']\n",
    "Categorical_features = list(toyota.select_dtypes('category').columns)\n",
    "\n",
    "for feature in Categorical_features:\n",
    "    plt.figure(figsize = (8,3))\n",
    "    plt.hist(toyota[feature])\n",
    "    plt.title(feature, fontsize = 14)\n",
    "    plt.xlabel(feature)\n",
    "    plt.show()"
   ]
  },
  {
   "cell_type": "markdown",
   "metadata": {},
   "source": [
    "***As seen above Age, HP, Gears and Tax have outliers. We will check on these outliers and decide on how to treat them in later steps.***"
   ]
  },
  {
   "cell_type": "code",
   "execution_count": 35,
   "metadata": {
    "ExecuteTime": {
     "end_time": "2022-01-04T07:30:18.350030Z",
     "start_time": "2022-01-04T07:30:17.552224Z"
    }
   },
   "outputs": [
    {
     "data": {
      "image/png": "[encoded data removed]",
      "text/plain": [
       "<Figure size 1800x100 with 1 Axes>"
      ]
     },
     "metadata": {},
     "output_type": "display_data"
    },
    {
     "data": {
      "image/png": "[encoded data removed]",
      "text/plain": [
       "<Figure size 1800x100 with 1 Axes>"
      ]
     },
     "metadata": {},
     "output_type": "display_data"
    },
    {
     "data": {
      "image/png": "[encoded data removed]",
      "text/plain": [
       "<Figure size 1800x100 with 1 Axes>"
      ]
     },
     "metadata": {},
     "output_type": "display_data"
    },
    {
     "data": {
      "image/png": "[encoded data removed]",
      "text/plain": [
       "<Figure size 1800x100 with 1 Axes>"
      ]
     },
     "metadata": {},
     "output_type": "display_data"
    }
   ],
   "source": [
    "Numerical_features = list(toyota.select_dtypes('int64'))\n",
    "\n",
    "for feature in Numerical_features:\n",
    "    plt.figure(figsize = (18,1))\n",
    "    plt.boxplot(toyota[feature], vert = False)\n",
    "    plt.yticks([1],[feature])\n",
    "    plt.title(feature, fontsize = 14)\n",
    "    plt.show()"
   ]
  },
  {
   "cell_type": "markdown",
   "metadata": {},
   "source": [
    "***As seen above all the datasets have outliers. let us see how to treat the outliers.***"
   ]
  },
  {
   "cell_type": "code",
   "execution_count": 12,
   "metadata": {},
   "outputs": [
    {
     "data": {
      "text/html": [
       "<div>\n",
       "<style scoped>\n",
       "    .dataframe tbody tr th:only-of-type {\n",
       "        vertical-align: middle;\n",
       "    }\n",
       "\n",
       "    .dataframe tbody tr th {\n",
       "        vertical-align: top;\n",
       "    }\n",
       "\n",
       "    .dataframe thead th {\n",
       "        text-align: right;\n",
       "    }\n",
       "</style>\n",
       "<table border=\"1\" class=\"dataframe\">\n",
       "  <thead>\n",
       "    <tr style=\"text-align: right;\">\n",
       "      <th></th>\n",
       "      <th>Price</th>\n",
       "      <th>AgeMonth</th>\n",
       "      <th>KM</th>\n",
       "      <th>Weight</th>\n",
       "    </tr>\n",
       "  </thead>\n",
       "  <tbody>\n",
       "    <tr>\n",
       "      <th>Price</th>\n",
       "      <td>1.000000</td>\n",
       "      <td>-0.876590</td>\n",
       "      <td>-0.569960</td>\n",
       "      <td>0.581198</td>\n",
       "    </tr>\n",
       "    <tr>\n",
       "      <th>AgeMonth</th>\n",
       "      <td>-0.876590</td>\n",
       "      <td>1.000000</td>\n",
       "      <td>0.505672</td>\n",
       "      <td>-0.470253</td>\n",
       "    </tr>\n",
       "    <tr>\n",
       "      <th>KM</th>\n",
       "      <td>-0.569960</td>\n",
       "      <td>0.505672</td>\n",
       "      <td>1.000000</td>\n",
       "      <td>-0.028598</td>\n",
       "    </tr>\n",
       "    <tr>\n",
       "      <th>Weight</th>\n",
       "      <td>0.581198</td>\n",
       "      <td>-0.470253</td>\n",
       "      <td>-0.028598</td>\n",
       "      <td>1.000000</td>\n",
       "    </tr>\n",
       "  </tbody>\n",
       "</table>\n",
       "</div>"
      ],
      "text/plain": [
       "             Price  AgeMonth        KM    Weight\n",
       "Price     1.000000 -0.876590 -0.569960  0.581198\n",
       "AgeMonth -0.876590  1.000000  0.505672 -0.470253\n",
       "KM       -0.569960  0.505672  1.000000 -0.028598\n",
       "Weight    0.581198 -0.470253 -0.028598  1.000000"
      ]
     },
     "execution_count": 12,
     "metadata": {},
     "output_type": "execute_result"
    }
   ],
   "source": [
    "toyota.corr()"
   ]
  },
  {
   "cell_type": "code",
   "execution_count": 46,
   "metadata": {
    "ExecuteTime": {
     "end_time": "2022-01-04T07:38:27.059872Z",
     "start_time": "2022-01-04T07:38:24.936078Z"
    },
    "scrolled": false
   },
   "outputs": [
    {
     "data": {
      "image/png": "[encoded data removed]",
      "text/plain": [
       "<Figure size 576x216 with 1 Axes>"
      ]
     },
     "metadata": {
      "needs_background": "light"
     },
     "output_type": "display_data"
    },
    {
     "data": {
      "image/png": "[encoded data removed]",
      "text/plain": [
       "<Figure size 576x216 with 1 Axes>"
      ]
     },
     "metadata": {
      "needs_background": "light"
     },
     "output_type": "display_data"
    },
    {
     "data": {
      "image/png": "[encoded data removed]",
      "text/plain": [
       "<Figure size 576x216 with 1 Axes>"
      ]
     },
     "metadata": {
      "needs_background": "light"
     },
     "output_type": "display_data"
    },
    {
     "data": {
      "image/png": "[encoded data removed]",
      "text/plain": [
       "<Figure size 576x216 with 1 Axes>"
      ]
     },
     "metadata": {
      "needs_background": "light"
     },
     "output_type": "display_data"
    },
    {
     "data": {
      "image/png": "[encoded data removed]",
      "text/plain": [
       "<Figure size 576x216 with 1 Axes>"
      ]
     },
     "metadata": {
      "needs_background": "light"
     },
     "output_type": "display_data"
    },
    {
     "data": {
      "image/png": "[encoded data removed]",
      "text/plain": [
       "<Figure size 576x216 with 1 Axes>"
      ]
     },
     "metadata": {
      "needs_background": "light"
     },
     "output_type": "display_data"
    },
    {
     "data": {
      "image/png": "[encoded data removed]",
      "text/plain": [
       "<Figure size 576x216 with 1 Axes>"
      ]
     },
     "metadata": {
      "needs_background": "light"
     },
     "output_type": "display_data"
    },
    {
     "data": {
      "image/png": "[encoded data removed]",
      "text/plain": [
       "<Figure size 576x216 with 1 Axes>"
      ]
     },
     "metadata": {
      "needs_background": "light"
     },
     "output_type": "display_data"
    }
   ],
   "source": [
    "for feature in toyota.columns:\n",
    "    %matplotlib inline\n",
    "    if feature == 'Price':\n",
    "        pass\n",
    "    else:\n",
    "        plt.figure(figsize = (8,3))\n",
    "        plt.scatter(toyota[feature],toyota['Price'])\n",
    "        plt.title(feature, fontsize = 14)\n",
    "        plt.xlabel(feature)\n",
    "        plt.ylabel('Price')\n",
    "        plt.show()"
   ]
  },
  {
   "cell_type": "markdown",
   "metadata": {},
   "source": [
    "**Only agemonth shows a strong negative correlation with price, while KM shows a reasonable correlation but it is marred with heteroscedasticity. All other features don't show any correlation whatsoever."
   ]
  },
  {
   "cell_type": "markdown",
   "metadata": {},
   "source": [
    "### Prilimininary EDA"
   ]
  },
  {
   "cell_type": "code",
   "execution_count": 14,
   "metadata": {
    "scrolled": true
   },
   "outputs": [
    {
     "data": {
      "text/html": [
       "<div>\n",
       "<style scoped>\n",
       "    .dataframe tbody tr th:only-of-type {\n",
       "        vertical-align: middle;\n",
       "    }\n",
       "\n",
       "    .dataframe tbody tr th {\n",
       "        vertical-align: top;\n",
       "    }\n",
       "\n",
       "    .dataframe thead th {\n",
       "        text-align: right;\n",
       "    }\n",
       "</style>\n",
       "<table border=\"1\" class=\"dataframe\">\n",
       "  <thead>\n",
       "    <tr style=\"text-align: right;\">\n",
       "      <th></th>\n",
       "      <th>Price</th>\n",
       "      <th>AgeMonth</th>\n",
       "      <th>KM</th>\n",
       "      <th>HP</th>\n",
       "      <th>CC</th>\n",
       "      <th>Doors</th>\n",
       "      <th>QurtTax</th>\n",
       "      <th>Weight</th>\n",
       "    </tr>\n",
       "    <tr>\n",
       "      <th>Gears</th>\n",
       "      <th></th>\n",
       "      <th></th>\n",
       "      <th></th>\n",
       "      <th></th>\n",
       "      <th></th>\n",
       "      <th></th>\n",
       "      <th></th>\n",
       "      <th></th>\n",
       "    </tr>\n",
       "  </thead>\n",
       "  <tbody>\n",
       "    <tr>\n",
       "      <th>3</th>\n",
       "      <td>2</td>\n",
       "      <td>2</td>\n",
       "      <td>2</td>\n",
       "      <td>2</td>\n",
       "      <td>2</td>\n",
       "      <td>2</td>\n",
       "      <td>2</td>\n",
       "      <td>2</td>\n",
       "    </tr>\n",
       "    <tr>\n",
       "      <th>4</th>\n",
       "      <td>1</td>\n",
       "      <td>1</td>\n",
       "      <td>1</td>\n",
       "      <td>1</td>\n",
       "      <td>1</td>\n",
       "      <td>1</td>\n",
       "      <td>1</td>\n",
       "      <td>1</td>\n",
       "    </tr>\n",
       "    <tr>\n",
       "      <th>5</th>\n",
       "      <td>1390</td>\n",
       "      <td>1390</td>\n",
       "      <td>1390</td>\n",
       "      <td>1390</td>\n",
       "      <td>1390</td>\n",
       "      <td>1390</td>\n",
       "      <td>1390</td>\n",
       "      <td>1390</td>\n",
       "    </tr>\n",
       "    <tr>\n",
       "      <th>6</th>\n",
       "      <td>43</td>\n",
       "      <td>43</td>\n",
       "      <td>43</td>\n",
       "      <td>43</td>\n",
       "      <td>43</td>\n",
       "      <td>43</td>\n",
       "      <td>43</td>\n",
       "      <td>43</td>\n",
       "    </tr>\n",
       "  </tbody>\n",
       "</table>\n",
       "</div>"
      ],
      "text/plain": [
       "       Price  AgeMonth    KM    HP    CC  Doors  QurtTax  Weight\n",
       "Gears                                                           \n",
       "3          2         2     2     2     2      2        2       2\n",
       "4          1         1     1     1     1      1        1       1\n",
       "5       1390      1390  1390  1390  1390   1390     1390    1390\n",
       "6         43        43    43    43    43     43       43      43"
      ]
     },
     "execution_count": 14,
     "metadata": {},
     "output_type": "execute_result"
    }
   ],
   "source": [
    "toyota.groupby(['Gears']).count() ## gear has highest density at 5 gears. This does not actually explain variation in price.\n",
    "                                    ## it will be on of our last prefered feature for model building. \n",
    "                                    # we have rightly converted it into a category"
   ]
  },
  {
   "cell_type": "code",
   "execution_count": 15,
   "metadata": {},
   "outputs": [
    {
     "data": {
      "text/html": [
       "<div>\n",
       "<style scoped>\n",
       "    .dataframe tbody tr th:only-of-type {\n",
       "        vertical-align: middle;\n",
       "    }\n",
       "\n",
       "    .dataframe tbody tr th {\n",
       "        vertical-align: top;\n",
       "    }\n",
       "\n",
       "    .dataframe thead th {\n",
       "        text-align: right;\n",
       "    }\n",
       "</style>\n",
       "<table border=\"1\" class=\"dataframe\">\n",
       "  <thead>\n",
       "    <tr style=\"text-align: right;\">\n",
       "      <th></th>\n",
       "      <th>Price</th>\n",
       "      <th>AgeMonth</th>\n",
       "      <th>KM</th>\n",
       "      <th>HP</th>\n",
       "      <th>CC</th>\n",
       "      <th>Gears</th>\n",
       "      <th>QurtTax</th>\n",
       "      <th>Weight</th>\n",
       "    </tr>\n",
       "    <tr>\n",
       "      <th>Doors</th>\n",
       "      <th></th>\n",
       "      <th></th>\n",
       "      <th></th>\n",
       "      <th></th>\n",
       "      <th></th>\n",
       "      <th></th>\n",
       "      <th></th>\n",
       "      <th></th>\n",
       "    </tr>\n",
       "  </thead>\n",
       "  <tbody>\n",
       "    <tr>\n",
       "      <th>2</th>\n",
       "      <td>2</td>\n",
       "      <td>2</td>\n",
       "      <td>2</td>\n",
       "      <td>2</td>\n",
       "      <td>2</td>\n",
       "      <td>2</td>\n",
       "      <td>2</td>\n",
       "      <td>2</td>\n",
       "    </tr>\n",
       "    <tr>\n",
       "      <th>3</th>\n",
       "      <td>622</td>\n",
       "      <td>622</td>\n",
       "      <td>622</td>\n",
       "      <td>622</td>\n",
       "      <td>622</td>\n",
       "      <td>622</td>\n",
       "      <td>622</td>\n",
       "      <td>622</td>\n",
       "    </tr>\n",
       "    <tr>\n",
       "      <th>4</th>\n",
       "      <td>138</td>\n",
       "      <td>138</td>\n",
       "      <td>138</td>\n",
       "      <td>138</td>\n",
       "      <td>138</td>\n",
       "      <td>138</td>\n",
       "      <td>138</td>\n",
       "      <td>138</td>\n",
       "    </tr>\n",
       "    <tr>\n",
       "      <th>5</th>\n",
       "      <td>674</td>\n",
       "      <td>674</td>\n",
       "      <td>674</td>\n",
       "      <td>674</td>\n",
       "      <td>674</td>\n",
       "      <td>674</td>\n",
       "      <td>674</td>\n",
       "      <td>674</td>\n",
       "    </tr>\n",
       "  </tbody>\n",
       "</table>\n",
       "</div>"
      ],
      "text/plain": [
       "       Price  AgeMonth   KM   HP   CC  Gears  QurtTax  Weight\n",
       "Doors                                                        \n",
       "2          2         2    2    2    2      2        2       2\n",
       "3        622       622  622  622  622    622      622     622\n",
       "4        138       138  138  138  138    138      138     138\n",
       "5        674       674  674  674  674    674      674     674"
      ]
     },
     "execution_count": 15,
     "metadata": {},
     "output_type": "execute_result"
    }
   ],
   "source": [
    "toyota.groupby('Doors').count() # Doors data set is divided in two poles meaning there is two different data groups \n",
    "                                # having different influence on the price. but the variation in the doors is simply too \n",
    "                                # small to capture and explain the varience in price."
   ]
  },
  {
   "cell_type": "code",
   "execution_count": 16,
   "metadata": {},
   "outputs": [
    {
     "data": {
      "text/html": [
       "<div>\n",
       "<style scoped>\n",
       "    .dataframe tbody tr th:only-of-type {\n",
       "        vertical-align: middle;\n",
       "    }\n",
       "\n",
       "    .dataframe tbody tr th {\n",
       "        vertical-align: top;\n",
       "    }\n",
       "\n",
       "    .dataframe thead th {\n",
       "        text-align: right;\n",
       "    }\n",
       "</style>\n",
       "<table border=\"1\" class=\"dataframe\">\n",
       "  <thead>\n",
       "    <tr style=\"text-align: right;\">\n",
       "      <th></th>\n",
       "      <th>Price</th>\n",
       "      <th>AgeMonth</th>\n",
       "      <th>KM</th>\n",
       "      <th>HP</th>\n",
       "      <th>Doors</th>\n",
       "      <th>Gears</th>\n",
       "      <th>QurtTax</th>\n",
       "      <th>Weight</th>\n",
       "    </tr>\n",
       "    <tr>\n",
       "      <th>CC</th>\n",
       "      <th></th>\n",
       "      <th></th>\n",
       "      <th></th>\n",
       "      <th></th>\n",
       "      <th></th>\n",
       "      <th></th>\n",
       "      <th></th>\n",
       "      <th></th>\n",
       "    </tr>\n",
       "  </thead>\n",
       "  <tbody>\n",
       "    <tr>\n",
       "      <th>1300</th>\n",
       "      <td>248</td>\n",
       "      <td>248</td>\n",
       "      <td>248</td>\n",
       "      <td>248</td>\n",
       "      <td>248</td>\n",
       "      <td>248</td>\n",
       "      <td>248</td>\n",
       "      <td>248</td>\n",
       "    </tr>\n",
       "    <tr>\n",
       "      <th>1332</th>\n",
       "      <td>2</td>\n",
       "      <td>2</td>\n",
       "      <td>2</td>\n",
       "      <td>2</td>\n",
       "      <td>2</td>\n",
       "      <td>2</td>\n",
       "      <td>2</td>\n",
       "      <td>2</td>\n",
       "    </tr>\n",
       "    <tr>\n",
       "      <th>1398</th>\n",
       "      <td>2</td>\n",
       "      <td>2</td>\n",
       "      <td>2</td>\n",
       "      <td>2</td>\n",
       "      <td>2</td>\n",
       "      <td>2</td>\n",
       "      <td>2</td>\n",
       "      <td>2</td>\n",
       "    </tr>\n",
       "    <tr>\n",
       "      <th>1400</th>\n",
       "      <td>164</td>\n",
       "      <td>164</td>\n",
       "      <td>164</td>\n",
       "      <td>164</td>\n",
       "      <td>164</td>\n",
       "      <td>164</td>\n",
       "      <td>164</td>\n",
       "      <td>164</td>\n",
       "    </tr>\n",
       "    <tr>\n",
       "      <th>1587</th>\n",
       "      <td>4</td>\n",
       "      <td>4</td>\n",
       "      <td>4</td>\n",
       "      <td>4</td>\n",
       "      <td>4</td>\n",
       "      <td>4</td>\n",
       "      <td>4</td>\n",
       "      <td>4</td>\n",
       "    </tr>\n",
       "    <tr>\n",
       "      <th>1598</th>\n",
       "      <td>4</td>\n",
       "      <td>4</td>\n",
       "      <td>4</td>\n",
       "      <td>4</td>\n",
       "      <td>4</td>\n",
       "      <td>4</td>\n",
       "      <td>4</td>\n",
       "      <td>4</td>\n",
       "    </tr>\n",
       "    <tr>\n",
       "      <th>1600</th>\n",
       "      <td>845</td>\n",
       "      <td>845</td>\n",
       "      <td>845</td>\n",
       "      <td>845</td>\n",
       "      <td>845</td>\n",
       "      <td>845</td>\n",
       "      <td>845</td>\n",
       "      <td>845</td>\n",
       "    </tr>\n",
       "    <tr>\n",
       "      <th>1800</th>\n",
       "      <td>14</td>\n",
       "      <td>14</td>\n",
       "      <td>14</td>\n",
       "      <td>14</td>\n",
       "      <td>14</td>\n",
       "      <td>14</td>\n",
       "      <td>14</td>\n",
       "      <td>14</td>\n",
       "    </tr>\n",
       "    <tr>\n",
       "      <th>1900</th>\n",
       "      <td>30</td>\n",
       "      <td>30</td>\n",
       "      <td>30</td>\n",
       "      <td>30</td>\n",
       "      <td>30</td>\n",
       "      <td>30</td>\n",
       "      <td>30</td>\n",
       "      <td>30</td>\n",
       "    </tr>\n",
       "    <tr>\n",
       "      <th>1975</th>\n",
       "      <td>1</td>\n",
       "      <td>1</td>\n",
       "      <td>1</td>\n",
       "      <td>1</td>\n",
       "      <td>1</td>\n",
       "      <td>1</td>\n",
       "      <td>1</td>\n",
       "      <td>1</td>\n",
       "    </tr>\n",
       "    <tr>\n",
       "      <th>1995</th>\n",
       "      <td>2</td>\n",
       "      <td>2</td>\n",
       "      <td>2</td>\n",
       "      <td>2</td>\n",
       "      <td>2</td>\n",
       "      <td>2</td>\n",
       "      <td>2</td>\n",
       "      <td>2</td>\n",
       "    </tr>\n",
       "    <tr>\n",
       "      <th>2000</th>\n",
       "      <td>119</td>\n",
       "      <td>119</td>\n",
       "      <td>119</td>\n",
       "      <td>119</td>\n",
       "      <td>119</td>\n",
       "      <td>119</td>\n",
       "      <td>119</td>\n",
       "      <td>119</td>\n",
       "    </tr>\n",
       "    <tr>\n",
       "      <th>16000</th>\n",
       "      <td>1</td>\n",
       "      <td>1</td>\n",
       "      <td>1</td>\n",
       "      <td>1</td>\n",
       "      <td>1</td>\n",
       "      <td>1</td>\n",
       "      <td>1</td>\n",
       "      <td>1</td>\n",
       "    </tr>\n",
       "  </tbody>\n",
       "</table>\n",
       "</div>"
      ],
      "text/plain": [
       "       Price  AgeMonth   KM   HP  Doors  Gears  QurtTax  Weight\n",
       "CC                                                             \n",
       "1300     248       248  248  248    248    248      248     248\n",
       "1332       2         2    2    2      2      2        2       2\n",
       "1398       2         2    2    2      2      2        2       2\n",
       "1400     164       164  164  164    164    164      164     164\n",
       "1587       4         4    4    4      4      4        4       4\n",
       "1598       4         4    4    4      4      4        4       4\n",
       "1600     845       845  845  845    845    845      845     845\n",
       "1800      14        14   14   14     14     14       14      14\n",
       "1900      30        30   30   30     30     30       30      30\n",
       "1975       1         1    1    1      1      1        1       1\n",
       "1995       2         2    2    2      2      2        2       2\n",
       "2000     119       119  119  119    119    119      119     119\n",
       "16000      1         1    1    1      1      1        1       1"
      ]
     },
     "execution_count": 16,
     "metadata": {},
     "output_type": "execute_result"
    }
   ],
   "source": [
    "toyota.groupby('CC').count() # bulk od the data (more than 50%) is associated or representated by one value."
   ]
  },
  {
   "cell_type": "code",
   "execution_count": 17,
   "metadata": {},
   "outputs": [
    {
     "name": "stdout",
     "output_type": "stream",
     "text": [
      "    Price  AgeMonth     KM   HP     CC Doors Gears QurtTax  Weight\n",
      "80  18950        25  20019  110  16000     5     5     100    1180\n"
     ]
    }
   ],
   "source": [
    "print(toyota[toyota.CC > 2000])\n",
    "a = toyota[toyota.CC > 2000].index\n",
    "toyota.CC[a] = 1600"
   ]
  },
  {
   "cell_type": "code",
   "execution_count": 18,
   "metadata": {},
   "outputs": [
    {
     "data": {
      "text/html": [
       "<div>\n",
       "<style scoped>\n",
       "    .dataframe tbody tr th:only-of-type {\n",
       "        vertical-align: middle;\n",
       "    }\n",
       "\n",
       "    .dataframe tbody tr th {\n",
       "        vertical-align: top;\n",
       "    }\n",
       "\n",
       "    .dataframe thead th {\n",
       "        text-align: right;\n",
       "    }\n",
       "</style>\n",
       "<table border=\"1\" class=\"dataframe\">\n",
       "  <thead>\n",
       "    <tr style=\"text-align: right;\">\n",
       "      <th></th>\n",
       "      <th>Price</th>\n",
       "      <th>AgeMonth</th>\n",
       "      <th>KM</th>\n",
       "      <th>HP</th>\n",
       "      <th>CC</th>\n",
       "      <th>Doors</th>\n",
       "      <th>Gears</th>\n",
       "      <th>QurtTax</th>\n",
       "      <th>Weight</th>\n",
       "    </tr>\n",
       "  </thead>\n",
       "  <tbody>\n",
       "  </tbody>\n",
       "</table>\n",
       "</div>"
      ],
      "text/plain": [
       "Empty DataFrame\n",
       "Columns: [Price, AgeMonth, KM, HP, CC, Doors, Gears, QurtTax, Weight]\n",
       "Index: []"
      ]
     },
     "execution_count": 18,
     "metadata": {},
     "output_type": "execute_result"
    }
   ],
   "source": [
    "toyota[toyota.CC > 2000]"
   ]
  },
  {
   "cell_type": "code",
   "execution_count": 19,
   "metadata": {},
   "outputs": [
    {
     "data": {
      "text/html": [
       "<div>\n",
       "<style scoped>\n",
       "    .dataframe tbody tr th:only-of-type {\n",
       "        vertical-align: middle;\n",
       "    }\n",
       "\n",
       "    .dataframe tbody tr th {\n",
       "        vertical-align: top;\n",
       "    }\n",
       "\n",
       "    .dataframe thead th {\n",
       "        text-align: right;\n",
       "    }\n",
       "</style>\n",
       "<table border=\"1\" class=\"dataframe\">\n",
       "  <thead>\n",
       "    <tr style=\"text-align: right;\">\n",
       "      <th></th>\n",
       "      <th>Price</th>\n",
       "      <th>AgeMonth</th>\n",
       "      <th>KM</th>\n",
       "      <th>CC</th>\n",
       "      <th>Doors</th>\n",
       "      <th>Gears</th>\n",
       "      <th>QurtTax</th>\n",
       "      <th>Weight</th>\n",
       "    </tr>\n",
       "    <tr>\n",
       "      <th>HP</th>\n",
       "      <th></th>\n",
       "      <th></th>\n",
       "      <th></th>\n",
       "      <th></th>\n",
       "      <th></th>\n",
       "      <th></th>\n",
       "      <th></th>\n",
       "      <th></th>\n",
       "    </tr>\n",
       "  </thead>\n",
       "  <tbody>\n",
       "    <tr>\n",
       "      <th>69</th>\n",
       "      <td>34</td>\n",
       "      <td>34</td>\n",
       "      <td>34</td>\n",
       "      <td>34</td>\n",
       "      <td>34</td>\n",
       "      <td>34</td>\n",
       "      <td>34</td>\n",
       "      <td>34</td>\n",
       "    </tr>\n",
       "    <tr>\n",
       "      <th>71</th>\n",
       "      <td>1</td>\n",
       "      <td>1</td>\n",
       "      <td>1</td>\n",
       "      <td>1</td>\n",
       "      <td>1</td>\n",
       "      <td>1</td>\n",
       "      <td>1</td>\n",
       "      <td>1</td>\n",
       "    </tr>\n",
       "    <tr>\n",
       "      <th>72</th>\n",
       "      <td>73</td>\n",
       "      <td>73</td>\n",
       "      <td>73</td>\n",
       "      <td>73</td>\n",
       "      <td>73</td>\n",
       "      <td>73</td>\n",
       "      <td>73</td>\n",
       "      <td>73</td>\n",
       "    </tr>\n",
       "    <tr>\n",
       "      <th>73</th>\n",
       "      <td>1</td>\n",
       "      <td>1</td>\n",
       "      <td>1</td>\n",
       "      <td>1</td>\n",
       "      <td>1</td>\n",
       "      <td>1</td>\n",
       "      <td>1</td>\n",
       "      <td>1</td>\n",
       "    </tr>\n",
       "    <tr>\n",
       "      <th>86</th>\n",
       "      <td>249</td>\n",
       "      <td>249</td>\n",
       "      <td>249</td>\n",
       "      <td>249</td>\n",
       "      <td>249</td>\n",
       "      <td>249</td>\n",
       "      <td>249</td>\n",
       "      <td>249</td>\n",
       "    </tr>\n",
       "    <tr>\n",
       "      <th>90</th>\n",
       "      <td>36</td>\n",
       "      <td>36</td>\n",
       "      <td>36</td>\n",
       "      <td>36</td>\n",
       "      <td>36</td>\n",
       "      <td>36</td>\n",
       "      <td>36</td>\n",
       "      <td>36</td>\n",
       "    </tr>\n",
       "    <tr>\n",
       "      <th>97</th>\n",
       "      <td>164</td>\n",
       "      <td>164</td>\n",
       "      <td>164</td>\n",
       "      <td>164</td>\n",
       "      <td>164</td>\n",
       "      <td>164</td>\n",
       "      <td>164</td>\n",
       "      <td>164</td>\n",
       "    </tr>\n",
       "    <tr>\n",
       "      <th>98</th>\n",
       "      <td>2</td>\n",
       "      <td>2</td>\n",
       "      <td>2</td>\n",
       "      <td>2</td>\n",
       "      <td>2</td>\n",
       "      <td>2</td>\n",
       "      <td>2</td>\n",
       "      <td>2</td>\n",
       "    </tr>\n",
       "    <tr>\n",
       "      <th>107</th>\n",
       "      <td>21</td>\n",
       "      <td>21</td>\n",
       "      <td>21</td>\n",
       "      <td>21</td>\n",
       "      <td>21</td>\n",
       "      <td>21</td>\n",
       "      <td>21</td>\n",
       "      <td>21</td>\n",
       "    </tr>\n",
       "    <tr>\n",
       "      <th>110</th>\n",
       "      <td>835</td>\n",
       "      <td>835</td>\n",
       "      <td>835</td>\n",
       "      <td>835</td>\n",
       "      <td>835</td>\n",
       "      <td>835</td>\n",
       "      <td>835</td>\n",
       "      <td>835</td>\n",
       "    </tr>\n",
       "    <tr>\n",
       "      <th>116</th>\n",
       "      <td>9</td>\n",
       "      <td>9</td>\n",
       "      <td>9</td>\n",
       "      <td>9</td>\n",
       "      <td>9</td>\n",
       "      <td>9</td>\n",
       "      <td>9</td>\n",
       "      <td>9</td>\n",
       "    </tr>\n",
       "    <tr>\n",
       "      <th>192</th>\n",
       "      <td>11</td>\n",
       "      <td>11</td>\n",
       "      <td>11</td>\n",
       "      <td>11</td>\n",
       "      <td>11</td>\n",
       "      <td>11</td>\n",
       "      <td>11</td>\n",
       "      <td>11</td>\n",
       "    </tr>\n",
       "  </tbody>\n",
       "</table>\n",
       "</div>"
      ],
      "text/plain": [
       "     Price  AgeMonth   KM   CC  Doors  Gears  QurtTax  Weight\n",
       "HP                                                           \n",
       "69      34        34   34   34     34     34       34      34\n",
       "71       1         1    1    1      1      1        1       1\n",
       "72      73        73   73   73     73     73       73      73\n",
       "73       1         1    1    1      1      1        1       1\n",
       "86     249       249  249  249    249    249      249     249\n",
       "90      36        36   36   36     36     36       36      36\n",
       "97     164       164  164  164    164    164      164     164\n",
       "98       2         2    2    2      2      2        2       2\n",
       "107     21        21   21   21     21     21       21      21\n",
       "110    835       835  835  835    835    835      835     835\n",
       "116      9         9    9    9      9      9        9       9\n",
       "192     11        11   11   11     11     11       11      11"
      ]
     },
     "execution_count": 19,
     "metadata": {},
     "output_type": "execute_result"
    }
   ],
   "source": [
    "toyota.groupby('HP').count() \n",
    "# Again bulk of data is represented by one value. let us hold on with HP for some time."
   ]
  },
  {
   "cell_type": "code",
   "execution_count": 20,
   "metadata": {},
   "outputs": [],
   "source": [
    "# toyota1 = toyota.copy(deep=True)\n",
    "# toyota1.drop(['Doors','Gears','CC'], axis = 1,inplace=True)\n",
    "# toyota1.head()"
   ]
  },
  {
   "cell_type": "code",
   "execution_count": 22,
   "metadata": {},
   "outputs": [
    {
     "data": {
      "text/html": [
       "<div>\n",
       "<style scoped>\n",
       "    .dataframe tbody tr th:only-of-type {\n",
       "        vertical-align: middle;\n",
       "    }\n",
       "\n",
       "    .dataframe tbody tr th {\n",
       "        vertical-align: top;\n",
       "    }\n",
       "\n",
       "    .dataframe thead th {\n",
       "        text-align: right;\n",
       "    }\n",
       "</style>\n",
       "<table border=\"1\" class=\"dataframe\">\n",
       "  <thead>\n",
       "    <tr style=\"text-align: right;\">\n",
       "      <th></th>\n",
       "      <th>Price</th>\n",
       "      <th>AgeMonth</th>\n",
       "      <th>KM</th>\n",
       "      <th>HP</th>\n",
       "      <th>CC</th>\n",
       "      <th>Doors</th>\n",
       "      <th>Gears</th>\n",
       "      <th>Weight</th>\n",
       "    </tr>\n",
       "    <tr>\n",
       "      <th>QurtTax</th>\n",
       "      <th></th>\n",
       "      <th></th>\n",
       "      <th></th>\n",
       "      <th></th>\n",
       "      <th></th>\n",
       "      <th></th>\n",
       "      <th></th>\n",
       "      <th></th>\n",
       "    </tr>\n",
       "  </thead>\n",
       "  <tbody>\n",
       "    <tr>\n",
       "      <th>19</th>\n",
       "      <td>72</td>\n",
       "      <td>72</td>\n",
       "      <td>72</td>\n",
       "      <td>72</td>\n",
       "      <td>72</td>\n",
       "      <td>72</td>\n",
       "      <td>72</td>\n",
       "      <td>72</td>\n",
       "    </tr>\n",
       "    <tr>\n",
       "      <th>40</th>\n",
       "      <td>1</td>\n",
       "      <td>1</td>\n",
       "      <td>1</td>\n",
       "      <td>1</td>\n",
       "      <td>1</td>\n",
       "      <td>1</td>\n",
       "      <td>1</td>\n",
       "      <td>1</td>\n",
       "    </tr>\n",
       "    <tr>\n",
       "      <th>64</th>\n",
       "      <td>18</td>\n",
       "      <td>18</td>\n",
       "      <td>18</td>\n",
       "      <td>18</td>\n",
       "      <td>18</td>\n",
       "      <td>18</td>\n",
       "      <td>18</td>\n",
       "      <td>18</td>\n",
       "    </tr>\n",
       "    <tr>\n",
       "      <th>69</th>\n",
       "      <td>559</td>\n",
       "      <td>559</td>\n",
       "      <td>559</td>\n",
       "      <td>559</td>\n",
       "      <td>559</td>\n",
       "      <td>559</td>\n",
       "      <td>559</td>\n",
       "      <td>559</td>\n",
       "    </tr>\n",
       "    <tr>\n",
       "      <th>72</th>\n",
       "      <td>3</td>\n",
       "      <td>3</td>\n",
       "      <td>3</td>\n",
       "      <td>3</td>\n",
       "      <td>3</td>\n",
       "      <td>3</td>\n",
       "      <td>3</td>\n",
       "      <td>3</td>\n",
       "    </tr>\n",
       "    <tr>\n",
       "      <th>85</th>\n",
       "      <td>613</td>\n",
       "      <td>613</td>\n",
       "      <td>613</td>\n",
       "      <td>613</td>\n",
       "      <td>613</td>\n",
       "      <td>613</td>\n",
       "      <td>613</td>\n",
       "      <td>613</td>\n",
       "    </tr>\n",
       "    <tr>\n",
       "      <th>100</th>\n",
       "      <td>19</td>\n",
       "      <td>19</td>\n",
       "      <td>19</td>\n",
       "      <td>19</td>\n",
       "      <td>19</td>\n",
       "      <td>19</td>\n",
       "      <td>19</td>\n",
       "      <td>19</td>\n",
       "    </tr>\n",
       "    <tr>\n",
       "      <th>163</th>\n",
       "      <td>1</td>\n",
       "      <td>1</td>\n",
       "      <td>1</td>\n",
       "      <td>1</td>\n",
       "      <td>1</td>\n",
       "      <td>1</td>\n",
       "      <td>1</td>\n",
       "      <td>1</td>\n",
       "    </tr>\n",
       "    <tr>\n",
       "      <th>185</th>\n",
       "      <td>96</td>\n",
       "      <td>96</td>\n",
       "      <td>96</td>\n",
       "      <td>96</td>\n",
       "      <td>96</td>\n",
       "      <td>96</td>\n",
       "      <td>96</td>\n",
       "      <td>96</td>\n",
       "    </tr>\n",
       "    <tr>\n",
       "      <th>197</th>\n",
       "      <td>14</td>\n",
       "      <td>14</td>\n",
       "      <td>14</td>\n",
       "      <td>14</td>\n",
       "      <td>14</td>\n",
       "      <td>14</td>\n",
       "      <td>14</td>\n",
       "      <td>14</td>\n",
       "    </tr>\n",
       "    <tr>\n",
       "      <th>210</th>\n",
       "      <td>18</td>\n",
       "      <td>18</td>\n",
       "      <td>18</td>\n",
       "      <td>18</td>\n",
       "      <td>18</td>\n",
       "      <td>18</td>\n",
       "      <td>18</td>\n",
       "      <td>18</td>\n",
       "    </tr>\n",
       "    <tr>\n",
       "      <th>234</th>\n",
       "      <td>19</td>\n",
       "      <td>19</td>\n",
       "      <td>19</td>\n",
       "      <td>19</td>\n",
       "      <td>19</td>\n",
       "      <td>19</td>\n",
       "      <td>19</td>\n",
       "      <td>19</td>\n",
       "    </tr>\n",
       "    <tr>\n",
       "      <th>283</th>\n",
       "      <td>3</td>\n",
       "      <td>3</td>\n",
       "      <td>3</td>\n",
       "      <td>3</td>\n",
       "      <td>3</td>\n",
       "      <td>3</td>\n",
       "      <td>3</td>\n",
       "      <td>3</td>\n",
       "    </tr>\n",
       "  </tbody>\n",
       "</table>\n",
       "</div>"
      ],
      "text/plain": [
       "         Price  AgeMonth   KM   HP   CC  Doors  Gears  Weight\n",
       "QurtTax                                                      \n",
       "19          72        72   72   72   72     72     72      72\n",
       "40           1         1    1    1    1      1      1       1\n",
       "64          18        18   18   18   18     18     18      18\n",
       "69         559       559  559  559  559    559    559     559\n",
       "72           3         3    3    3    3      3      3       3\n",
       "85         613       613  613  613  613    613    613     613\n",
       "100         19        19   19   19   19     19     19      19\n",
       "163          1         1    1    1    1      1      1       1\n",
       "185         96        96   96   96   96     96     96      96\n",
       "197         14        14   14   14   14     14     14      14\n",
       "210         18        18   18   18   18     18     18      18\n",
       "234         19        19   19   19   19     19     19      19\n",
       "283          3         3    3    3    3      3      3       3"
      ]
     },
     "execution_count": 22,
     "metadata": {},
     "output_type": "execute_result"
    }
   ],
   "source": [
    "toyota.groupby('QurtTax').count()"
   ]
  },
  {
   "cell_type": "markdown",
   "metadata": {},
   "source": [
    "### Treating the outliers\n",
    "    HP :- HP has one value which is far away from the rest of the value. on search on the internet there seem to be a car with 192 HP. However, on close look at the Density plot we can say that 192 value is dragging the mean to its right. Further there no values in between 120 and 190. Hence, let us impute them with most frequent value, asl linear models are prone to outliers. \n",
    "    \n",
    "    Weight :- Even Weight shows few outliers but most of them are feasible weights of the cars. But weight of the cars also shows that mejority of the cars Weight is below 1200 and very few hevy cars are dragging the mean away from the group. we shall drop them from the dataset for model building as we have large data set for model building.    "
   ]
  },
  {
   "cell_type": "markdown",
   "metadata": {},
   "source": [
    "#### Price Dataset\n",
    "    As linear models are prone to outliers we shall drop the outlier of the price dataset too. we can see that data is hightly skewed to the right and hevy tails on both sides"
   ]
  },
  {
   "cell_type": "code",
   "execution_count": 23,
   "metadata": {},
   "outputs": [
    {
     "name": "stdout",
     "output_type": "stream",
     "text": [
      "[21500, 21500, 21500, 21750, 21750, 21950, 21950, 21950, 21950, 21950, 21950, 22000, 22250, 22250, 22250, 22500, 22500, 22750, 22950, 23000, 23750, 23950, 24500, 24950, 24950, 24990, 31000, 31275, 32500]\n"
     ]
    }
   ],
   "source": [
    "def detect_outliers(data):\n",
    "    outlier = []\n",
    "    threshold = 2.9\n",
    "    mean = np.mean(data)\n",
    "    std = np.std(data)\n",
    "    \n",
    "    for i in data:\n",
    "        z = (i - mean)/std\n",
    "        if np.abs(z) > threshold:\n",
    "            outlier.append(i)\n",
    "    return outlier\n",
    "\n",
    "age_outliers = detect_outliers(toyota.Price)\n",
    "print(sorted(age_outliers))\n",
    "\n",
    "\n",
    "# plt.figure(figsize = (20,3))\n",
    "# plt.boxplot(toyota1.AgeMonth,vert = False)\n",
    "# plt.show()"
   ]
  },
  {
   "cell_type": "code",
   "execution_count": 25,
   "metadata": {},
   "outputs": [
    {
     "name": "stdout",
     "output_type": "stream",
     "text": [
      "[17250, 17450, 17450, 17450, 17495, 17650, 17795, 17795, 17900, 17950, 17950, 17950, 17950, 17950, 17950, 17950, 17950, 17950, 17950, 17950, 18245, 18245, 18450, 18450, 18450, 18500, 18500, 18500, 18500, 18600, 18700, 18750, 18750, 18750, 18800, 18900, 18900, 18950, 18950, 18950, 18950, 18950, 18950, 18950, 18950, 18950, 18950, 18950, 18990, 19000, 19250, 19450, 19450, 19500, 19500, 19500, 19500, 19600, 19600, 19750, 19750, 19900, 19950, 19950, 19950, 19950, 19950, 19950, 19950, 19950, 19950, 19950, 19950, 20500, 20500, 20500, 20750, 20950, 20950, 20950, 21125, 21500, 21500, 21500, 21750, 21750, 21950, 21950, 21950, 21950, 21950, 21950, 22000, 22250, 22250, 22250, 22500, 22500, 22750, 22950, 23000, 23750, 23950, 24500, 24950, 24950, 24990, 31000, 31275, 32500]\n"
     ]
    }
   ],
   "source": [
    "quantile1,quantile3 = np.percentile(toyota.Price, [25,75])\n",
    "iqr = quantile3 - quantile1\n",
    "lowerBound = quantile1 - (1.5*iqr)\n",
    "upperBound = quantile3 + (1.5*iqr)\n",
    "# print(lowerBound, upperBound)\n",
    "outlier = []\n",
    "for i in toyota.Price:\n",
    "    if i < lowerBound:\n",
    "        outlier.apend(i)\n",
    "    elif i > upperBound:\n",
    "        outlier.append(i)\n",
    "\n",
    "print(sorted(outlier))"
   ]
  },
  {
   "cell_type": "code",
   "execution_count": 26,
   "metadata": {},
   "outputs": [
    {
     "data": {
      "text/plain": [
       "<AxesSubplot:ylabel='Density'>"
      ]
     },
     "execution_count": 26,
     "metadata": {},
     "output_type": "execute_result"
    },
    {
     "data": {
      "image/png": "[encoded data removed]",
      "text/plain": [
       "<Figure size 432x288 with 1 Axes>"
      ]
     },
     "metadata": {
      "needs_background": "light"
     },
     "output_type": "display_data"
    }
   ],
   "source": [
    "toyota.Price.plot.kde()"
   ]
  },
  {
   "cell_type": "code",
   "execution_count": 27,
   "metadata": {},
   "outputs": [
    {
     "data": {
      "text/html": [
       "<div>\n",
       "<style scoped>\n",
       "    .dataframe tbody tr th:only-of-type {\n",
       "        vertical-align: middle;\n",
       "    }\n",
       "\n",
       "    .dataframe tbody tr th {\n",
       "        vertical-align: top;\n",
       "    }\n",
       "\n",
       "    .dataframe thead th {\n",
       "        text-align: right;\n",
       "    }\n",
       "</style>\n",
       "<table border=\"1\" class=\"dataframe\">\n",
       "  <thead>\n",
       "    <tr style=\"text-align: right;\">\n",
       "      <th></th>\n",
       "      <th>Price</th>\n",
       "      <th>AgeMonth</th>\n",
       "      <th>KM</th>\n",
       "      <th>HP</th>\n",
       "      <th>CC</th>\n",
       "      <th>Doors</th>\n",
       "      <th>Gears</th>\n",
       "      <th>QurtTax</th>\n",
       "      <th>Weight</th>\n",
       "    </tr>\n",
       "  </thead>\n",
       "  <tbody>\n",
       "    <tr>\n",
       "      <th>8</th>\n",
       "      <td>21500</td>\n",
       "      <td>27</td>\n",
       "      <td>19700</td>\n",
       "      <td>192</td>\n",
       "      <td>1800</td>\n",
       "      <td>3</td>\n",
       "      <td>5</td>\n",
       "      <td>100</td>\n",
       "      <td>1185</td>\n",
       "    </tr>\n",
       "    <tr>\n",
       "      <th>13</th>\n",
       "      <td>21500</td>\n",
       "      <td>31</td>\n",
       "      <td>23000</td>\n",
       "      <td>192</td>\n",
       "      <td>1800</td>\n",
       "      <td>3</td>\n",
       "      <td>6</td>\n",
       "      <td>100</td>\n",
       "      <td>1185</td>\n",
       "    </tr>\n",
       "    <tr>\n",
       "      <th>14</th>\n",
       "      <td>22500</td>\n",
       "      <td>32</td>\n",
       "      <td>34131</td>\n",
       "      <td>192</td>\n",
       "      <td>1800</td>\n",
       "      <td>3</td>\n",
       "      <td>6</td>\n",
       "      <td>100</td>\n",
       "      <td>1185</td>\n",
       "    </tr>\n",
       "    <tr>\n",
       "      <th>15</th>\n",
       "      <td>22000</td>\n",
       "      <td>28</td>\n",
       "      <td>18739</td>\n",
       "      <td>192</td>\n",
       "      <td>1800</td>\n",
       "      <td>3</td>\n",
       "      <td>6</td>\n",
       "      <td>100</td>\n",
       "      <td>1185</td>\n",
       "    </tr>\n",
       "    <tr>\n",
       "      <th>16</th>\n",
       "      <td>22750</td>\n",
       "      <td>30</td>\n",
       "      <td>34000</td>\n",
       "      <td>192</td>\n",
       "      <td>1800</td>\n",
       "      <td>3</td>\n",
       "      <td>5</td>\n",
       "      <td>100</td>\n",
       "      <td>1185</td>\n",
       "    </tr>\n",
       "    <tr>\n",
       "      <th>49</th>\n",
       "      <td>21950</td>\n",
       "      <td>31</td>\n",
       "      <td>64982</td>\n",
       "      <td>192</td>\n",
       "      <td>1800</td>\n",
       "      <td>5</td>\n",
       "      <td>6</td>\n",
       "      <td>100</td>\n",
       "      <td>1195</td>\n",
       "    </tr>\n",
       "    <tr>\n",
       "      <th>53</th>\n",
       "      <td>21950</td>\n",
       "      <td>27</td>\n",
       "      <td>49866</td>\n",
       "      <td>192</td>\n",
       "      <td>1800</td>\n",
       "      <td>5</td>\n",
       "      <td>5</td>\n",
       "      <td>100</td>\n",
       "      <td>1195</td>\n",
       "    </tr>\n",
       "    <tr>\n",
       "      <th>68</th>\n",
       "      <td>22250</td>\n",
       "      <td>22</td>\n",
       "      <td>30000</td>\n",
       "      <td>110</td>\n",
       "      <td>2000</td>\n",
       "      <td>5</td>\n",
       "      <td>5</td>\n",
       "      <td>234</td>\n",
       "      <td>1275</td>\n",
       "    </tr>\n",
       "    <tr>\n",
       "      <th>89</th>\n",
       "      <td>21950</td>\n",
       "      <td>19</td>\n",
       "      <td>50005</td>\n",
       "      <td>110</td>\n",
       "      <td>2000</td>\n",
       "      <td>3</td>\n",
       "      <td>5</td>\n",
       "      <td>234</td>\n",
       "      <td>1265</td>\n",
       "    </tr>\n",
       "    <tr>\n",
       "      <th>91</th>\n",
       "      <td>22250</td>\n",
       "      <td>20</td>\n",
       "      <td>37500</td>\n",
       "      <td>90</td>\n",
       "      <td>2000</td>\n",
       "      <td>3</td>\n",
       "      <td>5</td>\n",
       "      <td>234</td>\n",
       "      <td>1260</td>\n",
       "    </tr>\n",
       "    <tr>\n",
       "      <th>109</th>\n",
       "      <td>32500</td>\n",
       "      <td>4</td>\n",
       "      <td>1</td>\n",
       "      <td>116</td>\n",
       "      <td>2000</td>\n",
       "      <td>5</td>\n",
       "      <td>5</td>\n",
       "      <td>283</td>\n",
       "      <td>1480</td>\n",
       "    </tr>\n",
       "    <tr>\n",
       "      <th>110</th>\n",
       "      <td>31000</td>\n",
       "      <td>4</td>\n",
       "      <td>4000</td>\n",
       "      <td>116</td>\n",
       "      <td>2000</td>\n",
       "      <td>5</td>\n",
       "      <td>5</td>\n",
       "      <td>283</td>\n",
       "      <td>1480</td>\n",
       "    </tr>\n",
       "    <tr>\n",
       "      <th>111</th>\n",
       "      <td>31275</td>\n",
       "      <td>4</td>\n",
       "      <td>1500</td>\n",
       "      <td>116</td>\n",
       "      <td>2000</td>\n",
       "      <td>5</td>\n",
       "      <td>5</td>\n",
       "      <td>283</td>\n",
       "      <td>1480</td>\n",
       "    </tr>\n",
       "    <tr>\n",
       "      <th>112</th>\n",
       "      <td>24950</td>\n",
       "      <td>8</td>\n",
       "      <td>13253</td>\n",
       "      <td>116</td>\n",
       "      <td>2000</td>\n",
       "      <td>5</td>\n",
       "      <td>5</td>\n",
       "      <td>234</td>\n",
       "      <td>1320</td>\n",
       "    </tr>\n",
       "    <tr>\n",
       "      <th>113</th>\n",
       "      <td>24950</td>\n",
       "      <td>8</td>\n",
       "      <td>13253</td>\n",
       "      <td>116</td>\n",
       "      <td>2000</td>\n",
       "      <td>5</td>\n",
       "      <td>5</td>\n",
       "      <td>234</td>\n",
       "      <td>1320</td>\n",
       "    </tr>\n",
       "    <tr>\n",
       "      <th>114</th>\n",
       "      <td>22950</td>\n",
       "      <td>7</td>\n",
       "      <td>10000</td>\n",
       "      <td>116</td>\n",
       "      <td>2000</td>\n",
       "      <td>5</td>\n",
       "      <td>5</td>\n",
       "      <td>234</td>\n",
       "      <td>1270</td>\n",
       "    </tr>\n",
       "    <tr>\n",
       "      <th>115</th>\n",
       "      <td>24990</td>\n",
       "      <td>8</td>\n",
       "      <td>6000</td>\n",
       "      <td>90</td>\n",
       "      <td>2000</td>\n",
       "      <td>5</td>\n",
       "      <td>5</td>\n",
       "      <td>234</td>\n",
       "      <td>1280</td>\n",
       "    </tr>\n",
       "    <tr>\n",
       "      <th>116</th>\n",
       "      <td>21950</td>\n",
       "      <td>8</td>\n",
       "      <td>10841</td>\n",
       "      <td>90</td>\n",
       "      <td>2000</td>\n",
       "      <td>5</td>\n",
       "      <td>5</td>\n",
       "      <td>234</td>\n",
       "      <td>1270</td>\n",
       "    </tr>\n",
       "    <tr>\n",
       "      <th>119</th>\n",
       "      <td>22250</td>\n",
       "      <td>17</td>\n",
       "      <td>57313</td>\n",
       "      <td>110</td>\n",
       "      <td>2000</td>\n",
       "      <td>5</td>\n",
       "      <td>5</td>\n",
       "      <td>234</td>\n",
       "      <td>1275</td>\n",
       "    </tr>\n",
       "    <tr>\n",
       "      <th>125</th>\n",
       "      <td>21750</td>\n",
       "      <td>16</td>\n",
       "      <td>36000</td>\n",
       "      <td>110</td>\n",
       "      <td>1600</td>\n",
       "      <td>5</td>\n",
       "      <td>5</td>\n",
       "      <td>85</td>\n",
       "      <td>1130</td>\n",
       "    </tr>\n",
       "    <tr>\n",
       "      <th>138</th>\n",
       "      <td>23000</td>\n",
       "      <td>11</td>\n",
       "      <td>25000</td>\n",
       "      <td>116</td>\n",
       "      <td>2000</td>\n",
       "      <td>5</td>\n",
       "      <td>5</td>\n",
       "      <td>64</td>\n",
       "      <td>1320</td>\n",
       "    </tr>\n",
       "    <tr>\n",
       "      <th>141</th>\n",
       "      <td>23950</td>\n",
       "      <td>19</td>\n",
       "      <td>21684</td>\n",
       "      <td>192</td>\n",
       "      <td>1800</td>\n",
       "      <td>5</td>\n",
       "      <td>5</td>\n",
       "      <td>19</td>\n",
       "      <td>1185</td>\n",
       "    </tr>\n",
       "    <tr>\n",
       "      <th>147</th>\n",
       "      <td>24500</td>\n",
       "      <td>13</td>\n",
       "      <td>19988</td>\n",
       "      <td>110</td>\n",
       "      <td>1600</td>\n",
       "      <td>5</td>\n",
       "      <td>5</td>\n",
       "      <td>85</td>\n",
       "      <td>1130</td>\n",
       "    </tr>\n",
       "    <tr>\n",
       "      <th>154</th>\n",
       "      <td>21750</td>\n",
       "      <td>13</td>\n",
       "      <td>13178</td>\n",
       "      <td>110</td>\n",
       "      <td>1600</td>\n",
       "      <td>5</td>\n",
       "      <td>5</td>\n",
       "      <td>85</td>\n",
       "      <td>1130</td>\n",
       "    </tr>\n",
       "    <tr>\n",
       "      <th>171</th>\n",
       "      <td>23750</td>\n",
       "      <td>8</td>\n",
       "      <td>11000</td>\n",
       "      <td>110</td>\n",
       "      <td>1600</td>\n",
       "      <td>5</td>\n",
       "      <td>5</td>\n",
       "      <td>85</td>\n",
       "      <td>1130</td>\n",
       "    </tr>\n",
       "    <tr>\n",
       "      <th>174</th>\n",
       "      <td>21950</td>\n",
       "      <td>8</td>\n",
       "      <td>9788</td>\n",
       "      <td>110</td>\n",
       "      <td>1600</td>\n",
       "      <td>5</td>\n",
       "      <td>5</td>\n",
       "      <td>85</td>\n",
       "      <td>1130</td>\n",
       "    </tr>\n",
       "    <tr>\n",
       "      <th>178</th>\n",
       "      <td>21950</td>\n",
       "      <td>8</td>\n",
       "      <td>5000</td>\n",
       "      <td>110</td>\n",
       "      <td>1600</td>\n",
       "      <td>5</td>\n",
       "      <td>5</td>\n",
       "      <td>85</td>\n",
       "      <td>1130</td>\n",
       "    </tr>\n",
       "    <tr>\n",
       "      <th>179</th>\n",
       "      <td>22500</td>\n",
       "      <td>6</td>\n",
       "      <td>3000</td>\n",
       "      <td>110</td>\n",
       "      <td>1600</td>\n",
       "      <td>5</td>\n",
       "      <td>5</td>\n",
       "      <td>85</td>\n",
       "      <td>1130</td>\n",
       "    </tr>\n",
       "    <tr>\n",
       "      <th>183</th>\n",
       "      <td>21500</td>\n",
       "      <td>2</td>\n",
       "      <td>15</td>\n",
       "      <td>110</td>\n",
       "      <td>1600</td>\n",
       "      <td>5</td>\n",
       "      <td>5</td>\n",
       "      <td>85</td>\n",
       "      <td>1130</td>\n",
       "    </tr>\n",
       "  </tbody>\n",
       "</table>\n",
       "</div>"
      ],
      "text/plain": [
       "     Price  AgeMonth     KM   HP    CC Doors Gears QurtTax  Weight\n",
       "8    21500        27  19700  192  1800     3     5     100    1185\n",
       "13   21500        31  23000  192  1800     3     6     100    1185\n",
       "14   22500        32  34131  192  1800     3     6     100    1185\n",
       "15   22000        28  18739  192  1800     3     6     100    1185\n",
       "16   22750        30  34000  192  1800     3     5     100    1185\n",
       "49   21950        31  64982  192  1800     5     6     100    1195\n",
       "53   21950        27  49866  192  1800     5     5     100    1195\n",
       "68   22250        22  30000  110  2000     5     5     234    1275\n",
       "89   21950        19  50005  110  2000     3     5     234    1265\n",
       "91   22250        20  37500   90  2000     3     5     234    1260\n",
       "109  32500         4      1  116  2000     5     5     283    1480\n",
       "110  31000         4   4000  116  2000     5     5     283    1480\n",
       "111  31275         4   1500  116  2000     5     5     283    1480\n",
       "112  24950         8  13253  116  2000     5     5     234    1320\n",
       "113  24950         8  13253  116  2000     5     5     234    1320\n",
       "114  22950         7  10000  116  2000     5     5     234    1270\n",
       "115  24990         8   6000   90  2000     5     5     234    1280\n",
       "116  21950         8  10841   90  2000     5     5     234    1270\n",
       "119  22250        17  57313  110  2000     5     5     234    1275\n",
       "125  21750        16  36000  110  1600     5     5      85    1130\n",
       "138  23000        11  25000  116  2000     5     5      64    1320\n",
       "141  23950        19  21684  192  1800     5     5      19    1185\n",
       "147  24500        13  19988  110  1600     5     5      85    1130\n",
       "154  21750        13  13178  110  1600     5     5      85    1130\n",
       "171  23750         8  11000  110  1600     5     5      85    1130\n",
       "174  21950         8   9788  110  1600     5     5      85    1130\n",
       "178  21950         8   5000  110  1600     5     5      85    1130\n",
       "179  22500         6   3000  110  1600     5     5      85    1130\n",
       "183  21500         2     15  110  1600     5     5      85    1130"
      ]
     },
     "execution_count": 27,
     "metadata": {},
     "output_type": "execute_result"
    }
   ],
   "source": [
    "toyota1 = toyota.copy(deep = True)\n",
    "\n",
    "t = toyota1[toyota1['Price']>21500].index\n",
    "for x in t:\n",
    "    toyota['Price'][x] = 21500\n",
    "# temp = toyota.groupby('KM')['Price'].count()/len(toyota)\n",
    "# temp_df = temp[temp>0.001].index\n",
    "# temp_df\n",
    "# t = toyota.groupby('KM')['Price'].mean().sort_values().index\n",
    "# t = {k:i for i,k in enumerate(t,0)}\n",
    "toyota1[toyota1.Price>21499]\n",
    "# log_Price = np.log(toyota.Price)\n",
    "# log_Price.plot.kde()"
   ]
  },
  {
   "cell_type": "code",
   "execution_count": 28,
   "metadata": {},
   "outputs": [
    {
     "data": {
      "text/plain": [
       "<AxesSubplot:ylabel='Density'>"
      ]
     },
     "execution_count": 28,
     "metadata": {},
     "output_type": "execute_result"
    },
    {
     "data": {
      "image/png": "[encoded data removed]",
      "text/plain": [
       "<Figure size 432x288 with 1 Axes>"
      ]
     },
     "metadata": {
      "needs_background": "light"
     },
     "output_type": "display_data"
    }
   ],
   "source": [
    "log_km = np.log(toyota.KM)\n",
    "log_km.plot.kde()"
   ]
  },
  {
   "cell_type": "code",
   "execution_count": 29,
   "metadata": {},
   "outputs": [
    {
     "data": {
      "text/plain": [
       "<AxesSubplot:ylabel='Density'>"
      ]
     },
     "execution_count": 29,
     "metadata": {},
     "output_type": "execute_result"
    },
    {
     "data": {
      "image/png": "[encoded data removed]",
      "text/plain": [
       "<Figure size 432x288 with 1 Axes>"
      ]
     },
     "metadata": {
      "needs_background": "light"
     },
     "output_type": "display_data"
    }
   ],
   "source": [
    "toyota.KM.plot.kde()"
   ]
  },
  {
   "cell_type": "code",
   "execution_count": 30,
   "metadata": {},
   "outputs": [
    {
     "data": {
      "text/html": [
       "<div>\n",
       "<style scoped>\n",
       "    .dataframe tbody tr th:only-of-type {\n",
       "        vertical-align: middle;\n",
       "    }\n",
       "\n",
       "    .dataframe tbody tr th {\n",
       "        vertical-align: top;\n",
       "    }\n",
       "\n",
       "    .dataframe thead th {\n",
       "        text-align: right;\n",
       "    }\n",
       "</style>\n",
       "<table border=\"1\" class=\"dataframe\">\n",
       "  <thead>\n",
       "    <tr style=\"text-align: right;\">\n",
       "      <th></th>\n",
       "      <th>Price</th>\n",
       "      <th>AgeMonth</th>\n",
       "      <th>KM</th>\n",
       "      <th>HP</th>\n",
       "      <th>CC</th>\n",
       "      <th>Doors</th>\n",
       "      <th>Gears</th>\n",
       "      <th>QurtTax</th>\n",
       "      <th>Weight</th>\n",
       "    </tr>\n",
       "  </thead>\n",
       "  <tbody>\n",
       "    <tr>\n",
       "      <th>109</th>\n",
       "      <td>32500</td>\n",
       "      <td>4</td>\n",
       "      <td>1</td>\n",
       "      <td>116</td>\n",
       "      <td>2000</td>\n",
       "      <td>5</td>\n",
       "      <td>5</td>\n",
       "      <td>283</td>\n",
       "      <td>1480</td>\n",
       "    </tr>\n",
       "    <tr>\n",
       "      <th>110</th>\n",
       "      <td>31000</td>\n",
       "      <td>4</td>\n",
       "      <td>4000</td>\n",
       "      <td>116</td>\n",
       "      <td>2000</td>\n",
       "      <td>5</td>\n",
       "      <td>5</td>\n",
       "      <td>283</td>\n",
       "      <td>1480</td>\n",
       "    </tr>\n",
       "    <tr>\n",
       "      <th>111</th>\n",
       "      <td>31275</td>\n",
       "      <td>4</td>\n",
       "      <td>1500</td>\n",
       "      <td>116</td>\n",
       "      <td>2000</td>\n",
       "      <td>5</td>\n",
       "      <td>5</td>\n",
       "      <td>283</td>\n",
       "      <td>1480</td>\n",
       "    </tr>\n",
       "    <tr>\n",
       "      <th>179</th>\n",
       "      <td>22500</td>\n",
       "      <td>6</td>\n",
       "      <td>3000</td>\n",
       "      <td>110</td>\n",
       "      <td>1600</td>\n",
       "      <td>5</td>\n",
       "      <td>5</td>\n",
       "      <td>85</td>\n",
       "      <td>1130</td>\n",
       "    </tr>\n",
       "    <tr>\n",
       "      <th>182</th>\n",
       "      <td>21125</td>\n",
       "      <td>2</td>\n",
       "      <td>225</td>\n",
       "      <td>97</td>\n",
       "      <td>1400</td>\n",
       "      <td>5</td>\n",
       "      <td>5</td>\n",
       "      <td>85</td>\n",
       "      <td>1110</td>\n",
       "    </tr>\n",
       "    <tr>\n",
       "      <th>183</th>\n",
       "      <td>21500</td>\n",
       "      <td>2</td>\n",
       "      <td>15</td>\n",
       "      <td>110</td>\n",
       "      <td>1600</td>\n",
       "      <td>5</td>\n",
       "      <td>5</td>\n",
       "      <td>85</td>\n",
       "      <td>1130</td>\n",
       "    </tr>\n",
       "    <tr>\n",
       "      <th>184</th>\n",
       "      <td>17795</td>\n",
       "      <td>1</td>\n",
       "      <td>1</td>\n",
       "      <td>98</td>\n",
       "      <td>1400</td>\n",
       "      <td>4</td>\n",
       "      <td>5</td>\n",
       "      <td>19</td>\n",
       "      <td>1100</td>\n",
       "    </tr>\n",
       "    <tr>\n",
       "      <th>185</th>\n",
       "      <td>18245</td>\n",
       "      <td>1</td>\n",
       "      <td>1</td>\n",
       "      <td>110</td>\n",
       "      <td>1600</td>\n",
       "      <td>5</td>\n",
       "      <td>5</td>\n",
       "      <td>19</td>\n",
       "      <td>1075</td>\n",
       "    </tr>\n",
       "  </tbody>\n",
       "</table>\n",
       "</div>"
      ],
      "text/plain": [
       "     Price  AgeMonth    KM   HP    CC Doors Gears QurtTax  Weight\n",
       "109  32500         4     1  116  2000     5     5     283    1480\n",
       "110  31000         4  4000  116  2000     5     5     283    1480\n",
       "111  31275         4  1500  116  2000     5     5     283    1480\n",
       "179  22500         6  3000  110  1600     5     5      85    1130\n",
       "182  21125         2   225   97  1400     5     5      85    1110\n",
       "183  21500         2    15  110  1600     5     5      85    1130\n",
       "184  17795         1     1   98  1400     4     5      19    1100\n",
       "185  18245         1     1  110  1600     5     5      19    1075"
      ]
     },
     "execution_count": 30,
     "metadata": {},
     "output_type": "execute_result"
    }
   ],
   "source": [
    "toyota1[toyota1.AgeMonth < 7]"
   ]
  },
  {
   "cell_type": "code",
   "execution_count": 31,
   "metadata": {},
   "outputs": [
    {
     "data": {
      "text/plain": [
       "(1428, 9)"
      ]
     },
     "execution_count": 31,
     "metadata": {},
     "output_type": "execute_result"
    }
   ],
   "source": [
    "drop_index = [109,110,111,179,182,183,184,185]\n",
    "toyota2 = toyota1.drop(index = drop_index)\n",
    "toyota2.shape"
   ]
  },
  {
   "cell_type": "code",
   "execution_count": 32,
   "metadata": {},
   "outputs": [
    {
     "data": {
      "image/png": "[encoded data removed]",
      "text/plain": [
       "<Figure size 1296x216 with 1 Axes>"
      ]
     },
     "metadata": {
      "needs_background": "light"
     },
     "output_type": "display_data"
    }
   ],
   "source": [
    "plt.figure(figsize = (18,3))\n",
    "plt.boxplot(toyota2.AgeMonth,vert=False)\n",
    "plt.show()"
   ]
  },
  {
   "cell_type": "markdown",
   "metadata": {},
   "source": [
    "#### KM dataset\n",
    "    KM dataset has lot of outliers as linear models are prone to outliers and we have a large dataset we can drop the rows against the outliers of KM dataset"
   ]
  },
  {
   "cell_type": "code",
   "execution_count": 33,
   "metadata": {},
   "outputs": [
    {
     "data": {
      "text/html": [
       "<div>\n",
       "<style scoped>\n",
       "    .dataframe tbody tr th:only-of-type {\n",
       "        vertical-align: middle;\n",
       "    }\n",
       "\n",
       "    .dataframe tbody tr th {\n",
       "        vertical-align: top;\n",
       "    }\n",
       "\n",
       "    .dataframe thead th {\n",
       "        text-align: right;\n",
       "    }\n",
       "</style>\n",
       "<table border=\"1\" class=\"dataframe\">\n",
       "  <thead>\n",
       "    <tr style=\"text-align: right;\">\n",
       "      <th></th>\n",
       "      <th>Price</th>\n",
       "      <th>AgeMonth</th>\n",
       "      <th>KM</th>\n",
       "      <th>HP</th>\n",
       "      <th>CC</th>\n",
       "      <th>Doors</th>\n",
       "      <th>Gears</th>\n",
       "      <th>QurtTax</th>\n",
       "      <th>Weight</th>\n",
       "    </tr>\n",
       "  </thead>\n",
       "  <tbody>\n",
       "    <tr>\n",
       "      <th>186</th>\n",
       "      <td>6950</td>\n",
       "      <td>43</td>\n",
       "      <td>199173</td>\n",
       "      <td>69</td>\n",
       "      <td>1900</td>\n",
       "      <td>3</td>\n",
       "      <td>5</td>\n",
       "      <td>185</td>\n",
       "      <td>1110</td>\n",
       "    </tr>\n",
       "    <tr>\n",
       "      <th>187</th>\n",
       "      <td>9500</td>\n",
       "      <td>38</td>\n",
       "      <td>199173</td>\n",
       "      <td>90</td>\n",
       "      <td>2000</td>\n",
       "      <td>4</td>\n",
       "      <td>5</td>\n",
       "      <td>210</td>\n",
       "      <td>1160</td>\n",
       "    </tr>\n",
       "    <tr>\n",
       "      <th>188</th>\n",
       "      <td>11950</td>\n",
       "      <td>40</td>\n",
       "      <td>199173</td>\n",
       "      <td>90</td>\n",
       "      <td>2000</td>\n",
       "      <td>5</td>\n",
       "      <td>5</td>\n",
       "      <td>210</td>\n",
       "      <td>1205</td>\n",
       "    </tr>\n",
       "    <tr>\n",
       "      <th>378</th>\n",
       "      <td>6500</td>\n",
       "      <td>53</td>\n",
       "      <td>199173</td>\n",
       "      <td>69</td>\n",
       "      <td>1900</td>\n",
       "      <td>3</td>\n",
       "      <td>5</td>\n",
       "      <td>185</td>\n",
       "      <td>1110</td>\n",
       "    </tr>\n",
       "    <tr>\n",
       "      <th>379</th>\n",
       "      <td>6400</td>\n",
       "      <td>51</td>\n",
       "      <td>199173</td>\n",
       "      <td>69</td>\n",
       "      <td>1900</td>\n",
       "      <td>4</td>\n",
       "      <td>5</td>\n",
       "      <td>185</td>\n",
       "      <td>1095</td>\n",
       "    </tr>\n",
       "    <tr>\n",
       "      <th>603</th>\n",
       "      <td>6950</td>\n",
       "      <td>58</td>\n",
       "      <td>199173</td>\n",
       "      <td>72</td>\n",
       "      <td>2000</td>\n",
       "      <td>4</td>\n",
       "      <td>5</td>\n",
       "      <td>185</td>\n",
       "      <td>1100</td>\n",
       "    </tr>\n",
       "    <tr>\n",
       "      <th>604</th>\n",
       "      <td>7900</td>\n",
       "      <td>68</td>\n",
       "      <td>199173</td>\n",
       "      <td>72</td>\n",
       "      <td>2000</td>\n",
       "      <td>3</td>\n",
       "      <td>5</td>\n",
       "      <td>185</td>\n",
       "      <td>1115</td>\n",
       "    </tr>\n",
       "    <tr>\n",
       "      <th>605</th>\n",
       "      <td>5950</td>\n",
       "      <td>68</td>\n",
       "      <td>199173</td>\n",
       "      <td>86</td>\n",
       "      <td>1300</td>\n",
       "      <td>4</td>\n",
       "      <td>5</td>\n",
       "      <td>69</td>\n",
       "      <td>1000</td>\n",
       "    </tr>\n",
       "    <tr>\n",
       "      <th>606</th>\n",
       "      <td>7500</td>\n",
       "      <td>59</td>\n",
       "      <td>199173</td>\n",
       "      <td>72</td>\n",
       "      <td>2000</td>\n",
       "      <td>3</td>\n",
       "      <td>5</td>\n",
       "      <td>185</td>\n",
       "      <td>1115</td>\n",
       "    </tr>\n",
       "    <tr>\n",
       "      <th>607</th>\n",
       "      <td>7500</td>\n",
       "      <td>62</td>\n",
       "      <td>199173</td>\n",
       "      <td>72</td>\n",
       "      <td>2000</td>\n",
       "      <td>5</td>\n",
       "      <td>5</td>\n",
       "      <td>185</td>\n",
       "      <td>1140</td>\n",
       "    </tr>\n",
       "    <tr>\n",
       "      <th>1044</th>\n",
       "      <td>5900</td>\n",
       "      <td>73</td>\n",
       "      <td>199173</td>\n",
       "      <td>72</td>\n",
       "      <td>2000</td>\n",
       "      <td>5</td>\n",
       "      <td>5</td>\n",
       "      <td>40</td>\n",
       "      <td>1172</td>\n",
       "    </tr>\n",
       "    <tr>\n",
       "      <th>1045</th>\n",
       "      <td>6950</td>\n",
       "      <td>79</td>\n",
       "      <td>199173</td>\n",
       "      <td>72</td>\n",
       "      <td>2000</td>\n",
       "      <td>5</td>\n",
       "      <td>5</td>\n",
       "      <td>185</td>\n",
       "      <td>1150</td>\n",
       "    </tr>\n",
       "    <tr>\n",
       "      <th>1046</th>\n",
       "      <td>6000</td>\n",
       "      <td>78</td>\n",
       "      <td>199173</td>\n",
       "      <td>72</td>\n",
       "      <td>2000</td>\n",
       "      <td>5</td>\n",
       "      <td>5</td>\n",
       "      <td>185</td>\n",
       "      <td>1135</td>\n",
       "    </tr>\n",
       "    <tr>\n",
       "      <th>1047</th>\n",
       "      <td>5250</td>\n",
       "      <td>79</td>\n",
       "      <td>199173</td>\n",
       "      <td>110</td>\n",
       "      <td>1600</td>\n",
       "      <td>5</td>\n",
       "      <td>5</td>\n",
       "      <td>197</td>\n",
       "      <td>1114</td>\n",
       "    </tr>\n",
       "    <tr>\n",
       "      <th>1048</th>\n",
       "      <td>4400</td>\n",
       "      <td>74</td>\n",
       "      <td>199173</td>\n",
       "      <td>72</td>\n",
       "      <td>2000</td>\n",
       "      <td>3</td>\n",
       "      <td>5</td>\n",
       "      <td>64</td>\n",
       "      <td>1135</td>\n",
       "    </tr>\n",
       "    <tr>\n",
       "      <th>1049</th>\n",
       "      <td>6750</td>\n",
       "      <td>77</td>\n",
       "      <td>199173</td>\n",
       "      <td>72</td>\n",
       "      <td>2000</td>\n",
       "      <td>4</td>\n",
       "      <td>5</td>\n",
       "      <td>185</td>\n",
       "      <td>1100</td>\n",
       "    </tr>\n",
       "    <tr>\n",
       "      <th>1050</th>\n",
       "      <td>8500</td>\n",
       "      <td>69</td>\n",
       "      <td>199173</td>\n",
       "      <td>72</td>\n",
       "      <td>2000</td>\n",
       "      <td>5</td>\n",
       "      <td>5</td>\n",
       "      <td>185</td>\n",
       "      <td>1135</td>\n",
       "    </tr>\n",
       "    <tr>\n",
       "      <th>1051</th>\n",
       "      <td>6150</td>\n",
       "      <td>80</td>\n",
       "      <td>199173</td>\n",
       "      <td>72</td>\n",
       "      <td>2000</td>\n",
       "      <td>3</td>\n",
       "      <td>5</td>\n",
       "      <td>185</td>\n",
       "      <td>1120</td>\n",
       "    </tr>\n",
       "    <tr>\n",
       "      <th>1052</th>\n",
       "      <td>6950</td>\n",
       "      <td>76</td>\n",
       "      <td>199173</td>\n",
       "      <td>72</td>\n",
       "      <td>2000</td>\n",
       "      <td>5</td>\n",
       "      <td>5</td>\n",
       "      <td>185</td>\n",
       "      <td>1150</td>\n",
       "    </tr>\n",
       "    <tr>\n",
       "      <th>1053</th>\n",
       "      <td>5750</td>\n",
       "      <td>76</td>\n",
       "      <td>199173</td>\n",
       "      <td>72</td>\n",
       "      <td>2000</td>\n",
       "      <td>3</td>\n",
       "      <td>5</td>\n",
       "      <td>185</td>\n",
       "      <td>1115</td>\n",
       "    </tr>\n",
       "    <tr>\n",
       "      <th>1054</th>\n",
       "      <td>8750</td>\n",
       "      <td>78</td>\n",
       "      <td>199173</td>\n",
       "      <td>72</td>\n",
       "      <td>2000</td>\n",
       "      <td>4</td>\n",
       "      <td>5</td>\n",
       "      <td>185</td>\n",
       "      <td>1100</td>\n",
       "    </tr>\n",
       "  </tbody>\n",
       "</table>\n",
       "</div>"
      ],
      "text/plain": [
       "      Price  AgeMonth      KM   HP    CC Doors Gears QurtTax  Weight\n",
       "186    6950        43  199173   69  1900     3     5     185    1110\n",
       "187    9500        38  199173   90  2000     4     5     210    1160\n",
       "188   11950        40  199173   90  2000     5     5     210    1205\n",
       "378    6500        53  199173   69  1900     3     5     185    1110\n",
       "379    6400        51  199173   69  1900     4     5     185    1095\n",
       "603    6950        58  199173   72  2000     4     5     185    1100\n",
       "604    7900        68  199173   72  2000     3     5     185    1115\n",
       "605    5950        68  199173   86  1300     4     5      69    1000\n",
       "606    7500        59  199173   72  2000     3     5     185    1115\n",
       "607    7500        62  199173   72  2000     5     5     185    1140\n",
       "1044   5900        73  199173   72  2000     5     5      40    1172\n",
       "1045   6950        79  199173   72  2000     5     5     185    1150\n",
       "1046   6000        78  199173   72  2000     5     5     185    1135\n",
       "1047   5250        79  199173  110  1600     5     5     197    1114\n",
       "1048   4400        74  199173   72  2000     3     5      64    1135\n",
       "1049   6750        77  199173   72  2000     4     5     185    1100\n",
       "1050   8500        69  199173   72  2000     5     5     185    1135\n",
       "1051   6150        80  199173   72  2000     3     5     185    1120\n",
       "1052   6950        76  199173   72  2000     5     5     185    1150\n",
       "1053   5750        76  199173   72  2000     3     5     185    1115\n",
       "1054   8750        78  199173   72  2000     4     5     185    1100"
      ]
     },
     "execution_count": 33,
     "metadata": {},
     "output_type": "execute_result"
    }
   ],
   "source": [
    "outlie_KM = detect_outliers(toyota1.KM)\n",
    "a = toyota1[toyota1.KM > 179000].index\n",
    "for x in a:\n",
    "    toyota1['KM'][x] = np.mean(outlie_KM)\n",
    "    \n",
    "toyota1[toyota1.KM > 179000]\n",
    "# outlie_KMi = detect_outliers(toyota1.KM)\n",
    "# print(sorted(outlie_KM), len(outlie_KM))\n",
    "# print(type(outlie_KMi))\n",
    "# for x in outlie_KMi:\n",
    "#     toyota1.KM[x] = 179000\n",
    "# print(toyota[toyota.KM > 178800])\n",
    "# plt.figure(figsize = (20,3))\n",
    "# plt.boxplot(toyota1.KM,vert = False)\n",
    "# plt.show()"
   ]
  },
  {
   "cell_type": "code",
   "execution_count": 34,
   "metadata": {},
   "outputs": [
    {
     "data": {
      "text/plain": [
       "<AxesSubplot:ylabel='Density'>"
      ]
     },
     "execution_count": 34,
     "metadata": {},
     "output_type": "execute_result"
    },
    {
     "data": {
      "image/png": "[encoded data removed]",
      "text/plain": [
       "<Figure size 432x288 with 1 Axes>"
      ]
     },
     "metadata": {
      "needs_background": "light"
     },
     "output_type": "display_data"
    }
   ],
   "source": [
    "toyota1.KM.plot.kde()"
   ]
  },
  {
   "cell_type": "markdown",
   "metadata": {},
   "source": [
    "#### Weight Dataset\n",
    "    there are many outliers in the dataset and tail is dragging the dataset to the right it is a very heavy tail. Considering the correlation with price which is 0.58 shows a modarate correation with Price. let us drop the outliers and keep the feature. in case we need to use it."
   ]
  },
  {
   "cell_type": "code",
   "execution_count": 35,
   "metadata": {},
   "outputs": [],
   "source": [
    "Weight_outlie = detect_outliers(toyota1.Weight)\n",
    "a = toyota1[toyota1.Weight > 1250].index\n",
    "\n",
    "for x in a:\n",
    "    toyota1.Weight[a] = np.mean(Weight_outlie)"
   ]
  },
  {
   "cell_type": "code",
   "execution_count": 36,
   "metadata": {},
   "outputs": [
    {
     "data": {
      "text/html": [
       "<div>\n",
       "<style scoped>\n",
       "    .dataframe tbody tr th:only-of-type {\n",
       "        vertical-align: middle;\n",
       "    }\n",
       "\n",
       "    .dataframe tbody tr th {\n",
       "        vertical-align: top;\n",
       "    }\n",
       "\n",
       "    .dataframe thead th {\n",
       "        text-align: right;\n",
       "    }\n",
       "</style>\n",
       "<table border=\"1\" class=\"dataframe\">\n",
       "  <thead>\n",
       "    <tr style=\"text-align: right;\">\n",
       "      <th></th>\n",
       "      <th>Price</th>\n",
       "      <th>AgeMonth</th>\n",
       "      <th>KM</th>\n",
       "      <th>HP</th>\n",
       "      <th>CC</th>\n",
       "      <th>Doors</th>\n",
       "      <th>Gears</th>\n",
       "      <th>QurtTax</th>\n",
       "      <th>Weight</th>\n",
       "    </tr>\n",
       "  </thead>\n",
       "  <tbody>\n",
       "    <tr>\n",
       "      <th>0</th>\n",
       "      <td>13500</td>\n",
       "      <td>23</td>\n",
       "      <td>46986</td>\n",
       "      <td>90</td>\n",
       "      <td>2000</td>\n",
       "      <td>3</td>\n",
       "      <td>5</td>\n",
       "      <td>210</td>\n",
       "      <td>1165</td>\n",
       "    </tr>\n",
       "    <tr>\n",
       "      <th>1</th>\n",
       "      <td>13750</td>\n",
       "      <td>23</td>\n",
       "      <td>72937</td>\n",
       "      <td>90</td>\n",
       "      <td>2000</td>\n",
       "      <td>3</td>\n",
       "      <td>5</td>\n",
       "      <td>210</td>\n",
       "      <td>1165</td>\n",
       "    </tr>\n",
       "    <tr>\n",
       "      <th>2</th>\n",
       "      <td>13950</td>\n",
       "      <td>24</td>\n",
       "      <td>41711</td>\n",
       "      <td>90</td>\n",
       "      <td>2000</td>\n",
       "      <td>3</td>\n",
       "      <td>5</td>\n",
       "      <td>210</td>\n",
       "      <td>1165</td>\n",
       "    </tr>\n",
       "    <tr>\n",
       "      <th>3</th>\n",
       "      <td>14950</td>\n",
       "      <td>26</td>\n",
       "      <td>48000</td>\n",
       "      <td>90</td>\n",
       "      <td>2000</td>\n",
       "      <td>3</td>\n",
       "      <td>5</td>\n",
       "      <td>210</td>\n",
       "      <td>1165</td>\n",
       "    </tr>\n",
       "    <tr>\n",
       "      <th>4</th>\n",
       "      <td>13750</td>\n",
       "      <td>30</td>\n",
       "      <td>38500</td>\n",
       "      <td>90</td>\n",
       "      <td>2000</td>\n",
       "      <td>3</td>\n",
       "      <td>5</td>\n",
       "      <td>210</td>\n",
       "      <td>1170</td>\n",
       "    </tr>\n",
       "    <tr>\n",
       "      <th>...</th>\n",
       "      <td>...</td>\n",
       "      <td>...</td>\n",
       "      <td>...</td>\n",
       "      <td>...</td>\n",
       "      <td>...</td>\n",
       "      <td>...</td>\n",
       "      <td>...</td>\n",
       "      <td>...</td>\n",
       "      <td>...</td>\n",
       "    </tr>\n",
       "    <tr>\n",
       "      <th>1431</th>\n",
       "      <td>7500</td>\n",
       "      <td>69</td>\n",
       "      <td>20544</td>\n",
       "      <td>86</td>\n",
       "      <td>1300</td>\n",
       "      <td>3</td>\n",
       "      <td>5</td>\n",
       "      <td>69</td>\n",
       "      <td>1025</td>\n",
       "    </tr>\n",
       "    <tr>\n",
       "      <th>1432</th>\n",
       "      <td>10845</td>\n",
       "      <td>72</td>\n",
       "      <td>19000</td>\n",
       "      <td>86</td>\n",
       "      <td>1300</td>\n",
       "      <td>3</td>\n",
       "      <td>5</td>\n",
       "      <td>69</td>\n",
       "      <td>1015</td>\n",
       "    </tr>\n",
       "    <tr>\n",
       "      <th>1433</th>\n",
       "      <td>8500</td>\n",
       "      <td>71</td>\n",
       "      <td>17016</td>\n",
       "      <td>86</td>\n",
       "      <td>1300</td>\n",
       "      <td>3</td>\n",
       "      <td>5</td>\n",
       "      <td>69</td>\n",
       "      <td>1015</td>\n",
       "    </tr>\n",
       "    <tr>\n",
       "      <th>1434</th>\n",
       "      <td>7250</td>\n",
       "      <td>70</td>\n",
       "      <td>16916</td>\n",
       "      <td>86</td>\n",
       "      <td>1300</td>\n",
       "      <td>3</td>\n",
       "      <td>5</td>\n",
       "      <td>69</td>\n",
       "      <td>1015</td>\n",
       "    </tr>\n",
       "    <tr>\n",
       "      <th>1435</th>\n",
       "      <td>6950</td>\n",
       "      <td>76</td>\n",
       "      <td>1</td>\n",
       "      <td>110</td>\n",
       "      <td>1600</td>\n",
       "      <td>5</td>\n",
       "      <td>5</td>\n",
       "      <td>19</td>\n",
       "      <td>1114</td>\n",
       "    </tr>\n",
       "  </tbody>\n",
       "</table>\n",
       "<p>1436 rows × 9 columns</p>\n",
       "</div>"
      ],
      "text/plain": [
       "      Price  AgeMonth     KM   HP    CC Doors Gears QurtTax  Weight\n",
       "0     13500        23  46986   90  2000     3     5     210    1165\n",
       "1     13750        23  72937   90  2000     3     5     210    1165\n",
       "2     13950        24  41711   90  2000     3     5     210    1165\n",
       "3     14950        26  48000   90  2000     3     5     210    1165\n",
       "4     13750        30  38500   90  2000     3     5     210    1170\n",
       "...     ...       ...    ...  ...   ...   ...   ...     ...     ...\n",
       "1431   7500        69  20544   86  1300     3     5      69    1025\n",
       "1432  10845        72  19000   86  1300     3     5      69    1015\n",
       "1433   8500        71  17016   86  1300     3     5      69    1015\n",
       "1434   7250        70  16916   86  1300     3     5      69    1015\n",
       "1435   6950        76      1  110  1600     5     5      19    1114\n",
       "\n",
       "[1436 rows x 9 columns]"
      ]
     },
     "execution_count": 36,
     "metadata": {},
     "output_type": "execute_result"
    }
   ],
   "source": [
    "toyota"
   ]
  },
  {
   "cell_type": "code",
   "execution_count": 37,
   "metadata": {},
   "outputs": [
    {
     "data": {
      "text/plain": [
       "<AxesSubplot:ylabel='Density'>"
      ]
     },
     "execution_count": 37,
     "metadata": {},
     "output_type": "execute_result"
    },
    {
     "data": {
      "image/png": "[encoded data removed]",
      "text/plain": [
       "<Figure size 432x288 with 1 Axes>"
      ]
     },
     "metadata": {
      "needs_background": "light"
     },
     "output_type": "display_data"
    }
   ],
   "source": [
    "toyota1.Weight.plot.kde()"
   ]
  },
  {
   "cell_type": "code",
   "execution_count": 38,
   "metadata": {},
   "outputs": [
    {
     "data": {
      "text/plain": [
       "(1404, 9)"
      ]
     },
     "execution_count": 38,
     "metadata": {},
     "output_type": "execute_result"
    }
   ],
   "source": [
    "toyota2 = toyota2[toyota2.Weight < 1250]\n",
    "toyota2.shape"
   ]
  },
  {
   "cell_type": "markdown",
   "metadata": {},
   "source": [
    "### Final selection of feature\n",
    "##### There are four assumptions associated with a linear regression model:\n",
    "\n",
    "**Linearity: The relationship between X and the mean of Y is linear.**\n",
    "\n",
    "**Homoscedasticity: The variance of residual is the same for any value of X.**\n",
    "\n",
    "**Independence: Observations are independent of each other.**\n",
    "\n",
    "**Normality: For any fixed value of X, Y is normally distributed.**"
   ]
  },
  {
   "cell_type": "code",
   "execution_count": 39,
   "metadata": {},
   "outputs": [],
   "source": [
    "from sklearn.linear_model import Lasso\n",
    "from sklearn.feature_selection import SelectFromModel"
   ]
  },
  {
   "cell_type": "code",
   "execution_count": 40,
   "metadata": {},
   "outputs": [],
   "source": [
    "y_train = toyota.Price\n",
    "y1_train = toyota1.Price"
   ]
  },
  {
   "cell_type": "code",
   "execution_count": 41,
   "metadata": {},
   "outputs": [],
   "source": [
    "x_train = toyota.drop(['Price'],axis=1)\n",
    "x1_train = toyota1.drop(['Price'],axis=1)"
   ]
  },
  {
   "cell_type": "code",
   "execution_count": 42,
   "metadata": {},
   "outputs": [
    {
     "data": {
      "text/plain": [
       "SelectFromModel(estimator=Lasso(alpha=0.005, random_state=0))"
      ]
     },
     "execution_count": 42,
     "metadata": {},
     "output_type": "execute_result"
    }
   ],
   "source": [
    "feat_sel_model = SelectFromModel(Lasso(alpha=0.005, random_state=0))\n",
    "feat_sel_model.fit(x_train,y_train)"
   ]
  },
  {
   "cell_type": "code",
   "execution_count": 43,
   "metadata": {},
   "outputs": [
    {
     "data": {
      "text/plain": [
       "array([ True,  True,  True,  True,  True,  True,  True,  True])"
      ]
     },
     "execution_count": 43,
     "metadata": {},
     "output_type": "execute_result"
    }
   ],
   "source": [
    "feat_sel_model.get_support()"
   ]
  },
  {
   "cell_type": "code",
   "execution_count": 44,
   "metadata": {},
   "outputs": [
    {
     "data": {
      "text/plain": [
       "SelectFromModel(estimator=Lasso(alpha=0.005, random_state=0))"
      ]
     },
     "execution_count": 44,
     "metadata": {},
     "output_type": "execute_result"
    }
   ],
   "source": [
    "feat_sel_mod1 = SelectFromModel(Lasso(alpha=0.005, random_state=0))\n",
    "feat_sel_mod1.fit(x1_train,y1_train)"
   ]
  },
  {
   "cell_type": "code",
   "execution_count": 45,
   "metadata": {},
   "outputs": [
    {
     "data": {
      "text/plain": [
       "array([ True,  True,  True,  True,  True,  True,  True,  True])"
      ]
     },
     "execution_count": 45,
     "metadata": {},
     "output_type": "execute_result"
    }
   ],
   "source": [
    "feat_sel_mod1.get_support()"
   ]
  },
  {
   "cell_type": "code",
   "execution_count": 46,
   "metadata": {},
   "outputs": [
    {
     "data": {
      "text/html": [
       "<div>\n",
       "<style scoped>\n",
       "    .dataframe tbody tr th:only-of-type {\n",
       "        vertical-align: middle;\n",
       "    }\n",
       "\n",
       "    .dataframe tbody tr th {\n",
       "        vertical-align: top;\n",
       "    }\n",
       "\n",
       "    .dataframe thead th {\n",
       "        text-align: right;\n",
       "    }\n",
       "</style>\n",
       "<table border=\"1\" class=\"dataframe\">\n",
       "  <thead>\n",
       "    <tr style=\"text-align: right;\">\n",
       "      <th></th>\n",
       "      <th>Price</th>\n",
       "      <th>AgeMonth</th>\n",
       "      <th>KM</th>\n",
       "      <th>HP</th>\n",
       "      <th>CC</th>\n",
       "      <th>Doors</th>\n",
       "      <th>Gears</th>\n",
       "      <th>QurtTax</th>\n",
       "      <th>Weight</th>\n",
       "    </tr>\n",
       "  </thead>\n",
       "  <tbody>\n",
       "    <tr>\n",
       "      <th>0</th>\n",
       "      <td>9.510445</td>\n",
       "      <td>3.135494</td>\n",
       "      <td>10.757605</td>\n",
       "      <td>90</td>\n",
       "      <td>2000</td>\n",
       "      <td>3</td>\n",
       "      <td>5</td>\n",
       "      <td>210</td>\n",
       "      <td>7.060476</td>\n",
       "    </tr>\n",
       "    <tr>\n",
       "      <th>1</th>\n",
       "      <td>9.528794</td>\n",
       "      <td>3.135494</td>\n",
       "      <td>11.197351</td>\n",
       "      <td>90</td>\n",
       "      <td>2000</td>\n",
       "      <td>3</td>\n",
       "      <td>5</td>\n",
       "      <td>210</td>\n",
       "      <td>7.060476</td>\n",
       "    </tr>\n",
       "    <tr>\n",
       "      <th>2</th>\n",
       "      <td>9.543235</td>\n",
       "      <td>3.178054</td>\n",
       "      <td>10.638520</td>\n",
       "      <td>90</td>\n",
       "      <td>2000</td>\n",
       "      <td>3</td>\n",
       "      <td>5</td>\n",
       "      <td>210</td>\n",
       "      <td>7.060476</td>\n",
       "    </tr>\n",
       "    <tr>\n",
       "      <th>3</th>\n",
       "      <td>9.612467</td>\n",
       "      <td>3.258097</td>\n",
       "      <td>10.778956</td>\n",
       "      <td>90</td>\n",
       "      <td>2000</td>\n",
       "      <td>3</td>\n",
       "      <td>5</td>\n",
       "      <td>210</td>\n",
       "      <td>7.060476</td>\n",
       "    </tr>\n",
       "    <tr>\n",
       "      <th>4</th>\n",
       "      <td>9.528794</td>\n",
       "      <td>3.401197</td>\n",
       "      <td>10.558414</td>\n",
       "      <td>90</td>\n",
       "      <td>2000</td>\n",
       "      <td>3</td>\n",
       "      <td>5</td>\n",
       "      <td>210</td>\n",
       "      <td>7.064759</td>\n",
       "    </tr>\n",
       "  </tbody>\n",
       "</table>\n",
       "</div>"
      ],
      "text/plain": [
       "      Price  AgeMonth         KM  HP    CC Doors Gears QurtTax    Weight\n",
       "0  9.510445  3.135494  10.757605  90  2000     3     5     210  7.060476\n",
       "1  9.528794  3.135494  11.197351  90  2000     3     5     210  7.060476\n",
       "2  9.543235  3.178054  10.638520  90  2000     3     5     210  7.060476\n",
       "3  9.612467  3.258097  10.778956  90  2000     3     5     210  7.060476\n",
       "4  9.528794  3.401197  10.558414  90  2000     3     5     210  7.064759"
      ]
     },
     "execution_count": 46,
     "metadata": {},
     "output_type": "execute_result"
    }
   ],
   "source": [
    "toyota3 = toyota1.copy(deep=True)\n",
    "for feature in Numerical_features:\n",
    "    toyota3[feature] = np.log(toyota[feature])\n",
    "toyota3.head()"
   ]
  },
  {
   "cell_type": "markdown",
   "metadata": {},
   "source": [
    "Now that all our feature as selected for model building let us go for model building"
   ]
  },
  {
   "cell_type": "markdown",
   "metadata": {},
   "source": [
    "#### With no outliers let us proceed with model building"
   ]
  },
  {
   "cell_type": "code",
   "execution_count": 47,
   "metadata": {},
   "outputs": [],
   "source": [
    "from statsmodels.formula.api import ols\n",
    "from sklearn.model_selection import train_test_split"
   ]
  },
  {
   "cell_type": "code",
   "execution_count": 48,
   "metadata": {},
   "outputs": [
    {
     "data": {
      "text/html": [
       "<table class=\"simpletable\">\n",
       "<caption>OLS Regression Results</caption>\n",
       "<tr>\n",
       "  <th>Dep. Variable:</th>          <td>Price</td>      <th>  R-squared:         </th> <td>   0.894</td> \n",
       "</tr>\n",
       "<tr>\n",
       "  <th>Model:</th>                   <td>OLS</td>       <th>  Adj. R-squared:    </th> <td>   0.891</td> \n",
       "</tr>\n",
       "<tr>\n",
       "  <th>Method:</th>             <td>Least Squares</td>  <th>  F-statistic:       </th> <td>   286.7</td> \n",
       "</tr>\n",
       "<tr>\n",
       "  <th>Date:</th>             <td>Tue, 18 May 2021</td> <th>  Prob (F-statistic):</th>  <td>  0.00</td>  \n",
       "</tr>\n",
       "<tr>\n",
       "  <th>Time:</th>                 <td>16:12:06</td>     <th>  Log-Likelihood:    </th> <td> -12128.</td> \n",
       "</tr>\n",
       "<tr>\n",
       "  <th>No. Observations:</th>      <td>  1436</td>      <th>  AIC:               </th> <td>2.434e+04</td>\n",
       "</tr>\n",
       "<tr>\n",
       "  <th>Df Residuals:</th>          <td>  1394</td>      <th>  BIC:               </th> <td>2.456e+04</td>\n",
       "</tr>\n",
       "<tr>\n",
       "  <th>Df Model:</th>              <td>    41</td>      <th>                     </th>     <td> </td>    \n",
       "</tr>\n",
       "<tr>\n",
       "  <th>Covariance Type:</th>      <td>nonrobust</td>    <th>                     </th>     <td> </td>    \n",
       "</tr>\n",
       "</table>\n",
       "<table class=\"simpletable\">\n",
       "<tr>\n",
       "         <td></td>           <th>coef</th>     <th>std err</th>      <th>t</th>      <th>P>|t|</th>  <th>[0.025</th>    <th>0.975]</th>  \n",
       "</tr>\n",
       "<tr>\n",
       "  <th>Intercept</th>      <td>-7011.7509</td> <td> 2197.426</td> <td>   -3.191</td> <td> 0.001</td> <td>-1.13e+04</td> <td>-2701.133</td>\n",
       "</tr>\n",
       "<tr>\n",
       "  <th>HP[T.71]</th>       <td> 1684.2392</td> <td> 1472.991</td> <td>    1.143</td> <td> 0.253</td> <td>-1205.280</td> <td> 4573.758</td>\n",
       "</tr>\n",
       "<tr>\n",
       "  <th>HP[T.72]</th>       <td> 2395.7011</td> <td> 1156.091</td> <td>    2.072</td> <td> 0.038</td> <td>  127.834</td> <td> 4663.568</td>\n",
       "</tr>\n",
       "<tr>\n",
       "  <th>HP[T.73]</th>       <td> 2698.1728</td> <td> 1988.910</td> <td>    1.357</td> <td> 0.175</td> <td>-1203.407</td> <td> 6599.752</td>\n",
       "</tr>\n",
       "<tr>\n",
       "  <th>HP[T.86]</th>       <td>  974.4461</td> <td>  697.566</td> <td>    1.397</td> <td> 0.163</td> <td> -393.946</td> <td> 2342.838</td>\n",
       "</tr>\n",
       "<tr>\n",
       "  <th>HP[T.90]</th>       <td> 1260.4295</td> <td> 1252.313</td> <td>    1.006</td> <td> 0.314</td> <td>-1196.193</td> <td> 3717.052</td>\n",
       "</tr>\n",
       "<tr>\n",
       "  <th>HP[T.97]</th>       <td>  971.4098</td> <td> 1033.355</td> <td>    0.940</td> <td> 0.347</td> <td>-1055.689</td> <td> 2998.508</td>\n",
       "</tr>\n",
       "<tr>\n",
       "  <th>HP[T.98]</th>       <td>  920.7286</td> <td> 1273.358</td> <td>    0.723</td> <td> 0.470</td> <td>-1577.176</td> <td> 3418.633</td>\n",
       "</tr>\n",
       "<tr>\n",
       "  <th>HP[T.107]</th>      <td> 3176.6095</td> <td> 1417.522</td> <td>    2.241</td> <td> 0.025</td> <td>  395.903</td> <td> 5957.316</td>\n",
       "</tr>\n",
       "<tr>\n",
       "  <th>HP[T.110]</th>      <td> 3237.3332</td> <td> 1389.792</td> <td>    2.329</td> <td> 0.020</td> <td>  511.024</td> <td> 5963.642</td>\n",
       "</tr>\n",
       "<tr>\n",
       "  <th>HP[T.116]</th>      <td> 1548.0753</td> <td> 1304.786</td> <td>    1.186</td> <td> 0.236</td> <td>-1011.480</td> <td> 4107.631</td>\n",
       "</tr>\n",
       "<tr>\n",
       "  <th>HP[T.192]</th>      <td> 6642.5914</td> <td>  808.580</td> <td>    8.215</td> <td> 0.000</td> <td> 5056.427</td> <td> 8228.755</td>\n",
       "</tr>\n",
       "<tr>\n",
       "  <th>CC[T.1332]</th>     <td>   -4.7294</td> <td>  812.555</td> <td>   -0.006</td> <td> 0.995</td> <td>-1598.692</td> <td> 1589.233</td>\n",
       "</tr>\n",
       "<tr>\n",
       "  <th>CC[T.1398]</th>     <td>-1730.3255</td> <td> 1403.645</td> <td>   -1.233</td> <td> 0.218</td> <td>-4483.810</td> <td> 1023.159</td>\n",
       "</tr>\n",
       "<tr>\n",
       "  <th>CC[T.1400]</th>     <td> -912.4482</td> <td> 1148.509</td> <td>   -0.794</td> <td> 0.427</td> <td>-3165.441</td> <td> 1340.544</td>\n",
       "</tr>\n",
       "<tr>\n",
       "  <th>CC[T.1587]</th>     <td>-2579.4346</td> <td> 1060.549</td> <td>   -2.432</td> <td> 0.015</td> <td>-4659.878</td> <td> -498.991</td>\n",
       "</tr>\n",
       "<tr>\n",
       "  <th>CC[T.1598]</th>     <td>-1047.2005</td> <td> 1064.001</td> <td>   -0.984</td> <td> 0.325</td> <td>-3134.417</td> <td> 1040.016</td>\n",
       "</tr>\n",
       "<tr>\n",
       "  <th>CC[T.1600]</th>     <td>-2611.7864</td> <td>  926.431</td> <td>   -2.819</td> <td> 0.005</td> <td>-4429.136</td> <td> -794.437</td>\n",
       "</tr>\n",
       "<tr>\n",
       "  <th>CC[T.1800]</th>     <td>-3343.6891</td> <td>  899.886</td> <td>   -3.716</td> <td> 0.000</td> <td>-5108.966</td> <td>-1578.412</td>\n",
       "</tr>\n",
       "<tr>\n",
       "  <th>CC[T.1900]</th>     <td>  510.0603</td> <td>  715.867</td> <td>    0.713</td> <td> 0.476</td> <td> -894.233</td> <td> 1914.353</td>\n",
       "</tr>\n",
       "<tr>\n",
       "  <th>CC[T.1975]</th>     <td> -228.5562</td> <td> 1238.919</td> <td>   -0.184</td> <td> 0.854</td> <td>-2658.902</td> <td> 2201.790</td>\n",
       "</tr>\n",
       "<tr>\n",
       "  <th>CC[T.1995]</th>     <td>-1082.3992</td> <td> 1043.718</td> <td>   -1.037</td> <td> 0.300</td> <td>-3129.826</td> <td>  965.027</td>\n",
       "</tr>\n",
       "<tr>\n",
       "  <th>CC[T.2000]</th>     <td>-1179.5688</td> <td>  694.653</td> <td>   -1.698</td> <td> 0.090</td> <td>-2542.246</td> <td>  183.108</td>\n",
       "</tr>\n",
       "<tr>\n",
       "  <th>Doors[T.3]</th>     <td>  -64.3406</td> <td> 1157.535</td> <td>   -0.056</td> <td> 0.956</td> <td>-2335.039</td> <td> 2206.358</td>\n",
       "</tr>\n",
       "<tr>\n",
       "  <th>Doors[T.4]</th>     <td>  238.0230</td> <td> 1161.079</td> <td>    0.205</td> <td> 0.838</td> <td>-2039.628</td> <td> 2515.675</td>\n",
       "</tr>\n",
       "<tr>\n",
       "  <th>Doors[T.5]</th>     <td> -174.9408</td> <td> 1157.239</td> <td>   -0.151</td> <td> 0.880</td> <td>-2445.058</td> <td> 2095.177</td>\n",
       "</tr>\n",
       "<tr>\n",
       "  <th>Gears[T.4]</th>     <td> 2760.7414</td> <td> 1450.568</td> <td>    1.903</td> <td> 0.057</td> <td>  -84.791</td> <td> 5606.274</td>\n",
       "</tr>\n",
       "<tr>\n",
       "  <th>Gears[T.5]</th>     <td> 1753.7814</td> <td>  891.714</td> <td>    1.967</td> <td> 0.049</td> <td>    4.535</td> <td> 3503.028</td>\n",
       "</tr>\n",
       "<tr>\n",
       "  <th>Gears[T.6]</th>     <td> 2011.4381</td> <td>  906.130</td> <td>    2.220</td> <td> 0.027</td> <td>  233.912</td> <td> 3788.964</td>\n",
       "</tr>\n",
       "<tr>\n",
       "  <th>QurtTax[T.40]</th>  <td>-2499.8052</td> <td> 1108.692</td> <td>   -2.255</td> <td> 0.024</td> <td>-4674.689</td> <td> -324.921</td>\n",
       "</tr>\n",
       "<tr>\n",
       "  <th>QurtTax[T.64]</th>  <td>-2555.8173</td> <td>  385.831</td> <td>   -6.624</td> <td> 0.000</td> <td>-3312.689</td> <td>-1798.945</td>\n",
       "</tr>\n",
       "<tr>\n",
       "  <th>QurtTax[T.69]</th>  <td>  410.3417</td> <td>  161.492</td> <td>    2.541</td> <td> 0.011</td> <td>   93.549</td> <td>  727.134</td>\n",
       "</tr>\n",
       "<tr>\n",
       "  <th>QurtTax[T.72]</th>  <td> -921.3867</td> <td>  744.803</td> <td>   -1.237</td> <td> 0.216</td> <td>-2382.443</td> <td>  539.669</td>\n",
       "</tr>\n",
       "<tr>\n",
       "  <th>QurtTax[T.85]</th>  <td>  608.7993</td> <td>  150.440</td> <td>    4.047</td> <td> 0.000</td> <td>  313.686</td> <td>  903.913</td>\n",
       "</tr>\n",
       "<tr>\n",
       "  <th>QurtTax[T.100]</th> <td> 1386.6956</td> <td>  404.926</td> <td>    3.425</td> <td> 0.001</td> <td>  592.365</td> <td> 2181.026</td>\n",
       "</tr>\n",
       "<tr>\n",
       "  <th>QurtTax[T.163]</th> <td>-1.102e+04</td> <td> 1431.054</td> <td>   -7.700</td> <td> 0.000</td> <td>-1.38e+04</td> <td>-8211.646</td>\n",
       "</tr>\n",
       "<tr>\n",
       "  <th>QurtTax[T.185]</th> <td>-1358.4886</td> <td>  385.179</td> <td>   -3.527</td> <td> 0.000</td> <td>-2114.082</td> <td> -602.895</td>\n",
       "</tr>\n",
       "<tr>\n",
       "  <th>QurtTax[T.197]</th> <td> -701.9796</td> <td>  347.325</td> <td>   -2.021</td> <td> 0.043</td> <td>-1383.316</td> <td>  -20.643</td>\n",
       "</tr>\n",
       "<tr>\n",
       "  <th>QurtTax[T.210]</th> <td> -993.6031</td> <td>  493.155</td> <td>   -2.015</td> <td> 0.044</td> <td>-1961.010</td> <td>  -26.196</td>\n",
       "</tr>\n",
       "<tr>\n",
       "  <th>QurtTax[T.234]</th> <td>  389.9527</td> <td>  465.217</td> <td>    0.838</td> <td> 0.402</td> <td> -522.648</td> <td> 1302.553</td>\n",
       "</tr>\n",
       "<tr>\n",
       "  <th>QurtTax[T.283]</th> <td>-4948.9831</td> <td>  898.080</td> <td>   -5.511</td> <td> 0.000</td> <td>-6710.716</td> <td>-3187.250</td>\n",
       "</tr>\n",
       "<tr>\n",
       "  <th>AgeMonth</th>       <td> -126.7865</td> <td>    2.576</td> <td>  -49.212</td> <td> 0.000</td> <td> -131.840</td> <td> -121.733</td>\n",
       "</tr>\n",
       "<tr>\n",
       "  <th>KM</th>             <td>   -0.0151</td> <td>    0.001</td> <td>  -12.860</td> <td> 0.000</td> <td>   -0.017</td> <td>   -0.013</td>\n",
       "</tr>\n",
       "<tr>\n",
       "  <th>Weight</th>         <td>   21.6541</td> <td>    1.623</td> <td>   13.341</td> <td> 0.000</td> <td>   18.470</td> <td>   24.838</td>\n",
       "</tr>\n",
       "</table>\n",
       "<table class=\"simpletable\">\n",
       "<tr>\n",
       "  <th>Omnibus:</th>       <td>157.717</td> <th>  Durbin-Watson:     </th> <td>   1.756</td> \n",
       "</tr>\n",
       "<tr>\n",
       "  <th>Prob(Omnibus):</th> <td> 0.000</td>  <th>  Jarque-Bera (JB):  </th> <td>1188.325</td> \n",
       "</tr>\n",
       "<tr>\n",
       "  <th>Skew:</th>          <td>-0.175</td>  <th>  Prob(JB):          </th> <td>9.09e-259</td>\n",
       "</tr>\n",
       "<tr>\n",
       "  <th>Kurtosis:</th>      <td> 7.443</td>  <th>  Cond. No.          </th> <td>1.14e+16</td> \n",
       "</tr>\n",
       "</table><br/><br/>Notes:<br/>[1] Standard Errors assume that the covariance matrix of the errors is correctly specified.<br/>[2] The smallest eigenvalue is 6.74e-20. This might indicate that there are<br/>strong multicollinearity problems or that the design matrix is singular."
      ],
      "text/plain": [
       "<class 'statsmodels.iolib.summary.Summary'>\n",
       "\"\"\"\n",
       "                            OLS Regression Results                            \n",
       "==============================================================================\n",
       "Dep. Variable:                  Price   R-squared:                       0.894\n",
       "Model:                            OLS   Adj. R-squared:                  0.891\n",
       "Method:                 Least Squares   F-statistic:                     286.7\n",
       "Date:                Tue, 18 May 2021   Prob (F-statistic):               0.00\n",
       "Time:                        16:12:06   Log-Likelihood:                -12128.\n",
       "No. Observations:                1436   AIC:                         2.434e+04\n",
       "Df Residuals:                    1394   BIC:                         2.456e+04\n",
       "Df Model:                          41                                         \n",
       "Covariance Type:            nonrobust                                         \n",
       "==================================================================================\n",
       "                     coef    std err          t      P>|t|      [0.025      0.975]\n",
       "----------------------------------------------------------------------------------\n",
       "Intercept      -7011.7509   2197.426     -3.191      0.001   -1.13e+04   -2701.133\n",
       "HP[T.71]        1684.2392   1472.991      1.143      0.253   -1205.280    4573.758\n",
       "HP[T.72]        2395.7011   1156.091      2.072      0.038     127.834    4663.568\n",
       "HP[T.73]        2698.1728   1988.910      1.357      0.175   -1203.407    6599.752\n",
       "HP[T.86]         974.4461    697.566      1.397      0.163    -393.946    2342.838\n",
       "HP[T.90]        1260.4295   1252.313      1.006      0.314   -1196.193    3717.052\n",
       "HP[T.97]         971.4098   1033.355      0.940      0.347   -1055.689    2998.508\n",
       "HP[T.98]         920.7286   1273.358      0.723      0.470   -1577.176    3418.633\n",
       "HP[T.107]       3176.6095   1417.522      2.241      0.025     395.903    5957.316\n",
       "HP[T.110]       3237.3332   1389.792      2.329      0.020     511.024    5963.642\n",
       "HP[T.116]       1548.0753   1304.786      1.186      0.236   -1011.480    4107.631\n",
       "HP[T.192]       6642.5914    808.580      8.215      0.000    5056.427    8228.755\n",
       "CC[T.1332]        -4.7294    812.555     -0.006      0.995   -1598.692    1589.233\n",
       "CC[T.1398]     -1730.3255   1403.645     -1.233      0.218   -4483.810    1023.159\n",
       "CC[T.1400]      -912.4482   1148.509     -0.794      0.427   -3165.441    1340.544\n",
       "CC[T.1587]     -2579.4346   1060.549     -2.432      0.015   -4659.878    -498.991\n",
       "CC[T.1598]     -1047.2005   1064.001     -0.984      0.325   -3134.417    1040.016\n",
       "CC[T.1600]     -2611.7864    926.431     -2.819      0.005   -4429.136    -794.437\n",
       "CC[T.1800]     -3343.6891    899.886     -3.716      0.000   -5108.966   -1578.412\n",
       "CC[T.1900]       510.0603    715.867      0.713      0.476    -894.233    1914.353\n",
       "CC[T.1975]      -228.5562   1238.919     -0.184      0.854   -2658.902    2201.790\n",
       "CC[T.1995]     -1082.3992   1043.718     -1.037      0.300   -3129.826     965.027\n",
       "CC[T.2000]     -1179.5688    694.653     -1.698      0.090   -2542.246     183.108\n",
       "Doors[T.3]       -64.3406   1157.535     -0.056      0.956   -2335.039    2206.358\n",
       "Doors[T.4]       238.0230   1161.079      0.205      0.838   -2039.628    2515.675\n",
       "Doors[T.5]      -174.9408   1157.239     -0.151      0.880   -2445.058    2095.177\n",
       "Gears[T.4]      2760.7414   1450.568      1.903      0.057     -84.791    5606.274\n",
       "Gears[T.5]      1753.7814    891.714      1.967      0.049       4.535    3503.028\n",
       "Gears[T.6]      2011.4381    906.130      2.220      0.027     233.912    3788.964\n",
       "QurtTax[T.40]  -2499.8052   1108.692     -2.255      0.024   -4674.689    -324.921\n",
       "QurtTax[T.64]  -2555.8173    385.831     -6.624      0.000   -3312.689   -1798.945\n",
       "QurtTax[T.69]    410.3417    161.492      2.541      0.011      93.549     727.134\n",
       "QurtTax[T.72]   -921.3867    744.803     -1.237      0.216   -2382.443     539.669\n",
       "QurtTax[T.85]    608.7993    150.440      4.047      0.000     313.686     903.913\n",
       "QurtTax[T.100]  1386.6956    404.926      3.425      0.001     592.365    2181.026\n",
       "QurtTax[T.163] -1.102e+04   1431.054     -7.700      0.000   -1.38e+04   -8211.646\n",
       "QurtTax[T.185] -1358.4886    385.179     -3.527      0.000   -2114.082    -602.895\n",
       "QurtTax[T.197]  -701.9796    347.325     -2.021      0.043   -1383.316     -20.643\n",
       "QurtTax[T.210]  -993.6031    493.155     -2.015      0.044   -1961.010     -26.196\n",
       "QurtTax[T.234]   389.9527    465.217      0.838      0.402    -522.648    1302.553\n",
       "QurtTax[T.283] -4948.9831    898.080     -5.511      0.000   -6710.716   -3187.250\n",
       "AgeMonth        -126.7865      2.576    -49.212      0.000    -131.840    -121.733\n",
       "KM                -0.0151      0.001    -12.860      0.000      -0.017      -0.013\n",
       "Weight            21.6541      1.623     13.341      0.000      18.470      24.838\n",
       "==============================================================================\n",
       "Omnibus:                      157.717   Durbin-Watson:                   1.756\n",
       "Prob(Omnibus):                  0.000   Jarque-Bera (JB):             1188.325\n",
       "Skew:                          -0.175   Prob(JB):                    9.09e-259\n",
       "Kurtosis:                       7.443   Cond. No.                     1.14e+16\n",
       "==============================================================================\n",
       "\n",
       "Notes:\n",
       "[1] Standard Errors assume that the covariance matrix of the errors is correctly specified.\n",
       "[2] The smallest eigenvalue is 6.74e-20. This might indicate that there are\n",
       "strong multicollinearity problems or that the design matrix is singular.\n",
       "\"\"\""
      ]
     },
     "execution_count": 48,
     "metadata": {},
     "output_type": "execute_result"
    }
   ],
   "source": [
    "# toyota.columns\n",
    "model1 = ols('Price~AgeMonth+KM+HP+CC+Doors+Gears+QurtTax+Weight',data=toyota).fit()\n",
    "model1.summary()"
   ]
  },
  {
   "cell_type": "code",
   "execution_count": 49,
   "metadata": {},
   "outputs": [
    {
     "data": {
      "text/html": [
       "<table class=\"simpletable\">\n",
       "<caption>OLS Regression Results</caption>\n",
       "<tr>\n",
       "  <th>Dep. Variable:</th>          <td>Price</td>      <th>  R-squared:         </th> <td>   0.901</td> \n",
       "</tr>\n",
       "<tr>\n",
       "  <th>Model:</th>                   <td>OLS</td>       <th>  Adj. R-squared:    </th> <td>   0.898</td> \n",
       "</tr>\n",
       "<tr>\n",
       "  <th>Method:</th>             <td>Least Squares</td>  <th>  F-statistic:       </th> <td>   310.6</td> \n",
       "</tr>\n",
       "<tr>\n",
       "  <th>Date:</th>             <td>Tue, 18 May 2021</td> <th>  Prob (F-statistic):</th>  <td>  0.00</td>  \n",
       "</tr>\n",
       "<tr>\n",
       "  <th>Time:</th>                 <td>16:12:07</td>     <th>  Log-Likelihood:    </th> <td> -12144.</td> \n",
       "</tr>\n",
       "<tr>\n",
       "  <th>No. Observations:</th>      <td>  1436</td>      <th>  AIC:               </th> <td>2.437e+04</td>\n",
       "</tr>\n",
       "<tr>\n",
       "  <th>Df Residuals:</th>          <td>  1394</td>      <th>  BIC:               </th> <td>2.459e+04</td>\n",
       "</tr>\n",
       "<tr>\n",
       "  <th>Df Model:</th>              <td>    41</td>      <th>                     </th>     <td> </td>    \n",
       "</tr>\n",
       "<tr>\n",
       "  <th>Covariance Type:</th>      <td>nonrobust</td>    <th>                     </th>     <td> </td>    \n",
       "</tr>\n",
       "</table>\n",
       "<table class=\"simpletable\">\n",
       "<tr>\n",
       "         <td></td>           <th>coef</th>     <th>std err</th>      <th>t</th>      <th>P>|t|</th>  <th>[0.025</th>    <th>0.975]</th>  \n",
       "</tr>\n",
       "<tr>\n",
       "  <th>Intercept</th>      <td>-1.264e+04</td> <td> 2374.108</td> <td>   -5.324</td> <td> 0.000</td> <td>-1.73e+04</td> <td>-7983.525</td>\n",
       "</tr>\n",
       "<tr>\n",
       "  <th>HP[T.71]</th>       <td>  483.3901</td> <td> 1494.199</td> <td>    0.324</td> <td> 0.746</td> <td>-2447.731</td> <td> 3414.511</td>\n",
       "</tr>\n",
       "<tr>\n",
       "  <th>HP[T.72]</th>       <td> 2451.0214</td> <td> 1168.646</td> <td>    2.097</td> <td> 0.036</td> <td>  158.527</td> <td> 4743.516</td>\n",
       "</tr>\n",
       "<tr>\n",
       "  <th>HP[T.73]</th>       <td> 2634.6945</td> <td> 2010.492</td> <td>    1.310</td> <td> 0.190</td> <td>-1309.222</td> <td> 6578.611</td>\n",
       "</tr>\n",
       "<tr>\n",
       "  <th>HP[T.86]</th>       <td>   78.4980</td> <td>  710.749</td> <td>    0.110</td> <td> 0.912</td> <td>-1315.755</td> <td> 1472.751</td>\n",
       "</tr>\n",
       "<tr>\n",
       "  <th>HP[T.90]</th>       <td>  195.7408</td> <td> 1269.528</td> <td>    0.154</td> <td> 0.877</td> <td>-2294.651</td> <td> 2686.133</td>\n",
       "</tr>\n",
       "<tr>\n",
       "  <th>HP[T.97]</th>       <td>   65.7083</td> <td> 1048.142</td> <td>    0.063</td> <td> 0.950</td> <td>-1990.397</td> <td> 2121.813</td>\n",
       "</tr>\n",
       "<tr>\n",
       "  <th>HP[T.98]</th>       <td> -105.8131</td> <td> 1290.528</td> <td>   -0.082</td> <td> 0.935</td> <td>-2637.400</td> <td> 2425.774</td>\n",
       "</tr>\n",
       "<tr>\n",
       "  <th>HP[T.107]</th>      <td> 2775.6858</td> <td> 1435.758</td> <td>    1.933</td> <td> 0.053</td> <td>  -40.794</td> <td> 5592.165</td>\n",
       "</tr>\n",
       "<tr>\n",
       "  <th>HP[T.110]</th>      <td> 2956.2514</td> <td> 1406.712</td> <td>    2.102</td> <td> 0.036</td> <td>  196.750</td> <td> 5715.753</td>\n",
       "</tr>\n",
       "<tr>\n",
       "  <th>HP[T.116]</th>      <td> 2715.2191</td> <td> 1318.155</td> <td>    2.060</td> <td> 0.040</td> <td>  129.438</td> <td> 5301.000</td>\n",
       "</tr>\n",
       "<tr>\n",
       "  <th>HP[T.192]</th>      <td> 5662.3735</td> <td>  822.876</td> <td>    6.881</td> <td> 0.000</td> <td> 4048.165</td> <td> 7276.582</td>\n",
       "</tr>\n",
       "<tr>\n",
       "  <th>CC[T.1332]</th>     <td>   36.7937</td> <td>  821.369</td> <td>    0.045</td> <td> 0.964</td> <td>-1574.460</td> <td> 1648.047</td>\n",
       "</tr>\n",
       "<tr>\n",
       "  <th>CC[T.1398]</th>     <td>-1714.8424</td> <td> 1418.847</td> <td>   -1.209</td> <td> 0.227</td> <td>-4498.149</td> <td> 1068.464</td>\n",
       "</tr>\n",
       "<tr>\n",
       "  <th>CC[T.1400]</th>     <td> -996.1983</td> <td> 1160.981</td> <td>   -0.858</td> <td> 0.391</td> <td>-3273.657</td> <td> 1281.260</td>\n",
       "</tr>\n",
       "<tr>\n",
       "  <th>CC[T.1587]</th>     <td>-3312.6249</td> <td> 1072.419</td> <td>   -3.089</td> <td> 0.002</td> <td>-5416.354</td> <td>-1208.896</td>\n",
       "</tr>\n",
       "<tr>\n",
       "  <th>CC[T.1598]</th>     <td>-1861.5521</td> <td> 1076.207</td> <td>   -1.730</td> <td> 0.084</td> <td>-3972.711</td> <td>  249.607</td>\n",
       "</tr>\n",
       "<tr>\n",
       "  <th>CC[T.1600]</th>     <td>-3371.8776</td> <td>  937.134</td> <td>   -3.598</td> <td> 0.000</td> <td>-5210.223</td> <td>-1533.532</td>\n",
       "</tr>\n",
       "<tr>\n",
       "  <th>CC[T.1800]</th>     <td>-2881.9613</td> <td>  909.187</td> <td>   -3.170</td> <td> 0.002</td> <td>-4665.484</td> <td>-1098.439</td>\n",
       "</tr>\n",
       "<tr>\n",
       "  <th>CC[T.1900]</th>     <td>  760.0601</td> <td>  725.397</td> <td>    1.048</td> <td> 0.295</td> <td> -662.928</td> <td> 2183.048</td>\n",
       "</tr>\n",
       "<tr>\n",
       "  <th>CC[T.1975]</th>     <td>   85.1106</td> <td> 1253.488</td> <td>    0.068</td> <td> 0.946</td> <td>-2373.816</td> <td> 2544.037</td>\n",
       "</tr>\n",
       "<tr>\n",
       "  <th>CC[T.1995]</th>     <td>-1547.1409</td> <td> 1058.961</td> <td>   -1.461</td> <td> 0.144</td> <td>-3624.469</td> <td>  530.188</td>\n",
       "</tr>\n",
       "<tr>\n",
       "  <th>CC[T.2000]</th>     <td>-1032.5322</td> <td>  706.367</td> <td>   -1.462</td> <td> 0.144</td> <td>-2418.190</td> <td>  353.126</td>\n",
       "</tr>\n",
       "<tr>\n",
       "  <th>Doors[T.3]</th>     <td> -197.6202</td> <td> 1170.167</td> <td>   -0.169</td> <td> 0.866</td> <td>-2493.097</td> <td> 2097.857</td>\n",
       "</tr>\n",
       "<tr>\n",
       "  <th>Doors[T.4]</th>     <td>  151.7015</td> <td> 1173.657</td> <td>    0.129</td> <td> 0.897</td> <td>-2150.624</td> <td> 2454.027</td>\n",
       "</tr>\n",
       "<tr>\n",
       "  <th>Doors[T.5]</th>     <td> -361.4931</td> <td> 1170.065</td> <td>   -0.309</td> <td> 0.757</td> <td>-2656.772</td> <td> 1933.786</td>\n",
       "</tr>\n",
       "<tr>\n",
       "  <th>Gears[T.4]</th>     <td> 2889.0054</td> <td> 1466.319</td> <td>    1.970</td> <td> 0.049</td> <td>   12.576</td> <td> 5765.435</td>\n",
       "</tr>\n",
       "<tr>\n",
       "  <th>Gears[T.5]</th>     <td> 1973.8982</td> <td>  901.794</td> <td>    2.189</td> <td> 0.029</td> <td>  204.878</td> <td> 3742.918</td>\n",
       "</tr>\n",
       "<tr>\n",
       "  <th>Gears[T.6]</th>     <td> 2220.0283</td> <td>  916.504</td> <td>    2.422</td> <td> 0.016</td> <td>  422.153</td> <td> 4017.903</td>\n",
       "</tr>\n",
       "<tr>\n",
       "  <th>QurtTax[T.40]</th>  <td>-4887.2029</td> <td> 1122.779</td> <td>   -4.353</td> <td> 0.000</td> <td>-7089.721</td> <td>-2684.685</td>\n",
       "</tr>\n",
       "<tr>\n",
       "  <th>QurtTax[T.64]</th>  <td>-4271.3649</td> <td>  399.885</td> <td>  -10.681</td> <td> 0.000</td> <td>-5055.806</td> <td>-3486.924</td>\n",
       "</tr>\n",
       "<tr>\n",
       "  <th>QurtTax[T.69]</th>  <td>  512.2094</td> <td>  163.617</td> <td>    3.131</td> <td> 0.002</td> <td>  191.247</td> <td>  833.172</td>\n",
       "</tr>\n",
       "<tr>\n",
       "  <th>QurtTax[T.72]</th>  <td> -993.2404</td> <td>  752.947</td> <td>   -1.319</td> <td> 0.187</td> <td>-2470.272</td> <td>  483.791</td>\n",
       "</tr>\n",
       "<tr>\n",
       "  <th>QurtTax[T.85]</th>  <td>  556.6238</td> <td>  151.934</td> <td>    3.664</td> <td> 0.000</td> <td>  258.579</td> <td>  854.668</td>\n",
       "</tr>\n",
       "<tr>\n",
       "  <th>QurtTax[T.100]</th> <td>  677.7790</td> <td>  414.136</td> <td>    1.637</td> <td> 0.102</td> <td> -134.617</td> <td> 1490.175</td>\n",
       "</tr>\n",
       "<tr>\n",
       "  <th>QurtTax[T.163]</th> <td>-5766.5840</td> <td> 1232.872</td> <td>   -4.677</td> <td> 0.000</td> <td>-8185.068</td> <td>-3348.100</td>\n",
       "</tr>\n",
       "<tr>\n",
       "  <th>QurtTax[T.185]</th> <td>-2956.4652</td> <td>  394.306</td> <td>   -7.498</td> <td> 0.000</td> <td>-3729.962</td> <td>-2182.968</td>\n",
       "</tr>\n",
       "<tr>\n",
       "  <th>QurtTax[T.197]</th> <td> -907.3533</td> <td>  351.851</td> <td>   -2.579</td> <td> 0.010</td> <td>-1597.569</td> <td> -217.138</td>\n",
       "</tr>\n",
       "<tr>\n",
       "  <th>QurtTax[T.210]</th> <td>-1793.7234</td> <td>  498.644</td> <td>   -3.597</td> <td> 0.000</td> <td>-2771.897</td> <td> -815.550</td>\n",
       "</tr>\n",
       "<tr>\n",
       "  <th>QurtTax[T.234]</th> <td>-1559.4555</td> <td>  504.924</td> <td>   -3.088</td> <td> 0.002</td> <td>-2549.948</td> <td> -568.963</td>\n",
       "</tr>\n",
       "<tr>\n",
       "  <th>QurtTax[T.283]</th> <td> 5189.3747</td> <td>  829.409</td> <td>    6.257</td> <td> 0.000</td> <td> 3562.350</td> <td> 6816.400</td>\n",
       "</tr>\n",
       "<tr>\n",
       "  <th>AgeMonth</th>       <td> -124.8924</td> <td>    2.644</td> <td>  -47.238</td> <td> 0.000</td> <td> -130.079</td> <td> -119.706</td>\n",
       "</tr>\n",
       "<tr>\n",
       "  <th>KM</th>             <td>   -0.0151</td> <td>    0.001</td> <td>  -12.723</td> <td> 0.000</td> <td>   -0.017</td> <td>   -0.013</td>\n",
       "</tr>\n",
       "<tr>\n",
       "  <th>Weight</th>         <td>   27.7475</td> <td>    1.852</td> <td>   14.986</td> <td> 0.000</td> <td>   24.115</td> <td>   31.380</td>\n",
       "</tr>\n",
       "</table>\n",
       "<table class=\"simpletable\">\n",
       "<tr>\n",
       "  <th>Omnibus:</th>       <td>121.680</td> <th>  Durbin-Watson:     </th> <td>   1.772</td> \n",
       "</tr>\n",
       "<tr>\n",
       "  <th>Prob(Omnibus):</th> <td> 0.000</td>  <th>  Jarque-Bera (JB):  </th> <td> 684.141</td> \n",
       "</tr>\n",
       "<tr>\n",
       "  <th>Skew:</th>          <td> 0.113</td>  <th>  Prob(JB):          </th> <td>2.76e-149</td>\n",
       "</tr>\n",
       "<tr>\n",
       "  <th>Kurtosis:</th>      <td> 6.374</td>  <th>  Cond. No.          </th> <td>1.14e+16</td> \n",
       "</tr>\n",
       "</table><br/><br/>Notes:<br/>[1] Standard Errors assume that the covariance matrix of the errors is correctly specified.<br/>[2] The smallest eigenvalue is 6.73e-20. This might indicate that there are<br/>strong multicollinearity problems or that the design matrix is singular."
      ],
      "text/plain": [
       "<class 'statsmodels.iolib.summary.Summary'>\n",
       "\"\"\"\n",
       "                            OLS Regression Results                            \n",
       "==============================================================================\n",
       "Dep. Variable:                  Price   R-squared:                       0.901\n",
       "Model:                            OLS   Adj. R-squared:                  0.898\n",
       "Method:                 Least Squares   F-statistic:                     310.6\n",
       "Date:                Tue, 18 May 2021   Prob (F-statistic):               0.00\n",
       "Time:                        16:12:07   Log-Likelihood:                -12144.\n",
       "No. Observations:                1436   AIC:                         2.437e+04\n",
       "Df Residuals:                    1394   BIC:                         2.459e+04\n",
       "Df Model:                          41                                         \n",
       "Covariance Type:            nonrobust                                         \n",
       "==================================================================================\n",
       "                     coef    std err          t      P>|t|      [0.025      0.975]\n",
       "----------------------------------------------------------------------------------\n",
       "Intercept      -1.264e+04   2374.108     -5.324      0.000   -1.73e+04   -7983.525\n",
       "HP[T.71]         483.3901   1494.199      0.324      0.746   -2447.731    3414.511\n",
       "HP[T.72]        2451.0214   1168.646      2.097      0.036     158.527    4743.516\n",
       "HP[T.73]        2634.6945   2010.492      1.310      0.190   -1309.222    6578.611\n",
       "HP[T.86]          78.4980    710.749      0.110      0.912   -1315.755    1472.751\n",
       "HP[T.90]         195.7408   1269.528      0.154      0.877   -2294.651    2686.133\n",
       "HP[T.97]          65.7083   1048.142      0.063      0.950   -1990.397    2121.813\n",
       "HP[T.98]        -105.8131   1290.528     -0.082      0.935   -2637.400    2425.774\n",
       "HP[T.107]       2775.6858   1435.758      1.933      0.053     -40.794    5592.165\n",
       "HP[T.110]       2956.2514   1406.712      2.102      0.036     196.750    5715.753\n",
       "HP[T.116]       2715.2191   1318.155      2.060      0.040     129.438    5301.000\n",
       "HP[T.192]       5662.3735    822.876      6.881      0.000    4048.165    7276.582\n",
       "CC[T.1332]        36.7937    821.369      0.045      0.964   -1574.460    1648.047\n",
       "CC[T.1398]     -1714.8424   1418.847     -1.209      0.227   -4498.149    1068.464\n",
       "CC[T.1400]      -996.1983   1160.981     -0.858      0.391   -3273.657    1281.260\n",
       "CC[T.1587]     -3312.6249   1072.419     -3.089      0.002   -5416.354   -1208.896\n",
       "CC[T.1598]     -1861.5521   1076.207     -1.730      0.084   -3972.711     249.607\n",
       "CC[T.1600]     -3371.8776    937.134     -3.598      0.000   -5210.223   -1533.532\n",
       "CC[T.1800]     -2881.9613    909.187     -3.170      0.002   -4665.484   -1098.439\n",
       "CC[T.1900]       760.0601    725.397      1.048      0.295    -662.928    2183.048\n",
       "CC[T.1975]        85.1106   1253.488      0.068      0.946   -2373.816    2544.037\n",
       "CC[T.1995]     -1547.1409   1058.961     -1.461      0.144   -3624.469     530.188\n",
       "CC[T.2000]     -1032.5322    706.367     -1.462      0.144   -2418.190     353.126\n",
       "Doors[T.3]      -197.6202   1170.167     -0.169      0.866   -2493.097    2097.857\n",
       "Doors[T.4]       151.7015   1173.657      0.129      0.897   -2150.624    2454.027\n",
       "Doors[T.5]      -361.4931   1170.065     -0.309      0.757   -2656.772    1933.786\n",
       "Gears[T.4]      2889.0054   1466.319      1.970      0.049      12.576    5765.435\n",
       "Gears[T.5]      1973.8982    901.794      2.189      0.029     204.878    3742.918\n",
       "Gears[T.6]      2220.0283    916.504      2.422      0.016     422.153    4017.903\n",
       "QurtTax[T.40]  -4887.2029   1122.779     -4.353      0.000   -7089.721   -2684.685\n",
       "QurtTax[T.64]  -4271.3649    399.885    -10.681      0.000   -5055.806   -3486.924\n",
       "QurtTax[T.69]    512.2094    163.617      3.131      0.002     191.247     833.172\n",
       "QurtTax[T.72]   -993.2404    752.947     -1.319      0.187   -2470.272     483.791\n",
       "QurtTax[T.85]    556.6238    151.934      3.664      0.000     258.579     854.668\n",
       "QurtTax[T.100]   677.7790    414.136      1.637      0.102    -134.617    1490.175\n",
       "QurtTax[T.163] -5766.5840   1232.872     -4.677      0.000   -8185.068   -3348.100\n",
       "QurtTax[T.185] -2956.4652    394.306     -7.498      0.000   -3729.962   -2182.968\n",
       "QurtTax[T.197]  -907.3533    351.851     -2.579      0.010   -1597.569    -217.138\n",
       "QurtTax[T.210] -1793.7234    498.644     -3.597      0.000   -2771.897    -815.550\n",
       "QurtTax[T.234] -1559.4555    504.924     -3.088      0.002   -2549.948    -568.963\n",
       "QurtTax[T.283]  5189.3747    829.409      6.257      0.000    3562.350    6816.400\n",
       "AgeMonth        -124.8924      2.644    -47.238      0.000    -130.079    -119.706\n",
       "KM                -0.0151      0.001    -12.723      0.000      -0.017      -0.013\n",
       "Weight            27.7475      1.852     14.986      0.000      24.115      31.380\n",
       "==============================================================================\n",
       "Omnibus:                      121.680   Durbin-Watson:                   1.772\n",
       "Prob(Omnibus):                  0.000   Jarque-Bera (JB):              684.141\n",
       "Skew:                           0.113   Prob(JB):                    2.76e-149\n",
       "Kurtosis:                       6.374   Cond. No.                     1.14e+16\n",
       "==============================================================================\n",
       "\n",
       "Notes:\n",
       "[1] Standard Errors assume that the covariance matrix of the errors is correctly specified.\n",
       "[2] The smallest eigenvalue is 6.73e-20. This might indicate that there are\n",
       "strong multicollinearity problems or that the design matrix is singular.\n",
       "\"\"\""
      ]
     },
     "execution_count": 49,
     "metadata": {},
     "output_type": "execute_result"
    }
   ],
   "source": [
    "model2 = ols('Price~AgeMonth+KM+HP+CC+Doors+Gears+QurtTax+Weight', data = toyota1).fit()\n",
    "model2.summary()"
   ]
  },
  {
   "cell_type": "code",
   "execution_count": 50,
   "metadata": {},
   "outputs": [
    {
     "data": {
      "text/html": [
       "<table class=\"simpletable\">\n",
       "<caption>OLS Regression Results</caption>\n",
       "<tr>\n",
       "  <th>Dep. Variable:</th>          <td>Price</td>      <th>  R-squared:         </th> <td>   0.787</td>\n",
       "</tr>\n",
       "<tr>\n",
       "  <th>Model:</th>                   <td>OLS</td>       <th>  Adj. R-squared:    </th> <td>   0.780</td>\n",
       "</tr>\n",
       "<tr>\n",
       "  <th>Method:</th>             <td>Least Squares</td>  <th>  F-statistic:       </th> <td>   125.3</td>\n",
       "</tr>\n",
       "<tr>\n",
       "  <th>Date:</th>             <td>Tue, 18 May 2021</td> <th>  Prob (F-statistic):</th>  <td>  0.00</td> \n",
       "</tr>\n",
       "<tr>\n",
       "  <th>Time:</th>                 <td>16:12:08</td>     <th>  Log-Likelihood:    </th> <td>  843.89</td>\n",
       "</tr>\n",
       "<tr>\n",
       "  <th>No. Observations:</th>      <td>  1436</td>      <th>  AIC:               </th> <td>  -1604.</td>\n",
       "</tr>\n",
       "<tr>\n",
       "  <th>Df Residuals:</th>          <td>  1394</td>      <th>  BIC:               </th> <td>  -1382.</td>\n",
       "</tr>\n",
       "<tr>\n",
       "  <th>Df Model:</th>              <td>    41</td>      <th>                     </th>     <td> </td>   \n",
       "</tr>\n",
       "<tr>\n",
       "  <th>Covariance Type:</th>      <td>nonrobust</td>    <th>                     </th>     <td> </td>   \n",
       "</tr>\n",
       "</table>\n",
       "<table class=\"simpletable\">\n",
       "<tr>\n",
       "         <td></td>           <th>coef</th>     <th>std err</th>      <th>t</th>      <th>P>|t|</th>  <th>[0.025</th>    <th>0.975]</th>  \n",
       "</tr>\n",
       "<tr>\n",
       "  <th>Intercept</th>      <td>    1.0948</td> <td>    1.469</td> <td>    0.745</td> <td> 0.456</td> <td>   -1.788</td> <td>    3.977</td>\n",
       "</tr>\n",
       "<tr>\n",
       "  <th>HP[T.71]</th>       <td>    0.2460</td> <td>    0.230</td> <td>    1.069</td> <td> 0.285</td> <td>   -0.206</td> <td>    0.698</td>\n",
       "</tr>\n",
       "<tr>\n",
       "  <th>HP[T.72]</th>       <td>    0.0092</td> <td>    0.138</td> <td>    0.067</td> <td> 0.947</td> <td>   -0.261</td> <td>    0.279</td>\n",
       "</tr>\n",
       "<tr>\n",
       "  <th>HP[T.73]</th>       <td>-2.532e-05</td> <td>    0.237</td> <td>   -0.000</td> <td> 1.000</td> <td>   -0.465</td> <td>    0.465</td>\n",
       "</tr>\n",
       "<tr>\n",
       "  <th>HP[T.86]</th>       <td>    0.2021</td> <td>    0.165</td> <td>    1.225</td> <td> 0.221</td> <td>   -0.122</td> <td>    0.526</td>\n",
       "</tr>\n",
       "<tr>\n",
       "  <th>HP[T.90]</th>       <td>    0.0212</td> <td>    0.149</td> <td>    0.142</td> <td> 0.887</td> <td>   -0.272</td> <td>    0.314</td>\n",
       "</tr>\n",
       "<tr>\n",
       "  <th>HP[T.97]</th>       <td>    0.3410</td> <td>    0.188</td> <td>    1.811</td> <td> 0.070</td> <td>   -0.028</td> <td>    0.710</td>\n",
       "</tr>\n",
       "<tr>\n",
       "  <th>HP[T.98]</th>       <td>   -0.2433</td> <td>    0.207</td> <td>   -1.178</td> <td> 0.239</td> <td>   -0.648</td> <td>    0.162</td>\n",
       "</tr>\n",
       "<tr>\n",
       "  <th>HP[T.107]</th>      <td>    0.1003</td> <td>    0.169</td> <td>    0.593</td> <td> 0.553</td> <td>   -0.231</td> <td>    0.432</td>\n",
       "</tr>\n",
       "<tr>\n",
       "  <th>HP[T.110]</th>      <td>    0.1130</td> <td>    0.166</td> <td>    0.682</td> <td> 0.495</td> <td>   -0.212</td> <td>    0.438</td>\n",
       "</tr>\n",
       "<tr>\n",
       "  <th>HP[T.116]</th>      <td>   -0.0554</td> <td>    0.156</td> <td>   -0.356</td> <td> 0.722</td> <td>   -0.361</td> <td>    0.250</td>\n",
       "</tr>\n",
       "<tr>\n",
       "  <th>HP[T.192]</th>      <td>    0.8712</td> <td>    0.116</td> <td>    7.520</td> <td> 0.000</td> <td>    0.644</td> <td>    1.098</td>\n",
       "</tr>\n",
       "<tr>\n",
       "  <th>CC[T.1332]</th>     <td>    0.0115</td> <td>    0.097</td> <td>    0.119</td> <td> 0.906</td> <td>   -0.179</td> <td>    0.202</td>\n",
       "</tr>\n",
       "<tr>\n",
       "  <th>CC[T.1398]</th>     <td>   -0.1135</td> <td>    0.167</td> <td>   -0.678</td> <td> 0.498</td> <td>   -0.442</td> <td>    0.215</td>\n",
       "</tr>\n",
       "<tr>\n",
       "  <th>CC[T.1400]</th>     <td>   -0.0822</td> <td>    0.137</td> <td>   -0.600</td> <td> 0.549</td> <td>   -0.351</td> <td>    0.187</td>\n",
       "</tr>\n",
       "<tr>\n",
       "  <th>CC[T.1587]</th>     <td>    0.1357</td> <td>    0.184</td> <td>    0.737</td> <td> 0.461</td> <td>   -0.226</td> <td>    0.497</td>\n",
       "</tr>\n",
       "<tr>\n",
       "  <th>CC[T.1598]</th>     <td>    0.2219</td> <td>    0.186</td> <td>    1.192</td> <td> 0.234</td> <td>   -0.143</td> <td>    0.587</td>\n",
       "</tr>\n",
       "<tr>\n",
       "  <th>CC[T.1600]</th>     <td>    0.1143</td> <td>    0.175</td> <td>    0.653</td> <td> 0.514</td> <td>   -0.229</td> <td>    0.458</td>\n",
       "</tr>\n",
       "<tr>\n",
       "  <th>CC[T.1800]</th>     <td>   -0.4646</td> <td>    0.139</td> <td>   -3.348</td> <td> 0.001</td> <td>   -0.737</td> <td>   -0.192</td>\n",
       "</tr>\n",
       "<tr>\n",
       "  <th>CC[T.1900]</th>     <td>    0.1803</td> <td>    0.126</td> <td>    1.431</td> <td> 0.153</td> <td>   -0.067</td> <td>    0.428</td>\n",
       "</tr>\n",
       "<tr>\n",
       "  <th>CC[T.1975]</th>     <td>    0.1421</td> <td>    0.174</td> <td>    0.815</td> <td> 0.415</td> <td>   -0.200</td> <td>    0.484</td>\n",
       "</tr>\n",
       "<tr>\n",
       "  <th>CC[T.1995]</th>     <td>    0.1257</td> <td>    0.158</td> <td>    0.794</td> <td> 0.427</td> <td>   -0.185</td> <td>    0.436</td>\n",
       "</tr>\n",
       "<tr>\n",
       "  <th>CC[T.2000]</th>     <td>    0.0934</td> <td>    0.127</td> <td>    0.735</td> <td> 0.463</td> <td>   -0.156</td> <td>    0.343</td>\n",
       "</tr>\n",
       "<tr>\n",
       "  <th>Doors[T.3]</th>     <td>   -0.0223</td> <td>    0.138</td> <td>   -0.161</td> <td> 0.872</td> <td>   -0.293</td> <td>    0.249</td>\n",
       "</tr>\n",
       "<tr>\n",
       "  <th>Doors[T.4]</th>     <td>   -0.0087</td> <td>    0.139</td> <td>   -0.063</td> <td> 0.950</td> <td>   -0.280</td> <td>    0.263</td>\n",
       "</tr>\n",
       "<tr>\n",
       "  <th>Doors[T.5]</th>     <td>   -0.0204</td> <td>    0.138</td> <td>   -0.148</td> <td> 0.882</td> <td>   -0.291</td> <td>    0.251</td>\n",
       "</tr>\n",
       "<tr>\n",
       "  <th>Gears[T.4]</th>     <td>    0.1198</td> <td>    0.173</td> <td>    0.692</td> <td> 0.489</td> <td>   -0.220</td> <td>    0.459</td>\n",
       "</tr>\n",
       "<tr>\n",
       "  <th>Gears[T.5]</th>     <td>    0.0212</td> <td>    0.106</td> <td>    0.200</td> <td> 0.842</td> <td>   -0.187</td> <td>    0.230</td>\n",
       "</tr>\n",
       "<tr>\n",
       "  <th>Gears[T.6]</th>     <td>    0.0717</td> <td>    0.108</td> <td>    0.664</td> <td> 0.507</td> <td>   -0.140</td> <td>    0.284</td>\n",
       "</tr>\n",
       "<tr>\n",
       "  <th>QurtTax[T.40]</th>  <td>   -0.3658</td> <td>    0.148</td> <td>   -2.476</td> <td> 0.013</td> <td>   -0.656</td> <td>   -0.076</td>\n",
       "</tr>\n",
       "<tr>\n",
       "  <th>QurtTax[T.64]</th>  <td>   -0.1646</td> <td>    0.078</td> <td>   -2.118</td> <td> 0.034</td> <td>   -0.317</td> <td>   -0.012</td>\n",
       "</tr>\n",
       "<tr>\n",
       "  <th>QurtTax[T.69]</th>  <td>    0.0436</td> <td>    0.019</td> <td>    2.248</td> <td> 0.025</td> <td>    0.006</td> <td>    0.082</td>\n",
       "</tr>\n",
       "<tr>\n",
       "  <th>QurtTax[T.72]</th>  <td>   -0.1420</td> <td>    0.089</td> <td>   -1.603</td> <td> 0.109</td> <td>   -0.316</td> <td>    0.032</td>\n",
       "</tr>\n",
       "<tr>\n",
       "  <th>QurtTax[T.85]</th>  <td>    0.0788</td> <td>    0.018</td> <td>    4.370</td> <td> 0.000</td> <td>    0.043</td> <td>    0.114</td>\n",
       "</tr>\n",
       "<tr>\n",
       "  <th>QurtTax[T.100]</th> <td>    0.1703</td> <td>    0.048</td> <td>    3.513</td> <td> 0.000</td> <td>    0.075</td> <td>    0.265</td>\n",
       "</tr>\n",
       "<tr>\n",
       "  <th>QurtTax[T.163]</th> <td>   -0.3800</td> <td>    0.164</td> <td>   -2.313</td> <td> 0.021</td> <td>   -0.702</td> <td>   -0.058</td>\n",
       "</tr>\n",
       "<tr>\n",
       "  <th>QurtTax[T.185]</th> <td>   -0.0212</td> <td>    0.075</td> <td>   -0.281</td> <td> 0.779</td> <td>   -0.169</td> <td>    0.126</td>\n",
       "</tr>\n",
       "<tr>\n",
       "  <th>QurtTax[T.197]</th> <td>   -0.0784</td> <td>    0.041</td> <td>   -1.910</td> <td> 0.056</td> <td>   -0.159</td> <td>    0.002</td>\n",
       "</tr>\n",
       "<tr>\n",
       "  <th>QurtTax[T.210]</th> <td>    0.1283</td> <td>    0.084</td> <td>    1.519</td> <td> 0.129</td> <td>   -0.037</td> <td>    0.294</td>\n",
       "</tr>\n",
       "<tr>\n",
       "  <th>QurtTax[T.234]</th> <td>    0.1129</td> <td>    0.088</td> <td>    1.286</td> <td> 0.199</td> <td>   -0.059</td> <td>    0.285</td>\n",
       "</tr>\n",
       "<tr>\n",
       "  <th>QurtTax[T.283]</th> <td>   -0.4840</td> <td>    0.135</td> <td>   -3.591</td> <td> 0.000</td> <td>   -0.748</td> <td>   -0.220</td>\n",
       "</tr>\n",
       "<tr>\n",
       "  <th>AgeMonth</th>       <td>   -0.4066</td> <td>    0.012</td> <td>  -33.177</td> <td> 0.000</td> <td>   -0.431</td> <td>   -0.383</td>\n",
       "</tr>\n",
       "<tr>\n",
       "  <th>KM</th>             <td>    0.0029</td> <td>    0.005</td> <td>    0.574</td> <td> 0.566</td> <td>   -0.007</td> <td>    0.013</td>\n",
       "</tr>\n",
       "<tr>\n",
       "  <th>Weight</th>         <td>    1.3528</td> <td>    0.228</td> <td>    5.944</td> <td> 0.000</td> <td>    0.906</td> <td>    1.799</td>\n",
       "</tr>\n",
       "</table>\n",
       "<table class=\"simpletable\">\n",
       "<tr>\n",
       "  <th>Omnibus:</th>       <td>196.567</td> <th>  Durbin-Watson:     </th> <td>   1.316</td> \n",
       "</tr>\n",
       "<tr>\n",
       "  <th>Prob(Omnibus):</th> <td> 0.000</td>  <th>  Jarque-Bera (JB):  </th> <td> 678.477</td> \n",
       "</tr>\n",
       "<tr>\n",
       "  <th>Skew:</th>          <td>-0.653</td>  <th>  Prob(JB):          </th> <td>4.68e-148</td>\n",
       "</tr>\n",
       "<tr>\n",
       "  <th>Kurtosis:</th>      <td> 6.103</td>  <th>  Cond. No.          </th> <td>1.01e+16</td> \n",
       "</tr>\n",
       "</table><br/><br/>Notes:<br/>[1] Standard Errors assume that the covariance matrix of the errors is correctly specified.<br/>[2] The smallest eigenvalue is 2.66e-27. This might indicate that there are<br/>strong multicollinearity problems or that the design matrix is singular."
      ],
      "text/plain": [
       "<class 'statsmodels.iolib.summary.Summary'>\n",
       "\"\"\"\n",
       "                            OLS Regression Results                            \n",
       "==============================================================================\n",
       "Dep. Variable:                  Price   R-squared:                       0.787\n",
       "Model:                            OLS   Adj. R-squared:                  0.780\n",
       "Method:                 Least Squares   F-statistic:                     125.3\n",
       "Date:                Tue, 18 May 2021   Prob (F-statistic):               0.00\n",
       "Time:                        16:12:08   Log-Likelihood:                 843.89\n",
       "No. Observations:                1436   AIC:                            -1604.\n",
       "Df Residuals:                    1394   BIC:                            -1382.\n",
       "Df Model:                          41                                         \n",
       "Covariance Type:            nonrobust                                         \n",
       "==================================================================================\n",
       "                     coef    std err          t      P>|t|      [0.025      0.975]\n",
       "----------------------------------------------------------------------------------\n",
       "Intercept          1.0948      1.469      0.745      0.456      -1.788       3.977\n",
       "HP[T.71]           0.2460      0.230      1.069      0.285      -0.206       0.698\n",
       "HP[T.72]           0.0092      0.138      0.067      0.947      -0.261       0.279\n",
       "HP[T.73]       -2.532e-05      0.237     -0.000      1.000      -0.465       0.465\n",
       "HP[T.86]           0.2021      0.165      1.225      0.221      -0.122       0.526\n",
       "HP[T.90]           0.0212      0.149      0.142      0.887      -0.272       0.314\n",
       "HP[T.97]           0.3410      0.188      1.811      0.070      -0.028       0.710\n",
       "HP[T.98]          -0.2433      0.207     -1.178      0.239      -0.648       0.162\n",
       "HP[T.107]          0.1003      0.169      0.593      0.553      -0.231       0.432\n",
       "HP[T.110]          0.1130      0.166      0.682      0.495      -0.212       0.438\n",
       "HP[T.116]         -0.0554      0.156     -0.356      0.722      -0.361       0.250\n",
       "HP[T.192]          0.8712      0.116      7.520      0.000       0.644       1.098\n",
       "CC[T.1332]         0.0115      0.097      0.119      0.906      -0.179       0.202\n",
       "CC[T.1398]        -0.1135      0.167     -0.678      0.498      -0.442       0.215\n",
       "CC[T.1400]        -0.0822      0.137     -0.600      0.549      -0.351       0.187\n",
       "CC[T.1587]         0.1357      0.184      0.737      0.461      -0.226       0.497\n",
       "CC[T.1598]         0.2219      0.186      1.192      0.234      -0.143       0.587\n",
       "CC[T.1600]         0.1143      0.175      0.653      0.514      -0.229       0.458\n",
       "CC[T.1800]        -0.4646      0.139     -3.348      0.001      -0.737      -0.192\n",
       "CC[T.1900]         0.1803      0.126      1.431      0.153      -0.067       0.428\n",
       "CC[T.1975]         0.1421      0.174      0.815      0.415      -0.200       0.484\n",
       "CC[T.1995]         0.1257      0.158      0.794      0.427      -0.185       0.436\n",
       "CC[T.2000]         0.0934      0.127      0.735      0.463      -0.156       0.343\n",
       "Doors[T.3]        -0.0223      0.138     -0.161      0.872      -0.293       0.249\n",
       "Doors[T.4]        -0.0087      0.139     -0.063      0.950      -0.280       0.263\n",
       "Doors[T.5]        -0.0204      0.138     -0.148      0.882      -0.291       0.251\n",
       "Gears[T.4]         0.1198      0.173      0.692      0.489      -0.220       0.459\n",
       "Gears[T.5]         0.0212      0.106      0.200      0.842      -0.187       0.230\n",
       "Gears[T.6]         0.0717      0.108      0.664      0.507      -0.140       0.284\n",
       "QurtTax[T.40]     -0.3658      0.148     -2.476      0.013      -0.656      -0.076\n",
       "QurtTax[T.64]     -0.1646      0.078     -2.118      0.034      -0.317      -0.012\n",
       "QurtTax[T.69]      0.0436      0.019      2.248      0.025       0.006       0.082\n",
       "QurtTax[T.72]     -0.1420      0.089     -1.603      0.109      -0.316       0.032\n",
       "QurtTax[T.85]      0.0788      0.018      4.370      0.000       0.043       0.114\n",
       "QurtTax[T.100]     0.1703      0.048      3.513      0.000       0.075       0.265\n",
       "QurtTax[T.163]    -0.3800      0.164     -2.313      0.021      -0.702      -0.058\n",
       "QurtTax[T.185]    -0.0212      0.075     -0.281      0.779      -0.169       0.126\n",
       "QurtTax[T.197]    -0.0784      0.041     -1.910      0.056      -0.159       0.002\n",
       "QurtTax[T.210]     0.1283      0.084      1.519      0.129      -0.037       0.294\n",
       "QurtTax[T.234]     0.1129      0.088      1.286      0.199      -0.059       0.285\n",
       "QurtTax[T.283]    -0.4840      0.135     -3.591      0.000      -0.748      -0.220\n",
       "AgeMonth          -0.4066      0.012    -33.177      0.000      -0.431      -0.383\n",
       "KM                 0.0029      0.005      0.574      0.566      -0.007       0.013\n",
       "Weight             1.3528      0.228      5.944      0.000       0.906       1.799\n",
       "==============================================================================\n",
       "Omnibus:                      196.567   Durbin-Watson:                   1.316\n",
       "Prob(Omnibus):                  0.000   Jarque-Bera (JB):              678.477\n",
       "Skew:                          -0.653   Prob(JB):                    4.68e-148\n",
       "Kurtosis:                       6.103   Cond. No.                     1.01e+16\n",
       "==============================================================================\n",
       "\n",
       "Notes:\n",
       "[1] Standard Errors assume that the covariance matrix of the errors is correctly specified.\n",
       "[2] The smallest eigenvalue is 2.66e-27. This might indicate that there are\n",
       "strong multicollinearity problems or that the design matrix is singular.\n",
       "\"\"\""
      ]
     },
     "execution_count": 50,
     "metadata": {},
     "output_type": "execute_result"
    }
   ],
   "source": [
    "model3 = ols('Price~AgeMonth+KM+HP+CC+Doors+Gears+QurtTax+Weight', data = toyota3).fit()\n",
    "model3.summary()"
   ]
  },
  {
   "cell_type": "markdown",
   "metadata": {},
   "source": [
    "## Analysing model 2\n",
    "\n",
    "### Residual analysis for model 2\n",
    "\n",
    "#### Test of normality of residuals"
   ]
  },
  {
   "cell_type": "code",
   "execution_count": 51,
   "metadata": {},
   "outputs": [
    {
     "data": {
      "image/png": "[encoded data removed]",
      "text/plain": [
       "<Figure size 432x288 with 1 Axes>"
      ]
     },
     "metadata": {
      "needs_background": "light"
     },
     "output_type": "display_data"
    }
   ],
   "source": [
    "import statsmodels.api as sm\n",
    "sm.qqplot(model1.resid,line='q')\n",
    "plt.title('normal Q-Q plot for residuals')\n",
    "plt.show()"
   ]
  },
  {
   "cell_type": "code",
   "execution_count": 52,
   "metadata": {},
   "outputs": [
    {
     "data": {
      "text/plain": [
       "[array([601, 960], dtype=int64)]"
      ]
     },
     "execution_count": 52,
     "metadata": {},
     "output_type": "execute_result"
    }
   ],
   "source": [
    "list(np.where(model1.resid < -5000))"
   ]
  },
  {
   "cell_type": "code",
   "execution_count": 53,
   "metadata": {},
   "outputs": [
    {
     "data": {
      "text/plain": [
       "[array([ 523, 1058], dtype=int64)]"
      ]
     },
     "execution_count": 53,
     "metadata": {},
     "output_type": "execute_result"
    }
   ],
   "source": [
    "list(np.where(model1.resid > 5000))"
   ]
  },
  {
   "cell_type": "markdown",
   "metadata": {},
   "source": [
    "#### Residual plot for homoscedasticity"
   ]
  },
  {
   "cell_type": "code",
   "execution_count": 54,
   "metadata": {},
   "outputs": [],
   "source": [
    "def get_stdiz_val(vals):\n",
    "    return (vals - vals.mean())/vals.std()"
   ]
  },
  {
   "cell_type": "code",
   "execution_count": 55,
   "metadata": {},
   "outputs": [
    {
     "data": {
      "image/png": "[encoded data removed]",
      "text/plain": [
       "<Figure size 360x360 with 1 Axes>"
      ]
     },
     "metadata": {
      "needs_background": "light"
     },
     "output_type": "display_data"
    }
   ],
   "source": [
    "plt.figure(figsize = (5,5))\n",
    "plt.scatter(get_stdiz_val(model1.fittedvalues), get_stdiz_val(model1.resid))\n",
    "plt.title('Residual Plot')\n",
    "plt.xlabel('Standardized Fitted Values')\n",
    "plt.ylabel('Standardized Residual Values')\n",
    "plt.show()"
   ]
  },
  {
   "cell_type": "markdown",
   "metadata": {},
   "source": [
    "***AS WE CAN SEE THE RESUDUALS ARE FOLLOWING ALMOST NORMAL DISTRIBUTION AND THEY ARE DISPERSED AROUND MEAN SYMITRICALLY AND THERE IS NO VISIBLE PATTERN WE CAN SAY THAT OUT MODEL IS NOT BIASED."
   ]
  },
  {
   "cell_type": "markdown",
   "metadata": {},
   "source": [
    "#### RESIDUALS VS REGRESSORS"
   ]
  },
  {
   "cell_type": "code",
   "execution_count": 56,
   "metadata": {},
   "outputs": [
    {
     "data": {
      "image/png": "[encoded data removed]",
      "text/plain": [
       "<Figure size 1152x432 with 4 Axes>"
      ]
     },
     "metadata": {
      "needs_background": "light"
     },
     "output_type": "display_data"
    }
   ],
   "source": [
    "fig = plt.figure(figsize = (16,6))\n",
    "fig = sm.graphics.plot_regress_exog(model1, 'AgeMonth', fig=fig)"
   ]
  },
  {
   "cell_type": "markdown",
   "metadata": {},
   "source": [
    "## Model Deletion Diagnostics\n",
    "\n",
    "#### Identifying and deleting Influencers / outliers\n",
    "\n",
    "##### Cooks Distance"
   ]
  },
  {
   "cell_type": "code",
   "execution_count": 57,
   "metadata": {},
   "outputs": [],
   "source": [
    "model1_influence = model1.get_influence()\n",
    "(c,_) = model1_influence.cooks_distance"
   ]
  },
  {
   "cell_type": "code",
   "execution_count": 58,
   "metadata": {},
   "outputs": [
    {
     "data": {
      "image/png": "[encoded data removed]",
      "text/plain": [
       "<Figure size 1440x288 with 1 Axes>"
      ]
     },
     "metadata": {
      "needs_background": "light"
     },
     "output_type": "display_data"
    }
   ],
   "source": [
    "# plotting the influence values\n",
    "fig = plt.subplots(figsize=(20, 4))\n",
    "plt.stem(np.arange(len(toyota3)), np.round(c, 3))\n",
    "plt.xlabel('Row index')\n",
    "plt.ylabel('Cooks Distance')\n",
    "plt.show()"
   ]
  },
  {
   "cell_type": "code",
   "execution_count": 59,
   "metadata": {},
   "outputs": [
    {
     "data": {
      "text/plain": [
       "(761, nan)"
      ]
     },
     "execution_count": 59,
     "metadata": {},
     "output_type": "execute_result"
    }
   ],
   "source": [
    "(np.argmax(c),np.max(c)) # as the std value is less than 1 we will ignore"
   ]
  },
  {
   "cell_type": "markdown",
   "metadata": {},
   "source": [
    "#### High influence points"
   ]
  },
  {
   "cell_type": "code",
   "execution_count": 71,
   "metadata": {},
   "outputs": [
    {
     "data": {
      "image/png": "[encoded data removed]",
      "text/plain": [
       "<Figure size 432x288 with 1 Axes>"
      ]
     },
     "metadata": {
      "needs_background": "light"
     },
     "output_type": "display_data"
    }
   ],
   "source": [
    "from statsmodels.graphics.regressionplots import influence_plot\n",
    "influence_plot(model1)\n",
    "plt.show()"
   ]
  },
  {
   "cell_type": "markdown",
   "metadata": {},
   "source": [
    "## Analyzing model3\n",
    "\n",
    "### Residual analysis\n",
    "\n",
    "#### Test of narmality of residuals"
   ]
  },
  {
   "cell_type": "code",
   "execution_count": 64,
   "metadata": {},
   "outputs": [
    {
     "data": {
      "image/png": "[encoded data removed]",
      "text/plain": [
       "<Figure size 432x288 with 1 Axes>"
      ]
     },
     "metadata": {
      "needs_background": "light"
     },
     "output_type": "display_data"
    }
   ],
   "source": [
    "sm.qqplot(model3.resid,line='q')\n",
    "plt.title('Normal Q-Q plot for residuals')\n",
    "plt.show()"
   ]
  },
  {
   "cell_type": "code",
   "execution_count": 70,
   "metadata": {},
   "outputs": [
    {
     "data": {
      "text/plain": [
       "(array([ 182,  183,  184,  185,  379, 1047, 1048, 1056, 1064, 1093, 1113,\n",
       "        1351], dtype=int64),)"
      ]
     },
     "execution_count": 70,
     "metadata": {},
     "output_type": "execute_result"
    }
   ],
   "source": [
    "np.where(model3.resid < -.4)"
   ]
  },
  {
   "cell_type": "markdown",
   "metadata": {},
   "source": [
    "#### Residual plot for Homoscesticity"
   ]
  },
  {
   "cell_type": "code",
   "execution_count": null,
   "metadata": {},
   "outputs": [],
   "source": [
    "plt.scatter(get_stdiz_val(model4.fittedvalues),get_stdiz_val(model4.resid))\n",
    "plt.title('Residual Plot')\n",
    "plt.xlabel('Standardized fitted values')\n",
    "plt.ylabel('Standardized residual Values')\n",
    "plt.show()"
   ]
  },
  {
   "cell_type": "markdown",
   "metadata": {},
   "source": [
    "### Residual vs Regressor"
   ]
  },
  {
   "cell_type": "code",
   "execution_count": 72,
   "metadata": {},
   "outputs": [
    {
     "data": {
      "image/png": "[encoded data removed]",
      "text/plain": [
       "<Figure size 1008x432 with 4 Axes>"
      ]
     },
     "metadata": {
      "needs_background": "light"
     },
     "output_type": "display_data"
    }
   ],
   "source": [
    "fig = plt.figure(figsize = (14 , 6))\n",
    "fig = sm.graphics.plot_regress_exog(model3,'AgeMonth',fig=fig)\n",
    "plt.show()"
   ]
  },
  {
   "cell_type": "code",
   "execution_count": 73,
   "metadata": {},
   "outputs": [
    {
     "data": {
      "image/png": "[encoded data removed]",
      "text/plain": [
       "<Figure size 1080x576 with 4 Axes>"
      ]
     },
     "metadata": {
      "needs_background": "light"
     },
     "output_type": "display_data"
    }
   ],
   "source": [
    "fig = plt.figure(figsize = (15,8))\n",
    "fig = sm.graphics.plot_regress_exog(model3,'KM',fig=fig)\n",
    "plt.show()"
   ]
  },
  {
   "cell_type": "code",
   "execution_count": 74,
   "metadata": {},
   "outputs": [
    {
     "data": {
      "image/png": "[encoded data removed]",
      "text/plain": [
       "<Figure size 1008x432 with 4 Axes>"
      ]
     },
     "metadata": {
      "needs_background": "light"
     },
     "output_type": "display_data"
    }
   ],
   "source": [
    "fig = plt.figure(figsize = (14,6))\n",
    "fig = sm.graphics.plot_regress_exog(model3,'Weight',fig=fig)\n",
    "plt.show()"
   ]
  },
  {
   "cell_type": "markdown",
   "metadata": {},
   "source": [
    "## Model Deletion Diagnostics\n",
    "\n",
    "#### Identifying and deleting Influencers / outliers\n",
    "\n",
    "##### Cooks Distance"
   ]
  },
  {
   "cell_type": "code",
   "execution_count": null,
   "metadata": {},
   "outputs": [],
   "source": [
    "m4 = model4.get_influence()\n",
    "(c4,_) = m4.cooks_distance"
   ]
  },
  {
   "cell_type": "code",
   "execution_count": null,
   "metadata": {},
   "outputs": [],
   "source": [
    "plt.subplots(figsize = (20,4))\n",
    "plt.stem(np.arange(len(toyota2)),np.round(c4,3))\n",
    "# plt.stem(np.arange(len(cars)), np.round(c, 3))\n",
    "plt.xlabel('Row Index')\n",
    "plt.ylabel('Cooks Distance')\n",
    "plt.show()"
   ]
  },
  {
   "cell_type": "code",
   "execution_count": null,
   "metadata": {},
   "outputs": [],
   "source": [
    "(np.argmax(c4),np.max(c4))"
   ]
  },
  {
   "cell_type": "markdown",
   "metadata": {},
   "source": [
    "#### High Influence Points"
   ]
  },
  {
   "cell_type": "code",
   "execution_count": null,
   "metadata": {},
   "outputs": [],
   "source": [
    "influence_plot(model4)\n",
    "plt.show()"
   ]
  },
  {
   "cell_type": "code",
   "execution_count": null,
   "metadata": {},
   "outputs": [],
   "source": [
    "toyota2 = toyota2.reset_index(drop=True)\n",
    "toyota2"
   ]
  },
  {
   "cell_type": "code",
   "execution_count": null,
   "metadata": {},
   "outputs": [],
   "source": [
    "toyota3 = toyota3.reset_index(drop=True)"
   ]
  },
  {
   "cell_type": "code",
   "execution_count": null,
   "metadata": {},
   "outputs": [],
   "source": [
    "toyota2[toyota2.index.isin([74])]"
   ]
  },
  {
   "cell_type": "code",
   "execution_count": null,
   "metadata": {},
   "outputs": [],
   "source": [
    "toyota2.iloc[70:80,:] # as we can see the price is an outlier compared to other collums with age and KM. hence drop"
   ]
  },
  {
   "cell_type": "code",
   "execution_count": null,
   "metadata": {},
   "outputs": [],
   "source": [
    "toyota2.drop([74],inplace = True)\n",
    "toyota.reset_index(drop=True)\n",
    "toyota2"
   ]
  },
  {
   "cell_type": "markdown",
   "metadata": {},
   "source": [
    "### Final Model building and testing\n",
    "\n",
    "#### Final Model 1"
   ]
  },
  {
   "cell_type": "code",
   "execution_count": null,
   "metadata": {},
   "outputs": [],
   "source": [
    "F_model1 = ols('Price~AgeMonth+KM+HP+CC+Doors+Gears+QurtTax+Weight',data=toyota).fit()\n",
    "\n",
    "(F_model1.rsquared,F_model1.aic)"
   ]
  },
  {
   "cell_type": "code",
   "execution_count": null,
   "metadata": {},
   "outputs": [],
   "source": [
    "pred1 = F_model1.predict(toyota)\n",
    "resid1 = pred1 - toyota.Price"
   ]
  },
  {
   "cell_type": "code",
   "execution_count": null,
   "metadata": {},
   "outputs": [],
   "source": [
    "rmse1 = np.sqrt(np.mean(resid1*resid1))\n",
    "rmse1"
   ]
  },
  {
   "cell_type": "code",
   "execution_count": null,
   "metadata": {},
   "outputs": [],
   "source": [
    "pred1 = Final_M1.predict(toyota3)\n",
    "resid1 = pred1 - toyota3.Price\n",
    "rmse1 = np.sqrt(np.mean(resid1*resid1))\n",
    "rmse1"
   ]
  },
  {
   "cell_type": "code",
   "execution_count": null,
   "metadata": {},
   "outputs": [],
   "source": []
  },
  {
   "cell_type": "markdown",
   "metadata": {},
   "source": [
    "#### Final model 2"
   ]
  },
  {
   "cell_type": "code",
   "execution_count": null,
   "metadata": {},
   "outputs": [],
   "source": [
    "Final_M2 = ols('Price~AgeMonth+KM+HP+Doors+Gears+QurtTax+Weight',data=toyota1).fit()\n",
    "(Final_M2.rsquared,Final_M2.aic)"
   ]
  },
  {
   "cell_type": "code",
   "execution_count": null,
   "metadata": {},
   "outputs": [],
   "source": [
    "pred2 = Final_M2.predict(toyota1)\n",
    "resid2 = pred2 - toyota.Price"
   ]
  },
  {
   "cell_type": "code",
   "execution_count": null,
   "metadata": {},
   "outputs": [],
   "source": [
    "rmse2 = np.sqrt(np.mean(resid2*resid2))\n",
    "rmse2"
   ]
  },
  {
   "cell_type": "markdown",
   "metadata": {},
   "source": [
    "***As Root mean Square for model1 is less than model 2 we choose model 1***"
   ]
  },
  {
   "cell_type": "code",
   "execution_count": null,
   "metadata": {},
   "outputs": [],
   "source": []
  }
 ],
 "metadata": {
  "hide_input": false,
  "kernelspec": {
   "display_name": "Python 3",
   "language": "python",
   "name": "python3"
  },
  "language_info": {
   "codemirror_mode": {
    "name": "ipython",
    "version": 3
   },
   "file_extension": ".py",
   "mimetype": "text/x-python",
   "name": "python",
   "nbconvert_exporter": "python",
   "pygments_lexer": "ipython3",
   "version": "3.8.10"
  },
  "toc": {
   "base_numbering": 1,
   "nav_menu": {},
   "number_sections": true,
   "sideBar": true,
   "skip_h1_title": false,
   "title_cell": "Table of Contents",
   "title_sidebar": "Contents",
   "toc_cell": false,
   "toc_position": {},
   "toc_section_display": true,
   "toc_window_display": false
  },
  "varInspector": {
   "cols": {
    "lenName": 16,
    "lenType": 16,
    "lenVar": 40
   },
   "kernels_config": {
    "python": {
     "delete_cmd_postfix": "",
     "delete_cmd_prefix": "del ",
     "library": "var_list.py",
     "varRefreshCmd": "print(var_dic_list())"
    },
    "r": {
     "delete_cmd_postfix": ") ",
     "delete_cmd_prefix": "rm(",
     "library": "var_list.r",
     "varRefreshCmd": "cat(var_dic_list()) "
    }
   },
   "types_to_exclude": [
    "module",
    "function",
    "builtin_function_or_method",
    "instance",
    "_Feature"
   ],
   "window_display": false
  }
 },
 "nbformat": 4,
 "nbformat_minor": 4
}
