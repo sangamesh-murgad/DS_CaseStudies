{
 "cells": [
  {
   "cell_type": "markdown",
   "metadata": {},
   "source": [
    "# Recommendation Engine"
   ]
  },
  {
   "cell_type": "code",
   "execution_count": 1,
   "metadata": {},
   "outputs": [],
   "source": [
    "import pandas as pd\n",
    "import re"
   ]
  },
  {
   "cell_type": "code",
   "execution_count": 2,
   "metadata": {},
   "outputs": [],
   "source": [
    "user_ratings_df = pd.read_csv('user_ratings.csv')"
   ]
  },
  {
   "cell_type": "code",
   "execution_count": 3,
   "metadata": {},
   "outputs": [],
   "source": [
    "def clean_title(x):\n",
    "    return re.sub(r'\\([0-9].*\\)', '',x).strip()"
   ]
  },
  {
   "cell_type": "code",
   "execution_count": 4,
   "metadata": {},
   "outputs": [
    {
     "data": {
      "text/plain": [
       "0                         Toy Story\n",
       "1                         Toy Story\n",
       "2                         Toy Story\n",
       "3                         Toy Story\n",
       "4                         Toy Story\n",
       "                    ...            \n",
       "100831                    Bloodmoon\n",
       "100832    Sympathy for the Underdog\n",
       "100833                       Hazard\n",
       "100834                  Blair Witch\n",
       "100835                           31\n",
       "Name: title, Length: 100836, dtype: object"
      ]
     },
     "execution_count": 4,
     "metadata": {},
     "output_type": "execute_result"
    }
   ],
   "source": [
    "user_ratings_df['title'] = user_ratings_df['title'].apply(clean_title)\n",
    "user_ratings_df['title']"
   ]
  },
  {
   "cell_type": "markdown",
   "metadata": {},
   "source": [
    "## Non-Personalized Recommendations"
   ]
  },
  {
   "cell_type": "markdown",
   "metadata": {},
   "source": [
    "### Popular Recommendations"
   ]
  },
  {
   "cell_type": "markdown",
   "metadata": {},
   "source": [
    "+ One of the most basic ways to make recommendations is to go with the knowledge of the crowd and recommend what is already the most popular. \n",
    "+ So we will calculate how often each movie in the dataset has been watched and find the most frequently watched movies."
   ]
  },
  {
   "cell_type": "code",
   "execution_count": 5,
   "metadata": {},
   "outputs": [
    {
     "data": {
      "text/plain": [
       "Forrest Gump                 329\n",
       "Shawshank Redemption, The    317\n",
       "Pulp Fiction                 307\n",
       "Silence of the Lambs, The    279\n",
       "Matrix, The                  278\n",
       "                            ... \n",
       "Crossfire                      1\n",
       "Evelyn                         1\n",
       "Case 39                        1\n",
       "Broken English                 1\n",
       "Last Song, The                 1\n",
       "Name: title, Length: 9446, dtype: int64"
      ]
     },
     "execution_count": 5,
     "metadata": {},
     "output_type": "execute_result"
    }
   ],
   "source": [
    "# Get the counts of occurrences of each movie title\n",
    "movie_popularity = user_ratings_df[\"title\"].value_counts()\n",
    "movie_popularity"
   ]
  },
  {
   "cell_type": "code",
   "execution_count": 6,
   "metadata": {},
   "outputs": [
    {
     "name": "stdout",
     "output_type": "stream",
     "text": [
      "Index(['Forrest Gump', 'Shawshank Redemption, The', 'Pulp Fiction',\n",
      "       'Silence of the Lambs, The', 'Matrix, The'],\n",
      "      dtype='object')\n"
     ]
    }
   ],
   "source": [
    "# Inspect the most common values\n",
    "print(movie_popularity.head().index)"
   ]
  },
  {
   "cell_type": "markdown",
   "metadata": {},
   "source": [
    "+ Just because a movie has been watched by a lot of people doesn't necessarily mean viewers enjoyed it. \n",
    "+ To understand how a viewer actually felt about a movie,we check the ratings "
   ]
  },
  {
   "cell_type": "code",
   "execution_count": 7,
   "metadata": {},
   "outputs": [
    {
     "name": "stdout",
     "output_type": "stream",
     "text": [
      "                                            rating\n",
      "title                                             \n",
      "Passenger, The (Professione: reporter)         5.0\n",
      "True Stories                                   5.0\n",
      "In the Realm of the Senses (Ai no corrida)     5.0\n",
      "Travels of an Ant                              5.0\n",
      "Presto                                         5.0\n"
     ]
    }
   ],
   "source": [
    "# Find the mean of the ratings given to each title\n",
    "average_rating_df = user_ratings_df[[\"title\", \"rating\"]].groupby('title').mean()\n",
    "\n",
    "# Order the entries by highest average rating to lowest\n",
    "sorted_average_ratings = average_rating_df.sort_values(by=\"rating\", ascending=False)\n",
    "\n",
    "# Get the top movies\n",
    "print(sorted_average_ratings.head())"
   ]
  },
  {
   "cell_type": "markdown",
   "metadata": {},
   "source": [
    "+ Combine the two previous methods to find the average rating only for movies that have been reviewed more than 50 times.\n",
    "\n"
   ]
  },
  {
   "cell_type": "code",
   "execution_count": 8,
   "metadata": {},
   "outputs": [
    {
     "name": "stdout",
     "output_type": "stream",
     "text": [
      "Index(['Forrest Gump', 'Shawshank Redemption, The', 'Pulp Fiction',\n",
      "       'Silence of the Lambs, The', 'Matrix, The',\n",
      "       'Star Wars: Episode IV - A New Hope', 'Jurassic Park', 'Braveheart',\n",
      "       'Terminator 2: Judgment Day', 'Schindler's List',\n",
      "       ...\n",
      "       'Knocked Up', 'Million Dollar Baby', 'Chocolat', 'Army of Darkness',\n",
      "       'Bad Boys', 'Training Day', 'Splash', 'The Devil's Advocate', 'Blow',\n",
      "       'Mulholland Drive'],\n",
      "      dtype='object', length=444)\n"
     ]
    }
   ],
   "source": [
    "# Create a list of only movies appearing > 50 times in the dataset\n",
    "movie_popularity = user_ratings_df[\"title\"].value_counts()\n",
    "popular_movies = movie_popularity[movie_popularity > 50].index\n",
    "\n",
    "print(popular_movies)"
   ]
  },
  {
   "cell_type": "code",
   "execution_count": 9,
   "metadata": {},
   "outputs": [
    {
     "name": "stdout",
     "output_type": "stream",
     "text": [
      "        userId  movieId  rating   timestamp                  title  \\\n",
      "0            1        1     4.0   964982703              Toy Story   \n",
      "1            5        1     4.0   847434962              Toy Story   \n",
      "2            7        1     4.5  1106635946              Toy Story   \n",
      "3           15        1     2.5  1510577970              Toy Story   \n",
      "4           17        1     4.5  1305696483              Toy Story   \n",
      "...        ...      ...     ...         ...                    ...   \n",
      "98559      605    26152     3.0  1277097257                 Batman   \n",
      "98560      606    26152     3.5  1171361707                 Batman   \n",
      "99783      550   167296     0.5  1488728333               Iron Man   \n",
      "100585     606     5990     3.5  1171361986              Pinocchio   \n",
      "100622     606    25946     3.5  1209233898  Three Musketeers, The   \n",
      "\n",
      "                                             genres  \n",
      "0       Adventure|Animation|Children|Comedy|Fantasy  \n",
      "1       Adventure|Animation|Children|Comedy|Fantasy  \n",
      "2       Adventure|Animation|Children|Comedy|Fantasy  \n",
      "3       Adventure|Animation|Children|Comedy|Fantasy  \n",
      "4       Adventure|Animation|Children|Comedy|Fantasy  \n",
      "...                                             ...  \n",
      "98559                       Action|Adventure|Comedy  \n",
      "98560                       Action|Adventure|Comedy  \n",
      "99783                                         Drama  \n",
      "100585                      Children|Comedy|Fantasy  \n",
      "100622               Action|Adventure|Drama|Romance  \n",
      "\n",
      "[41376 rows x 6 columns]\n"
     ]
    }
   ],
   "source": [
    "# Create a list of only movies appearing > 50 times in the dataset\n",
    "movie_popularity = user_ratings_df[\"title\"].value_counts()\n",
    "popular_movies = movie_popularity[movie_popularity > 50].index\n",
    "\n",
    "# Use this popular_movies list to filter the original DataFrame\n",
    "popular_movies_rankings = user_ratings_df[user_ratings_df[\"title\"].isin(popular_movies)]\n",
    "\n",
    "# Get the movies watched over 50 times\n",
    "print(popular_movies_rankings)"
   ]
  },
  {
   "cell_type": "code",
   "execution_count": 10,
   "metadata": {},
   "outputs": [
    {
     "name": "stdout",
     "output_type": "stream",
     "text": [
      "                                                      rating\n",
      "title                                                       \n",
      "Shawshank Redemption, The                           4.429022\n",
      "Godfather, The                                      4.289062\n",
      "Fight Club                                          4.272936\n",
      "Cool Hand Luke                                      4.271930\n",
      "Dr. Strangelove or: How I Learned to Stop Worry...  4.268041\n"
     ]
    }
   ],
   "source": [
    "# Find the average rating given to these frequently watched films\n",
    "popular_movies_average_rankings = popular_movies_rankings[[\"title\", \"rating\"]].groupby('title').mean()\n",
    "print(popular_movies_average_rankings.sort_values(by=\"rating\", ascending=False).head())"
   ]
  },
  {
   "cell_type": "markdown",
   "metadata": {},
   "source": [
    "### Method 2 - Commonly seen together"
   ]
  },
  {
   "cell_type": "code",
   "execution_count": 11,
   "metadata": {},
   "outputs": [],
   "source": [
    "from itertools import permutations"
   ]
  },
  {
   "cell_type": "code",
   "execution_count": 12,
   "metadata": {},
   "outputs": [],
   "source": [
    "# Create the function to find all permutations\n",
    "def find_movie_pairs(x):\n",
    "  pairs = pd.DataFrame(list(permutations(x.values, 2)),\n",
    "                       columns=['movie_a', 'movie_b'])\n",
    "  return pairs"
   ]
  },
  {
   "cell_type": "code",
   "execution_count": 13,
   "metadata": {},
   "outputs": [
    {
     "name": "stdout",
     "output_type": "stream",
     "text": [
      "                  movie_a                    movie_b\n",
      "userId                                              \n",
      "1      0        Toy Story           Grumpier Old Men\n",
      "       1        Toy Story                       Heat\n",
      "       2        Toy Story       Seven (a.k.a. Se7en)\n",
      "       3        Toy Story        Usual Suspects, The\n",
      "       4        Toy Story        From Dusk Till Dawn\n",
      "...                   ...                        ...\n",
      "610    1693897         31                 Gen-X Cops\n",
      "       1693898         31                  Bloodmoon\n",
      "       1693899         31  Sympathy for the Underdog\n",
      "       1693900         31                     Hazard\n",
      "       1693901         31                Blair Witch\n",
      "\n",
      "[60793300 rows x 2 columns]\n"
     ]
    }
   ],
   "source": [
    "# Apply the function to the title column and reset the index\n",
    "movie_combinations = user_ratings_df.groupby('userId')['title'].apply(find_movie_pairs)\n",
    "print(movie_combinations)"
   ]
  },
  {
   "cell_type": "code",
   "execution_count": 14,
   "metadata": {},
   "outputs": [
    {
     "name": "stdout",
     "output_type": "stream",
     "text": [
      "            movie_a                    movie_b\n",
      "0         Toy Story           Grumpier Old Men\n",
      "1         Toy Story                       Heat\n",
      "2         Toy Story       Seven (a.k.a. Se7en)\n",
      "3         Toy Story        Usual Suspects, The\n",
      "4         Toy Story        From Dusk Till Dawn\n",
      "...             ...                        ...\n",
      "60793295         31                 Gen-X Cops\n",
      "60793296         31                  Bloodmoon\n",
      "60793297         31  Sympathy for the Underdog\n",
      "60793298         31                     Hazard\n",
      "60793299         31                Blair Witch\n",
      "\n",
      "[60793300 rows x 2 columns]\n"
     ]
    }
   ],
   "source": [
    "movie_pairs = movie_combinations.reset_index(drop=True)\n",
    "print(movie_pairs)"
   ]
  },
  {
   "cell_type": "code",
   "execution_count": 21,
   "metadata": {},
   "outputs": [
    {
     "name": "stdout",
     "output_type": "stream",
     "text": [
      "movie_a  movie_b                             \n",
      "         '71                                     1\n",
      "         'burbs, The                             3\n",
      "         *batteries not included                 3\n",
      "         00 Schneider - Jagd auf Nihil Baxter    1\n",
      "         10                                      1\n",
      "dtype: int64\n"
     ]
    }
   ],
   "source": [
    "# Calculate how often each item in movies_a occurs with the items in movies_b\n",
    "combination_counts = movie_pairs.groupby(['movie_a', 'movie_b']).size()\n",
    "\n",
    "# Inspect the results\n",
    "print(combination_counts.head())"
   ]
  },
  {
   "cell_type": "code",
   "execution_count": 16,
   "metadata": {},
   "outputs": [
    {
     "name": "stdout",
     "output_type": "stream",
     "text": [
      "  movie_a                               movie_b  size\n",
      "0                                           '71     1\n",
      "1                                   'burbs, The     3\n",
      "2                       *batteries not included     3\n",
      "3          00 Schneider - Jagd auf Nihil Baxter     1\n",
      "4                                            10     1\n"
     ]
    }
   ],
   "source": [
    "# Convert the results to a DataFrame and reset the index\n",
    "combination_counts_df = combination_counts.to_frame(name='size').reset_index()\n",
    "print(combination_counts_df.head())"
   ]
  },
  {
   "cell_type": "markdown",
   "metadata": {},
   "source": [
    "+ Now we can make our first recommendations\n",
    "+ While we are not taking in any information about the person watching, and do not even know any details about the movie, valuable recommendations can still be made by examining what groups of movies are watched by the same people. \n",
    "+ For example, we will examine the movies often watched by the same people that watched Thor, and then use this data to give a recommendation to someone who just watched the movie. "
   ]
  },
  {
   "cell_type": "code",
   "execution_count": 17,
   "metadata": {},
   "outputs": [],
   "source": [
    "import matplotlib.pyplot as plt\n",
    "import re"
   ]
  },
  {
   "cell_type": "code",
   "execution_count": 18,
   "metadata": {},
   "outputs": [],
   "source": [
    "# Sort the counts from highest to lowest\n",
    "sorted_counts_df = combination_counts_df.sort_values('size', ascending=False)\n",
    "\n",
    "\n",
    "# Find the movies most frequently watched by people who watched Thor\n",
    "thor_df = sorted_counts_df[sorted_counts_df['movie_a'] == 'Thor']"
   ]
  },
  {
   "cell_type": "code",
   "execution_count": 19,
   "metadata": {},
   "outputs": [
    {
     "data": {
      "image/png": "[encoded data removed]",
      "text/plain": [
       "<Figure size 432x288 with 1 Axes>"
      ]
     },
     "metadata": {},
     "output_type": "display_data"
    }
   ],
   "source": [
    "# Plot the results\n",
    "with plt.xkcd():\n",
    "    thor_df.head(10).plot.bar(x=\"movie_b\",color='midnightblue')\n",
    "    plt.show()"
   ]
  }
 ],
 "metadata": {
  "kernelspec": {
   "display_name": "Python 3",
   "language": "python",
   "name": "python3"
  },
  "language_info": {
   "codemirror_mode": {
    "name": "ipython",
    "version": 3
   },
   "file_extension": ".py",
   "mimetype": "text/x-python",
   "name": "python",
   "nbconvert_exporter": "python",
   "pygments_lexer": "ipython3",
   "version": "3.8.5"
  }
 },
 "nbformat": 4,
 "nbformat_minor": 2
}
