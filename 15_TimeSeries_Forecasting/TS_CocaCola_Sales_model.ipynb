{
 "cells": [
  {
   "cell_type": "markdown",
   "metadata": {},
   "source": [
    "# problem statement"
   ]
  },
  {
   "cell_type": "markdown",
   "metadata": {},
   "source": [
    "Forecast CocaCola prices data set. Prepare a document for each model explaining \n",
    "how many dummy variables you have created and RMSE value for each model. Finally which model you will use for \n",
    "Forecasting."
   ]
  },
  {
   "cell_type": "code",
   "execution_count": 12,
   "metadata": {
    "ExecuteTime": {
     "end_time": "2021-09-06T10:28:48.059068Z",
     "start_time": "2021-09-06T10:28:48.051048Z"
    }
   },
   "outputs": [],
   "source": [
    "# Import basic libraries\n",
    "\n",
    "import pandas as pd\n",
    "import numpy as np\n",
    "import matplotlib.pyplot as plt\n",
    "import seaborn as sns\n",
    "import warnings\n",
    "%matplotlib inline"
   ]
  },
  {
   "cell_type": "code",
   "execution_count": 4,
   "metadata": {
    "ExecuteTime": {
     "end_time": "2021-09-06T10:25:33.527543Z",
     "start_time": "2021-09-06T10:25:33.496948Z"
    }
   },
   "outputs": [
    {
     "name": "stdout",
     "output_type": "stream",
     "text": [
      "\n",
      " \u001b[7m CocaCola Sales Data - Quarterly \u001b[0m\n"
     ]
    },
    {
     "data": {
      "text/html": [
       "<div>\n",
       "<style scoped>\n",
       "    .dataframe tbody tr th:only-of-type {\n",
       "        vertical-align: middle;\n",
       "    }\n",
       "\n",
       "    .dataframe tbody tr th {\n",
       "        vertical-align: top;\n",
       "    }\n",
       "\n",
       "    .dataframe thead th {\n",
       "        text-align: right;\n",
       "    }\n",
       "</style>\n",
       "<table border=\"1\" class=\"dataframe\">\n",
       "  <thead>\n",
       "    <tr style=\"text-align: right;\">\n",
       "      <th></th>\n",
       "      <th>Quarter</th>\n",
       "      <th>Sales</th>\n",
       "    </tr>\n",
       "  </thead>\n",
       "  <tbody>\n",
       "    <tr>\n",
       "      <th>0</th>\n",
       "      <td>Q1_86</td>\n",
       "      <td>1734.827000</td>\n",
       "    </tr>\n",
       "    <tr>\n",
       "      <th>1</th>\n",
       "      <td>Q2_86</td>\n",
       "      <td>2244.960999</td>\n",
       "    </tr>\n",
       "    <tr>\n",
       "      <th>2</th>\n",
       "      <td>Q3_86</td>\n",
       "      <td>2533.804993</td>\n",
       "    </tr>\n",
       "    <tr>\n",
       "      <th>3</th>\n",
       "      <td>Q4_86</td>\n",
       "      <td>2154.962997</td>\n",
       "    </tr>\n",
       "    <tr>\n",
       "      <th>4</th>\n",
       "      <td>Q1_87</td>\n",
       "      <td>1547.818996</td>\n",
       "    </tr>\n",
       "  </tbody>\n",
       "</table>\n",
       "</div>"
      ],
      "text/plain": [
       "  Quarter        Sales\n",
       "0   Q1_86  1734.827000\n",
       "1   Q2_86  2244.960999\n",
       "2   Q3_86  2533.804993\n",
       "3   Q4_86  2154.962997\n",
       "4   Q1_87  1547.818996"
      ]
     },
     "execution_count": 4,
     "metadata": {},
     "output_type": "execute_result"
    }
   ],
   "source": [
    "# Import data\n",
    "\n",
    "rawData = pd.read_excel('CocaCola_Sales_Rawdata.xlsx')\n",
    "print('\\n \\033[7m CocaCola Sales Data - Quarterly \\033[0m')\n",
    "rawData.head()"
   ]
  },
  {
   "cell_type": "code",
   "execution_count": 37,
   "metadata": {
    "ExecuteTime": {
     "end_time": "2021-09-06T10:55:49.693579Z",
     "start_time": "2021-09-06T10:55:49.646915Z"
    }
   },
   "outputs": [
    {
     "name": "stdout",
     "output_type": "stream",
     "text": [
      "\n",
      " \u001b[7m Technical information of the data \u001b[0m \n",
      "<class 'pandas.core.frame.DataFrame'>\n",
      "RangeIndex: 42 entries, 0 to 41\n",
      "Data columns (total 2 columns):\n",
      " #   Column   Non-Null Count  Dtype  \n",
      "---  ------   --------------  -----  \n",
      " 0   Quarter  42 non-null     object \n",
      " 1   Sales    42 non-null     float64\n",
      "dtypes: float64(1), object(1)\n",
      "memory usage: 800.0+ bytes\n",
      "None\n",
      "\n",
      " \u001b[7m Basic Statistics of the data \u001b[0m \n"
     ]
    },
    {
     "data": {
      "text/html": [
       "<div>\n",
       "<style scoped>\n",
       "    .dataframe tbody tr th:only-of-type {\n",
       "        vertical-align: middle;\n",
       "    }\n",
       "\n",
       "    .dataframe tbody tr th {\n",
       "        vertical-align: top;\n",
       "    }\n",
       "\n",
       "    .dataframe thead th {\n",
       "        text-align: right;\n",
       "    }\n",
       "</style>\n",
       "<table border=\"1\" class=\"dataframe\">\n",
       "  <thead>\n",
       "    <tr style=\"text-align: right;\">\n",
       "      <th></th>\n",
       "      <th>count</th>\n",
       "      <th>mean</th>\n",
       "      <th>std</th>\n",
       "      <th>min</th>\n",
       "      <th>25%</th>\n",
       "      <th>50%</th>\n",
       "      <th>75%</th>\n",
       "      <th>max</th>\n",
       "    </tr>\n",
       "  </thead>\n",
       "  <tbody>\n",
       "    <tr>\n",
       "      <th>Sales</th>\n",
       "      <td>42.0</td>\n",
       "      <td>2994.353308</td>\n",
       "      <td>977.930896</td>\n",
       "      <td>1547.818996</td>\n",
       "      <td>2159.714247</td>\n",
       "      <td>2782.376999</td>\n",
       "      <td>3609.25</td>\n",
       "      <td>5253.0</td>\n",
       "    </tr>\n",
       "  </tbody>\n",
       "</table>\n",
       "</div>"
      ],
      "text/plain": [
       "       count         mean         std          min          25%          50%  \\\n",
       "Sales   42.0  2994.353308  977.930896  1547.818996  2159.714247  2782.376999   \n",
       "\n",
       "           75%     max  \n",
       "Sales  3609.25  5253.0  "
      ]
     },
     "execution_count": 37,
     "metadata": {},
     "output_type": "execute_result"
    }
   ],
   "source": [
    "print('\\n \\033[7m Technical information of the data \\033[0m ')\n",
    "print(rawData.info())\n",
    "print('\\n \\033[7m Basic Statistics of the data \\033[0m ')\n",
    "rawData.describe().T"
   ]
  },
  {
   "cell_type": "markdown",
   "metadata": {},
   "source": [
    "# Data Visualization"
   ]
  },
  {
   "cell_type": "code",
   "execution_count": 8,
   "metadata": {
    "ExecuteTime": {
     "end_time": "2021-09-06T10:26:20.627467Z",
     "start_time": "2021-09-06T10:26:19.864227Z"
    }
   },
   "outputs": [
    {
     "data": {
      "image/png": "[encoded data removed]",
      "text/plain": [
       "<Figure size 1600x400 with 1 Axes>"
      ]
     },
     "metadata": {},
     "output_type": "display_data"
    }
   ],
   "source": [
    "# simple line plot \n",
    "\n",
    "plt.figure(figsize=(16,4))\n",
    "sns.lineplot(x = rawData.Quarter, y=rawData.Sales)\n",
    "plt.xticks(rotation=90)\n",
    "plt.title('Yearly passenger growth', fontsize = 20)\n",
    "plt.show()"
   ]
  },
  {
   "cell_type": "markdown",
   "metadata": {},
   "source": [
    "**The data shows that there is a trend along with additive seasonality.**"
   ]
  },
  {
   "cell_type": "code",
   "execution_count": 16,
   "metadata": {
    "ExecuteTime": {
     "end_time": "2021-09-06T10:30:10.672194Z",
     "start_time": "2021-09-06T10:30:10.362555Z"
    }
   },
   "outputs": [
    {
     "data": {
      "text/plain": [
       "Text(0.5, 1.0, 'lagplot')"
      ]
     },
     "execution_count": 16,
     "metadata": {},
     "output_type": "execute_result"
    },
    {
     "data": {
      "image/png": "[encoded data removed]",
      "text/plain": [
       "<Figure size 432x288 with 1 Axes>"
      ]
     },
     "metadata": {
      "needs_background": "light"
     },
     "output_type": "display_data"
    }
   ],
   "source": [
    "# lag Plot for t and t+1\n",
    "\n",
    "pd.plotting.lag_plot(rawData.Sales)\n",
    "plt.title('lagplot', fontsize = 20)\n",
    "plt.show()"
   ]
  },
  {
   "cell_type": "markdown",
   "metadata": {},
   "source": [
    "The Lagplot shows, not so strong but a definite positive correlation "
   ]
  },
  {
   "cell_type": "code",
   "execution_count": 18,
   "metadata": {
    "ExecuteTime": {
     "end_time": "2021-09-06T10:33:25.833825Z",
     "start_time": "2021-09-06T10:33:25.472287Z"
    }
   },
   "outputs": [
    {
     "data": {
      "image/png": "[encoded data removed]",
      "text/plain": [
       "<Figure size 1152x288 with 1 Axes>"
      ]
     },
     "metadata": {
      "needs_background": "light"
     },
     "output_type": "display_data"
    }
   ],
   "source": [
    "# line plot to check Smoothing using rolling mean technique - Moving Average\n",
    "\n",
    "plt.figure(figsize=(16,4))\n",
    "rawData.Sales.plot(label=\"org\")\n",
    "for i in range(3,10,2):\n",
    "    rawData.Sales.rolling(i).mean().plot(label=str(i))\n",
    "plt.legend(loc='best')\n",
    "plt.title('Smooting curves with window size 3,5,7,9', fontsize = 20)\n",
    "plt.xlabel('Time'),plt.ylabel('Sales')\n",
    "plt.show()"
   ]
  },
  {
   "cell_type": "code",
   "execution_count": 20,
   "metadata": {
    "ExecuteTime": {
     "end_time": "2021-09-06T10:38:54.518289Z",
     "start_time": "2021-09-06T10:38:54.514632Z"
    }
   },
   "outputs": [],
   "source": [
    "from statsmodels.tsa.seasonal import seasonal_decompose\n",
    "import statsmodels.graphics.tsaplots as tsa_plots"
   ]
  },
  {
   "cell_type": "code",
   "execution_count": 31,
   "metadata": {
    "ExecuteTime": {
     "end_time": "2021-09-06T10:51:11.417999Z",
     "start_time": "2021-09-06T10:51:10.653019Z"
    }
   },
   "outputs": [
    {
     "name": "stdout",
     "output_type": "stream",
     "text": [
      "\n",
      " \u001b[7m Decomposition plot - Showing Trend, Seasonality and Residuals \u001b[0m \n",
      "\n"
     ]
    },
    {
     "data": {
      "image/png": "[encoded data removed]",
      "text/plain": [
       "<Figure size 432x288 with 4 Axes>"
      ]
     },
     "metadata": {
      "needs_background": "light"
     },
     "output_type": "display_data"
    }
   ],
   "source": [
    "# Decomposition plot to understand the level, trend and sesonality in the time series.\n",
    "\n",
    "print('\\n \\033[7m Decomposition plot - Showing Trend, Seasonality and Residuals \\033[0m \\n')\n",
    "decompose_ts_add = seasonal_decompose(rawData.Sales,period=12)\n",
    "decompose_ts_add.plot()\n",
    "plt.show()"
   ]
  },
  {
   "cell_type": "markdown",
   "metadata": {},
   "source": [
    "*We can clearly see that there is additive seasonality with linear trend in the data.*"
   ]
  },
  {
   "cell_type": "code",
   "execution_count": 46,
   "metadata": {
    "ExecuteTime": {
     "end_time": "2021-09-06T11:02:53.640446Z",
     "start_time": "2021-09-06T11:02:53.182744Z"
    }
   },
   "outputs": [
    {
     "name": "stdout",
     "output_type": "stream",
     "text": [
      "\n",
      " \u001b[7m Autocorrelation and Partial Autocorrelation pltos \u001b[0m \n",
      "\n"
     ]
    },
    {
     "data": {
      "image/png": "[encoded data removed]",
      "text/plain": [
       "<Figure size 432x288 with 1 Axes>"
      ]
     },
     "metadata": {
      "needs_background": "light"
     },
     "output_type": "display_data"
    },
    {
     "data": {
      "image/png": "[encoded data removed]",
      "text/plain": [
       "<Figure size 432x288 with 1 Axes>"
      ]
     },
     "metadata": {
      "needs_background": "light"
     },
     "output_type": "display_data"
    }
   ],
   "source": [
    "# ACF and PACF Plots for 24 lags\n",
    "\n",
    "print('\\n \\033[7m Autocorrelation and Partial Autocorrelation pltos \\033[0m \\n')\n",
    "tsa_plots.plot_acf(rawData.Sales,lags=14,zero=False)\n",
    "tsa_plots.plot_pacf(rawData.Sales,lags=14,zero=False)\n",
    "plt.show()"
   ]
  },
  {
   "cell_type": "markdown",
   "metadata": {},
   "source": [
    "*Auto-correlation factor plot shows T-4 lags have a strong correlation. where as Partial Auto-correlation factor plot show lag T-1 has the greatest influence on the prediction of T. So, we shall use t-1 as our chosen lag for building the models.* "
   ]
  },
  {
   "cell_type": "markdown",
   "metadata": {},
   "source": [
    "# Data Preparation "
   ]
  },
  {
   "cell_type": "markdown",
   "metadata": {},
   "source": [
    "## Creating Dummy Variables"
   ]
  },
  {
   "cell_type": "code",
   "execution_count": 52,
   "metadata": {
    "ExecuteTime": {
     "end_time": "2021-09-06T11:06:48.452769Z",
     "start_time": "2021-09-06T11:06:48.432617Z"
    }
   },
   "outputs": [
    {
     "name": "stdout",
     "output_type": "stream",
     "text": [
      "\n",
      " \u001b[7m Copy of Quarterly Sales Data \u001b[0m \n"
     ]
    },
    {
     "data": {
      "text/html": [
       "<div>\n",
       "<style scoped>\n",
       "    .dataframe tbody tr th:only-of-type {\n",
       "        vertical-align: middle;\n",
       "    }\n",
       "\n",
       "    .dataframe tbody tr th {\n",
       "        vertical-align: top;\n",
       "    }\n",
       "\n",
       "    .dataframe thead th {\n",
       "        text-align: right;\n",
       "    }\n",
       "</style>\n",
       "<table border=\"1\" class=\"dataframe\">\n",
       "  <thead>\n",
       "    <tr style=\"text-align: right;\">\n",
       "      <th></th>\n",
       "      <th>Quarter</th>\n",
       "      <th>Sales</th>\n",
       "    </tr>\n",
       "  </thead>\n",
       "  <tbody>\n",
       "    <tr>\n",
       "      <th>0</th>\n",
       "      <td>Q1_86</td>\n",
       "      <td>1734.827000</td>\n",
       "    </tr>\n",
       "    <tr>\n",
       "      <th>1</th>\n",
       "      <td>Q2_86</td>\n",
       "      <td>2244.960999</td>\n",
       "    </tr>\n",
       "    <tr>\n",
       "      <th>2</th>\n",
       "      <td>Q3_86</td>\n",
       "      <td>2533.804993</td>\n",
       "    </tr>\n",
       "    <tr>\n",
       "      <th>3</th>\n",
       "      <td>Q4_86</td>\n",
       "      <td>2154.962997</td>\n",
       "    </tr>\n",
       "    <tr>\n",
       "      <th>4</th>\n",
       "      <td>Q1_87</td>\n",
       "      <td>1547.818996</td>\n",
       "    </tr>\n",
       "  </tbody>\n",
       "</table>\n",
       "</div>"
      ],
      "text/plain": [
       "  Quarter        Sales\n",
       "0   Q1_86  1734.827000\n",
       "1   Q2_86  2244.960999\n",
       "2   Q3_86  2533.804993\n",
       "3   Q4_86  2154.962997\n",
       "4   Q1_87  1547.818996"
      ]
     },
     "execution_count": 52,
     "metadata": {},
     "output_type": "execute_result"
    }
   ],
   "source": [
    "# Making a copy of raw data for data manupulation\n",
    "data = rawData.copy(deep=True)\n",
    "print('\\n \\033[7m Copy of Quarterly Sales Data \\033[0m ')\n",
    "data.head()"
   ]
  },
  {
   "cell_type": "code",
   "execution_count": 53,
   "metadata": {
    "ExecuteTime": {
     "end_time": "2021-09-06T11:10:03.290386Z",
     "start_time": "2021-09-06T11:10:03.266899Z"
    }
   },
   "outputs": [
    {
     "name": "stdout",
     "output_type": "stream",
     "text": [
      "\n",
      " \u001b[7m Adding range of Time variable starting from 1 \u001b[0m \n"
     ]
    },
    {
     "data": {
      "text/html": [
       "<div>\n",
       "<style scoped>\n",
       "    .dataframe tbody tr th:only-of-type {\n",
       "        vertical-align: middle;\n",
       "    }\n",
       "\n",
       "    .dataframe tbody tr th {\n",
       "        vertical-align: top;\n",
       "    }\n",
       "\n",
       "    .dataframe thead th {\n",
       "        text-align: right;\n",
       "    }\n",
       "</style>\n",
       "<table border=\"1\" class=\"dataframe\">\n",
       "  <thead>\n",
       "    <tr style=\"text-align: right;\">\n",
       "      <th></th>\n",
       "      <th>Quarter</th>\n",
       "      <th>Sales</th>\n",
       "      <th>t</th>\n",
       "    </tr>\n",
       "  </thead>\n",
       "  <tbody>\n",
       "    <tr>\n",
       "      <th>0</th>\n",
       "      <td>Q1_86</td>\n",
       "      <td>1734.827000</td>\n",
       "      <td>1</td>\n",
       "    </tr>\n",
       "    <tr>\n",
       "      <th>1</th>\n",
       "      <td>Q2_86</td>\n",
       "      <td>2244.960999</td>\n",
       "      <td>2</td>\n",
       "    </tr>\n",
       "    <tr>\n",
       "      <th>2</th>\n",
       "      <td>Q3_86</td>\n",
       "      <td>2533.804993</td>\n",
       "      <td>3</td>\n",
       "    </tr>\n",
       "    <tr>\n",
       "      <th>3</th>\n",
       "      <td>Q4_86</td>\n",
       "      <td>2154.962997</td>\n",
       "      <td>4</td>\n",
       "    </tr>\n",
       "    <tr>\n",
       "      <th>4</th>\n",
       "      <td>Q1_87</td>\n",
       "      <td>1547.818996</td>\n",
       "      <td>5</td>\n",
       "    </tr>\n",
       "  </tbody>\n",
       "</table>\n",
       "</div>"
      ],
      "text/plain": [
       "  Quarter        Sales  t\n",
       "0   Q1_86  1734.827000  1\n",
       "1   Q2_86  2244.960999  2\n",
       "2   Q3_86  2533.804993  3\n",
       "3   Q4_86  2154.962997  4\n",
       "4   Q1_87  1547.818996  5"
      ]
     },
     "execution_count": 53,
     "metadata": {},
     "output_type": "execute_result"
    }
   ],
   "source": [
    "# Creating time variable in no of months\n",
    "\n",
    "def heading(title):\n",
    "    print(f'\\n \\033[7m {title} \\033[0m ')\n",
    "\n",
    "heading('Adding range of Time variable starting from 1')\n",
    "data['t'] = range(1,len(data)+1)\n",
    "data.head()"
   ]
  },
  {
   "cell_type": "code",
   "execution_count": 54,
   "metadata": {
    "ExecuteTime": {
     "end_time": "2021-09-06T11:11:04.798992Z",
     "start_time": "2021-09-06T11:11:04.783184Z"
    }
   },
   "outputs": [
    {
     "name": "stdout",
     "output_type": "stream",
     "text": [
      "\n",
      " \u001b[7m Adding Dummy variable for log values of sales \u001b[0m \n"
     ]
    },
    {
     "data": {
      "text/html": [
       "<div>\n",
       "<style scoped>\n",
       "    .dataframe tbody tr th:only-of-type {\n",
       "        vertical-align: middle;\n",
       "    }\n",
       "\n",
       "    .dataframe tbody tr th {\n",
       "        vertical-align: top;\n",
       "    }\n",
       "\n",
       "    .dataframe thead th {\n",
       "        text-align: right;\n",
       "    }\n",
       "</style>\n",
       "<table border=\"1\" class=\"dataframe\">\n",
       "  <thead>\n",
       "    <tr style=\"text-align: right;\">\n",
       "      <th></th>\n",
       "      <th>Quarter</th>\n",
       "      <th>Sales</th>\n",
       "      <th>t</th>\n",
       "      <th>log</th>\n",
       "    </tr>\n",
       "  </thead>\n",
       "  <tbody>\n",
       "    <tr>\n",
       "      <th>0</th>\n",
       "      <td>Q1_86</td>\n",
       "      <td>1734.827000</td>\n",
       "      <td>1</td>\n",
       "      <td>7.458663</td>\n",
       "    </tr>\n",
       "    <tr>\n",
       "      <th>1</th>\n",
       "      <td>Q2_86</td>\n",
       "      <td>2244.960999</td>\n",
       "      <td>2</td>\n",
       "      <td>7.716443</td>\n",
       "    </tr>\n",
       "    <tr>\n",
       "      <th>2</th>\n",
       "      <td>Q3_86</td>\n",
       "      <td>2533.804993</td>\n",
       "      <td>3</td>\n",
       "      <td>7.837477</td>\n",
       "    </tr>\n",
       "    <tr>\n",
       "      <th>3</th>\n",
       "      <td>Q4_86</td>\n",
       "      <td>2154.962997</td>\n",
       "      <td>4</td>\n",
       "      <td>7.675529</td>\n",
       "    </tr>\n",
       "    <tr>\n",
       "      <th>4</th>\n",
       "      <td>Q1_87</td>\n",
       "      <td>1547.818996</td>\n",
       "      <td>5</td>\n",
       "      <td>7.344602</td>\n",
       "    </tr>\n",
       "  </tbody>\n",
       "</table>\n",
       "</div>"
      ],
      "text/plain": [
       "  Quarter        Sales  t       log\n",
       "0   Q1_86  1734.827000  1  7.458663\n",
       "1   Q2_86  2244.960999  2  7.716443\n",
       "2   Q3_86  2533.804993  3  7.837477\n",
       "3   Q4_86  2154.962997  4  7.675529\n",
       "4   Q1_87  1547.818996  5  7.344602"
      ]
     },
     "execution_count": 54,
     "metadata": {},
     "output_type": "execute_result"
    }
   ],
   "source": [
    "# Creating dummy variable Log to check the exponential relationship\n",
    "heading('Adding Dummy variable for log values of sales')\n",
    "data['log'] = np.log(data.Sales)\n",
    "data.head()"
   ]
  },
  {
   "cell_type": "code",
   "execution_count": 17,
   "metadata": {
    "ExecuteTime": {
     "end_time": "2021-07-11T07:20:01.141345Z",
     "start_time": "2021-07-11T07:20:01.095469Z"
    }
   },
   "outputs": [
    {
     "data": {
      "text/html": [
       "<div>\n",
       "<style scoped>\n",
       "    .dataframe tbody tr th:only-of-type {\n",
       "        vertical-align: middle;\n",
       "    }\n",
       "\n",
       "    .dataframe tbody tr th {\n",
       "        vertical-align: top;\n",
       "    }\n",
       "\n",
       "    .dataframe thead th {\n",
       "        text-align: right;\n",
       "    }\n",
       "</style>\n",
       "<table border=\"1\" class=\"dataframe\">\n",
       "  <thead>\n",
       "    <tr style=\"text-align: right;\">\n",
       "      <th></th>\n",
       "      <th>Passengers</th>\n",
       "      <th>t</th>\n",
       "      <th>sqRoot</th>\n",
       "      <th>log</th>\n",
       "      <th>month</th>\n",
       "      <th>year</th>\n",
       "    </tr>\n",
       "    <tr>\n",
       "      <th>Month</th>\n",
       "      <th></th>\n",
       "      <th></th>\n",
       "      <th></th>\n",
       "      <th></th>\n",
       "      <th></th>\n",
       "      <th></th>\n",
       "    </tr>\n",
       "  </thead>\n",
       "  <tbody>\n",
       "    <tr>\n",
       "      <th>1995-01-01</th>\n",
       "      <td>112</td>\n",
       "      <td>1</td>\n",
       "      <td>10.583005</td>\n",
       "      <td>4.718499</td>\n",
       "      <td>Jan</td>\n",
       "      <td>1995</td>\n",
       "    </tr>\n",
       "    <tr>\n",
       "      <th>1995-02-01</th>\n",
       "      <td>118</td>\n",
       "      <td>2</td>\n",
       "      <td>10.862780</td>\n",
       "      <td>4.770685</td>\n",
       "      <td>Feb</td>\n",
       "      <td>1995</td>\n",
       "    </tr>\n",
       "    <tr>\n",
       "      <th>1995-03-01</th>\n",
       "      <td>132</td>\n",
       "      <td>3</td>\n",
       "      <td>11.489125</td>\n",
       "      <td>4.882802</td>\n",
       "      <td>Mar</td>\n",
       "      <td>1995</td>\n",
       "    </tr>\n",
       "    <tr>\n",
       "      <th>1995-04-01</th>\n",
       "      <td>129</td>\n",
       "      <td>4</td>\n",
       "      <td>11.357817</td>\n",
       "      <td>4.859812</td>\n",
       "      <td>Apr</td>\n",
       "      <td>1995</td>\n",
       "    </tr>\n",
       "    <tr>\n",
       "      <th>1995-05-01</th>\n",
       "      <td>121</td>\n",
       "      <td>5</td>\n",
       "      <td>11.000000</td>\n",
       "      <td>4.795791</td>\n",
       "      <td>May</td>\n",
       "      <td>1995</td>\n",
       "    </tr>\n",
       "    <tr>\n",
       "      <th>...</th>\n",
       "      <td>...</td>\n",
       "      <td>...</td>\n",
       "      <td>...</td>\n",
       "      <td>...</td>\n",
       "      <td>...</td>\n",
       "      <td>...</td>\n",
       "    </tr>\n",
       "    <tr>\n",
       "      <th>2002-08-01</th>\n",
       "      <td>405</td>\n",
       "      <td>92</td>\n",
       "      <td>20.124612</td>\n",
       "      <td>6.003887</td>\n",
       "      <td>Aug</td>\n",
       "      <td>2002</td>\n",
       "    </tr>\n",
       "    <tr>\n",
       "      <th>2002-09-01</th>\n",
       "      <td>355</td>\n",
       "      <td>93</td>\n",
       "      <td>18.841444</td>\n",
       "      <td>5.872118</td>\n",
       "      <td>Sep</td>\n",
       "      <td>2002</td>\n",
       "    </tr>\n",
       "    <tr>\n",
       "      <th>2002-10-01</th>\n",
       "      <td>306</td>\n",
       "      <td>94</td>\n",
       "      <td>17.492856</td>\n",
       "      <td>5.723585</td>\n",
       "      <td>Oct</td>\n",
       "      <td>2002</td>\n",
       "    </tr>\n",
       "    <tr>\n",
       "      <th>2002-11-01</th>\n",
       "      <td>271</td>\n",
       "      <td>95</td>\n",
       "      <td>16.462078</td>\n",
       "      <td>5.602119</td>\n",
       "      <td>Nov</td>\n",
       "      <td>2002</td>\n",
       "    </tr>\n",
       "    <tr>\n",
       "      <th>2002-12-01</th>\n",
       "      <td>306</td>\n",
       "      <td>96</td>\n",
       "      <td>17.492856</td>\n",
       "      <td>5.723585</td>\n",
       "      <td>Dec</td>\n",
       "      <td>2002</td>\n",
       "    </tr>\n",
       "  </tbody>\n",
       "</table>\n",
       "<p>96 rows × 6 columns</p>\n",
       "</div>"
      ],
      "text/plain": [
       "            Passengers   t     sqRoot       log month  year\n",
       "Month                                                      \n",
       "1995-01-01         112   1  10.583005  4.718499   Jan  1995\n",
       "1995-02-01         118   2  10.862780  4.770685   Feb  1995\n",
       "1995-03-01         132   3  11.489125  4.882802   Mar  1995\n",
       "1995-04-01         129   4  11.357817  4.859812   Apr  1995\n",
       "1995-05-01         121   5  11.000000  4.795791   May  1995\n",
       "...                ...  ..        ...       ...   ...   ...\n",
       "2002-08-01         405  92  20.124612  6.003887   Aug  2002\n",
       "2002-09-01         355  93  18.841444  5.872118   Sep  2002\n",
       "2002-10-01         306  94  17.492856  5.723585   Oct  2002\n",
       "2002-11-01         271  95  16.462078  5.602119   Nov  2002\n",
       "2002-12-01         306  96  17.492856  5.723585   Dec  2002\n",
       "\n",
       "[96 rows x 6 columns]"
      ]
     },
     "execution_count": 17,
     "metadata": {},
     "output_type": "execute_result"
    }
   ],
   "source": [
    "# Extracting month and year features in datafrme\n",
    "\n",
    "data['month'] = pd.to_datetime(data.index).strftime('%b')\n",
    "data['year'] = data.index.year\n",
    "data"
   ]
  },
  {
   "cell_type": "code",
   "execution_count": 18,
   "metadata": {
    "ExecuteTime": {
     "end_time": "2021-07-11T07:20:01.189218Z",
     "start_time": "2021-07-11T07:20:01.142343Z"
    }
   },
   "outputs": [
    {
     "data": {
      "text/html": [
       "<div>\n",
       "<style scoped>\n",
       "    .dataframe tbody tr th:only-of-type {\n",
       "        vertical-align: middle;\n",
       "    }\n",
       "\n",
       "    .dataframe tbody tr th {\n",
       "        vertical-align: top;\n",
       "    }\n",
       "\n",
       "    .dataframe thead th {\n",
       "        text-align: right;\n",
       "    }\n",
       "</style>\n",
       "<table border=\"1\" class=\"dataframe\">\n",
       "  <thead>\n",
       "    <tr style=\"text-align: right;\">\n",
       "      <th></th>\n",
       "      <th>Passengers</th>\n",
       "      <th>t</th>\n",
       "      <th>sqRoot</th>\n",
       "      <th>log</th>\n",
       "      <th>month</th>\n",
       "      <th>year</th>\n",
       "      <th>t-Sq</th>\n",
       "    </tr>\n",
       "    <tr>\n",
       "      <th>Month</th>\n",
       "      <th></th>\n",
       "      <th></th>\n",
       "      <th></th>\n",
       "      <th></th>\n",
       "      <th></th>\n",
       "      <th></th>\n",
       "      <th></th>\n",
       "    </tr>\n",
       "  </thead>\n",
       "  <tbody>\n",
       "    <tr>\n",
       "      <th>1995-01-01</th>\n",
       "      <td>112</td>\n",
       "      <td>1</td>\n",
       "      <td>10.583005</td>\n",
       "      <td>4.718499</td>\n",
       "      <td>Jan</td>\n",
       "      <td>1995</td>\n",
       "      <td>1</td>\n",
       "    </tr>\n",
       "    <tr>\n",
       "      <th>1995-02-01</th>\n",
       "      <td>118</td>\n",
       "      <td>2</td>\n",
       "      <td>10.862780</td>\n",
       "      <td>4.770685</td>\n",
       "      <td>Feb</td>\n",
       "      <td>1995</td>\n",
       "      <td>4</td>\n",
       "    </tr>\n",
       "    <tr>\n",
       "      <th>1995-03-01</th>\n",
       "      <td>132</td>\n",
       "      <td>3</td>\n",
       "      <td>11.489125</td>\n",
       "      <td>4.882802</td>\n",
       "      <td>Mar</td>\n",
       "      <td>1995</td>\n",
       "      <td>9</td>\n",
       "    </tr>\n",
       "    <tr>\n",
       "      <th>1995-04-01</th>\n",
       "      <td>129</td>\n",
       "      <td>4</td>\n",
       "      <td>11.357817</td>\n",
       "      <td>4.859812</td>\n",
       "      <td>Apr</td>\n",
       "      <td>1995</td>\n",
       "      <td>16</td>\n",
       "    </tr>\n",
       "    <tr>\n",
       "      <th>1995-05-01</th>\n",
       "      <td>121</td>\n",
       "      <td>5</td>\n",
       "      <td>11.000000</td>\n",
       "      <td>4.795791</td>\n",
       "      <td>May</td>\n",
       "      <td>1995</td>\n",
       "      <td>25</td>\n",
       "    </tr>\n",
       "    <tr>\n",
       "      <th>...</th>\n",
       "      <td>...</td>\n",
       "      <td>...</td>\n",
       "      <td>...</td>\n",
       "      <td>...</td>\n",
       "      <td>...</td>\n",
       "      <td>...</td>\n",
       "      <td>...</td>\n",
       "    </tr>\n",
       "    <tr>\n",
       "      <th>2002-08-01</th>\n",
       "      <td>405</td>\n",
       "      <td>92</td>\n",
       "      <td>20.124612</td>\n",
       "      <td>6.003887</td>\n",
       "      <td>Aug</td>\n",
       "      <td>2002</td>\n",
       "      <td>8464</td>\n",
       "    </tr>\n",
       "    <tr>\n",
       "      <th>2002-09-01</th>\n",
       "      <td>355</td>\n",
       "      <td>93</td>\n",
       "      <td>18.841444</td>\n",
       "      <td>5.872118</td>\n",
       "      <td>Sep</td>\n",
       "      <td>2002</td>\n",
       "      <td>8649</td>\n",
       "    </tr>\n",
       "    <tr>\n",
       "      <th>2002-10-01</th>\n",
       "      <td>306</td>\n",
       "      <td>94</td>\n",
       "      <td>17.492856</td>\n",
       "      <td>5.723585</td>\n",
       "      <td>Oct</td>\n",
       "      <td>2002</td>\n",
       "      <td>8836</td>\n",
       "    </tr>\n",
       "    <tr>\n",
       "      <th>2002-11-01</th>\n",
       "      <td>271</td>\n",
       "      <td>95</td>\n",
       "      <td>16.462078</td>\n",
       "      <td>5.602119</td>\n",
       "      <td>Nov</td>\n",
       "      <td>2002</td>\n",
       "      <td>9025</td>\n",
       "    </tr>\n",
       "    <tr>\n",
       "      <th>2002-12-01</th>\n",
       "      <td>306</td>\n",
       "      <td>96</td>\n",
       "      <td>17.492856</td>\n",
       "      <td>5.723585</td>\n",
       "      <td>Dec</td>\n",
       "      <td>2002</td>\n",
       "      <td>9216</td>\n",
       "    </tr>\n",
       "  </tbody>\n",
       "</table>\n",
       "<p>96 rows × 7 columns</p>\n",
       "</div>"
      ],
      "text/plain": [
       "            Passengers   t     sqRoot       log month  year  t-Sq\n",
       "Month                                                            \n",
       "1995-01-01         112   1  10.583005  4.718499   Jan  1995     1\n",
       "1995-02-01         118   2  10.862780  4.770685   Feb  1995     4\n",
       "1995-03-01         132   3  11.489125  4.882802   Mar  1995     9\n",
       "1995-04-01         129   4  11.357817  4.859812   Apr  1995    16\n",
       "1995-05-01         121   5  11.000000  4.795791   May  1995    25\n",
       "...                ...  ..        ...       ...   ...   ...   ...\n",
       "2002-08-01         405  92  20.124612  6.003887   Aug  2002  8464\n",
       "2002-09-01         355  93  18.841444  5.872118   Sep  2002  8649\n",
       "2002-10-01         306  94  17.492856  5.723585   Oct  2002  8836\n",
       "2002-11-01         271  95  16.462078  5.602119   Nov  2002  9025\n",
       "2002-12-01         306  96  17.492856  5.723585   Dec  2002  9216\n",
       "\n",
       "[96 rows x 7 columns]"
      ]
     },
     "execution_count": 18,
     "metadata": {},
     "output_type": "execute_result"
    }
   ],
   "source": [
    "# creating a dummy variable t-Sq (square of t) to check the exponential relationship\n",
    "\n",
    "data['t-Sq'] = np.square(data.t)\n",
    "data"
   ]
  },
  {
   "cell_type": "code",
   "execution_count": 19,
   "metadata": {
    "ExecuteTime": {
     "end_time": "2021-07-11T07:20:01.237104Z",
     "start_time": "2021-07-11T07:20:01.191212Z"
    }
   },
   "outputs": [
    {
     "data": {
      "text/html": [
       "<div>\n",
       "<style scoped>\n",
       "    .dataframe tbody tr th:only-of-type {\n",
       "        vertical-align: middle;\n",
       "    }\n",
       "\n",
       "    .dataframe tbody tr th {\n",
       "        vertical-align: top;\n",
       "    }\n",
       "\n",
       "    .dataframe thead th {\n",
       "        text-align: right;\n",
       "    }\n",
       "</style>\n",
       "<table border=\"1\" class=\"dataframe\">\n",
       "  <thead>\n",
       "    <tr style=\"text-align: right;\">\n",
       "      <th></th>\n",
       "      <th>Passengers</th>\n",
       "      <th>t</th>\n",
       "      <th>sqRoot</th>\n",
       "      <th>log</th>\n",
       "      <th>year</th>\n",
       "      <th>t-Sq</th>\n",
       "      <th>Apr</th>\n",
       "      <th>Aug</th>\n",
       "      <th>Dec</th>\n",
       "      <th>Feb</th>\n",
       "      <th>Jan</th>\n",
       "      <th>Jul</th>\n",
       "      <th>Jun</th>\n",
       "      <th>Mar</th>\n",
       "      <th>May</th>\n",
       "      <th>Nov</th>\n",
       "      <th>Oct</th>\n",
       "      <th>Sep</th>\n",
       "    </tr>\n",
       "    <tr>\n",
       "      <th>Month</th>\n",
       "      <th></th>\n",
       "      <th></th>\n",
       "      <th></th>\n",
       "      <th></th>\n",
       "      <th></th>\n",
       "      <th></th>\n",
       "      <th></th>\n",
       "      <th></th>\n",
       "      <th></th>\n",
       "      <th></th>\n",
       "      <th></th>\n",
       "      <th></th>\n",
       "      <th></th>\n",
       "      <th></th>\n",
       "      <th></th>\n",
       "      <th></th>\n",
       "      <th></th>\n",
       "      <th></th>\n",
       "    </tr>\n",
       "  </thead>\n",
       "  <tbody>\n",
       "    <tr>\n",
       "      <th>1995-01-01</th>\n",
       "      <td>112</td>\n",
       "      <td>1</td>\n",
       "      <td>10.583005</td>\n",
       "      <td>4.718499</td>\n",
       "      <td>1995</td>\n",
       "      <td>1</td>\n",
       "      <td>0</td>\n",
       "      <td>0</td>\n",
       "      <td>0</td>\n",
       "      <td>0</td>\n",
       "      <td>1</td>\n",
       "      <td>0</td>\n",
       "      <td>0</td>\n",
       "      <td>0</td>\n",
       "      <td>0</td>\n",
       "      <td>0</td>\n",
       "      <td>0</td>\n",
       "      <td>0</td>\n",
       "    </tr>\n",
       "    <tr>\n",
       "      <th>1995-02-01</th>\n",
       "      <td>118</td>\n",
       "      <td>2</td>\n",
       "      <td>10.862780</td>\n",
       "      <td>4.770685</td>\n",
       "      <td>1995</td>\n",
       "      <td>4</td>\n",
       "      <td>0</td>\n",
       "      <td>0</td>\n",
       "      <td>0</td>\n",
       "      <td>1</td>\n",
       "      <td>0</td>\n",
       "      <td>0</td>\n",
       "      <td>0</td>\n",
       "      <td>0</td>\n",
       "      <td>0</td>\n",
       "      <td>0</td>\n",
       "      <td>0</td>\n",
       "      <td>0</td>\n",
       "    </tr>\n",
       "    <tr>\n",
       "      <th>1995-03-01</th>\n",
       "      <td>132</td>\n",
       "      <td>3</td>\n",
       "      <td>11.489125</td>\n",
       "      <td>4.882802</td>\n",
       "      <td>1995</td>\n",
       "      <td>9</td>\n",
       "      <td>0</td>\n",
       "      <td>0</td>\n",
       "      <td>0</td>\n",
       "      <td>0</td>\n",
       "      <td>0</td>\n",
       "      <td>0</td>\n",
       "      <td>0</td>\n",
       "      <td>1</td>\n",
       "      <td>0</td>\n",
       "      <td>0</td>\n",
       "      <td>0</td>\n",
       "      <td>0</td>\n",
       "    </tr>\n",
       "    <tr>\n",
       "      <th>1995-04-01</th>\n",
       "      <td>129</td>\n",
       "      <td>4</td>\n",
       "      <td>11.357817</td>\n",
       "      <td>4.859812</td>\n",
       "      <td>1995</td>\n",
       "      <td>16</td>\n",
       "      <td>1</td>\n",
       "      <td>0</td>\n",
       "      <td>0</td>\n",
       "      <td>0</td>\n",
       "      <td>0</td>\n",
       "      <td>0</td>\n",
       "      <td>0</td>\n",
       "      <td>0</td>\n",
       "      <td>0</td>\n",
       "      <td>0</td>\n",
       "      <td>0</td>\n",
       "      <td>0</td>\n",
       "    </tr>\n",
       "    <tr>\n",
       "      <th>1995-05-01</th>\n",
       "      <td>121</td>\n",
       "      <td>5</td>\n",
       "      <td>11.000000</td>\n",
       "      <td>4.795791</td>\n",
       "      <td>1995</td>\n",
       "      <td>25</td>\n",
       "      <td>0</td>\n",
       "      <td>0</td>\n",
       "      <td>0</td>\n",
       "      <td>0</td>\n",
       "      <td>0</td>\n",
       "      <td>0</td>\n",
       "      <td>0</td>\n",
       "      <td>0</td>\n",
       "      <td>1</td>\n",
       "      <td>0</td>\n",
       "      <td>0</td>\n",
       "      <td>0</td>\n",
       "    </tr>\n",
       "    <tr>\n",
       "      <th>...</th>\n",
       "      <td>...</td>\n",
       "      <td>...</td>\n",
       "      <td>...</td>\n",
       "      <td>...</td>\n",
       "      <td>...</td>\n",
       "      <td>...</td>\n",
       "      <td>...</td>\n",
       "      <td>...</td>\n",
       "      <td>...</td>\n",
       "      <td>...</td>\n",
       "      <td>...</td>\n",
       "      <td>...</td>\n",
       "      <td>...</td>\n",
       "      <td>...</td>\n",
       "      <td>...</td>\n",
       "      <td>...</td>\n",
       "      <td>...</td>\n",
       "      <td>...</td>\n",
       "    </tr>\n",
       "    <tr>\n",
       "      <th>2002-08-01</th>\n",
       "      <td>405</td>\n",
       "      <td>92</td>\n",
       "      <td>20.124612</td>\n",
       "      <td>6.003887</td>\n",
       "      <td>2002</td>\n",
       "      <td>8464</td>\n",
       "      <td>0</td>\n",
       "      <td>1</td>\n",
       "      <td>0</td>\n",
       "      <td>0</td>\n",
       "      <td>0</td>\n",
       "      <td>0</td>\n",
       "      <td>0</td>\n",
       "      <td>0</td>\n",
       "      <td>0</td>\n",
       "      <td>0</td>\n",
       "      <td>0</td>\n",
       "      <td>0</td>\n",
       "    </tr>\n",
       "    <tr>\n",
       "      <th>2002-09-01</th>\n",
       "      <td>355</td>\n",
       "      <td>93</td>\n",
       "      <td>18.841444</td>\n",
       "      <td>5.872118</td>\n",
       "      <td>2002</td>\n",
       "      <td>8649</td>\n",
       "      <td>0</td>\n",
       "      <td>0</td>\n",
       "      <td>0</td>\n",
       "      <td>0</td>\n",
       "      <td>0</td>\n",
       "      <td>0</td>\n",
       "      <td>0</td>\n",
       "      <td>0</td>\n",
       "      <td>0</td>\n",
       "      <td>0</td>\n",
       "      <td>0</td>\n",
       "      <td>1</td>\n",
       "    </tr>\n",
       "    <tr>\n",
       "      <th>2002-10-01</th>\n",
       "      <td>306</td>\n",
       "      <td>94</td>\n",
       "      <td>17.492856</td>\n",
       "      <td>5.723585</td>\n",
       "      <td>2002</td>\n",
       "      <td>8836</td>\n",
       "      <td>0</td>\n",
       "      <td>0</td>\n",
       "      <td>0</td>\n",
       "      <td>0</td>\n",
       "      <td>0</td>\n",
       "      <td>0</td>\n",
       "      <td>0</td>\n",
       "      <td>0</td>\n",
       "      <td>0</td>\n",
       "      <td>0</td>\n",
       "      <td>1</td>\n",
       "      <td>0</td>\n",
       "    </tr>\n",
       "    <tr>\n",
       "      <th>2002-11-01</th>\n",
       "      <td>271</td>\n",
       "      <td>95</td>\n",
       "      <td>16.462078</td>\n",
       "      <td>5.602119</td>\n",
       "      <td>2002</td>\n",
       "      <td>9025</td>\n",
       "      <td>0</td>\n",
       "      <td>0</td>\n",
       "      <td>0</td>\n",
       "      <td>0</td>\n",
       "      <td>0</td>\n",
       "      <td>0</td>\n",
       "      <td>0</td>\n",
       "      <td>0</td>\n",
       "      <td>0</td>\n",
       "      <td>1</td>\n",
       "      <td>0</td>\n",
       "      <td>0</td>\n",
       "    </tr>\n",
       "    <tr>\n",
       "      <th>2002-12-01</th>\n",
       "      <td>306</td>\n",
       "      <td>96</td>\n",
       "      <td>17.492856</td>\n",
       "      <td>5.723585</td>\n",
       "      <td>2002</td>\n",
       "      <td>9216</td>\n",
       "      <td>0</td>\n",
       "      <td>0</td>\n",
       "      <td>1</td>\n",
       "      <td>0</td>\n",
       "      <td>0</td>\n",
       "      <td>0</td>\n",
       "      <td>0</td>\n",
       "      <td>0</td>\n",
       "      <td>0</td>\n",
       "      <td>0</td>\n",
       "      <td>0</td>\n",
       "      <td>0</td>\n",
       "    </tr>\n",
       "  </tbody>\n",
       "</table>\n",
       "<p>96 rows × 18 columns</p>\n",
       "</div>"
      ],
      "text/plain": [
       "            Passengers   t     sqRoot       log  year  t-Sq  Apr  Aug  Dec  \\\n",
       "Month                                                                        \n",
       "1995-01-01         112   1  10.583005  4.718499  1995     1    0    0    0   \n",
       "1995-02-01         118   2  10.862780  4.770685  1995     4    0    0    0   \n",
       "1995-03-01         132   3  11.489125  4.882802  1995     9    0    0    0   \n",
       "1995-04-01         129   4  11.357817  4.859812  1995    16    1    0    0   \n",
       "1995-05-01         121   5  11.000000  4.795791  1995    25    0    0    0   \n",
       "...                ...  ..        ...       ...   ...   ...  ...  ...  ...   \n",
       "2002-08-01         405  92  20.124612  6.003887  2002  8464    0    1    0   \n",
       "2002-09-01         355  93  18.841444  5.872118  2002  8649    0    0    0   \n",
       "2002-10-01         306  94  17.492856  5.723585  2002  8836    0    0    0   \n",
       "2002-11-01         271  95  16.462078  5.602119  2002  9025    0    0    0   \n",
       "2002-12-01         306  96  17.492856  5.723585  2002  9216    0    0    1   \n",
       "\n",
       "            Feb  Jan  Jul  Jun  Mar  May  Nov  Oct  Sep  \n",
       "Month                                                    \n",
       "1995-01-01    0    1    0    0    0    0    0    0    0  \n",
       "1995-02-01    1    0    0    0    0    0    0    0    0  \n",
       "1995-03-01    0    0    0    0    1    0    0    0    0  \n",
       "1995-04-01    0    0    0    0    0    0    0    0    0  \n",
       "1995-05-01    0    0    0    0    0    1    0    0    0  \n",
       "...         ...  ...  ...  ...  ...  ...  ...  ...  ...  \n",
       "2002-08-01    0    0    0    0    0    0    0    0    0  \n",
       "2002-09-01    0    0    0    0    0    0    0    0    1  \n",
       "2002-10-01    0    0    0    0    0    0    0    1    0  \n",
       "2002-11-01    0    0    0    0    0    0    1    0    0  \n",
       "2002-12-01    0    0    0    0    0    0    0    0    0  \n",
       "\n",
       "[96 rows x 18 columns]"
      ]
     },
     "execution_count": 19,
     "metadata": {},
     "output_type": "execute_result"
    }
   ],
   "source": [
    "#creating dummy variables for months, using get_dummies(), for checking the seasonality\n",
    "\n",
    "data = pd.get_dummies(data,prefix='',prefix_sep='')\n",
    "data"
   ]
  },
  {
   "cell_type": "code",
   "execution_count": 20,
   "metadata": {
    "ExecuteTime": {
     "end_time": "2021-07-11T07:20:01.330283Z",
     "start_time": "2021-07-11T07:20:01.239068Z"
    }
   },
   "outputs": [
    {
     "data": {
      "text/html": [
       "<div>\n",
       "<style scoped>\n",
       "    .dataframe tbody tr th:only-of-type {\n",
       "        vertical-align: middle;\n",
       "    }\n",
       "\n",
       "    .dataframe tbody tr th {\n",
       "        vertical-align: top;\n",
       "    }\n",
       "\n",
       "    .dataframe thead th {\n",
       "        text-align: right;\n",
       "    }\n",
       "</style>\n",
       "<table border=\"1\" class=\"dataframe\">\n",
       "  <thead>\n",
       "    <tr style=\"text-align: right;\">\n",
       "      <th></th>\n",
       "      <th>Passengers</th>\n",
       "      <th>t</th>\n",
       "      <th>sqRoot</th>\n",
       "      <th>log</th>\n",
       "      <th>month</th>\n",
       "      <th>year</th>\n",
       "      <th>t-Sq</th>\n",
       "      <th>Apr</th>\n",
       "      <th>Aug</th>\n",
       "      <th>Dec</th>\n",
       "      <th>Feb</th>\n",
       "      <th>Jan</th>\n",
       "      <th>Jul</th>\n",
       "      <th>Jun</th>\n",
       "      <th>Mar</th>\n",
       "      <th>May</th>\n",
       "      <th>Nov</th>\n",
       "      <th>Oct</th>\n",
       "      <th>Sep</th>\n",
       "    </tr>\n",
       "    <tr>\n",
       "      <th>Month</th>\n",
       "      <th></th>\n",
       "      <th></th>\n",
       "      <th></th>\n",
       "      <th></th>\n",
       "      <th></th>\n",
       "      <th></th>\n",
       "      <th></th>\n",
       "      <th></th>\n",
       "      <th></th>\n",
       "      <th></th>\n",
       "      <th></th>\n",
       "      <th></th>\n",
       "      <th></th>\n",
       "      <th></th>\n",
       "      <th></th>\n",
       "      <th></th>\n",
       "      <th></th>\n",
       "      <th></th>\n",
       "      <th></th>\n",
       "    </tr>\n",
       "  </thead>\n",
       "  <tbody>\n",
       "    <tr>\n",
       "      <th>1995-01-01</th>\n",
       "      <td>112</td>\n",
       "      <td>1</td>\n",
       "      <td>10.583005</td>\n",
       "      <td>4.718499</td>\n",
       "      <td>Jan</td>\n",
       "      <td>1995</td>\n",
       "      <td>1</td>\n",
       "      <td>0</td>\n",
       "      <td>0</td>\n",
       "      <td>0</td>\n",
       "      <td>0</td>\n",
       "      <td>1</td>\n",
       "      <td>0</td>\n",
       "      <td>0</td>\n",
       "      <td>0</td>\n",
       "      <td>0</td>\n",
       "      <td>0</td>\n",
       "      <td>0</td>\n",
       "      <td>0</td>\n",
       "    </tr>\n",
       "    <tr>\n",
       "      <th>1995-02-01</th>\n",
       "      <td>118</td>\n",
       "      <td>2</td>\n",
       "      <td>10.862780</td>\n",
       "      <td>4.770685</td>\n",
       "      <td>Feb</td>\n",
       "      <td>1995</td>\n",
       "      <td>4</td>\n",
       "      <td>0</td>\n",
       "      <td>0</td>\n",
       "      <td>0</td>\n",
       "      <td>1</td>\n",
       "      <td>0</td>\n",
       "      <td>0</td>\n",
       "      <td>0</td>\n",
       "      <td>0</td>\n",
       "      <td>0</td>\n",
       "      <td>0</td>\n",
       "      <td>0</td>\n",
       "      <td>0</td>\n",
       "    </tr>\n",
       "    <tr>\n",
       "      <th>1995-03-01</th>\n",
       "      <td>132</td>\n",
       "      <td>3</td>\n",
       "      <td>11.489125</td>\n",
       "      <td>4.882802</td>\n",
       "      <td>Mar</td>\n",
       "      <td>1995</td>\n",
       "      <td>9</td>\n",
       "      <td>0</td>\n",
       "      <td>0</td>\n",
       "      <td>0</td>\n",
       "      <td>0</td>\n",
       "      <td>0</td>\n",
       "      <td>0</td>\n",
       "      <td>0</td>\n",
       "      <td>1</td>\n",
       "      <td>0</td>\n",
       "      <td>0</td>\n",
       "      <td>0</td>\n",
       "      <td>0</td>\n",
       "    </tr>\n",
       "    <tr>\n",
       "      <th>1995-04-01</th>\n",
       "      <td>129</td>\n",
       "      <td>4</td>\n",
       "      <td>11.357817</td>\n",
       "      <td>4.859812</td>\n",
       "      <td>Apr</td>\n",
       "      <td>1995</td>\n",
       "      <td>16</td>\n",
       "      <td>1</td>\n",
       "      <td>0</td>\n",
       "      <td>0</td>\n",
       "      <td>0</td>\n",
       "      <td>0</td>\n",
       "      <td>0</td>\n",
       "      <td>0</td>\n",
       "      <td>0</td>\n",
       "      <td>0</td>\n",
       "      <td>0</td>\n",
       "      <td>0</td>\n",
       "      <td>0</td>\n",
       "    </tr>\n",
       "    <tr>\n",
       "      <th>1995-05-01</th>\n",
       "      <td>121</td>\n",
       "      <td>5</td>\n",
       "      <td>11.000000</td>\n",
       "      <td>4.795791</td>\n",
       "      <td>May</td>\n",
       "      <td>1995</td>\n",
       "      <td>25</td>\n",
       "      <td>0</td>\n",
       "      <td>0</td>\n",
       "      <td>0</td>\n",
       "      <td>0</td>\n",
       "      <td>0</td>\n",
       "      <td>0</td>\n",
       "      <td>0</td>\n",
       "      <td>0</td>\n",
       "      <td>1</td>\n",
       "      <td>0</td>\n",
       "      <td>0</td>\n",
       "      <td>0</td>\n",
       "    </tr>\n",
       "    <tr>\n",
       "      <th>...</th>\n",
       "      <td>...</td>\n",
       "      <td>...</td>\n",
       "      <td>...</td>\n",
       "      <td>...</td>\n",
       "      <td>...</td>\n",
       "      <td>...</td>\n",
       "      <td>...</td>\n",
       "      <td>...</td>\n",
       "      <td>...</td>\n",
       "      <td>...</td>\n",
       "      <td>...</td>\n",
       "      <td>...</td>\n",
       "      <td>...</td>\n",
       "      <td>...</td>\n",
       "      <td>...</td>\n",
       "      <td>...</td>\n",
       "      <td>...</td>\n",
       "      <td>...</td>\n",
       "      <td>...</td>\n",
       "    </tr>\n",
       "    <tr>\n",
       "      <th>2002-08-01</th>\n",
       "      <td>405</td>\n",
       "      <td>92</td>\n",
       "      <td>20.124612</td>\n",
       "      <td>6.003887</td>\n",
       "      <td>Aug</td>\n",
       "      <td>2002</td>\n",
       "      <td>8464</td>\n",
       "      <td>0</td>\n",
       "      <td>1</td>\n",
       "      <td>0</td>\n",
       "      <td>0</td>\n",
       "      <td>0</td>\n",
       "      <td>0</td>\n",
       "      <td>0</td>\n",
       "      <td>0</td>\n",
       "      <td>0</td>\n",
       "      <td>0</td>\n",
       "      <td>0</td>\n",
       "      <td>0</td>\n",
       "    </tr>\n",
       "    <tr>\n",
       "      <th>2002-09-01</th>\n",
       "      <td>355</td>\n",
       "      <td>93</td>\n",
       "      <td>18.841444</td>\n",
       "      <td>5.872118</td>\n",
       "      <td>Sep</td>\n",
       "      <td>2002</td>\n",
       "      <td>8649</td>\n",
       "      <td>0</td>\n",
       "      <td>0</td>\n",
       "      <td>0</td>\n",
       "      <td>0</td>\n",
       "      <td>0</td>\n",
       "      <td>0</td>\n",
       "      <td>0</td>\n",
       "      <td>0</td>\n",
       "      <td>0</td>\n",
       "      <td>0</td>\n",
       "      <td>0</td>\n",
       "      <td>1</td>\n",
       "    </tr>\n",
       "    <tr>\n",
       "      <th>2002-10-01</th>\n",
       "      <td>306</td>\n",
       "      <td>94</td>\n",
       "      <td>17.492856</td>\n",
       "      <td>5.723585</td>\n",
       "      <td>Oct</td>\n",
       "      <td>2002</td>\n",
       "      <td>8836</td>\n",
       "      <td>0</td>\n",
       "      <td>0</td>\n",
       "      <td>0</td>\n",
       "      <td>0</td>\n",
       "      <td>0</td>\n",
       "      <td>0</td>\n",
       "      <td>0</td>\n",
       "      <td>0</td>\n",
       "      <td>0</td>\n",
       "      <td>0</td>\n",
       "      <td>1</td>\n",
       "      <td>0</td>\n",
       "    </tr>\n",
       "    <tr>\n",
       "      <th>2002-11-01</th>\n",
       "      <td>271</td>\n",
       "      <td>95</td>\n",
       "      <td>16.462078</td>\n",
       "      <td>5.602119</td>\n",
       "      <td>Nov</td>\n",
       "      <td>2002</td>\n",
       "      <td>9025</td>\n",
       "      <td>0</td>\n",
       "      <td>0</td>\n",
       "      <td>0</td>\n",
       "      <td>0</td>\n",
       "      <td>0</td>\n",
       "      <td>0</td>\n",
       "      <td>0</td>\n",
       "      <td>0</td>\n",
       "      <td>0</td>\n",
       "      <td>1</td>\n",
       "      <td>0</td>\n",
       "      <td>0</td>\n",
       "    </tr>\n",
       "    <tr>\n",
       "      <th>2002-12-01</th>\n",
       "      <td>306</td>\n",
       "      <td>96</td>\n",
       "      <td>17.492856</td>\n",
       "      <td>5.723585</td>\n",
       "      <td>Dec</td>\n",
       "      <td>2002</td>\n",
       "      <td>9216</td>\n",
       "      <td>0</td>\n",
       "      <td>0</td>\n",
       "      <td>1</td>\n",
       "      <td>0</td>\n",
       "      <td>0</td>\n",
       "      <td>0</td>\n",
       "      <td>0</td>\n",
       "      <td>0</td>\n",
       "      <td>0</td>\n",
       "      <td>0</td>\n",
       "      <td>0</td>\n",
       "      <td>0</td>\n",
       "    </tr>\n",
       "  </tbody>\n",
       "</table>\n",
       "<p>96 rows × 19 columns</p>\n",
       "</div>"
      ],
      "text/plain": [
       "            Passengers   t     sqRoot       log month  year  t-Sq  Apr  Aug  \\\n",
       "Month                                                                         \n",
       "1995-01-01         112   1  10.583005  4.718499   Jan  1995     1    0    0   \n",
       "1995-02-01         118   2  10.862780  4.770685   Feb  1995     4    0    0   \n",
       "1995-03-01         132   3  11.489125  4.882802   Mar  1995     9    0    0   \n",
       "1995-04-01         129   4  11.357817  4.859812   Apr  1995    16    1    0   \n",
       "1995-05-01         121   5  11.000000  4.795791   May  1995    25    0    0   \n",
       "...                ...  ..        ...       ...   ...   ...   ...  ...  ...   \n",
       "2002-08-01         405  92  20.124612  6.003887   Aug  2002  8464    0    1   \n",
       "2002-09-01         355  93  18.841444  5.872118   Sep  2002  8649    0    0   \n",
       "2002-10-01         306  94  17.492856  5.723585   Oct  2002  8836    0    0   \n",
       "2002-11-01         271  95  16.462078  5.602119   Nov  2002  9025    0    0   \n",
       "2002-12-01         306  96  17.492856  5.723585   Dec  2002  9216    0    0   \n",
       "\n",
       "            Dec  Feb  Jan  Jul  Jun  Mar  May  Nov  Oct  Sep  \n",
       "Month                                                         \n",
       "1995-01-01    0    0    1    0    0    0    0    0    0    0  \n",
       "1995-02-01    0    1    0    0    0    0    0    0    0    0  \n",
       "1995-03-01    0    0    0    0    0    1    0    0    0    0  \n",
       "1995-04-01    0    0    0    0    0    0    0    0    0    0  \n",
       "1995-05-01    0    0    0    0    0    0    1    0    0    0  \n",
       "...         ...  ...  ...  ...  ...  ...  ...  ...  ...  ...  \n",
       "2002-08-01    0    0    0    0    0    0    0    0    0    0  \n",
       "2002-09-01    0    0    0    0    0    0    0    0    0    1  \n",
       "2002-10-01    0    0    0    0    0    0    0    0    1    0  \n",
       "2002-11-01    0    0    0    0    0    0    0    1    0    0  \n",
       "2002-12-01    1    0    0    0    0    0    0    0    0    0  \n",
       "\n",
       "[96 rows x 19 columns]"
      ]
     },
     "execution_count": 20,
     "metadata": {},
     "output_type": "execute_result"
    }
   ],
   "source": [
    "# reinserting the month column as get_dummies removed the same in the previous step\n",
    "\n",
    "data.insert(loc = 4, column='month', value = pd.to_datetime(data.index).strftime('%b'))\n",
    "data"
   ]
  },
  {
   "cell_type": "markdown",
   "metadata": {},
   "source": [
    "## Visualizing the Data with Dummy Variables"
   ]
  },
  {
   "cell_type": "code",
   "execution_count": 21,
   "metadata": {
    "ExecuteTime": {
     "end_time": "2021-07-11T07:20:02.335237Z",
     "start_time": "2021-07-11T07:20:01.332246Z"
    }
   },
   "outputs": [
    {
     "data": {
      "text/plain": [
       "<AxesSubplot:xlabel='month', ylabel='year'>"
      ]
     },
     "execution_count": 21,
     "metadata": {},
     "output_type": "execute_result"
    },
    {
     "data": {
      "image/png": "[encoded data removed]",
      "text/plain": [
       "<Figure size 864x576 with 2 Axes>"
      ]
     },
     "metadata": {
      "needs_background": "light"
     },
     "output_type": "display_data"
    }
   ],
   "source": [
    "# Heat map to check the monthly and yearly relationship pattern. It is not intutive though\n",
    "\n",
    "plt.figure(figsize=(12,8))\n",
    "heatmap_y_month = pd.pivot_table(data=data, values=\"Passengers\", index=\"year\", \n",
    "                                 columns=\"month\", aggfunc=\"mean\", fill_value=0)\n",
    "sns.heatmap(heatmap_y_month,annot=True,fmt=\"g\")"
   ]
  },
  {
   "cell_type": "code",
   "execution_count": 22,
   "metadata": {
    "ExecuteTime": {
     "end_time": "2021-07-11T07:20:02.823036Z",
     "start_time": "2021-07-11T07:20:02.338048Z"
    }
   },
   "outputs": [
    {
     "data": {
      "text/plain": [
       "<AxesSubplot:xlabel='year', ylabel='Passengers'>"
      ]
     },
     "execution_count": 22,
     "metadata": {},
     "output_type": "execute_result"
    },
    {
     "data": {
      "image/png": "[encoded data removed]",
      "text/plain": [
       "<Figure size 864x432 with 2 Axes>"
      ]
     },
     "metadata": {
      "needs_background": "light"
     },
     "output_type": "display_data"
    }
   ],
   "source": [
    "# Boxplot for every year and month - ORIGINAL DATA\n",
    "\n",
    "plt.figure(figsize=(12,6))\n",
    "plt.subplot(211)\n",
    "sns.boxplot(x=\"month\",y=\"Passengers\",data=data)\n",
    "plt.subplot(212)\n",
    "sns.boxplot(x=\"year\",y=\"Passengers\",data=data)\n"
   ]
  },
  {
   "cell_type": "markdown",
   "metadata": {},
   "source": [
    "**months of June July and August have highest passenger count for all years put together.**"
   ]
  },
  {
   "cell_type": "code",
   "execution_count": 23,
   "metadata": {
    "ExecuteTime": {
     "end_time": "2021-07-11T07:20:03.311490Z",
     "start_time": "2021-07-11T07:20:02.823036Z"
    }
   },
   "outputs": [
    {
     "data": {
      "text/plain": [
       "<AxesSubplot:xlabel='year', ylabel='sqRoot'>"
      ]
     },
     "execution_count": 23,
     "metadata": {},
     "output_type": "execute_result"
    },
    {
     "data": {
      "image/png": "[encoded data removed]",
      "text/plain": [
       "<Figure size 864x432 with 2 Axes>"
      ]
     },
     "metadata": {
      "needs_background": "light"
     },
     "output_type": "display_data"
    }
   ],
   "source": [
    "# Boxplot for every year and month - Dummy variable `sqRoot of Passengers`\n",
    "\n",
    "plt.figure(figsize=(12,6))\n",
    "plt.subplot(211)\n",
    "sns.boxplot(x=\"month\",y=\"sqRoot\",data=data)\n",
    "plt.subplot(212)\n",
    "sns.boxplot(x=\"year\",y=\"sqRoot\",data=data)\n"
   ]
  },
  {
   "cell_type": "code",
   "execution_count": 24,
   "metadata": {
    "ExecuteTime": {
     "end_time": "2021-07-11T07:20:03.802629Z",
     "start_time": "2021-07-11T07:20:03.314485Z"
    }
   },
   "outputs": [
    {
     "data": {
      "text/plain": [
       "<AxesSubplot:xlabel='year', ylabel='log'>"
      ]
     },
     "execution_count": 24,
     "metadata": {},
     "output_type": "execute_result"
    },
    {
     "data": {
      "image/png": "[encoded data removed]",
      "text/plain": [
       "<Figure size 864x432 with 2 Axes>"
      ]
     },
     "metadata": {
      "needs_background": "light"
     },
     "output_type": "display_data"
    }
   ],
   "source": [
    "# Boxplot for every year and month - using Dummy variable log of passengers\n",
    "\n",
    "plt.figure(figsize=(12,6))\n",
    "plt.subplot(211)\n",
    "sns.boxplot(x=\"month\",y=\"log\",data=data)\n",
    "plt.subplot(212)\n",
    "sns.boxplot(x=\"year\",y=\"log\",data=data)\n"
   ]
  },
  {
   "cell_type": "code",
   "execution_count": 25,
   "metadata": {
    "ExecuteTime": {
     "end_time": "2021-07-11T07:20:04.279013Z",
     "start_time": "2021-07-11T07:20:03.802629Z"
    }
   },
   "outputs": [
    {
     "data": {
      "image/png": "[encoded data removed]",
      "text/plain": [
       "<Figure size 432x288 with 3 Axes>"
      ]
     },
     "metadata": {
      "needs_background": "light"
     },
     "output_type": "display_data"
    }
   ],
   "source": [
    "# line plot comparing all the variables - original and dummy\n",
    "\n",
    "plt.subplot(311)\n",
    "plt.plot(data.log, label = 'log')\n",
    "plt.legend(loc='best')\n",
    "plt.subplot(312)\n",
    "plt.plot(data.sqRoot, label = 'sqRoot')\n",
    "plt.legend(loc='best')\n",
    "plt.subplot(313)\n",
    "plt.plot(data.Passengers, label = 'Passengers')\n",
    "plt.legend(loc='best')\n",
    "plt.tight_layout()"
   ]
  },
  {
   "cell_type": "markdown",
   "metadata": {},
   "source": [
    "**Log transformation works best to make seasonal component equal across the time series.**"
   ]
  },
  {
   "cell_type": "markdown",
   "metadata": {},
   "source": [
    "## Splitting the data into Train and Test for `Model Training`"
   ]
  },
  {
   "cell_type": "code",
   "execution_count": 26,
   "metadata": {
    "ExecuteTime": {
     "end_time": "2021-07-11T07:20:04.294704Z",
     "start_time": "2021-07-11T07:20:04.279013Z"
    }
   },
   "outputs": [],
   "source": [
    "# Splitting the data\n",
    "\n",
    "Train = data.head(84)\n",
    "Test = data.tail(12)"
   ]
  },
  {
   "cell_type": "markdown",
   "metadata": {},
   "source": [
    "# Model Building\n",
    "======================"
   ]
  },
  {
   "cell_type": "markdown",
   "metadata": {},
   "source": [
    "**Evaluation Metric MAPE**"
   ]
  },
  {
   "cell_type": "code",
   "execution_count": 27,
   "metadata": {
    "ExecuteTime": {
     "end_time": "2021-07-11T07:20:04.356521Z",
     "start_time": "2021-07-11T07:20:04.296824Z"
    }
   },
   "outputs": [],
   "source": [
    "# Function for MAPE calculation\n",
    "\n",
    "def MAPE(pred,org):\n",
    "    temp = np.abs((pred-org)/org)*100\n",
    "    return np.mean(temp)"
   ]
  },
  {
   "cell_type": "markdown",
   "metadata": {},
   "source": [
    "## Model based approach\n",
    "\n",
    "    Model based approach assumes that future depends on past till eternity. This may be true or this may not be true. one simple fact is that the immediate past has bigger influence on the future than the long past data."
   ]
  },
  {
   "cell_type": "markdown",
   "metadata": {},
   "source": [
    "### Linear model\n",
    "\n",
    "Linear model is the simplest mode of all the models under model based approach. it assumes linear relationship between t and y.\n",
    "\n",
    "    * It works well when there is no seasonal component in the Time series\n",
    "    * It works well if there is a constant trend in the Time series, i.e. linear trend.\n",
    "\n",
    "This is not suitable for our AirPassenger time series as there is a strong component of seasonality. However, we will try this model the compare with other models in model based approach."
   ]
  },
  {
   "cell_type": "code",
   "execution_count": 28,
   "metadata": {
    "ExecuteTime": {
     "end_time": "2021-07-11T07:20:04.450642Z",
     "start_time": "2021-07-11T07:20:04.358513Z"
    }
   },
   "outputs": [
    {
     "data": {
      "text/plain": [
       "(53.199236534802715, 10.787458780263671)"
      ]
     },
     "execution_count": 28,
     "metadata": {},
     "output_type": "execute_result"
    }
   ],
   "source": [
    "# Linear Model\n",
    "\n",
    "import statsmodels.formula.api as smf \n",
    "\n",
    "linear_model = smf.ols('Passengers~t',data=Train).fit()\n",
    "pred_linear =  pd.Series(linear_model.predict(pd.DataFrame(Test['t'])))\n",
    "rmse_linear = np.sqrt(np.mean((np.array(Test['Passengers'])-np.array(pred_linear))**2))\n",
    "MAPE_linear = MAPE(pred_linear,Test['Passengers'])\n",
    "rmse_linear,MAPE_linear"
   ]
  },
  {
   "cell_type": "markdown",
   "metadata": {},
   "source": [
    "### Exponential model\n",
    "\n",
    "Transformations are applied on the y values to make them normally distributed. In this case we are working with log transformation as this works better on the data than the square root transformation.\n",
    "\n",
    "    * This works well when the trend is non linear or exponential in nature. It fails to capture cyclical trends in the Time series.\n",
    "    * This model still fails to capture seasonal component like the linear model. \n",
    "    \n",
    "This is also not suitable for our AirPassenger time series as there is a strong component of seasonality. However, we will try this model the compare with other models in model based approach."
   ]
  },
  {
   "cell_type": "code",
   "execution_count": 29,
   "metadata": {
    "ExecuteTime": {
     "end_time": "2021-07-11T07:20:04.482556Z",
     "start_time": "2021-07-11T07:20:04.452636Z"
    }
   },
   "outputs": [
    {
     "data": {
      "text/plain": [
       "(46.0573611031562, 10.66573871088376)"
      ]
     },
     "execution_count": 29,
     "metadata": {},
     "output_type": "execute_result"
    }
   ],
   "source": [
    "# Exponential model\n",
    "\n",
    "Exp = smf.ols('log~t',data=Train).fit()\n",
    "pred_Exp = pd.Series(Exp.predict(pd.DataFrame(Test['t'])))\n",
    "rmse_Exp = np.sqrt(np.mean((np.array(Test['Passengers'])-np.array(np.exp(pred_Exp)))**2))\n",
    "MAPE_Exp = MAPE(np.exp(pred_Exp),Test['Passengers'])\n",
    "rmse_Exp,MAPE_Exp\n"
   ]
  },
  {
   "cell_type": "markdown",
   "metadata": {},
   "source": [
    "### Quadratic model\n",
    "\n",
    "Quadratic model try to capture the bi-directional trends. i.e. raising and falling trends, such as business cycles which occur every few years. \n",
    "\n",
    "    * This model will try to capture cyclical trends over the years but they fail to absorb the seasonal component mostly.\n",
    "    \n",
    "This is also not suitable for our AirPassenger time series as there is no presence of cyclical trend but a strong component of seasonality is present. However, we will try this model the compare with other models in model based approach."
   ]
  },
  {
   "cell_type": "code",
   "execution_count": 30,
   "metadata": {
    "ExecuteTime": {
     "end_time": "2021-07-11T07:20:04.562342Z",
     "start_time": "2021-07-11T07:20:04.484551Z"
    }
   },
   "outputs": [
    {
     "data": {
      "text/plain": [
       "(53.199236534802715, 10.787458780263671)"
      ]
     },
     "execution_count": 30,
     "metadata": {},
     "output_type": "execute_result"
    }
   ],
   "source": [
    "# Quadratic model\n",
    "\n",
    "Quad = smf.ols('Passengers~t+t-Sq',data=Train).fit()\n",
    "pred_Quad = pd.Series(Quad.predict(Test[[\"t\",\"t-Sq\"]]))\n",
    "rmse_Quad = np.sqrt(np.mean((np.array(Test['Passengers'])-np.array(pred_Quad))**2))\n",
    "MAPE_Quad = MAPE(pred_Quad,Test['Passengers'])\n",
    "rmse_Quad,MAPE_Quad"
   ]
  },
  {
   "cell_type": "markdown",
   "metadata": {},
   "source": [
    "### Base model with Additive seasonality\n",
    "\n",
    "This model tries to capture the seasonality alone considering the constant level in the data. This is also not suitable for our data as we have a component of trend and seasonality. But this will help us check the nature of seasonality, i.e. whether seasonality is additive or multiplicative.\n",
    "\n",
    "*`Seasonality is the variation in the time series within a year.`*\n",
    "\n",
    "    * Additive Seasonality describes that the variation in the seasonality is constant over the years.\n",
    "    * Multiplicative Seasonality describes the growing seasonal variation over the years.\n"
   ]
  },
  {
   "cell_type": "code",
   "execution_count": 31,
   "metadata": {
    "ExecuteTime": {
     "end_time": "2021-07-11T07:20:04.701968Z",
     "start_time": "2021-07-11T07:20:04.565335Z"
    }
   },
   "outputs": [
    {
     "data": {
      "text/plain": [
       "(132.81978481421817, 39.728616686874396)"
      ]
     },
     "execution_count": 31,
     "metadata": {},
     "output_type": "execute_result"
    }
   ],
   "source": [
    "#Additive seasonality \n",
    "\n",
    "add_sea = smf.ols('Passengers~Jan+Feb+Mar+Apr+May+Jun+Jul+Aug+Sep+Oct+Nov',data=Train).fit()\n",
    "pred_add_sea = pd.Series(add_sea.predict(Test[['Jan','Feb','Mar','Apr','May','Jun',\n",
    "                                               'Jul','Aug','Sep','Oct','Nov']]))\n",
    "rmse_add_sea = np.sqrt(np.mean((np.array(Test['Passengers'])-np.array(pred_add_sea))**2))\n",
    "MAPE_add_sea = MAPE(pred_add_sea,Test['Passengers'])\n",
    "rmse_add_sea,MAPE_add_sea"
   ]
  },
  {
   "cell_type": "markdown",
   "metadata": {},
   "source": [
    "### Base model with constant trend and Multiplicative Seasonality\n",
    "\n",
    "As discussed above multiplicative seasonality shows an increasing variation with respect to years.\n",
    "\n",
    "We will try to check the type of seasonality using this model.\n",
    "\n",
    "`Clearly we can see that additive seasonality gives less error then multiplicative seasonality. however we can not discard any one of them as the difference is not that high.`"
   ]
  },
  {
   "cell_type": "code",
   "execution_count": 32,
   "metadata": {
    "ExecuteTime": {
     "end_time": "2021-07-11T07:20:04.765798Z",
     "start_time": "2021-07-11T07:20:04.704964Z"
    }
   },
   "outputs": [
    {
     "data": {
      "text/plain": [
       "(140.06320204708615, 41.875240929185175)"
      ]
     },
     "execution_count": 32,
     "metadata": {},
     "output_type": "execute_result"
    }
   ],
   "source": [
    "##Multiplicative Seasonality\n",
    "\n",
    "Mult_sea = smf.ols('log~Jan+Feb+Mar+Apr+May+Jun+Jul+Aug+Sep+Oct+Nov',data = Train).fit()\n",
    "pred_Mult_sea = pd.Series(Mult_sea.predict(Test))\n",
    "rmse_Mult_sea = np.sqrt(np.mean((np.array(Test['Passengers'])-np.array(np.exp(pred_Mult_sea)))**2))\n",
    "MAPE_Mult_sea = MAPE(np.exp(pred_Mult_sea),Test['Passengers'])\n",
    "rmse_Mult_sea,MAPE_Mult_sea"
   ]
  },
  {
   "cell_type": "markdown",
   "metadata": {},
   "source": [
    "### Additive seasonality with additive/constant trend\n",
    "\n",
    "This will try to capture the non linear trend along with the additive seasonality in the time series. This is also not suitable as the trend is not quadratic in nature. "
   ]
  },
  {
   "cell_type": "code",
   "execution_count": 33,
   "metadata": {
    "ExecuteTime": {
     "end_time": "2021-07-11T07:20:04.861543Z",
     "start_time": "2021-07-11T07:20:04.767793Z"
    }
   },
   "outputs": [
    {
     "data": {
      "text/plain": [
       "(35.34895688467283, 7.578667788535856)"
      ]
     },
     "execution_count": 33,
     "metadata": {},
     "output_type": "execute_result"
    }
   ],
   "source": [
    "#Additive trend with additive Seasonality \n",
    "\n",
    "add_sea_add_tr = smf.ols('Passengers~t+Jan+Feb+Mar+Apr+May+Jun+Jul+Aug+Sep+Oct+Nov',data=Train).fit()\n",
    "pred_add_sea_add_tr = pd.Series(add_sea_add_tr.predict(Test[['Jan','Feb','Mar','Apr','May','Jun',\n",
    "                                                         'Jul','Aug','Sep','Oct','Nov','t']]))\n",
    "rmse_add_sea_add_tr = np.sqrt(np.mean((np.array(Test['Passengers'])-np.array(pred_add_sea_add_tr))**2))\n",
    "MAPE_add_sea_add_tr = MAPE(pred_add_sea_add_tr,Test['Passengers'])\n",
    "rmse_add_sea_add_tr,MAPE_add_sea_add_tr"
   ]
  },
  {
   "cell_type": "markdown",
   "metadata": {},
   "source": [
    "### Multiplicative trend with Multiplicative Seasonality\n",
    "\n",
    "This is the combination of multiplicative trend and multiplicative seasonality. This is a good combination for our time series as there is exponential trend and multiplicative seasonality."
   ]
  },
  {
   "cell_type": "code",
   "execution_count": 34,
   "metadata": {
    "ExecuteTime": {
     "end_time": "2021-07-11T07:20:04.939334Z",
     "start_time": "2021-07-11T07:20:04.864541Z"
    }
   },
   "outputs": [
    {
     "data": {
      "text/plain": [
       "(10.519172544323922, 2.3752408474928695)"
      ]
     },
     "execution_count": 34,
     "metadata": {},
     "output_type": "execute_result"
    }
   ],
   "source": [
    "#Multiplicative Seasonality with multiplicative trend \n",
    "\n",
    "Mult_tr_Mul_sea = smf.ols('log~t+Jan+Feb+Mar+Apr+May+Jun+Jul+Aug+Sep+Oct+Nov',data = Train).fit()\n",
    "pred_Mult_tr_Mul_sea = pd.Series(Mult_tr_Mul_sea.predict(Test))\n",
    "rmse_Mult_tr_Mul_sea = np.sqrt(np.mean((np.array(Test['Passengers'])\n",
    "                                        -np.array(np.exp(pred_Mult_tr_Mul_sea)))**2))\n",
    "MAPE_Mult_tr_Mul_sea = MAPE(np.exp(pred_Mult_tr_Mul_sea),Test['Passengers'])\n",
    "rmse_Mult_tr_Mul_sea,MAPE_Mult_tr_Mul_sea"
   ]
  },
  {
   "cell_type": "markdown",
   "metadata": {},
   "source": [
    "# Data Driven Models\n",
    "    \n",
    "    Data driven models assume that future may or may not completely depend on the past. They rely more on the immediate past to predict the future. "
   ]
  },
  {
   "cell_type": "code",
   "execution_count": 35,
   "metadata": {
    "ExecuteTime": {
     "end_time": "2021-07-11T07:20:04.987205Z",
     "start_time": "2021-07-11T07:20:04.942328Z"
    }
   },
   "outputs": [],
   "source": [
    "# Import libraries for datadriven models\n",
    "\n",
    "from statsmodels.tsa.holtwinters import SimpleExpSmoothing # SES\n",
    "from statsmodels.tsa.holtwinters import Holt # Holts Exponential Smoothing\n",
    "from statsmodels.tsa.holtwinters import ExponentialSmoothing "
   ]
  },
  {
   "cell_type": "markdown",
   "metadata": {},
   "source": [
    "### Simple Exponential Method"
   ]
  },
  {
   "cell_type": "code",
   "execution_count": 36,
   "metadata": {
    "ExecuteTime": {
     "end_time": "2021-07-11T07:20:05.019120Z",
     "start_time": "2021-07-11T07:20:04.989201Z"
    }
   },
   "outputs": [
    {
     "name": "stdout",
     "output_type": "stream",
     "text": [
      "64.61182394552621 13.349070149128151\n"
     ]
    },
    {
     "name": "stderr",
     "output_type": "stream",
     "text": [
      "C:\\Users\\MMM-SM\\anaconda3\\lib\\site-packages\\statsmodels\\tsa\\holtwinters\\model.py:427: FutureWarning: After 0.13 initialization must be handled at model creation\n",
      "  warnings.warn(\n"
     ]
    }
   ],
   "source": [
    "ses_model = SimpleExpSmoothing(Train[\"Passengers\"]).fit(smoothing_level=0.23)\n",
    "pred_ses = ses_model.predict(start = Test.index[0],end = Test.index[-1])\n",
    "MAPE_ses = MAPE(pred_ses,Test.Passengers) \n",
    "rmse_ses = np.sqrt(np.mean((np.array(Test['Passengers'])-np.array(pred_ses))**2))\n",
    "print(rmse_ses, MAPE_ses)"
   ]
  },
  {
   "cell_type": "markdown",
   "metadata": {},
   "source": [
    "### Holt Method"
   ]
  },
  {
   "cell_type": "code",
   "execution_count": 37,
   "metadata": {
    "ExecuteTime": {
     "end_time": "2021-07-11T07:20:05.082949Z",
     "start_time": "2021-07-11T07:20:05.020119Z"
    }
   },
   "outputs": [
    {
     "name": "stdout",
     "output_type": "stream",
     "text": [
      "47.963138144652405 10.431245070348746\n"
     ]
    }
   ],
   "source": [
    "# Holt method \n",
    "hw_model = Holt(Train[\"Passengers\"]).fit(smoothing_level=0.23, smoothing_trend=0.2)\n",
    "pred_hw = hw_model.predict(start = Test.index[0],end = Test.index[-1])\n",
    "MAPE_hw = MAPE(pred_hw,Test.Passengers) \n",
    "rmse_hw = np.sqrt(np.mean((np.array(Test['Passengers'])-np.array(pred_hw))**2))\n",
    "print(rmse_hw, MAPE_hw)"
   ]
  },
  {
   "cell_type": "markdown",
   "metadata": {},
   "source": [
    "### Holt Winter Additive Method"
   ]
  },
  {
   "cell_type": "code",
   "execution_count": 38,
   "metadata": {
    "ExecuteTime": {
     "end_time": "2021-07-11T07:20:05.321786Z",
     "start_time": "2021-07-11T07:20:05.084945Z"
    }
   },
   "outputs": [
    {
     "name": "stdout",
     "output_type": "stream",
     "text": [
      "28.79391476828249 5.495938663841666\n"
     ]
    }
   ],
   "source": [
    "hwe_model_add_add = ExponentialSmoothing(Train[\"Passengers\"],seasonal=\"add\",\n",
    "                                         trend=\"add\",seasonal_periods=12).fit() #add the trend to the model\n",
    "pred_hwe_add_add = hwe_model_add_add.predict(start = Test.index[0],end = Test.index[-1])\n",
    "MAPE_hwe = MAPE(pred_hwe_add_add,Test.Passengers)\n",
    "rmse_hwe = np.sqrt(np.mean((np.array(Test['Passengers'])-np.array(pred_hwe_add_add))**2))\n",
    "print(rmse_hwe, MAPE_hwe)"
   ]
  },
  {
   "cell_type": "markdown",
   "metadata": {},
   "source": [
    "### Holt Winter Exponential Method"
   ]
  },
  {
   "cell_type": "code",
   "execution_count": 39,
   "metadata": {
    "ExecuteTime": {
     "end_time": "2021-07-11T07:20:05.543006Z",
     "start_time": "2021-07-11T07:20:05.323780Z"
    }
   },
   "outputs": [
    {
     "name": "stdout",
     "output_type": "stream",
     "text": [
      "12.921284284293778 2.821237608921072\n"
     ]
    }
   ],
   "source": [
    "hwe_model_mul_add = ExponentialSmoothing(Train[\"Passengers\"],seasonal=\"mul\",trend=\"add\",\n",
    "                                         seasonal_periods=12).fit() \n",
    "pred_hwe_mul_add = hwe_model_mul_add.predict(start = Test.index[0],end = Test.index[-1])\n",
    "MAPE_hwe_mul = MAPE(pred_hwe_mul_add,Test.Passengers)\n",
    "rmse_hwe_mul = np.sqrt(np.mean((np.array(Test['Passengers'])-np.array(pred_hwe_mul_add))**2))\n",
    "print(rmse_hwe_mul, MAPE_hwe_mul)"
   ]
  },
  {
   "cell_type": "markdown",
   "metadata": {},
   "source": [
    "# ARIMA models \n",
    "\n",
    "ARIMA models assume stationary time series i.e. no trend and no seasonality. Hence it may not be suitable for the time series under consideration. still we will try and build a model with hyper parameter tuning to see how it performs. I have no expectations. "
   ]
  },
  {
   "cell_type": "code",
   "execution_count": 40,
   "metadata": {
    "ExecuteTime": {
     "end_time": "2021-07-11T07:20:06.252461Z",
     "start_time": "2021-07-11T07:20:05.545005Z"
    }
   },
   "outputs": [],
   "source": [
    "from statsmodels.tsa.arima_model import ARIMA\n",
    "from sklearn.metrics import mean_squared_error"
   ]
  },
  {
   "cell_type": "code",
   "execution_count": 41,
   "metadata": {
    "ExecuteTime": {
     "end_time": "2021-07-11T07:20:06.267470Z",
     "start_time": "2021-07-11T07:20:06.253433Z"
    }
   },
   "outputs": [],
   "source": [
    "# grid search ARIMA parameters for a time series\n",
    "\n",
    "# evaluate an ARIMA model for a given order (p,d,q) and return RMSE\n",
    "def evaluate_arima_model(X, Y, arima_order):\n",
    "# prepare training dataset\n",
    "    train = X.astype('float64')\n",
    "    test = Y.astype('float64')\n",
    "    history = [x for x in train]\n",
    "# make predictions\n",
    "    predictions = list()\n",
    "    for t in range(len(test)):\n",
    "        model = ARIMA(history, order=arima_order )\n",
    "# model_fit = model.fit(disp=0)\n",
    "        model_fit = model.fit(disp=0)\n",
    "        yhat = model_fit.forecast()[0]\n",
    "        predictions.append(yhat)\n",
    "        history.append(test[t])\n",
    "# calculate out of sample error\n",
    "    rmse = np.sqrt(mean_squared_error(test, predictions))\n",
    "#     mape = MAPE(predictions,test)\n",
    "    return rmse"
   ]
  },
  {
   "cell_type": "code",
   "execution_count": 42,
   "metadata": {
    "ExecuteTime": {
     "end_time": "2021-07-11T07:20:06.315138Z",
     "start_time": "2021-07-11T07:20:06.268470Z"
    }
   },
   "outputs": [],
   "source": [
    "# evaluate combinations of p, d and q values for an ARIMA model\n",
    "def evaluate_models(train, test, p_values, d_values, q_values):\n",
    "    best_score, best_cfg = float('inf'), None\n",
    "    for p in p_values:\n",
    "        for d in d_values:\n",
    "            for q in q_values:\n",
    "                order = (p,d,q)\n",
    "                try:\n",
    "                    rmse = evaluate_arima_model(train, test, order)\n",
    "                    if rmse < best_score:\n",
    "                        best_score, best_cfg = rmse, order\n",
    "                    print('ARIMA%s RMSE=%.3f' % (order,rmse))\n",
    "                except:\n",
    "                    continue\n",
    "    print('Best ARIMA--%s RMSE--=%.3f' % (best_cfg, best_score))"
   ]
  },
  {
   "cell_type": "code",
   "execution_count": 43,
   "metadata": {
    "ExecuteTime": {
     "end_time": "2021-07-11T07:21:42.243851Z",
     "start_time": "2021-07-11T07:20:06.320123Z"
    }
   },
   "outputs": [
    {
     "name": "stdout",
     "output_type": "stream",
     "text": [
      "ARIMA(0, 0, 0) RMSE=131.471\n",
      "ARIMA(0, 0, 1) RMSE=69.553\n",
      "ARIMA(0, 1, 0) RMSE=34.018\n",
      "ARIMA(0, 1, 1) RMSE=30.908\n",
      "ARIMA(0, 1, 2) RMSE=35.310\n",
      "ARIMA(0, 1, 3) RMSE=30.011\n",
      "ARIMA(0, 1, 4) RMSE=26.950\n",
      "ARIMA(0, 2, 0) RMSE=38.498\n",
      "ARIMA(0, 2, 1) RMSE=34.722\n",
      "ARIMA(0, 2, 2) RMSE=31.370\n",
      "ARIMA(0, 2, 3) RMSE=31.490\n",
      "ARIMA(0, 2, 4) RMSE=29.486\n",
      "ARIMA(1, 0, 0) RMSE=34.552\n",
      "ARIMA(1, 0, 1) RMSE=31.134\n",
      "ARIMA(1, 0, 2) RMSE=31.014\n",
      "ARIMA(1, 1, 0) RMSE=32.273\n",
      "ARIMA(1, 1, 1) RMSE=34.571\n",
      "ARIMA(1, 1, 2) RMSE=28.493\n",
      "ARIMA(1, 2, 0) RMSE=38.802\n",
      "ARIMA(2, 0, 0) RMSE=32.548\n",
      "ARIMA(2, 0, 1) RMSE=30.740\n",
      "ARIMA(2, 1, 0) RMSE=31.118\n",
      "ARIMA(2, 1, 1) RMSE=28.442\n",
      "ARIMA(2, 1, 2) RMSE=28.450\n",
      "ARIMA(2, 1, 3) RMSE=28.147\n",
      "ARIMA(2, 2, 0) RMSE=36.564\n",
      "ARIMA(3, 0, 0) RMSE=31.530\n",
      "ARIMA(3, 0, 1) RMSE=28.066\n",
      "ARIMA(3, 1, 0) RMSE=31.673\n",
      "ARIMA(3, 1, 1) RMSE=28.831\n",
      "ARIMA(3, 1, 2) RMSE=27.665\n",
      "ARIMA(3, 2, 0) RMSE=37.261\n",
      "ARIMA(4, 0, 0) RMSE=32.059\n",
      "ARIMA(4, 1, 0) RMSE=29.335\n",
      "ARIMA(4, 1, 1) RMSE=28.986\n",
      "ARIMA(4, 1, 2) RMSE=34.050\n",
      "ARIMA(4, 1, 4) RMSE=28.346\n",
      "ARIMA(4, 2, 0) RMSE=33.455\n",
      "ARIMA(4, 2, 1) RMSE=29.878\n",
      "Best ARIMA--(0, 1, 4) RMSE--=26.950\n"
     ]
    }
   ],
   "source": [
    "# evaluate parameters\n",
    "p_values = range(0, 5)\n",
    "d_values = range(0, 5)\n",
    "q_values = range(0, 5)\n",
    "warnings.filterwarnings(\"ignore\")\n",
    "evaluate_models(Train.Passengers, Test.Passengers, p_values, d_values, q_values)"
   ]
  },
  {
   "cell_type": "markdown",
   "metadata": {},
   "source": [
    "***Consistently the ARIMA models show high RMSE hence not suitable and not considered/selected as a model.***"
   ]
  },
  {
   "cell_type": "markdown",
   "metadata": {},
   "source": [
    "# Model Selection\n",
    "\n",
    "    As it can be seen that the model based approach gives us better result. we shall choose to build a model using multiplicative trend and multiplicative seasonality, as it gives the lowest RMSE and MAPE values. MAPE is around 2% which is acceptable in my opinion. "
   ]
  },
  {
   "cell_type": "markdown",
   "metadata": {},
   "source": [
    "### Compare results using RMSE and MAPE Values"
   ]
  },
  {
   "cell_type": "code",
   "execution_count": 44,
   "metadata": {
    "ExecuteTime": {
     "end_time": "2021-07-11T07:21:42.271910Z",
     "start_time": "2021-07-11T07:21:42.246324Z"
    },
    "scrolled": true
   },
   "outputs": [
    {
     "data": {
      "text/html": [
       "<div>\n",
       "<style scoped>\n",
       "    .dataframe tbody tr th:only-of-type {\n",
       "        vertical-align: middle;\n",
       "    }\n",
       "\n",
       "    .dataframe tbody tr th {\n",
       "        vertical-align: top;\n",
       "    }\n",
       "\n",
       "    .dataframe thead th {\n",
       "        text-align: right;\n",
       "    }\n",
       "</style>\n",
       "<table border=\"1\" class=\"dataframe\">\n",
       "  <thead>\n",
       "    <tr style=\"text-align: right;\">\n",
       "      <th></th>\n",
       "      <th>MODEL</th>\n",
       "      <th>RMSE_Values</th>\n",
       "      <th>MAPE_Values</th>\n",
       "    </tr>\n",
       "  </thead>\n",
       "  <tbody>\n",
       "    <tr>\n",
       "      <th>6</th>\n",
       "      <td>Mult_tr_Mul_sea</td>\n",
       "      <td>10.519173</td>\n",
       "      <td>2.375241</td>\n",
       "    </tr>\n",
       "    <tr>\n",
       "      <th>10</th>\n",
       "      <td>hwe_model_mul_add</td>\n",
       "      <td>12.921284</td>\n",
       "      <td>2.821238</td>\n",
       "    </tr>\n",
       "    <tr>\n",
       "      <th>9</th>\n",
       "      <td>hwe_model_add_add</td>\n",
       "      <td>28.793915</td>\n",
       "      <td>5.495939</td>\n",
       "    </tr>\n",
       "    <tr>\n",
       "      <th>5</th>\n",
       "      <td>add_sea_add_tr</td>\n",
       "      <td>35.348957</td>\n",
       "      <td>7.578668</td>\n",
       "    </tr>\n",
       "    <tr>\n",
       "      <th>1</th>\n",
       "      <td>Exp</td>\n",
       "      <td>46.057361</td>\n",
       "      <td>10.665739</td>\n",
       "    </tr>\n",
       "    <tr>\n",
       "      <th>8</th>\n",
       "      <td>hw_model</td>\n",
       "      <td>47.963138</td>\n",
       "      <td>10.431245</td>\n",
       "    </tr>\n",
       "    <tr>\n",
       "      <th>0</th>\n",
       "      <td>linear</td>\n",
       "      <td>53.199237</td>\n",
       "      <td>10.787459</td>\n",
       "    </tr>\n",
       "    <tr>\n",
       "      <th>2</th>\n",
       "      <td>Quad</td>\n",
       "      <td>53.199237</td>\n",
       "      <td>10.787459</td>\n",
       "    </tr>\n",
       "    <tr>\n",
       "      <th>7</th>\n",
       "      <td>ses_model</td>\n",
       "      <td>64.611824</td>\n",
       "      <td>13.349070</td>\n",
       "    </tr>\n",
       "    <tr>\n",
       "      <th>3</th>\n",
       "      <td>add_sea</td>\n",
       "      <td>132.819785</td>\n",
       "      <td>39.728617</td>\n",
       "    </tr>\n",
       "    <tr>\n",
       "      <th>4</th>\n",
       "      <td>Mult_sea</td>\n",
       "      <td>140.063202</td>\n",
       "      <td>41.875241</td>\n",
       "    </tr>\n",
       "  </tbody>\n",
       "</table>\n",
       "</div>"
      ],
      "text/plain": [
       "                MODEL  RMSE_Values  MAPE_Values\n",
       "6     Mult_tr_Mul_sea    10.519173     2.375241\n",
       "10  hwe_model_mul_add    12.921284     2.821238\n",
       "9   hwe_model_add_add    28.793915     5.495939\n",
       "5      add_sea_add_tr    35.348957     7.578668\n",
       "1                 Exp    46.057361    10.665739\n",
       "8            hw_model    47.963138    10.431245\n",
       "0              linear    53.199237    10.787459\n",
       "2                Quad    53.199237    10.787459\n",
       "7           ses_model    64.611824    13.349070\n",
       "3             add_sea   132.819785    39.728617\n",
       "4            Mult_sea   140.063202    41.875241"
      ]
     },
     "execution_count": 44,
     "metadata": {},
     "output_type": "execute_result"
    }
   ],
   "source": [
    "#Compare the results \n",
    "\n",
    "rmse_dict = {\"MODEL\":pd.Series([\"linear\",\"Exp\",\"Quad\",\"add_sea\",\"Mult_sea\",\"add_sea_add_tr\",\n",
    "                                \"Mult_tr_Mul_sea\",\"ses_model\", \"hw_model\", \"hwe_model_add_add\",\n",
    "                                \"hwe_model_mul_add\" ]),\n",
    "        \"RMSE_Values\":pd.Series([rmse_linear,rmse_Exp,rmse_Quad,rmse_add_sea,rmse_Mult_sea,\n",
    "                                 rmse_add_sea_add_tr,rmse_Mult_tr_Mul_sea,rmse_ses,rmse_hw,\n",
    "                                      rmse_hwe,rmse_hwe_mul]),\n",
    "            \"MAPE_Values\" : pd.Series([MAPE_linear,MAPE_Exp,MAPE_Quad,MAPE_add_sea,MAPE_Mult_sea,\n",
    "                                 MAPE_add_sea_add_tr,MAPE_Mult_tr_Mul_sea,MAPE_ses,MAPE_hw,\n",
    "                                      MAPE_hwe,MAPE_hwe_mul])}\n",
    "table_rmse=pd.DataFrame(rmse_dict)\n",
    "table_rmse.sort_values(['RMSE_Values'])"
   ]
  },
  {
   "cell_type": "markdown",
   "metadata": {},
   "source": [
    "### Model Evaluation - Plotting predictions of three top models"
   ]
  },
  {
   "cell_type": "code",
   "execution_count": 45,
   "metadata": {
    "ExecuteTime": {
     "end_time": "2021-07-11T07:21:42.381684Z",
     "start_time": "2021-07-11T07:21:42.274971Z"
    }
   },
   "outputs": [
    {
     "data": {
      "text/html": [
       "<div>\n",
       "<style scoped>\n",
       "    .dataframe tbody tr th:only-of-type {\n",
       "        vertical-align: middle;\n",
       "    }\n",
       "\n",
       "    .dataframe tbody tr th {\n",
       "        vertical-align: top;\n",
       "    }\n",
       "\n",
       "    .dataframe thead th {\n",
       "        text-align: right;\n",
       "    }\n",
       "</style>\n",
       "<table border=\"1\" class=\"dataframe\">\n",
       "  <thead>\n",
       "    <tr style=\"text-align: right;\">\n",
       "      <th></th>\n",
       "      <th>Passengers</th>\n",
       "      <th>HWE_add</th>\n",
       "      <th>HWE_Mult</th>\n",
       "      <th>Mul_Mul_sea</th>\n",
       "    </tr>\n",
       "    <tr>\n",
       "      <th>Month</th>\n",
       "      <th></th>\n",
       "      <th></th>\n",
       "      <th></th>\n",
       "      <th></th>\n",
       "    </tr>\n",
       "  </thead>\n",
       "  <tbody>\n",
       "    <tr>\n",
       "      <th>2002-01-01</th>\n",
       "      <td>284</td>\n",
       "      <td>282.172066</td>\n",
       "      <td>281.191640</td>\n",
       "      <td>279.259237</td>\n",
       "    </tr>\n",
       "    <tr>\n",
       "      <th>2002-02-01</th>\n",
       "      <td>277</td>\n",
       "      <td>283.033368</td>\n",
       "      <td>278.383564</td>\n",
       "      <td>283.647937</td>\n",
       "    </tr>\n",
       "    <tr>\n",
       "      <th>2002-03-01</th>\n",
       "      <td>317</td>\n",
       "      <td>310.315570</td>\n",
       "      <td>322.559341</td>\n",
       "      <td>327.699745</td>\n",
       "    </tr>\n",
       "    <tr>\n",
       "      <th>2002-04-01</th>\n",
       "      <td>313</td>\n",
       "      <td>304.171274</td>\n",
       "      <td>312.455696</td>\n",
       "      <td>316.197279</td>\n",
       "    </tr>\n",
       "    <tr>\n",
       "      <th>2002-05-01</th>\n",
       "      <td>318</td>\n",
       "      <td>303.456204</td>\n",
       "      <td>311.023434</td>\n",
       "      <td>313.139118</td>\n",
       "    </tr>\n",
       "    <tr>\n",
       "      <th>2002-06-01</th>\n",
       "      <td>374</td>\n",
       "      <td>327.462721</td>\n",
       "      <td>348.874252</td>\n",
       "      <td>352.485470</td>\n",
       "    </tr>\n",
       "    <tr>\n",
       "      <th>2002-07-01</th>\n",
       "      <td>413</td>\n",
       "      <td>352.474510</td>\n",
       "      <td>389.545710</td>\n",
       "      <td>392.396393</td>\n",
       "    </tr>\n",
       "    <tr>\n",
       "      <th>2002-08-01</th>\n",
       "      <td>405</td>\n",
       "      <td>351.627848</td>\n",
       "      <td>384.750512</td>\n",
       "      <td>392.543731</td>\n",
       "    </tr>\n",
       "    <tr>\n",
       "      <th>2002-09-01</th>\n",
       "      <td>355</td>\n",
       "      <td>326.491806</td>\n",
       "      <td>341.857629</td>\n",
       "      <td>352.653113</td>\n",
       "    </tr>\n",
       "    <tr>\n",
       "      <th>2002-10-01</th>\n",
       "      <td>306</td>\n",
       "      <td>301.346143</td>\n",
       "      <td>300.735340</td>\n",
       "      <td>310.444392</td>\n",
       "    </tr>\n",
       "    <tr>\n",
       "      <th>2002-11-01</th>\n",
       "      <td>271</td>\n",
       "      <td>278.056852</td>\n",
       "      <td>262.167516</td>\n",
       "      <td>272.127554</td>\n",
       "    </tr>\n",
       "    <tr>\n",
       "      <th>2002-12-01</th>\n",
       "      <td>306</td>\n",
       "      <td>302.343919</td>\n",
       "      <td>299.371361</td>\n",
       "      <td>312.614872</td>\n",
       "    </tr>\n",
       "  </tbody>\n",
       "</table>\n",
       "</div>"
      ],
      "text/plain": [
       "            Passengers     HWE_add    HWE_Mult  Mul_Mul_sea\n",
       "Month                                                      \n",
       "2002-01-01         284  282.172066  281.191640   279.259237\n",
       "2002-02-01         277  283.033368  278.383564   283.647937\n",
       "2002-03-01         317  310.315570  322.559341   327.699745\n",
       "2002-04-01         313  304.171274  312.455696   316.197279\n",
       "2002-05-01         318  303.456204  311.023434   313.139118\n",
       "2002-06-01         374  327.462721  348.874252   352.485470\n",
       "2002-07-01         413  352.474510  389.545710   392.396393\n",
       "2002-08-01         405  351.627848  384.750512   392.543731\n",
       "2002-09-01         355  326.491806  341.857629   352.653113\n",
       "2002-10-01         306  301.346143  300.735340   310.444392\n",
       "2002-11-01         271  278.056852  262.167516   272.127554\n",
       "2002-12-01         306  302.343919  299.371361   312.614872"
      ]
     },
     "execution_count": 45,
     "metadata": {},
     "output_type": "execute_result"
    }
   ],
   "source": [
    "Fdata = pd.Series(Test.Passengers.copy(deep=True))\n",
    "Fdata = pd.concat([Fdata,pd.Series(pred_hwe_add_add),pd.Series(pred_hwe_mul_add),\n",
    "           pd.Series(np.exp(pred_Mult_tr_Mul_sea))], \n",
    "          axis=1 )\n",
    "Fdata.columns =['Passengers','HWE_add','HWE_Mult','Mul_Mul_sea']\n",
    "Fdata"
   ]
  },
  {
   "cell_type": "code",
   "execution_count": 46,
   "metadata": {
    "ExecuteTime": {
     "end_time": "2021-07-11T07:21:42.694932Z",
     "start_time": "2021-07-11T07:21:42.383678Z"
    }
   },
   "outputs": [
    {
     "data": {
      "text/plain": [
       "<AxesSubplot:xlabel='Month'>"
      ]
     },
     "execution_count": 46,
     "metadata": {},
     "output_type": "execute_result"
    },
    {
     "data": {
      "text/plain": [
       "<Figure size 1080x216 with 0 Axes>"
      ]
     },
     "metadata": {},
     "output_type": "display_data"
    },
    {
     "data": {
      "image/png": "[encoded data removed]",
      "text/plain": [
       "<Figure size 432x288 with 1 Axes>"
      ]
     },
     "metadata": {
      "needs_background": "light"
     },
     "output_type": "display_data"
    }
   ],
   "source": [
    "plt.figure(figsize=(15,3))\n",
    "Fdata.plot()"
   ]
  },
  {
   "cell_type": "markdown",
   "metadata": {},
   "source": [
    "**We can see that the Green and red lines are closely following the Blue Line. Let us build the final model with Mul_tr_mul_sea.**"
   ]
  },
  {
   "cell_type": "markdown",
   "metadata": {},
   "source": [
    "# Final Model\n",
    "\n",
    "    As noted from above we will take a model based approach to build our final model. we shall use multiplicative trend and multiplicative seasonality."
   ]
  },
  {
   "cell_type": "code",
   "execution_count": 47,
   "metadata": {
    "ExecuteTime": {
     "end_time": "2021-07-11T07:21:42.756733Z",
     "start_time": "2021-07-11T07:21:42.696896Z"
    }
   },
   "outputs": [
    {
     "data": {
      "text/plain": [
       "(8.93354846771259, 3.4448962270251116)"
      ]
     },
     "execution_count": 47,
     "metadata": {},
     "output_type": "execute_result"
    }
   ],
   "source": [
    "#Multiplicative Seasonality with multiplicative trend \n",
    "\n",
    "F_Mult_tr_Mul_sea = smf.ols('log~t+Jan+Feb+Mar+Apr+May+Jun+Jul+Aug+Sep+Oct+Nov',data = data).fit()\n",
    "F_pred_Mult_tr_Mul_sea = pd.Series(F_Mult_tr_Mul_sea.predict(data))\n",
    "F_rmse_Mult_tr_Mul_sea = np.sqrt(np.mean((np.array(data['Passengers'])\n",
    "                                        -np.array(np.exp(F_pred_Mult_tr_Mul_sea)))**2))\n",
    "F_MAPE_Mult_tr_Mul_sea = MAPE(np.exp(F_pred_Mult_tr_Mul_sea),data['Passengers'])\n",
    "F_rmse_Mult_tr_Mul_sea,F_MAPE_Mult_tr_Mul_sea"
   ]
  },
  {
   "cell_type": "code",
   "execution_count": 48,
   "metadata": {
    "ExecuteTime": {
     "end_time": "2021-07-11T07:21:42.820564Z",
     "start_time": "2021-07-11T07:21:42.759726Z"
    }
   },
   "outputs": [
    {
     "data": {
      "text/html": [
       "<div>\n",
       "<style scoped>\n",
       "    .dataframe tbody tr th:only-of-type {\n",
       "        vertical-align: middle;\n",
       "    }\n",
       "\n",
       "    .dataframe tbody tr th {\n",
       "        vertical-align: top;\n",
       "    }\n",
       "\n",
       "    .dataframe thead th {\n",
       "        text-align: right;\n",
       "    }\n",
       "</style>\n",
       "<table border=\"1\" class=\"dataframe\">\n",
       "  <thead>\n",
       "    <tr style=\"text-align: right;\">\n",
       "      <th></th>\n",
       "      <th>Passengers</th>\n",
       "      <th>Pred_passengers</th>\n",
       "    </tr>\n",
       "    <tr>\n",
       "      <th>Month</th>\n",
       "      <th></th>\n",
       "      <th></th>\n",
       "    </tr>\n",
       "  </thead>\n",
       "  <tbody>\n",
       "    <tr>\n",
       "      <th>1995-01-01</th>\n",
       "      <td>112</td>\n",
       "      <td>NaN</td>\n",
       "    </tr>\n",
       "    <tr>\n",
       "      <th>1995-02-01</th>\n",
       "      <td>118</td>\n",
       "      <td>NaN</td>\n",
       "    </tr>\n",
       "    <tr>\n",
       "      <th>1995-03-01</th>\n",
       "      <td>132</td>\n",
       "      <td>NaN</td>\n",
       "    </tr>\n",
       "    <tr>\n",
       "      <th>1995-04-01</th>\n",
       "      <td>129</td>\n",
       "      <td>NaN</td>\n",
       "    </tr>\n",
       "    <tr>\n",
       "      <th>1995-05-01</th>\n",
       "      <td>121</td>\n",
       "      <td>NaN</td>\n",
       "    </tr>\n",
       "    <tr>\n",
       "      <th>...</th>\n",
       "      <td>...</td>\n",
       "      <td>...</td>\n",
       "    </tr>\n",
       "    <tr>\n",
       "      <th>2002-08-01</th>\n",
       "      <td>405</td>\n",
       "      <td>392.543731</td>\n",
       "    </tr>\n",
       "    <tr>\n",
       "      <th>2002-09-01</th>\n",
       "      <td>355</td>\n",
       "      <td>352.653113</td>\n",
       "    </tr>\n",
       "    <tr>\n",
       "      <th>2002-10-01</th>\n",
       "      <td>306</td>\n",
       "      <td>310.444392</td>\n",
       "    </tr>\n",
       "    <tr>\n",
       "      <th>2002-11-01</th>\n",
       "      <td>271</td>\n",
       "      <td>272.127554</td>\n",
       "    </tr>\n",
       "    <tr>\n",
       "      <th>2002-12-01</th>\n",
       "      <td>306</td>\n",
       "      <td>312.614872</td>\n",
       "    </tr>\n",
       "  </tbody>\n",
       "</table>\n",
       "<p>96 rows × 2 columns</p>\n",
       "</div>"
      ],
      "text/plain": [
       "            Passengers  Pred_passengers\n",
       "Month                                  \n",
       "1995-01-01         112              NaN\n",
       "1995-02-01         118              NaN\n",
       "1995-03-01         132              NaN\n",
       "1995-04-01         129              NaN\n",
       "1995-05-01         121              NaN\n",
       "...                ...              ...\n",
       "2002-08-01         405       392.543731\n",
       "2002-09-01         355       352.653113\n",
       "2002-10-01         306       310.444392\n",
       "2002-11-01         271       272.127554\n",
       "2002-12-01         306       312.614872\n",
       "\n",
       "[96 rows x 2 columns]"
      ]
     },
     "execution_count": 48,
     "metadata": {},
     "output_type": "execute_result"
    }
   ],
   "source": [
    "# Verifying the final model with predictions\n",
    "\n",
    "FFdata = pd.Series(data.Passengers.copy(deep=True))\n",
    "FFdata = pd.concat([FFdata,pd.Series(np.exp(pred_Mult_tr_Mul_sea),name='Pred_passengers')],axis=1)\n",
    "FFdata"
   ]
  },
  {
   "cell_type": "code",
   "execution_count": 49,
   "metadata": {
    "ExecuteTime": {
     "end_time": "2021-07-11T07:21:43.122946Z",
     "start_time": "2021-07-11T07:21:42.822558Z"
    }
   },
   "outputs": [
    {
     "data": {
      "text/plain": [
       "<AxesSubplot:xlabel='Month'>"
      ]
     },
     "execution_count": 49,
     "metadata": {},
     "output_type": "execute_result"
    },
    {
     "data": {
      "image/png": "[encoded data removed]",
      "text/plain": [
       "<Figure size 432x288 with 1 Axes>"
      ]
     },
     "metadata": {
      "needs_background": "light"
     },
     "output_type": "display_data"
    }
   ],
   "source": [
    "# plotting - Prediction using final model on the train data\n",
    "\n",
    "FFdata.plot()"
   ]
  },
  {
   "cell_type": "markdown",
   "metadata": {},
   "source": [
    "As we can see our final model mimics the original data very closely. Also the RMSE overall has reduced but MAPE has slightly increased. the model predictions are satisfactory."
   ]
  },
  {
   "cell_type": "code",
   "execution_count": 50,
   "metadata": {
    "ExecuteTime": {
     "end_time": "2021-07-11T07:21:43.152859Z",
     "start_time": "2021-07-11T07:21:43.123972Z"
    }
   },
   "outputs": [
    {
     "data": {
      "text/html": [
       "<div>\n",
       "<style scoped>\n",
       "    .dataframe tbody tr th:only-of-type {\n",
       "        vertical-align: middle;\n",
       "    }\n",
       "\n",
       "    .dataframe tbody tr th {\n",
       "        vertical-align: top;\n",
       "    }\n",
       "\n",
       "    .dataframe thead th {\n",
       "        text-align: right;\n",
       "    }\n",
       "</style>\n",
       "<table border=\"1\" class=\"dataframe\">\n",
       "  <thead>\n",
       "    <tr style=\"text-align: right;\">\n",
       "      <th></th>\n",
       "      <th>Passengers</th>\n",
       "      <th>Pred_passengers</th>\n",
       "      <th>Errors</th>\n",
       "    </tr>\n",
       "    <tr>\n",
       "      <th>Month</th>\n",
       "      <th></th>\n",
       "      <th></th>\n",
       "      <th></th>\n",
       "    </tr>\n",
       "  </thead>\n",
       "  <tbody>\n",
       "    <tr>\n",
       "      <th>1995-01-01</th>\n",
       "      <td>112</td>\n",
       "      <td>NaN</td>\n",
       "      <td>NaN</td>\n",
       "    </tr>\n",
       "    <tr>\n",
       "      <th>1995-02-01</th>\n",
       "      <td>118</td>\n",
       "      <td>NaN</td>\n",
       "      <td>NaN</td>\n",
       "    </tr>\n",
       "    <tr>\n",
       "      <th>1995-03-01</th>\n",
       "      <td>132</td>\n",
       "      <td>NaN</td>\n",
       "      <td>NaN</td>\n",
       "    </tr>\n",
       "    <tr>\n",
       "      <th>1995-04-01</th>\n",
       "      <td>129</td>\n",
       "      <td>NaN</td>\n",
       "      <td>NaN</td>\n",
       "    </tr>\n",
       "    <tr>\n",
       "      <th>1995-05-01</th>\n",
       "      <td>121</td>\n",
       "      <td>NaN</td>\n",
       "      <td>NaN</td>\n",
       "    </tr>\n",
       "    <tr>\n",
       "      <th>...</th>\n",
       "      <td>...</td>\n",
       "      <td>...</td>\n",
       "      <td>...</td>\n",
       "    </tr>\n",
       "    <tr>\n",
       "      <th>2002-08-01</th>\n",
       "      <td>405</td>\n",
       "      <td>392.543731</td>\n",
       "      <td>12.456269</td>\n",
       "    </tr>\n",
       "    <tr>\n",
       "      <th>2002-09-01</th>\n",
       "      <td>355</td>\n",
       "      <td>352.653113</td>\n",
       "      <td>2.346887</td>\n",
       "    </tr>\n",
       "    <tr>\n",
       "      <th>2002-10-01</th>\n",
       "      <td>306</td>\n",
       "      <td>310.444392</td>\n",
       "      <td>-4.444392</td>\n",
       "    </tr>\n",
       "    <tr>\n",
       "      <th>2002-11-01</th>\n",
       "      <td>271</td>\n",
       "      <td>272.127554</td>\n",
       "      <td>-1.127554</td>\n",
       "    </tr>\n",
       "    <tr>\n",
       "      <th>2002-12-01</th>\n",
       "      <td>306</td>\n",
       "      <td>312.614872</td>\n",
       "      <td>-6.614872</td>\n",
       "    </tr>\n",
       "  </tbody>\n",
       "</table>\n",
       "<p>96 rows × 3 columns</p>\n",
       "</div>"
      ],
      "text/plain": [
       "            Passengers  Pred_passengers     Errors\n",
       "Month                                             \n",
       "1995-01-01         112              NaN        NaN\n",
       "1995-02-01         118              NaN        NaN\n",
       "1995-03-01         132              NaN        NaN\n",
       "1995-04-01         129              NaN        NaN\n",
       "1995-05-01         121              NaN        NaN\n",
       "...                ...              ...        ...\n",
       "2002-08-01         405       392.543731  12.456269\n",
       "2002-09-01         355       352.653113   2.346887\n",
       "2002-10-01         306       310.444392  -4.444392\n",
       "2002-11-01         271       272.127554  -1.127554\n",
       "2002-12-01         306       312.614872  -6.614872\n",
       "\n",
       "[96 rows x 3 columns]"
      ]
     },
     "execution_count": 50,
     "metadata": {},
     "output_type": "execute_result"
    }
   ],
   "source": [
    "# Calculating Errors\n",
    "FFdata['Errors'] = pd.Series(FFdata.Passengers - FFdata.Pred_passengers)\n",
    "FFdata"
   ]
  },
  {
   "cell_type": "code",
   "execution_count": 51,
   "metadata": {
    "ExecuteTime": {
     "end_time": "2021-07-11T07:21:43.487323Z",
     "start_time": "2021-07-11T07:21:43.154855Z"
    }
   },
   "outputs": [
    {
     "data": {
      "image/png": "[encoded data removed]",
      "text/plain": [
       "<Figure size 1080x648 with 2 Axes>"
      ]
     },
     "metadata": {
      "needs_background": "light"
     },
     "output_type": "display_data"
    }
   ],
   "source": [
    "# Plotting the errors\n",
    "plt.figure(figsize=(15,9))\n",
    "plt.subplot(211)\n",
    "plt.scatter(x=FFdata.Passengers,y=FFdata.Errors)\n",
    "plt.title('Scatter plot showing the error distribution')\n",
    "plt.subplot(212)\n",
    "plt.plot(FFdata.Errors)\n",
    "plt.title('line plot showing the distribution of error')\n",
    "plt.show()"
   ]
  },
  {
   "cell_type": "markdown",
   "metadata": {},
   "source": [
    "***As we can clearly see from the above plots that the errors show no patterns. Hence we can finalize this model for future predictions***"
   ]
  },
  {
   "cell_type": "markdown",
   "metadata": {},
   "source": [
    "# Predictions using our final model"
   ]
  },
  {
   "cell_type": "code",
   "execution_count": 52,
   "metadata": {
    "ExecuteTime": {
     "end_time": "2021-07-11T07:21:43.503239Z",
     "start_time": "2021-07-11T07:21:43.488252Z"
    }
   },
   "outputs": [
    {
     "data": {
      "text/html": [
       "<div>\n",
       "<style scoped>\n",
       "    .dataframe tbody tr th:only-of-type {\n",
       "        vertical-align: middle;\n",
       "    }\n",
       "\n",
       "    .dataframe tbody tr th {\n",
       "        vertical-align: top;\n",
       "    }\n",
       "\n",
       "    .dataframe thead th {\n",
       "        text-align: right;\n",
       "    }\n",
       "</style>\n",
       "<table border=\"1\" class=\"dataframe\">\n",
       "  <thead>\n",
       "    <tr style=\"text-align: right;\">\n",
       "      <th></th>\n",
       "      <th>t</th>\n",
       "      <th>month</th>\n",
       "      <th>m</th>\n",
       "    </tr>\n",
       "  </thead>\n",
       "  <tbody>\n",
       "    <tr>\n",
       "      <th>0</th>\n",
       "      <td>97</td>\n",
       "      <td>2003-01-01</td>\n",
       "      <td>Jan</td>\n",
       "    </tr>\n",
       "    <tr>\n",
       "      <th>1</th>\n",
       "      <td>98</td>\n",
       "      <td>2003-02-01</td>\n",
       "      <td>Feb</td>\n",
       "    </tr>\n",
       "    <tr>\n",
       "      <th>2</th>\n",
       "      <td>99</td>\n",
       "      <td>2003-03-01</td>\n",
       "      <td>Mar</td>\n",
       "    </tr>\n",
       "    <tr>\n",
       "      <th>3</th>\n",
       "      <td>100</td>\n",
       "      <td>2003-04-01</td>\n",
       "      <td>Apr</td>\n",
       "    </tr>\n",
       "    <tr>\n",
       "      <th>4</th>\n",
       "      <td>101</td>\n",
       "      <td>2003-05-01</td>\n",
       "      <td>May</td>\n",
       "    </tr>\n",
       "    <tr>\n",
       "      <th>5</th>\n",
       "      <td>102</td>\n",
       "      <td>2003-06-01</td>\n",
       "      <td>Jun</td>\n",
       "    </tr>\n",
       "    <tr>\n",
       "      <th>6</th>\n",
       "      <td>103</td>\n",
       "      <td>2003-07-01</td>\n",
       "      <td>Jul</td>\n",
       "    </tr>\n",
       "    <tr>\n",
       "      <th>7</th>\n",
       "      <td>104</td>\n",
       "      <td>2003-08-01</td>\n",
       "      <td>Aug</td>\n",
       "    </tr>\n",
       "    <tr>\n",
       "      <th>8</th>\n",
       "      <td>105</td>\n",
       "      <td>2003-09-01</td>\n",
       "      <td>Sep</td>\n",
       "    </tr>\n",
       "    <tr>\n",
       "      <th>9</th>\n",
       "      <td>106</td>\n",
       "      <td>2003-10-01</td>\n",
       "      <td>Oct</td>\n",
       "    </tr>\n",
       "    <tr>\n",
       "      <th>10</th>\n",
       "      <td>107</td>\n",
       "      <td>2003-11-01</td>\n",
       "      <td>Nov</td>\n",
       "    </tr>\n",
       "    <tr>\n",
       "      <th>11</th>\n",
       "      <td>108</td>\n",
       "      <td>2003-12-01</td>\n",
       "      <td>Dec</td>\n",
       "    </tr>\n",
       "  </tbody>\n",
       "</table>\n",
       "</div>"
      ],
      "text/plain": [
       "      t       month    m\n",
       "0    97  2003-01-01  Jan\n",
       "1    98  2003-02-01  Feb\n",
       "2    99  2003-03-01  Mar\n",
       "3   100  2003-04-01  Apr\n",
       "4   101  2003-05-01  May\n",
       "5   102  2003-06-01  Jun\n",
       "6   103  2003-07-01  Jul\n",
       "7   104  2003-08-01  Aug\n",
       "8   105  2003-09-01  Sep\n",
       "9   106  2003-10-01  Oct\n",
       "10  107  2003-11-01  Nov\n",
       "11  108  2003-12-01  Dec"
      ]
     },
     "execution_count": 52,
     "metadata": {},
     "output_type": "execute_result"
    }
   ],
   "source": [
    "# Creating Data for prediction\n",
    "\n",
    "PredData = pd.DataFrame({'t':range(97,(97+12)),\n",
    "                         'month':['2003-01-01','2003-02-01','2003-03-01','2003-04-01','2003-05-01',\n",
    "                                  '2003-06-01','2003-07-01','2003-08-01','2003-09-01','2003-10-01',\n",
    "                                  '2003-11-01','2003-12-01'], \n",
    "                         'm':['Jan','Feb','Mar','Apr','May','Jun','Jul','Aug','Sep','Oct','Nov','Dec']})\n",
    "PredData"
   ]
  },
  {
   "cell_type": "code",
   "execution_count": 53,
   "metadata": {
    "ExecuteTime": {
     "end_time": "2021-07-11T07:21:43.596609Z",
     "start_time": "2021-07-11T07:21:43.504212Z"
    }
   },
   "outputs": [
    {
     "data": {
      "text/html": [
       "<div>\n",
       "<style scoped>\n",
       "    .dataframe tbody tr th:only-of-type {\n",
       "        vertical-align: middle;\n",
       "    }\n",
       "\n",
       "    .dataframe tbody tr th {\n",
       "        vertical-align: top;\n",
       "    }\n",
       "\n",
       "    .dataframe thead th {\n",
       "        text-align: right;\n",
       "    }\n",
       "</style>\n",
       "<table border=\"1\" class=\"dataframe\">\n",
       "  <thead>\n",
       "    <tr style=\"text-align: right;\">\n",
       "      <th></th>\n",
       "      <th></th>\n",
       "      <th>t</th>\n",
       "      <th>Apr</th>\n",
       "      <th>Aug</th>\n",
       "      <th>Dec</th>\n",
       "      <th>Feb</th>\n",
       "      <th>Jan</th>\n",
       "      <th>Jul</th>\n",
       "      <th>Jun</th>\n",
       "      <th>Mar</th>\n",
       "      <th>May</th>\n",
       "      <th>Nov</th>\n",
       "      <th>Oct</th>\n",
       "      <th>Sep</th>\n",
       "    </tr>\n",
       "    <tr>\n",
       "      <th></th>\n",
       "      <th>month</th>\n",
       "      <th></th>\n",
       "      <th></th>\n",
       "      <th></th>\n",
       "      <th></th>\n",
       "      <th></th>\n",
       "      <th></th>\n",
       "      <th></th>\n",
       "      <th></th>\n",
       "      <th></th>\n",
       "      <th></th>\n",
       "      <th></th>\n",
       "      <th></th>\n",
       "      <th></th>\n",
       "    </tr>\n",
       "  </thead>\n",
       "  <tbody>\n",
       "    <tr>\n",
       "      <th>0</th>\n",
       "      <th>2003-01-01</th>\n",
       "      <td>97</td>\n",
       "      <td>0</td>\n",
       "      <td>0</td>\n",
       "      <td>0</td>\n",
       "      <td>0</td>\n",
       "      <td>1</td>\n",
       "      <td>0</td>\n",
       "      <td>0</td>\n",
       "      <td>0</td>\n",
       "      <td>0</td>\n",
       "      <td>0</td>\n",
       "      <td>0</td>\n",
       "      <td>0</td>\n",
       "    </tr>\n",
       "    <tr>\n",
       "      <th>1</th>\n",
       "      <th>2003-02-01</th>\n",
       "      <td>98</td>\n",
       "      <td>0</td>\n",
       "      <td>0</td>\n",
       "      <td>0</td>\n",
       "      <td>1</td>\n",
       "      <td>0</td>\n",
       "      <td>0</td>\n",
       "      <td>0</td>\n",
       "      <td>0</td>\n",
       "      <td>0</td>\n",
       "      <td>0</td>\n",
       "      <td>0</td>\n",
       "      <td>0</td>\n",
       "    </tr>\n",
       "    <tr>\n",
       "      <th>2</th>\n",
       "      <th>2003-03-01</th>\n",
       "      <td>99</td>\n",
       "      <td>0</td>\n",
       "      <td>0</td>\n",
       "      <td>0</td>\n",
       "      <td>0</td>\n",
       "      <td>0</td>\n",
       "      <td>0</td>\n",
       "      <td>0</td>\n",
       "      <td>1</td>\n",
       "      <td>0</td>\n",
       "      <td>0</td>\n",
       "      <td>0</td>\n",
       "      <td>0</td>\n",
       "    </tr>\n",
       "    <tr>\n",
       "      <th>3</th>\n",
       "      <th>2003-04-01</th>\n",
       "      <td>100</td>\n",
       "      <td>1</td>\n",
       "      <td>0</td>\n",
       "      <td>0</td>\n",
       "      <td>0</td>\n",
       "      <td>0</td>\n",
       "      <td>0</td>\n",
       "      <td>0</td>\n",
       "      <td>0</td>\n",
       "      <td>0</td>\n",
       "      <td>0</td>\n",
       "      <td>0</td>\n",
       "      <td>0</td>\n",
       "    </tr>\n",
       "    <tr>\n",
       "      <th>4</th>\n",
       "      <th>2003-05-01</th>\n",
       "      <td>101</td>\n",
       "      <td>0</td>\n",
       "      <td>0</td>\n",
       "      <td>0</td>\n",
       "      <td>0</td>\n",
       "      <td>0</td>\n",
       "      <td>0</td>\n",
       "      <td>0</td>\n",
       "      <td>0</td>\n",
       "      <td>1</td>\n",
       "      <td>0</td>\n",
       "      <td>0</td>\n",
       "      <td>0</td>\n",
       "    </tr>\n",
       "    <tr>\n",
       "      <th>5</th>\n",
       "      <th>2003-06-01</th>\n",
       "      <td>102</td>\n",
       "      <td>0</td>\n",
       "      <td>0</td>\n",
       "      <td>0</td>\n",
       "      <td>0</td>\n",
       "      <td>0</td>\n",
       "      <td>0</td>\n",
       "      <td>1</td>\n",
       "      <td>0</td>\n",
       "      <td>0</td>\n",
       "      <td>0</td>\n",
       "      <td>0</td>\n",
       "      <td>0</td>\n",
       "    </tr>\n",
       "    <tr>\n",
       "      <th>6</th>\n",
       "      <th>2003-07-01</th>\n",
       "      <td>103</td>\n",
       "      <td>0</td>\n",
       "      <td>0</td>\n",
       "      <td>0</td>\n",
       "      <td>0</td>\n",
       "      <td>0</td>\n",
       "      <td>1</td>\n",
       "      <td>0</td>\n",
       "      <td>0</td>\n",
       "      <td>0</td>\n",
       "      <td>0</td>\n",
       "      <td>0</td>\n",
       "      <td>0</td>\n",
       "    </tr>\n",
       "    <tr>\n",
       "      <th>7</th>\n",
       "      <th>2003-08-01</th>\n",
       "      <td>104</td>\n",
       "      <td>0</td>\n",
       "      <td>1</td>\n",
       "      <td>0</td>\n",
       "      <td>0</td>\n",
       "      <td>0</td>\n",
       "      <td>0</td>\n",
       "      <td>0</td>\n",
       "      <td>0</td>\n",
       "      <td>0</td>\n",
       "      <td>0</td>\n",
       "      <td>0</td>\n",
       "      <td>0</td>\n",
       "    </tr>\n",
       "    <tr>\n",
       "      <th>8</th>\n",
       "      <th>2003-09-01</th>\n",
       "      <td>105</td>\n",
       "      <td>0</td>\n",
       "      <td>0</td>\n",
       "      <td>0</td>\n",
       "      <td>0</td>\n",
       "      <td>0</td>\n",
       "      <td>0</td>\n",
       "      <td>0</td>\n",
       "      <td>0</td>\n",
       "      <td>0</td>\n",
       "      <td>0</td>\n",
       "      <td>0</td>\n",
       "      <td>1</td>\n",
       "    </tr>\n",
       "    <tr>\n",
       "      <th>9</th>\n",
       "      <th>2003-10-01</th>\n",
       "      <td>106</td>\n",
       "      <td>0</td>\n",
       "      <td>0</td>\n",
       "      <td>0</td>\n",
       "      <td>0</td>\n",
       "      <td>0</td>\n",
       "      <td>0</td>\n",
       "      <td>0</td>\n",
       "      <td>0</td>\n",
       "      <td>0</td>\n",
       "      <td>0</td>\n",
       "      <td>1</td>\n",
       "      <td>0</td>\n",
       "    </tr>\n",
       "    <tr>\n",
       "      <th>10</th>\n",
       "      <th>2003-11-01</th>\n",
       "      <td>107</td>\n",
       "      <td>0</td>\n",
       "      <td>0</td>\n",
       "      <td>0</td>\n",
       "      <td>0</td>\n",
       "      <td>0</td>\n",
       "      <td>0</td>\n",
       "      <td>0</td>\n",
       "      <td>0</td>\n",
       "      <td>0</td>\n",
       "      <td>1</td>\n",
       "      <td>0</td>\n",
       "      <td>0</td>\n",
       "    </tr>\n",
       "    <tr>\n",
       "      <th>11</th>\n",
       "      <th>2003-12-01</th>\n",
       "      <td>108</td>\n",
       "      <td>0</td>\n",
       "      <td>0</td>\n",
       "      <td>1</td>\n",
       "      <td>0</td>\n",
       "      <td>0</td>\n",
       "      <td>0</td>\n",
       "      <td>0</td>\n",
       "      <td>0</td>\n",
       "      <td>0</td>\n",
       "      <td>0</td>\n",
       "      <td>0</td>\n",
       "      <td>0</td>\n",
       "    </tr>\n",
       "  </tbody>\n",
       "</table>\n",
       "</div>"
      ],
      "text/plain": [
       "                 t  Apr  Aug  Dec  Feb  Jan  Jul  Jun  Mar  May  Nov  Oct  Sep\n",
       "   month                                                                      \n",
       "0  2003-01-01   97    0    0    0    0    1    0    0    0    0    0    0    0\n",
       "1  2003-02-01   98    0    0    0    1    0    0    0    0    0    0    0    0\n",
       "2  2003-03-01   99    0    0    0    0    0    0    0    1    0    0    0    0\n",
       "3  2003-04-01  100    1    0    0    0    0    0    0    0    0    0    0    0\n",
       "4  2003-05-01  101    0    0    0    0    0    0    0    0    1    0    0    0\n",
       "5  2003-06-01  102    0    0    0    0    0    0    1    0    0    0    0    0\n",
       "6  2003-07-01  103    0    0    0    0    0    1    0    0    0    0    0    0\n",
       "7  2003-08-01  104    0    1    0    0    0    0    0    0    0    0    0    0\n",
       "8  2003-09-01  105    0    0    0    0    0    0    0    0    0    0    0    1\n",
       "9  2003-10-01  106    0    0    0    0    0    0    0    0    0    0    1    0\n",
       "10 2003-11-01  107    0    0    0    0    0    0    0    0    0    1    0    0\n",
       "11 2003-12-01  108    0    0    1    0    0    0    0    0    0    0    0    0"
      ]
     },
     "execution_count": 53,
     "metadata": {},
     "output_type": "execute_result"
    }
   ],
   "source": [
    "# Preparing data for prediction using dummies\n",
    "temp = pd.get_dummies(PredData.m)\n",
    "PredData = pd.concat([PredData,temp],axis=1)\n",
    "PredData.set_index('month',inplace=True,append=True)\n",
    "PredData.drop('m',inplace=True,axis=1)\n",
    "PredData"
   ]
  },
  {
   "cell_type": "code",
   "execution_count": 54,
   "metadata": {
    "ExecuteTime": {
     "end_time": "2021-07-11T07:21:43.659487Z",
     "start_time": "2021-07-11T07:21:43.599608Z"
    }
   },
   "outputs": [
    {
     "data": {
      "text/plain": [
       "    month     \n",
       "0   2003-01-01    320.779889\n",
       "1   2003-02-01    324.173779\n",
       "2   2003-03-01    374.075905\n",
       "3   2003-04-01    361.986306\n",
       "4   2003-05-01    359.632793\n",
       "5   2003-06-01    407.045777\n",
       "6   2003-07-01    452.677464\n",
       "7   2003-08-01    451.720349\n",
       "8   2003-09-01    404.569872\n",
       "9   2003-10-01    355.211286\n",
       "10  2003-11-01    311.768944\n",
       "11  2003-12-01    357.383375\n",
       "dtype: float64"
      ]
     },
     "execution_count": 54,
     "metadata": {},
     "output_type": "execute_result"
    }
   ],
   "source": [
    "# Predictions using Final Model\n",
    "predictions = np.exp(F_Mult_tr_Mul_sea.predict(PredData))\n",
    "predictions"
   ]
  },
  {
   "cell_type": "code",
   "execution_count": 58,
   "metadata": {
    "ExecuteTime": {
     "end_time": "2021-07-11T07:23:27.580465Z",
     "start_time": "2021-07-11T07:23:27.423363Z"
    }
   },
   "outputs": [
    {
     "data": {
      "image/png": "[encoded data removed]",
      "text/plain": [
       "<Figure size 1440x216 with 1 Axes>"
      ]
     },
     "metadata": {
      "needs_background": "light"
     },
     "output_type": "display_data"
    }
   ],
   "source": [
    "predictions.plot(figsize = (20,3),use_index = True, \n",
    "                 title = 'predictions for 2003',rot=90,xlabel='Date')\n",
    "plt.show()"
   ]
  },
  {
   "cell_type": "code",
   "execution_count": null,
   "metadata": {},
   "outputs": [],
   "source": []
  }
 ],
 "metadata": {
  "hide_input": false,
  "kernelspec": {
   "display_name": "Python 3",
   "language": "python",
   "name": "python3"
  },
  "language_info": {
   "codemirror_mode": {
    "name": "ipython",
    "version": 3
   },
   "file_extension": ".py",
   "mimetype": "text/x-python",
   "name": "python",
   "nbconvert_exporter": "python",
   "pygments_lexer": "ipython3",
   "version": "3.8.10"
  },
  "latex_envs": {
   "LaTeX_envs_menu_present": true,
   "autoclose": false,
   "autocomplete": true,
   "bibliofile": "biblio.bib",
   "cite_by": "apalike",
   "current_citInitial": 1,
   "eqLabelWithNumbers": true,
   "eqNumInitial": 1,
   "hotkeys": {
    "equation": "Ctrl-E",
    "itemize": "Ctrl-I"
   },
   "labels_anchors": false,
   "latex_user_defs": false,
   "report_style_numbering": false,
   "user_envs_cfg": false
  },
  "toc": {
   "base_numbering": 1,
   "nav_menu": {},
   "number_sections": true,
   "sideBar": true,
   "skip_h1_title": false,
   "title_cell": "Table of Contents",
   "title_sidebar": "Contents",
   "toc_cell": false,
   "toc_position": {},
   "toc_section_display": true,
   "toc_window_display": true
  },
  "varInspector": {
   "cols": {
    "lenName": 16,
    "lenType": 16,
    "lenVar": 40
   },
   "kernels_config": {
    "python": {
     "delete_cmd_postfix": "",
     "delete_cmd_prefix": "del ",
     "library": "var_list.py",
     "varRefreshCmd": "print(var_dic_list())"
    },
    "r": {
     "delete_cmd_postfix": ") ",
     "delete_cmd_prefix": "rm(",
     "library": "var_list.r",
     "varRefreshCmd": "cat(var_dic_list()) "
    }
   },
   "types_to_exclude": [
    "module",
    "function",
    "builtin_function_or_method",
    "instance",
    "_Feature"
   ],
   "window_display": false
  }
 },
 "nbformat": 4,
 "nbformat_minor": 4
}
