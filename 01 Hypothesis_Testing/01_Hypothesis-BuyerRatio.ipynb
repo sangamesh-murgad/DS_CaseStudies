{
 "cells": [
  {
   "cell_type": "markdown",
   "metadata": {},
   "source": [
    "# Hypothesis testing - 1"
   ]
  },
  {
   "cell_type": "markdown",
   "metadata": {},
   "source": [
    "### BuyerRatio.csv Dataset"
   ]
  },
  {
   "cell_type": "markdown",
   "metadata": {},
   "source": [
    "##   Sales of products in four different regions is tabulated for males and females. Find if male-female buyer rations are similar across regions."
   ]
  },
  {
   "cell_type": "markdown",
   "metadata": {},
   "source": [
    "### Business objective / problem \n",
    "\n",
    "    Objective: To compare and find if there is any significant deviation in the PROPORTION OF MALE:FEEMALE Buyers accross the Regions with 5% significance. \n",
    "\n",
    "    \n",
    "    Alpha (a) = 0.05 or 5%\n",
    "    \n",
    "    In this case we are comparing more than two samples and the data is categorical. Hence, we use Chi2 Test"
   ]
  },
  {
   "cell_type": "code",
   "execution_count": null,
   "metadata": {},
   "outputs": [],
   "source": []
  },
  {
   "cell_type": "markdown",
   "metadata": {},
   "source": [
    "### Data Collection\n",
    "    We need to collect or randomly sample the data set from the population. In rare cases we need to survey to collect the primary data mostly we use the secondary data for analysis. However in this case we assume that the observations are randomly sampled and are independent of each other. We will proceed with our study.\n",
    "    \n",
    "    Let us use the given data : “BuyerRatio.csv”"
   ]
  },
  {
   "cell_type": "code",
   "execution_count": 1,
   "metadata": {},
   "outputs": [],
   "source": [
    "# First thing first Import all the libraries\n",
    "# %matplotlib inline\n",
    "import pandas as pd\n",
    "import numpy as np\n",
    "from scipy import stats"
   ]
  },
  {
   "cell_type": "code",
   "execution_count": 2,
   "metadata": {},
   "outputs": [],
   "source": [
    "DF = pd.read_csv('BuyerRatio.csv')"
   ]
  },
  {
   "cell_type": "markdown",
   "metadata": {},
   "source": [
    "### Data preparation / cleaning\n",
    "#### Check the attributes of the data, check the integrity of data import into the system"
   ]
  },
  {
   "cell_type": "code",
   "execution_count": 3,
   "metadata": {},
   "outputs": [
    {
     "data": {
      "text/html": [
       "<div>\n",
       "<style scoped>\n",
       "    .dataframe tbody tr th:only-of-type {\n",
       "        vertical-align: middle;\n",
       "    }\n",
       "\n",
       "    .dataframe tbody tr th {\n",
       "        vertical-align: top;\n",
       "    }\n",
       "\n",
       "    .dataframe thead th {\n",
       "        text-align: right;\n",
       "    }\n",
       "</style>\n",
       "<table border=\"1\" class=\"dataframe\">\n",
       "  <thead>\n",
       "    <tr style=\"text-align: right;\">\n",
       "      <th></th>\n",
       "      <th>Observed Values</th>\n",
       "      <th>East</th>\n",
       "      <th>West</th>\n",
       "      <th>North</th>\n",
       "      <th>South</th>\n",
       "    </tr>\n",
       "  </thead>\n",
       "  <tbody>\n",
       "    <tr>\n",
       "      <th>0</th>\n",
       "      <td>Males</td>\n",
       "      <td>50</td>\n",
       "      <td>142</td>\n",
       "      <td>131</td>\n",
       "      <td>70</td>\n",
       "    </tr>\n",
       "    <tr>\n",
       "      <th>1</th>\n",
       "      <td>Females</td>\n",
       "      <td>435</td>\n",
       "      <td>1523</td>\n",
       "      <td>1356</td>\n",
       "      <td>750</td>\n",
       "    </tr>\n",
       "  </tbody>\n",
       "</table>\n",
       "</div>"
      ],
      "text/plain": [
       "  Observed Values  East  West  North  South\n",
       "0           Males    50   142    131     70\n",
       "1         Females   435  1523   1356    750"
      ]
     },
     "execution_count": 3,
     "metadata": {},
     "output_type": "execute_result"
    }
   ],
   "source": [
    "DF.head()"
   ]
  },
  {
   "cell_type": "code",
   "execution_count": 4,
   "metadata": {
    "scrolled": true
   },
   "outputs": [
    {
     "data": {
      "text/plain": [
       "(2, 5)"
      ]
     },
     "execution_count": 4,
     "metadata": {},
     "output_type": "execute_result"
    }
   ],
   "source": [
    "DF.shape"
   ]
  },
  {
   "cell_type": "markdown",
   "metadata": {},
   "source": [
    "#### Check for data types and decide proper data type for analysis"
   ]
  },
  {
   "cell_type": "code",
   "execution_count": 5,
   "metadata": {
    "scrolled": false
   },
   "outputs": [
    {
     "name": "stdout",
     "output_type": "stream",
     "text": [
      "<class 'pandas.core.frame.DataFrame'>\n",
      "RangeIndex: 2 entries, 0 to 1\n",
      "Data columns (total 5 columns):\n",
      " #   Column           Non-Null Count  Dtype \n",
      "---  ------           --------------  ----- \n",
      " 0   Observed Values  2 non-null      object\n",
      " 1   East             2 non-null      int64 \n",
      " 2   West             2 non-null      int64 \n",
      " 3   North            2 non-null      int64 \n",
      " 4   South            2 non-null      int64 \n",
      "dtypes: int64(4), object(1)\n",
      "memory usage: 208.0+ bytes\n"
     ]
    }
   ],
   "source": [
    "DF.info()"
   ]
  },
  {
   "cell_type": "code",
   "execution_count": 6,
   "metadata": {},
   "outputs": [
    {
     "data": {
      "text/html": [
       "<div>\n",
       "<style scoped>\n",
       "    .dataframe tbody tr th:only-of-type {\n",
       "        vertical-align: middle;\n",
       "    }\n",
       "\n",
       "    .dataframe tbody tr th {\n",
       "        vertical-align: top;\n",
       "    }\n",
       "\n",
       "    .dataframe thead th {\n",
       "        text-align: right;\n",
       "    }\n",
       "</style>\n",
       "<table border=\"1\" class=\"dataframe\">\n",
       "  <thead>\n",
       "    <tr style=\"text-align: right;\">\n",
       "      <th></th>\n",
       "      <th>East</th>\n",
       "      <th>West</th>\n",
       "      <th>North</th>\n",
       "      <th>South</th>\n",
       "    </tr>\n",
       "    <tr>\n",
       "      <th>Observed Values</th>\n",
       "      <th></th>\n",
       "      <th></th>\n",
       "      <th></th>\n",
       "      <th></th>\n",
       "    </tr>\n",
       "  </thead>\n",
       "  <tbody>\n",
       "    <tr>\n",
       "      <th>Males</th>\n",
       "      <td>50</td>\n",
       "      <td>142</td>\n",
       "      <td>131</td>\n",
       "      <td>70</td>\n",
       "    </tr>\n",
       "    <tr>\n",
       "      <th>Females</th>\n",
       "      <td>435</td>\n",
       "      <td>1523</td>\n",
       "      <td>1356</td>\n",
       "      <td>750</td>\n",
       "    </tr>\n",
       "  </tbody>\n",
       "</table>\n",
       "</div>"
      ],
      "text/plain": [
       "                 East  West  North  South\n",
       "Observed Values                          \n",
       "Males              50   142    131     70\n",
       "Females           435  1523   1356    750"
      ]
     },
     "execution_count": 6,
     "metadata": {},
     "output_type": "execute_result"
    }
   ],
   "source": [
    "# PREPARING THE CROSS TABLE / CONTIGENCY TABLE FOR FEEDING THE TEST\n",
    "table = DF.set_index(DF['Observed Values'])\n",
    "table.drop(columns='Observed Values',inplace=True)\n",
    "table"
   ]
  },
  {
   "cell_type": "markdown",
   "metadata": {},
   "source": [
    "### Data analysis in the context of business case"
   ]
  },
  {
   "cell_type": "markdown",
   "metadata": {},
   "source": [
    "#### Constructing Hypothesis  \n",
    "    H0 = Buyer Ratios / Proportions of all regions are equal           \n",
    "    H1 = Buyer Ratios / Proportions of atleast one region is not equal"
   ]
  },
  {
   "cell_type": "markdown",
   "metadata": {},
   "source": [
    "#### CASE for Chi2 Test  -- Chi2_contingency() -- as Categorical data and more than 2 populations to compare\n",
    "    \n",
    "    For Chi2 Test following conditions must be satisfied\n",
    "    \n",
    "    1. The samples are Random. - ***SAMPLES ARE RANDOM AND INDEPENDENT WE ASSUME***\n",
    "    2. Minimum of 5 frequencies in each cell of the cross table. - ***DATA SATISFIES THE CONDITION**"
   ]
  },
  {
   "cell_type": "markdown",
   "metadata": {},
   "source": [
    "#### Calculate p values using Chi2 Test - Chi2_contingency()"
   ]
  },
  {
   "cell_type": "code",
   "execution_count": 7,
   "metadata": {},
   "outputs": [
    {
     "name": "stdout",
     "output_type": "stream",
     "text": [
      "Chi Statistic is 1.60 and pvalue is 0.66\n"
     ]
    }
   ],
   "source": [
    "chi_stat, Pval, dfree, Expval = stats.chi2_contingency(table)\n",
    "Expval = pd.DataFrame(Expval)\n",
    "print('Chi Statistic is {:.2f} and pvalue is {:.2f}'.format(chi_stat, Pval))"
   ]
  },
  {
   "cell_type": "markdown",
   "metadata": {},
   "source": [
    "#### Check if p value id less than alpha"
   ]
  },
  {
   "cell_type": "code",
   "execution_count": 8,
   "metadata": {},
   "outputs": [
    {
     "name": "stdout",
     "output_type": "stream",
     "text": [
      "\n",
      "There is not enough evidence to reject null Hypothesis. Hence, we shall continue to trust Null hypothesis\n",
      "\n"
     ]
    }
   ],
   "source": [
    "if Pval <=0.05:\n",
    "    print('\\nThere is sufficient evidence to reject null Hypothesis, Hence, consider \"Alternate Hypothesis\" and take action\\n')\n",
    "else:\n",
    "    print('\\nThere is not enough evidence to reject null Hypothesis. Hence, we shall continue to trust Null hypothesis\\n')"
   ]
  },
  {
   "cell_type": "markdown",
   "metadata": {},
   "source": [
    "## Inference / conclusion\n",
    "AS PVALUE IS HIGHER THAN ***ALPHA*** WE CONCLUDE THAT THERE IS NOT ENOUGH EVIDENCE TO REJECT NULL HYPOTHESIS. HENCE, WE CAN DRAW INFERENCE THAT THERE IS NO DIFFERENCE IN THE BUYER RATIONS OF ALL THE REGIONS AND EVEN IF ANY DIFFERENCE OF PROPORTIONS IS NOTED IT IS DUE THE CHANCE ASSOCIATED WITH SAMPLING."
   ]
  },
  {
   "cell_type": "markdown",
   "metadata": {},
   "source": [
    "## Hypothesis testing using critical value\n",
    "    if observed chi-stat < critical chi-square, then variables are not related\n",
    "    if observed chi-stat > critical chi-square, then variables are not independent (and hence may be related)."
   ]
  },
  {
   "cell_type": "code",
   "execution_count": 9,
   "metadata": {},
   "outputs": [
    {
     "name": "stdout",
     "output_type": "stream",
     "text": [
      "7.814727903251179 1.595945538661058 \n",
      "\n",
      "Interpretation by critical value\n",
      "Null hypothesis cannot be rejected (variables are not related and independent of each other. \n",
      "Hence the buyer ratios are equal among all the regions)\n"
     ]
    }
   ],
   "source": [
    "alpha = 0.05\n",
    "critical_value = stats.chi2.ppf(q = 1 - alpha,df=dfree)    # Find the critical value for 95% confidence*\n",
    "\n",
    "observed_chi_val = chi_stat\n",
    "print(critical_value,observed_chi_val,'\\n')\n",
    "\n",
    "print('Interpretation by critical value')\n",
    "if observed_chi_val <= critical_value:\n",
    "    # if observed value is not in critical area then we Fail to reject anull hypothesis\n",
    "    print ('Null hypothesis cannot be rejected (variables are not related and independent of each other. \\nHence the buyer ratios are equal among all the regions)')\n",
    "else:\n",
    "    # if observed value is in critical area then we reject null hypothesis\n",
    "    print ('Null hypothesis cannot be excepted (variables are not independent)')"
   ]
  },
  {
   "cell_type": "code",
   "execution_count": null,
   "metadata": {},
   "outputs": [],
   "source": []
  }
 ],
 "metadata": {
  "kernelspec": {
   "display_name": "Python 3",
   "language": "python",
   "name": "python3"
  },
  "language_info": {
   "codemirror_mode": {
    "name": "ipython",
    "version": 3
   },
   "file_extension": ".py",
   "mimetype": "text/x-python",
   "name": "python",
   "nbconvert_exporter": "python",
   "pygments_lexer": "ipython3",
   "version": "3.8.5"
  }
 },
 "nbformat": 4,
 "nbformat_minor": 4
}
