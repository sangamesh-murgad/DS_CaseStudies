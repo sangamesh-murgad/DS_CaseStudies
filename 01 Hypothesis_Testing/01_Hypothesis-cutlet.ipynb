{
 "cells": [
  {
   "cell_type": "markdown",
   "metadata": {},
   "source": [
    "# Hypothesis testing - 2"
   ]
  },
  {
   "cell_type": "markdown",
   "metadata": {},
   "source": [
    "### Cutlets.csv Dataset"
   ]
  },
  {
   "cell_type": "markdown",
   "metadata": {},
   "source": [
    "### A F&B manager wants to determine whether there is any significant difference in the diameter of the cutlet between two units. A randomly selected sample of cutlets was collected from both units and measured? Analyze the data and draw inferences at 5% significance level. Please state the assumptions and tests that you carried out to check validity of the assumptions."
   ]
  },
  {
   "cell_type": "markdown",
   "metadata": {},
   "source": [
    "### Business objective / problem \n",
    "\n",
    "    Objective: To compare and find if there is any significant deviation in the diameter of the cutlet, of two units A & B. \n",
    "\n",
    "    Problem: The managers intention may be that if the sizes are significantly different. Customers would choose the cutlets of larger size, as price being constant. Also customers will feel discriminated when the smaller size cutlets are delivered. Which would in turn lead to customer dissatisfaction / complaints. Inter-Division and Intra-Division consistency is the key for customer satisfaction. On the other hand size of the cutlet has direct relationship to raw material consumed. In a large scale production set up this would make a large difference.\n",
    "\n",
    "    Parameters on for Data Science point of view\n",
    "\n",
    "    Let dia_DA =  diameter of the cutlet produced by unit A\n",
    "    Let dia_DB =  diameter of the cutlet produced by unit B\n",
    "    Check if DA > DB significantly or vice versa\n",
    "    Alpha (a) = 0.05 or 5%"
   ]
  },
  {
   "cell_type": "markdown",
   "metadata": {},
   "source": [
    "### Data Collection\n",
    "    We need to collect or randomly sample the data set from the population. In rare cases we need to opt for survey inorder to collect the primary data. Mostly we use the secondary data for analysis. However in this case we are provided with a randomly chosen data set. Hence we can proceed with out analysis.\n",
    "    \n",
    "    Let us use the given data : “cutlet.csv”"
   ]
  },
  {
   "cell_type": "code",
   "execution_count": 1,
   "metadata": {},
   "outputs": [],
   "source": [
    "# First thing first Import all the libraries\n",
    "%matplotlib inline\n",
    "import pandas as pd\n",
    "import numpy as np\n",
    "from scipy import stats\n",
    "import matplotlib as plt\n",
    "import seaborn as sns\n",
    "# import statsmodels.api as sm\n",
    "# import statsmodels.formula.api as smf\n",
    "# from statsmodels.stats.proportion import proportions_ztest"
   ]
  },
  {
   "cell_type": "code",
   "execution_count": 2,
   "metadata": {},
   "outputs": [],
   "source": [
    "DF = pd.read_csv('Cutlets.csv')"
   ]
  },
  {
   "cell_type": "markdown",
   "metadata": {},
   "source": [
    "### Data preparation / cleaning\n",
    "#### Check the attributes of the data, check the integrity of data import into the system"
   ]
  },
  {
   "cell_type": "code",
   "execution_count": 3,
   "metadata": {},
   "outputs": [
    {
     "data": {
      "text/html": [
       "<div>\n",
       "<style scoped>\n",
       "    .dataframe tbody tr th:only-of-type {\n",
       "        vertical-align: middle;\n",
       "    }\n",
       "\n",
       "    .dataframe tbody tr th {\n",
       "        vertical-align: top;\n",
       "    }\n",
       "\n",
       "    .dataframe thead th {\n",
       "        text-align: right;\n",
       "    }\n",
       "</style>\n",
       "<table border=\"1\" class=\"dataframe\">\n",
       "  <thead>\n",
       "    <tr style=\"text-align: right;\">\n",
       "      <th></th>\n",
       "      <th>Unit A</th>\n",
       "      <th>Unit B</th>\n",
       "    </tr>\n",
       "  </thead>\n",
       "  <tbody>\n",
       "    <tr>\n",
       "      <th>0</th>\n",
       "      <td>6.8090</td>\n",
       "      <td>6.7703</td>\n",
       "    </tr>\n",
       "    <tr>\n",
       "      <th>1</th>\n",
       "      <td>6.4376</td>\n",
       "      <td>7.5093</td>\n",
       "    </tr>\n",
       "    <tr>\n",
       "      <th>2</th>\n",
       "      <td>6.9157</td>\n",
       "      <td>6.7300</td>\n",
       "    </tr>\n",
       "    <tr>\n",
       "      <th>3</th>\n",
       "      <td>7.3012</td>\n",
       "      <td>6.7878</td>\n",
       "    </tr>\n",
       "    <tr>\n",
       "      <th>4</th>\n",
       "      <td>7.4488</td>\n",
       "      <td>7.1522</td>\n",
       "    </tr>\n",
       "  </tbody>\n",
       "</table>\n",
       "</div>"
      ],
      "text/plain": [
       "   Unit A  Unit B\n",
       "0  6.8090  6.7703\n",
       "1  6.4376  7.5093\n",
       "2  6.9157  6.7300\n",
       "3  7.3012  6.7878\n",
       "4  7.4488  7.1522"
      ]
     },
     "execution_count": 3,
     "metadata": {},
     "output_type": "execute_result"
    }
   ],
   "source": [
    "DF.head()"
   ]
  },
  {
   "cell_type": "code",
   "execution_count": 4,
   "metadata": {
    "scrolled": true
   },
   "outputs": [
    {
     "data": {
      "text/plain": [
       "(35, 2)"
      ]
     },
     "execution_count": 4,
     "metadata": {},
     "output_type": "execute_result"
    }
   ],
   "source": [
    "DF.shape"
   ]
  },
  {
   "cell_type": "markdown",
   "metadata": {},
   "source": [
    "#### Check for data types and decide proper data type for analysis"
   ]
  },
  {
   "cell_type": "code",
   "execution_count": 5,
   "metadata": {
    "scrolled": true
   },
   "outputs": [
    {
     "name": "stdout",
     "output_type": "stream",
     "text": [
      "<class 'pandas.core.frame.DataFrame'>\n",
      "RangeIndex: 35 entries, 0 to 34\n",
      "Data columns (total 2 columns):\n",
      " #   Column  Non-Null Count  Dtype  \n",
      "---  ------  --------------  -----  \n",
      " 0   Unit A  35 non-null     float64\n",
      " 1   Unit B  35 non-null     float64\n",
      "dtypes: float64(2)\n",
      "memory usage: 688.0 bytes\n"
     ]
    }
   ],
   "source": [
    "DF.info()"
   ]
  },
  {
   "cell_type": "markdown",
   "metadata": {},
   "source": [
    "#### Check for null values ------- No null values"
   ]
  },
  {
   "cell_type": "code",
   "execution_count": 6,
   "metadata": {},
   "outputs": [
    {
     "data": {
      "text/plain": [
       "Unit A    0\n",
       "Unit B    0\n",
       "dtype: int64"
      ]
     },
     "execution_count": 6,
     "metadata": {},
     "output_type": "execute_result"
    }
   ],
   "source": [
    "DF.isnull().sum()"
   ]
  },
  {
   "cell_type": "markdown",
   "metadata": {},
   "source": [
    "#### Check for duplicates ------------ no duplicates¶"
   ]
  },
  {
   "cell_type": "code",
   "execution_count": 7,
   "metadata": {},
   "outputs": [
    {
     "name": "stdout",
     "output_type": "stream",
     "text": [
      "Unit A    0.0\n",
      "Unit B    0.0\n",
      "dtype: float64\n"
     ]
    },
    {
     "data": {
      "text/html": [
       "<div>\n",
       "<style scoped>\n",
       "    .dataframe tbody tr th:only-of-type {\n",
       "        vertical-align: middle;\n",
       "    }\n",
       "\n",
       "    .dataframe tbody tr th {\n",
       "        vertical-align: top;\n",
       "    }\n",
       "\n",
       "    .dataframe thead th {\n",
       "        text-align: right;\n",
       "    }\n",
       "</style>\n",
       "<table border=\"1\" class=\"dataframe\">\n",
       "  <thead>\n",
       "    <tr style=\"text-align: right;\">\n",
       "      <th></th>\n",
       "      <th>Unit A</th>\n",
       "      <th>Unit B</th>\n",
       "    </tr>\n",
       "  </thead>\n",
       "  <tbody>\n",
       "  </tbody>\n",
       "</table>\n",
       "</div>"
      ],
      "text/plain": [
       "Empty DataFrame\n",
       "Columns: [Unit A, Unit B]\n",
       "Index: []"
      ]
     },
     "execution_count": 7,
     "metadata": {},
     "output_type": "execute_result"
    }
   ],
   "source": [
    "print(DF[DF.duplicated()].sum())\n",
    "DF[DF.duplicated()]"
   ]
  },
  {
   "cell_type": "markdown",
   "metadata": {},
   "source": [
    "#### Segregate the data in two parts to represent UNIT ‘A’ & UNIT ‘B’"
   ]
  },
  {
   "cell_type": "code",
   "execution_count": 8,
   "metadata": {},
   "outputs": [],
   "source": [
    "dia_CA = DF['Unit A']\n",
    "dia_CB = DF['Unit B']"
   ]
  },
  {
   "cell_type": "code",
   "execution_count": 9,
   "metadata": {},
   "outputs": [
    {
     "name": "stdout",
     "output_type": "stream",
     "text": [
      "   Unit A\n",
      "0  6.8090\n",
      "1  6.4376\n",
      "2  6.9157\n",
      "3  7.3012\n",
      "4  7.4488 \n",
      "\n",
      "     Unit B\n",
      "30  7.0992\n",
      "31  7.1180\n",
      "32  6.6965\n",
      "33  6.5780\n",
      "34  7.3875\n"
     ]
    }
   ],
   "source": [
    "print(pd.DataFrame(dia_CA.head()) , '\\n\\n', pd.DataFrame(dia_CB.tail()))"
   ]
  },
  {
   "cell_type": "markdown",
   "metadata": {},
   "source": [
    "#### Compare the means of dia_CA, dia_CB (first moment of business decision)"
   ]
  },
  {
   "cell_type": "code",
   "execution_count": 10,
   "metadata": {},
   "outputs": [
    {
     "name": "stdout",
     "output_type": "stream",
     "text": [
      "Difference between average diameter of cutlet A 7.02cm & cutlet B 6.96cm = 0.06 ;\n",
      "\n",
      "\n",
      " IS the Difference significant?? \n",
      "\n",
      "\n",
      "Assuming that difference of 0.06cm is not significant we proceed with next analysis\n"
     ]
    }
   ],
   "source": [
    "# it is assumed that the unit of measurement is in centi meters - 'cm'\n",
    "CA_mean = round( dia_CA.mean(),2)\n",
    "CB_mean = round(dia_CB.mean(),2)\n",
    "print('Difference between average diameter of cutlet A {:.2f}cm & cutlet B {:.2f}cm = {:.2f} ;'.format(CA_mean,CB_mean,(CA_mean-CB_mean)))\n",
    "print('\\n\\n', 'IS the Difference significant??','\\n\\n')\n",
    "print('Assuming that difference of {:.2f}cm is not significant we proceed with next analysis'.format(CA_mean-CB_mean))"
   ]
  },
  {
   "cell_type": "markdown",
   "metadata": {},
   "source": [
    "### ------Check for type distribution--------\n",
    "    our base assumption is that the population of cutlets of both unit A and unit B are normally or nearly normally distributed"
   ]
  },
  {
   "cell_type": "code",
   "execution_count": 11,
   "metadata": {},
   "outputs": [
    {
     "data": {
      "text/plain": [
       "<matplotlib.legend.Legend at 0x196e7fe6370>"
      ]
     },
     "execution_count": 11,
     "metadata": {},
     "output_type": "execute_result"
    },
    {
     "data": {
      "image/png": "[encoded data removed]",
      "text/plain": [
       "<Figure size 432x288 with 1 Axes>"
      ]
     },
     "metadata": {
      "needs_background": "light"
     },
     "output_type": "display_data"
    }
   ],
   "source": [
    "sns.kdeplot(dia_CA)\n",
    "sns.kdeplot(dia_CB)\n",
    "plt.pyplot.legend(['dia_CA' , 'dia_CB'])"
   ]
  },
  {
   "cell_type": "code",
   "execution_count": 12,
   "metadata": {},
   "outputs": [],
   "source": [
    "# sns.displot(dia_CA, kind='kde' )\n",
    "# sns.displot(dia_CB, kind = 'kde')\n",
    "# plt.pyplot.legend(['dia_CA' , 'dia_CB'])"
   ]
  },
  {
   "cell_type": "code",
   "execution_count": 13,
   "metadata": {},
   "outputs": [],
   "source": [
    "# sns.histplot(dia_CA, kde = True)\n",
    "# sns.histplot(dia_CB)\n",
    "# plt.pyplot.legend(['dia_CA' , 'dia_CB'])"
   ]
  },
  {
   "cell_type": "code",
   "execution_count": 14,
   "metadata": {},
   "outputs": [
    {
     "data": {
      "text/plain": [
       "<matplotlib.legend.Legend at 0x196e8355640>"
      ]
     },
     "execution_count": 14,
     "metadata": {},
     "output_type": "execute_result"
    },
    {
     "data": {
      "image/png": "[encoded data removed]",
      "text/plain": [
       "<Figure size 432x288 with 1 Axes>"
      ]
     },
     "metadata": {
      "needs_background": "light"
     },
     "output_type": "display_data"
    }
   ],
   "source": [
    "sns.boxplot(data= [dia_CA, dia_CB])\n",
    "plt.pyplot.legend(['dia_CA' , 'dia_CB'])"
   ]
  },
  {
   "cell_type": "markdown",
   "metadata": {},
   "source": [
    "There is no conclusive evidence that the samples are distributed normally. Further there is one outlier in dataset \"dia_CB\". Inorder to pass an opinion on the Population of Cutlets we need to check if the two populations of cutlets follow the normal distribution. This can be done using \"SHAPIRO TEST\" or \"ANDERSON DARLING TEST\". "
   ]
  },
  {
   "cell_type": "markdown",
   "metadata": {},
   "source": [
    "#### -----Test for normal population Distribution - Shapiro-----\n",
    "    H0 = Both samples are drawn from normally distributed populations\n",
    "    H1 = Atleast one of the samples are not drawn from normally distributed popluation"
   ]
  },
  {
   "cell_type": "code",
   "execution_count": 15,
   "metadata": {},
   "outputs": [
    {
     "name": "stdout",
     "output_type": "stream",
     "text": [
      "pvlaue for Unit A 32.00% and pvalue for Unit B 52.25%\n"
     ]
    }
   ],
   "source": [
    "stat1 , p1 = stats.shapiro(dia_CA)\n",
    "stat2 , p2 = stats.shapiro(dia_CB)\n",
    "print(\"pvlaue for Unit A {:.2f}% and pvalue for Unit B {:.2f}%\".format((p1*100),(p2*100)))"
   ]
  },
  {
   "cell_type": "markdown",
   "metadata": {},
   "source": [
    "As \"pvalues\" of both samples are greater than Alpha(5%) in Shapiro Test, We can conclude that we don't have enought evidence to reject null hyphothesis. Hence be shall hold/assumed that both samples are drawn from normally distributed populations"
   ]
  },
  {
   "cell_type": "markdown",
   "metadata": {},
   "source": [
    "#### -----Test for normal population Distribution - Anderson-----"
   ]
  },
  {
   "cell_type": "code",
   "execution_count": 16,
   "metadata": {},
   "outputs": [
    {
     "data": {
      "text/html": [
       "<div>\n",
       "<style scoped>\n",
       "    .dataframe tbody tr th:only-of-type {\n",
       "        vertical-align: middle;\n",
       "    }\n",
       "\n",
       "    .dataframe tbody tr th {\n",
       "        vertical-align: top;\n",
       "    }\n",
       "\n",
       "    .dataframe thead th {\n",
       "        text-align: right;\n",
       "    }\n",
       "</style>\n",
       "<table border=\"1\" class=\"dataframe\">\n",
       "  <thead>\n",
       "    <tr style=\"text-align: right;\">\n",
       "      <th></th>\n",
       "      <th>Anderson result for Unit A</th>\n",
       "    </tr>\n",
       "  </thead>\n",
       "  <tbody>\n",
       "    <tr>\n",
       "      <th>statistic</th>\n",
       "      <td>0.433095</td>\n",
       "    </tr>\n",
       "    <tr>\n",
       "      <th>critical_values</th>\n",
       "      <td>[0.527, 0.6, 0.719, 0.839, 0.998]</td>\n",
       "    </tr>\n",
       "    <tr>\n",
       "      <th>significance_level</th>\n",
       "      <td>[15.0, 10.0, 5.0, 2.5, 1.0]</td>\n",
       "    </tr>\n",
       "  </tbody>\n",
       "</table>\n",
       "</div>"
      ],
      "text/plain": [
       "                           Anderson result for Unit A\n",
       "statistic                                    0.433095\n",
       "critical_values     [0.527, 0.6, 0.719, 0.839, 0.998]\n",
       "significance_level        [15.0, 10.0, 5.0, 2.5, 1.0]"
      ]
     },
     "execution_count": 16,
     "metadata": {},
     "output_type": "execute_result"
    }
   ],
   "source": [
    "dfA = pd.DataFrame(stats.anderson(dia_CA), index = ['statistic','critical_values','significance_level'],columns = ['Anderson result for Unit A'])\n",
    "dfA"
   ]
  },
  {
   "cell_type": "code",
   "execution_count": 17,
   "metadata": {},
   "outputs": [
    {
     "data": {
      "text/html": [
       "<div>\n",
       "<style scoped>\n",
       "    .dataframe tbody tr th:only-of-type {\n",
       "        vertical-align: middle;\n",
       "    }\n",
       "\n",
       "    .dataframe tbody tr th {\n",
       "        vertical-align: top;\n",
       "    }\n",
       "\n",
       "    .dataframe thead th {\n",
       "        text-align: right;\n",
       "    }\n",
       "</style>\n",
       "<table border=\"1\" class=\"dataframe\">\n",
       "  <thead>\n",
       "    <tr style=\"text-align: right;\">\n",
       "      <th></th>\n",
       "      <th>Anderson result for Unit B</th>\n",
       "    </tr>\n",
       "  </thead>\n",
       "  <tbody>\n",
       "    <tr>\n",
       "      <th>statistic</th>\n",
       "      <td>0.26123</td>\n",
       "    </tr>\n",
       "    <tr>\n",
       "      <th>critical_values</th>\n",
       "      <td>[0.527, 0.6, 0.719, 0.839, 0.998]</td>\n",
       "    </tr>\n",
       "    <tr>\n",
       "      <th>significance_level</th>\n",
       "      <td>[15.0, 10.0, 5.0, 2.5, 1.0]</td>\n",
       "    </tr>\n",
       "  </tbody>\n",
       "</table>\n",
       "</div>"
      ],
      "text/plain": [
       "                           Anderson result for Unit B\n",
       "statistic                                     0.26123\n",
       "critical_values     [0.527, 0.6, 0.719, 0.839, 0.998]\n",
       "significance_level        [15.0, 10.0, 5.0, 2.5, 1.0]"
      ]
     },
     "execution_count": 17,
     "metadata": {},
     "output_type": "execute_result"
    }
   ],
   "source": [
    "dfB = pd.DataFrame(stats.anderson(dia_CB), index = ['statistic','critical_values','significance_level'],columns = ['Anderson result for Unit B'])\n",
    "dfB"
   ]
  },
  {
   "cell_type": "markdown",
   "metadata": {},
   "source": [
    "In case of Anderson test we compare that statistic with the critical values and we look for Statistic Greater than Critical values for given significance.\n",
    "\n",
    "In our case both samples have statistic less than critical values for all signigicance. hence we can conclude that both samples are drawsn from normally distributed populations."
   ]
  },
  {
   "cell_type": "markdown",
   "metadata": {},
   "source": [
    "### ------Check for Varience of the populations--------\n",
    "    \n",
    "    our base assumption is that the population of cutlets of both unit A and unit B Have same varience\n",
    "    \n",
    "    In order to check varience of the population using the samples drwan we use levene test.\n",
    "    \n",
    "    H0 = varience of both groups are equal \n",
    "    H1 = varience of both groups are unequal"
   ]
  },
  {
   "cell_type": "code",
   "execution_count": 18,
   "metadata": {},
   "outputs": [
    {
     "name": "stdout",
     "output_type": "stream",
     "text": [
      "\n",
      "pvalue for levene test is 41.76%\n"
     ]
    }
   ],
   "source": [
    "lStat, lP = stats.levene(dia_CA , dia_CB)\n",
    "print('\\npvalue for levene test is {:.2f}%'.format(lP*100))\n",
    "# stats.levene(dia_CA , dia_CB,)"
   ]
  },
  {
   "cell_type": "markdown",
   "metadata": {},
   "source": [
    "as it can be noted that the pavlue is greater than alpha 0.05(5%), we can conclude that there is not enough evidence to reject null hypothesis. Hence, we assume that the variences are equal or we can say that the variations are not significant. Hence continue our study."
   ]
  },
  {
   "cell_type": "markdown",
   "metadata": {},
   "source": [
    "### Data analysis in the context of business case"
   ]
  },
  {
   "cell_type": "markdown",
   "metadata": {},
   "source": [
    "#### Constructing Hypothesis  \n",
    "    H0 = mean of dia_CA - mean of dia_CB = 0\n",
    "    H1 = mean of dia_CA - mean of dia_CB != 0"
   ]
  },
  {
   "cell_type": "markdown",
   "metadata": {},
   "source": [
    "#### applying two sample two tail test\n",
    "    In the absence of population parameters especially std deviation (sigma) our natural choice of statistical test is ttest\n",
    "    Alpha (a) = 0.05 or 5% for t test"
   ]
  },
  {
   "cell_type": "markdown",
   "metadata": {},
   "source": [
    "#### Calculate p values using ttest"
   ]
  },
  {
   "cell_type": "code",
   "execution_count": 19,
   "metadata": {},
   "outputs": [
    {
     "name": "stdout",
     "output_type": "stream",
     "text": [
      "pvalue : 0.7228688704678061 , tstatistic : 0.4722394724599501\n"
     ]
    }
   ],
   "source": [
    "tStatistic, Pvalue = stats.ttest_ind(dia_CA,dia_CB)\n",
    "print('pvalue : {0} , tstatistic : {1}'.format(tStatistic,Pvalue))"
   ]
  },
  {
   "cell_type": "markdown",
   "metadata": {},
   "source": [
    "#### Check if p value id less than alpha\n",
    "    "
   ]
  },
  {
   "cell_type": "code",
   "execution_count": 20,
   "metadata": {},
   "outputs": [
    {
     "name": "stdout",
     "output_type": "stream",
     "text": [
      "The is not enough evidence to reject null Hypothesis. \n",
      "Hence, we shall continue to trust Null hypothesis, \n",
      "MEANING THERE MAY BE VARIATION IN THE DIAMETER OF CUTLET BUT IT IS NOT SIGNIFICANT TO TAKE ACTION\n"
     ]
    }
   ],
   "source": [
    "if Pvalue <=0.05:\n",
    "    print('There is sufficient evidence to reject null Hypothesis')\n",
    "else:\n",
    "    print('The is not enough evidence to reject null Hypothesis. \\nHence, we shall continue to trust Null hypothesis, \\nMEANING THERE MAY BE VARIATION IN THE DIAMETER OF CUTLET BUT IT IS NOT SIGNIFICANT TO TAKE ACTION')"
   ]
  },
  {
   "cell_type": "markdown",
   "metadata": {},
   "source": [
    "### Conclusion - inference"
   ]
  },
  {
   "cell_type": "markdown",
   "metadata": {},
   "source": [
    "#### AS noted above, as our p value is less than the alpha, we shall continue to work under null hypothesis. We do not have enough evidence to discredit the null hypothesis. So, We can conclude that THERE IS NO SIGNIFICANT DIFFERENCE IN THE DIAMETER OF CUTLET. However, this does not mean there is no difference in the diameter of cutlets of both units. It only means that, the difference is not significant enough to be worried about."
   ]
  },
  {
   "cell_type": "code",
   "execution_count": null,
   "metadata": {},
   "outputs": [],
   "source": []
  }
 ],
 "metadata": {
  "kernelspec": {
   "display_name": "Python 3",
   "language": "python",
   "name": "python3"
  },
  "language_info": {
   "codemirror_mode": {
    "name": "ipython",
    "version": 3
   },
   "file_extension": ".py",
   "mimetype": "text/x-python",
   "name": "python",
   "nbconvert_exporter": "python",
   "pygments_lexer": "ipython3",
   "version": "3.8.5"
  }
 },
 "nbformat": 4,
 "nbformat_minor": 4
}
