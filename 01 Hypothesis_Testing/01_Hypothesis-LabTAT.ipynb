{
 "cells": [
  {
   "cell_type": "markdown",
   "metadata": {},
   "source": [
    "# Hypothesis testing - 3"
   ]
  },
  {
   "cell_type": "markdown",
   "metadata": {},
   "source": [
    "### LabTAT.csv Dataset"
   ]
  },
  {
   "cell_type": "markdown",
   "metadata": {},
   "source": [
    "## A hospital wants to determine whether there is any difference in the average Turn Around Time (TAT) of reports of the laboratories on their preferred list. They collected a random sample and recorded TAT for reports of 4 laboratories. TAT is defined as sample collected to report dispatch.\n",
    "## Analyze the data and determine whether there is any difference in average TAT among the different laboratories at 5% significance level. "
   ]
  },
  {
   "cell_type": "markdown",
   "metadata": {},
   "source": [
    "### Business objective / problem \n",
    "\n",
    "    Objective: To compare and find if there is any significant deviation in the Average TAT among the laboratories with 5% significance. \n",
    "\n",
    "    Problem: Hospital managers may check on the performance of lboratories based on the time taken to deliver a TEST reports. For hospitals sooner a lab can give the diagnosis/test report, with desired level of accuracy and precision, the better it is. In this case we are only testing TAT. We assume that all other things are normal and meet the desired level.\n",
    "\n",
    "    Parameters on for Data Science point of view\n",
    "\n",
    "    Let Lab_1 =  Sample data of TAT of Lab 1\n",
    "    Let Lab_2 =  Sample data of TAT of Lab 2\n",
    "    Let Lab_3 =  Sample data of TAT of Lab 3\n",
    "    Let Lab_4 =  Sample data of TAT of Lab 4\n",
    "    Check if Average TAT for Lab_1 = Lab_2 = Lab_5 = Lab_4 \n",
    "    Alpha (a) = 0.05 or 5%\n",
    "    \n",
    "    In this case we are comparing more than two samples hence we use annova test"
   ]
  },
  {
   "cell_type": "markdown",
   "metadata": {},
   "source": [
    "### Data Collection\n",
    "    We need to collect or randomly sample the data set from the population. In rare cases we need to survey to collect the primary data mostly we use the secondary data for analysis. However in this case we are provided with randomly sampled data set. We can proceed with our study.\n",
    "    \n",
    "    WE ASSUME THAT DATA SETS OF EACH LAB INDEPENDENT.\n",
    "    \n",
    "    Let us use the given data : “LabTAT.csv”"
   ]
  },
  {
   "cell_type": "code",
   "execution_count": 1,
   "metadata": {},
   "outputs": [],
   "source": [
    "# First thing first Import all the libraries\n",
    "%matplotlib inline\n",
    "import pandas as pd\n",
    "import numpy as np\n",
    "from scipy import stats"
   ]
  },
  {
   "cell_type": "code",
   "execution_count": 2,
   "metadata": {},
   "outputs": [],
   "source": [
    "DF = pd.read_csv('LabTAT.csv',header=0,names = [\"Lab_1\",\"Lab_2\",\"Lab_3\",\"Lab_4\"])"
   ]
  },
  {
   "cell_type": "markdown",
   "metadata": {},
   "source": [
    "### Data preparation / cleaning\n",
    "#### Check the attributes of the data, check the integrity of data import into the system"
   ]
  },
  {
   "cell_type": "code",
   "execution_count": 3,
   "metadata": {},
   "outputs": [
    {
     "data": {
      "text/html": [
       "<div>\n",
       "<style scoped>\n",
       "    .dataframe tbody tr th:only-of-type {\n",
       "        vertical-align: middle;\n",
       "    }\n",
       "\n",
       "    .dataframe tbody tr th {\n",
       "        vertical-align: top;\n",
       "    }\n",
       "\n",
       "    .dataframe thead th {\n",
       "        text-align: right;\n",
       "    }\n",
       "</style>\n",
       "<table border=\"1\" class=\"dataframe\">\n",
       "  <thead>\n",
       "    <tr style=\"text-align: right;\">\n",
       "      <th></th>\n",
       "      <th>Lab_1</th>\n",
       "      <th>Lab_2</th>\n",
       "      <th>Lab_3</th>\n",
       "      <th>Lab_4</th>\n",
       "    </tr>\n",
       "  </thead>\n",
       "  <tbody>\n",
       "    <tr>\n",
       "      <th>0</th>\n",
       "      <td>185.35</td>\n",
       "      <td>165.53</td>\n",
       "      <td>176.70</td>\n",
       "      <td>166.13</td>\n",
       "    </tr>\n",
       "    <tr>\n",
       "      <th>1</th>\n",
       "      <td>170.49</td>\n",
       "      <td>185.91</td>\n",
       "      <td>198.45</td>\n",
       "      <td>160.79</td>\n",
       "    </tr>\n",
       "  </tbody>\n",
       "</table>\n",
       "</div>"
      ],
      "text/plain": [
       "    Lab_1   Lab_2   Lab_3   Lab_4\n",
       "0  185.35  165.53  176.70  166.13\n",
       "1  170.49  185.91  198.45  160.79"
      ]
     },
     "execution_count": 3,
     "metadata": {},
     "output_type": "execute_result"
    }
   ],
   "source": [
    "DF.head(2)"
   ]
  },
  {
   "cell_type": "code",
   "execution_count": 4,
   "metadata": {
    "scrolled": true
   },
   "outputs": [
    {
     "data": {
      "text/plain": [
       "(120, 4)"
      ]
     },
     "execution_count": 4,
     "metadata": {},
     "output_type": "execute_result"
    }
   ],
   "source": [
    "DF.shape"
   ]
  },
  {
   "cell_type": "markdown",
   "metadata": {},
   "source": [
    "#### Check for data types and decide proper data type for analysis"
   ]
  },
  {
   "cell_type": "code",
   "execution_count": 5,
   "metadata": {
    "scrolled": true
   },
   "outputs": [
    {
     "name": "stdout",
     "output_type": "stream",
     "text": [
      "<class 'pandas.core.frame.DataFrame'>\n",
      "RangeIndex: 120 entries, 0 to 119\n",
      "Data columns (total 4 columns):\n",
      " #   Column  Non-Null Count  Dtype  \n",
      "---  ------  --------------  -----  \n",
      " 0   Lab_1   120 non-null    float64\n",
      " 1   Lab_2   120 non-null    float64\n",
      " 2   Lab_3   120 non-null    float64\n",
      " 3   Lab_4   120 non-null    float64\n",
      "dtypes: float64(4)\n",
      "memory usage: 3.9 KB\n"
     ]
    }
   ],
   "source": [
    "DF.info()"
   ]
  },
  {
   "cell_type": "markdown",
   "metadata": {},
   "source": [
    "#### Check for null values ------------------ no null values"
   ]
  },
  {
   "cell_type": "code",
   "execution_count": 6,
   "metadata": {},
   "outputs": [
    {
     "data": {
      "text/plain": [
       "Lab_1    0\n",
       "Lab_2    0\n",
       "Lab_3    0\n",
       "Lab_4    0\n",
       "dtype: int64"
      ]
     },
     "execution_count": 6,
     "metadata": {},
     "output_type": "execute_result"
    }
   ],
   "source": [
    "DF.isnull().sum()"
   ]
  },
  {
   "cell_type": "markdown",
   "metadata": {},
   "source": [
    "#### Check for duplicates ------------ no duplicates"
   ]
  },
  {
   "cell_type": "code",
   "execution_count": 7,
   "metadata": {},
   "outputs": [
    {
     "name": "stdout",
     "output_type": "stream",
     "text": [
      "Lab_1    0.0\n",
      "Lab_2    0.0\n",
      "Lab_3    0.0\n",
      "Lab_4    0.0\n",
      "dtype: float64\n"
     ]
    },
    {
     "data": {
      "text/html": [
       "<div>\n",
       "<style scoped>\n",
       "    .dataframe tbody tr th:only-of-type {\n",
       "        vertical-align: middle;\n",
       "    }\n",
       "\n",
       "    .dataframe tbody tr th {\n",
       "        vertical-align: top;\n",
       "    }\n",
       "\n",
       "    .dataframe thead th {\n",
       "        text-align: right;\n",
       "    }\n",
       "</style>\n",
       "<table border=\"1\" class=\"dataframe\">\n",
       "  <thead>\n",
       "    <tr style=\"text-align: right;\">\n",
       "      <th></th>\n",
       "      <th>Lab_1</th>\n",
       "      <th>Lab_2</th>\n",
       "      <th>Lab_3</th>\n",
       "      <th>Lab_4</th>\n",
       "    </tr>\n",
       "  </thead>\n",
       "  <tbody>\n",
       "  </tbody>\n",
       "</table>\n",
       "</div>"
      ],
      "text/plain": [
       "Empty DataFrame\n",
       "Columns: [Lab_1, Lab_2, Lab_3, Lab_4]\n",
       "Index: []"
      ]
     },
     "execution_count": 7,
     "metadata": {},
     "output_type": "execute_result"
    }
   ],
   "source": [
    "print(DF[DF.duplicated()].sum())\n",
    "DF[DF.duplicated()]"
   ]
  },
  {
   "cell_type": "markdown",
   "metadata": {},
   "source": [
    "#### Compare Basic Statistics for Lab_1\tLab_2\tLab_3\tLab_4 (first momentd of business decision)"
   ]
  },
  {
   "cell_type": "code",
   "execution_count": 8,
   "metadata": {
    "scrolled": true
   },
   "outputs": [
    {
     "data": {
      "text/html": [
       "<div>\n",
       "<style scoped>\n",
       "    .dataframe tbody tr th:only-of-type {\n",
       "        vertical-align: middle;\n",
       "    }\n",
       "\n",
       "    .dataframe tbody tr th {\n",
       "        vertical-align: top;\n",
       "    }\n",
       "\n",
       "    .dataframe thead th {\n",
       "        text-align: right;\n",
       "    }\n",
       "</style>\n",
       "<table border=\"1\" class=\"dataframe\">\n",
       "  <thead>\n",
       "    <tr style=\"text-align: right;\">\n",
       "      <th></th>\n",
       "      <th>Lab_1</th>\n",
       "      <th>Lab_2</th>\n",
       "      <th>Lab_3</th>\n",
       "      <th>Lab_4</th>\n",
       "    </tr>\n",
       "  </thead>\n",
       "  <tbody>\n",
       "    <tr>\n",
       "      <th>count</th>\n",
       "      <td>120.000000</td>\n",
       "      <td>120.000000</td>\n",
       "      <td>120.000000</td>\n",
       "      <td>120.00000</td>\n",
       "    </tr>\n",
       "    <tr>\n",
       "      <th>mean</th>\n",
       "      <td>178.361583</td>\n",
       "      <td>178.902917</td>\n",
       "      <td>199.913250</td>\n",
       "      <td>163.68275</td>\n",
       "    </tr>\n",
       "    <tr>\n",
       "      <th>std</th>\n",
       "      <td>13.173594</td>\n",
       "      <td>14.957114</td>\n",
       "      <td>16.539033</td>\n",
       "      <td>15.08508</td>\n",
       "    </tr>\n",
       "    <tr>\n",
       "      <th>min</th>\n",
       "      <td>138.300000</td>\n",
       "      <td>140.550000</td>\n",
       "      <td>159.690000</td>\n",
       "      <td>124.06000</td>\n",
       "    </tr>\n",
       "    <tr>\n",
       "      <th>25%</th>\n",
       "      <td>170.335000</td>\n",
       "      <td>168.025000</td>\n",
       "      <td>188.232500</td>\n",
       "      <td>154.05000</td>\n",
       "    </tr>\n",
       "    <tr>\n",
       "      <th>50%</th>\n",
       "      <td>178.530000</td>\n",
       "      <td>178.870000</td>\n",
       "      <td>199.805000</td>\n",
       "      <td>164.42500</td>\n",
       "    </tr>\n",
       "    <tr>\n",
       "      <th>75%</th>\n",
       "      <td>186.535000</td>\n",
       "      <td>189.112500</td>\n",
       "      <td>211.332500</td>\n",
       "      <td>172.88250</td>\n",
       "    </tr>\n",
       "    <tr>\n",
       "      <th>max</th>\n",
       "      <td>216.390000</td>\n",
       "      <td>217.860000</td>\n",
       "      <td>238.700000</td>\n",
       "      <td>205.18000</td>\n",
       "    </tr>\n",
       "  </tbody>\n",
       "</table>\n",
       "</div>"
      ],
      "text/plain": [
       "            Lab_1       Lab_2       Lab_3      Lab_4\n",
       "count  120.000000  120.000000  120.000000  120.00000\n",
       "mean   178.361583  178.902917  199.913250  163.68275\n",
       "std     13.173594   14.957114   16.539033   15.08508\n",
       "min    138.300000  140.550000  159.690000  124.06000\n",
       "25%    170.335000  168.025000  188.232500  154.05000\n",
       "50%    178.530000  178.870000  199.805000  164.42500\n",
       "75%    186.535000  189.112500  211.332500  172.88250\n",
       "max    216.390000  217.860000  238.700000  205.18000"
      ]
     },
     "execution_count": 8,
     "metadata": {},
     "output_type": "execute_result"
    }
   ],
   "source": [
    "DF.describe()"
   ]
  },
  {
   "cell_type": "markdown",
   "metadata": {},
   "source": [
    "As the sample size (120) is same for all 4 Labs and there are no null values we can draw reasonalble inference on the sample statitic. Mean and median are very close to each other in all the samples showing nearly normal distribution. However, Lab 1 and Lab 2 have larger variation in their mean and median, signalling left skewness. \n",
    "\n",
    "Comparing the means clearly shows that Lab_3 has the highest, showing it has higher Average TAT and Lab 4 showing lowest mean Showing Lowest Average TAT. \n",
    "\n",
    "However it is premature to conclude that the average TAT of 4 labs significantly very. Because the with each sample sample statistics very. Hence what may to true about the sample may not be true for the population from which the samples are drawn"
   ]
  },
  {
   "cell_type": "markdown",
   "metadata": {},
   "source": [
    "#### Check for type distribution\n",
    "    our base assumption is that the population of cutlets of both unit A and unit B are normally or nearly normally distributed"
   ]
  },
  {
   "cell_type": "code",
   "execution_count": 9,
   "metadata": {},
   "outputs": [
    {
     "data": {
      "text/plain": [
       "<matplotlib.legend.Legend at 0x217b5f72e20>"
      ]
     },
     "execution_count": 9,
     "metadata": {},
     "output_type": "execute_result"
    },
    {
     "data": {
      "image/png": "[encoded data removed]",
      "text/plain": [
       "<Figure size 432x288 with 1 Axes>"
      ]
     },
     "metadata": {
      "needs_background": "light"
     },
     "output_type": "display_data"
    }
   ],
   "source": [
    "import matplotlib as plt\n",
    "import seaborn as sns\n",
    "sns.boxplot(data= [DF.Lab_1,DF.Lab_2,DF.Lab_3,DF.Lab_4])\n",
    "plt.pyplot.legend([\"Lab_1\",\"Lab_2\",\"Lab_3\",\"Lab_4\"])"
   ]
  },
  {
   "cell_type": "code",
   "execution_count": 10,
   "metadata": {},
   "outputs": [
    {
     "data": {
      "text/plain": [
       "<matplotlib.legend.Legend at 0x217b63811c0>"
      ]
     },
     "execution_count": 10,
     "metadata": {},
     "output_type": "execute_result"
    },
    {
     "data": {
      "image/png": "[encoded data removed]",
      "text/plain": [
       "<Figure size 432x288 with 1 Axes>"
      ]
     },
     "metadata": {
      "needs_background": "light"
     },
     "output_type": "display_data"
    }
   ],
   "source": [
    "sns.kdeplot(DF.Lab_1)\n",
    "sns.kdeplot(DF.Lab_2)\n",
    "sns.kdeplot(DF.Lab_3)\n",
    "sns.kdeplot(DF.Lab_4)\n",
    "plt.pyplot.legend(['Lab_1' , 'Lab_2', 'Lab_3', 'Lab_4'])"
   ]
  },
  {
   "cell_type": "markdown",
   "metadata": {},
   "source": [
    "##### The BOX Plot suggests that there are outliers in some of the data sets. The KDE Plot suggests that there are hevier tails in mejority of data sets. Though by appearance both plots suggest towards nearly normal distribution, we can't conclude their being normal distribution. Moreover, we can't draw inference on population using sample distribution as distribution may very with samples. Hence we do statistical test - shapiro wilk test on each individual dataset."
   ]
  },
  {
   "cell_type": "markdown",
   "metadata": {},
   "source": [
    "#### -----Test for normal population Distribution - Shapiro-----\n",
    "    H0 = Both samples are drawn from normally distributed populations\n",
    "    H1 = Atleast one of the samples are not drawn from normally distributed popluation"
   ]
  },
  {
   "cell_type": "code",
   "execution_count": 11,
   "metadata": {},
   "outputs": [
    {
     "name": "stdout",
     "output_type": "stream",
     "text": [
      "pvlaue for Lab_1-> 55.07%, pvalue for Lab_1-> 86.38%, pvalue for Lab_1-> 42.05%, pvalue for Lab_1-> 66.19%\n"
     ]
    }
   ],
   "source": [
    "stat1 , p1 = stats.shapiro(DF.Lab_1)\n",
    "stat2 , p2 = stats.shapiro(DF.Lab_2)\n",
    "stat3 , p3 = stats.shapiro(DF.Lab_3)\n",
    "stat4 , p4 = stats.shapiro(DF.Lab_4)\n",
    "print(\"pvlaue for Lab_1-> {:.2f}%, pvalue for Lab_1-> {:.2f}%, pvalue for Lab_1-> {:.2f}%, pvalue for Lab_1-> {:.2f}%\".format((p1*100),(p2*100),(p3*100),(p4*100)))"
   ]
  },
  {
   "cell_type": "markdown",
   "metadata": {},
   "source": [
    "\n",
    "###### As \"pvalues\" of All samples are greater than Alpha (5%) in Shapiro Test, We can conclude that we don't have enought evidence to reject null hyphothesis. Hence be shall hold/assumed that ALL samples are drawn from normally distributed populations"
   ]
  },
  {
   "cell_type": "markdown",
   "metadata": {},
   "source": [
    "#### ------Check for Varience of the populations--------\n",
    "our base assumption is that the population of cutlets of both unit A and unit B Have same varience\n",
    "\n",
    "In order to check varience of the population using the samples drwan we use levene test.\n",
    "\n",
    "H0 = varience of both groups are equal \n",
    "H1 = varience of both groups are unequal"
   ]
  },
  {
   "cell_type": "code",
   "execution_count": 12,
   "metadata": {},
   "outputs": [
    {
     "name": "stdout",
     "output_type": "stream",
     "text": [
      "\n",
      "pvalue for levene test is 5.16%\n"
     ]
    },
    {
     "data": {
      "text/plain": [
       "LeveneResult(statistic=2.599642500418024, pvalue=0.05161343808309816)"
      ]
     },
     "execution_count": 12,
     "metadata": {},
     "output_type": "execute_result"
    }
   ],
   "source": [
    "lStat, lP = stats.levene(DF.Lab_1,DF.Lab_2,DF.Lab_3,DF.Lab_4)\n",
    "print('\\npvalue for levene test is {:.2f}%'.format(lP*100))\n",
    "stats.levene(DF.Lab_1,DF.Lab_2,DF.Lab_3,DF.Lab_4)"
   ]
  },
  {
   "cell_type": "markdown",
   "metadata": {},
   "source": [
    "as it can be noted that the pavlue is greater than alpha 0.05(5%), but marginally higher than the alpha. We can attribute the varience to the randome sampling and conclude there is not enought evidence to reject null hypothesis. HENCE THE POPULATION VARIENCE IS EQUAL.\n",
    "\n",
    "Ideally in case of levene test small pvalue indicates that the variences are not equal. But the interpretaion is that, if the pvalue is less than alpha usually 5% then it is highly unlikely that such varience has occured due to random sampling. Hence we can conclude that the population varience is not equal."
   ]
  },
  {
   "cell_type": "markdown",
   "metadata": {},
   "source": [
    "### Data analysis in the context of business case"
   ]
  },
  {
   "cell_type": "markdown",
   "metadata": {},
   "source": [
    "#### Constructing Hypothesis  \n",
    "    H0 = Average TAT for all labs is equal             ----->>>>    Mu-Lab1 = Mu-lab2 = Mu-Lab3 = Mu-Lab4\n",
    "    H1 = Average TAT for atleast one lab is not equal  ----->>>>    Mu-Lab1 != Mu-lab2 != Mu-Lab3 != Mu-Lab4"
   ]
  },
  {
   "cell_type": "markdown",
   "metadata": {},
   "source": [
    "#### CASE for ANOVA\n",
    "    \n",
    "    As we are comparing more than two samples precisely 4 in this case we to check mean TAT for 4 labs are equal we will undertake ***ANOVA TEST*** \n",
    "    \n",
    "    For ANOVA test following conditions must be satisfied\n",
    "    \n",
    "    1. The samples are independent. - ***SAMPLES ARE RANDOM AS STATED BY PROBLEM STATEMENT AND INDEPENDENCE WE ASSUME***\n",
    "    2. Each sample is from a normally distributed population. - ***BASED ON SHAPIRO TEST WE CONCLUDED THE POPULATION NORMALCY**\n",
    "    3. The population standard deviations of the groups are all equal. - ***LEVENE TEST CONFIRMS HOMOSCEDASTICITY***\n",
    "        This property is known as homoscedasticity."
   ]
  },
  {
   "cell_type": "markdown",
   "metadata": {},
   "source": [
    "#### Calculate p values using one-way ANOVA"
   ]
  },
  {
   "cell_type": "code",
   "execution_count": 13,
   "metadata": {},
   "outputs": [
    {
     "name": "stdout",
     "output_type": "stream",
     "text": [
      "\n",
      " F_onewayResult(statistic=118.70421654401437, pvalue=2.1156708949992414e-57)\n",
      "\n",
      " pvalue : 0.000000% , fstatistic : 118.70421654401437\n"
     ]
    }
   ],
   "source": [
    "fStatistic, Pvalue = stats.f_oneway(DF.Lab_1,DF.Lab_2,DF.Lab_3,DF.Lab_4)\n",
    "print('\\n', stats.f_oneway(DF.Lab_1,DF.Lab_2,DF.Lab_3,DF.Lab_4))\n",
    "print('\\n pvalue : {:.6f}% , fstatistic : {}'.format((Pvalue*100),fStatistic))\n",
    "# Pvalue"
   ]
  },
  {
   "cell_type": "markdown",
   "metadata": {},
   "source": [
    "help(stats.f_oneway)\n",
    " f_oneway(*args, axis=0)\n",
    "    Perform one-way ANOVA.\n",
    "    \n",
    "    The one-way ANOVA tests the null hypothesis that two or more groups have\n",
    "    the same population mean.  The test is applied to samples from two or\n",
    "    more groups, possibly with differing sizes.\n",
    "    \n",
    "    Notes\n",
    "    -----\n",
    "    The ANOVA test has important assumptions that must be satisfied in order\n",
    "    for the associated p-value to be valid.\n",
    "    \n",
    "    1. The samples are independent.\n",
    "    2. Each sample is from a normally distributed population.\n",
    "    3. The population standard deviations of the groups are all equal.  This\n",
    "       property is known as homoscedasticity.\n",
    "        \n",
    "        check in case of unequal verience -> Kruskal-Wallis H-test (`scipy.stats.kruskal`)"
   ]
  },
  {
   "cell_type": "markdown",
   "metadata": {},
   "source": [
    "#### Check if p value id less than alpha"
   ]
  },
  {
   "cell_type": "code",
   "execution_count": 14,
   "metadata": {},
   "outputs": [
    {
     "name": "stdout",
     "output_type": "stream",
     "text": [
      "\n",
      "There is sufficient evidence to reject null Hypothesis, Hence, consider \"Alternate Hypothesis\" and take action\n",
      "\n"
     ]
    }
   ],
   "source": [
    "if Pvalue <=0.05:\n",
    "    print('\\nThere is sufficient evidence to reject null Hypothesis, Hence, consider \"Alternate Hypothesis\" and take action\\n')\n",
    "else:\n",
    "    print('\\nThe is not enough evidence to reject null Hypothesis. Hence, we shall continue to trust Null hypothesis\\n')"
   ]
  },
  {
   "cell_type": "markdown",
   "metadata": {},
   "source": [
    "AS PVALUE IS LESS VERY LOW (ALMOST ZERO FOR ALL PRACTICAL SENSE) WE SHALL REJECT NULL HYPOTHESIS AND CONSIDER ALTERNATE HYPOTHESIS OF ATLEAST ONE POPULATION MEAN IS LESS OR MORE THAN THE REST OF POPULATION.\n",
    "\n",
    "WE ADVISE THE MANAGEMENT TO TAKE FURTHER ANALYSIS TO IDENTIFY BETTER PERFORMING LABS USING OTHER STATISTICAL TOOLS AND TAKE APPROPRIATE ACTION. AS DEEMED FIT."
   ]
  }
 ],
 "metadata": {
  "kernelspec": {
   "display_name": "Python 3",
   "language": "python",
   "name": "python3"
  },
  "language_info": {
   "codemirror_mode": {
    "name": "ipython",
    "version": 3
   },
   "file_extension": ".py",
   "mimetype": "text/x-python",
   "name": "python",
   "nbconvert_exporter": "python",
   "pygments_lexer": "ipython3",
   "version": "3.8.5"
  }
 },
 "nbformat": 4,
 "nbformat_minor": 4
}
