{
 "cells": [
  {
   "cell_type": "code",
   "execution_count": null,
   "metadata": {},
   "outputs": [],
   "source": []
  },
  {
   "cell_type": "code",
   "execution_count": 1,
   "metadata": {},
   "outputs": [],
   "source": [
    "import pandas as pd\n",
    "import numpy as np\n",
    "import matplotlib.pyplot as plt\n",
    "import seaborn as sn"
   ]
  },
  {
   "cell_type": "markdown",
   "metadata": {},
   "source": [
    "Implement a KNN model to classify the animals in to categorie\n"
   ]
  },
  {
   "cell_type": "code",
   "execution_count": 2,
   "metadata": {},
   "outputs": [
    {
     "data": {
      "text/html": [
       "<div>\n",
       "<style scoped>\n",
       "    .dataframe tbody tr th:only-of-type {\n",
       "        vertical-align: middle;\n",
       "    }\n",
       "\n",
       "    .dataframe tbody tr th {\n",
       "        vertical-align: top;\n",
       "    }\n",
       "\n",
       "    .dataframe thead th {\n",
       "        text-align: right;\n",
       "    }\n",
       "</style>\n",
       "<table border=\"1\" class=\"dataframe\">\n",
       "  <thead>\n",
       "    <tr style=\"text-align: right;\">\n",
       "      <th></th>\n",
       "      <th>animal name</th>\n",
       "      <th>hair</th>\n",
       "      <th>feathers</th>\n",
       "      <th>eggs</th>\n",
       "      <th>milk</th>\n",
       "      <th>airborne</th>\n",
       "      <th>aquatic</th>\n",
       "      <th>predator</th>\n",
       "      <th>toothed</th>\n",
       "      <th>backbone</th>\n",
       "      <th>breathes</th>\n",
       "      <th>venomous</th>\n",
       "      <th>fins</th>\n",
       "      <th>legs</th>\n",
       "      <th>tail</th>\n",
       "      <th>domestic</th>\n",
       "      <th>catsize</th>\n",
       "      <th>type</th>\n",
       "    </tr>\n",
       "  </thead>\n",
       "  <tbody>\n",
       "    <tr>\n",
       "      <th>0</th>\n",
       "      <td>aardvark</td>\n",
       "      <td>1</td>\n",
       "      <td>0</td>\n",
       "      <td>0</td>\n",
       "      <td>1</td>\n",
       "      <td>0</td>\n",
       "      <td>0</td>\n",
       "      <td>1</td>\n",
       "      <td>1</td>\n",
       "      <td>1</td>\n",
       "      <td>1</td>\n",
       "      <td>0</td>\n",
       "      <td>0</td>\n",
       "      <td>4</td>\n",
       "      <td>0</td>\n",
       "      <td>0</td>\n",
       "      <td>1</td>\n",
       "      <td>1</td>\n",
       "    </tr>\n",
       "    <tr>\n",
       "      <th>1</th>\n",
       "      <td>antelope</td>\n",
       "      <td>1</td>\n",
       "      <td>0</td>\n",
       "      <td>0</td>\n",
       "      <td>1</td>\n",
       "      <td>0</td>\n",
       "      <td>0</td>\n",
       "      <td>0</td>\n",
       "      <td>1</td>\n",
       "      <td>1</td>\n",
       "      <td>1</td>\n",
       "      <td>0</td>\n",
       "      <td>0</td>\n",
       "      <td>4</td>\n",
       "      <td>1</td>\n",
       "      <td>0</td>\n",
       "      <td>1</td>\n",
       "      <td>1</td>\n",
       "    </tr>\n",
       "    <tr>\n",
       "      <th>2</th>\n",
       "      <td>bass</td>\n",
       "      <td>0</td>\n",
       "      <td>0</td>\n",
       "      <td>1</td>\n",
       "      <td>0</td>\n",
       "      <td>0</td>\n",
       "      <td>1</td>\n",
       "      <td>1</td>\n",
       "      <td>1</td>\n",
       "      <td>1</td>\n",
       "      <td>0</td>\n",
       "      <td>0</td>\n",
       "      <td>1</td>\n",
       "      <td>0</td>\n",
       "      <td>1</td>\n",
       "      <td>0</td>\n",
       "      <td>0</td>\n",
       "      <td>4</td>\n",
       "    </tr>\n",
       "    <tr>\n",
       "      <th>3</th>\n",
       "      <td>bear</td>\n",
       "      <td>1</td>\n",
       "      <td>0</td>\n",
       "      <td>0</td>\n",
       "      <td>1</td>\n",
       "      <td>0</td>\n",
       "      <td>0</td>\n",
       "      <td>1</td>\n",
       "      <td>1</td>\n",
       "      <td>1</td>\n",
       "      <td>1</td>\n",
       "      <td>0</td>\n",
       "      <td>0</td>\n",
       "      <td>4</td>\n",
       "      <td>0</td>\n",
       "      <td>0</td>\n",
       "      <td>1</td>\n",
       "      <td>1</td>\n",
       "    </tr>\n",
       "    <tr>\n",
       "      <th>4</th>\n",
       "      <td>boar</td>\n",
       "      <td>1</td>\n",
       "      <td>0</td>\n",
       "      <td>0</td>\n",
       "      <td>1</td>\n",
       "      <td>0</td>\n",
       "      <td>0</td>\n",
       "      <td>1</td>\n",
       "      <td>1</td>\n",
       "      <td>1</td>\n",
       "      <td>1</td>\n",
       "      <td>0</td>\n",
       "      <td>0</td>\n",
       "      <td>4</td>\n",
       "      <td>1</td>\n",
       "      <td>0</td>\n",
       "      <td>1</td>\n",
       "      <td>1</td>\n",
       "    </tr>\n",
       "    <tr>\n",
       "      <th>...</th>\n",
       "      <td>...</td>\n",
       "      <td>...</td>\n",
       "      <td>...</td>\n",
       "      <td>...</td>\n",
       "      <td>...</td>\n",
       "      <td>...</td>\n",
       "      <td>...</td>\n",
       "      <td>...</td>\n",
       "      <td>...</td>\n",
       "      <td>...</td>\n",
       "      <td>...</td>\n",
       "      <td>...</td>\n",
       "      <td>...</td>\n",
       "      <td>...</td>\n",
       "      <td>...</td>\n",
       "      <td>...</td>\n",
       "      <td>...</td>\n",
       "      <td>...</td>\n",
       "    </tr>\n",
       "    <tr>\n",
       "      <th>96</th>\n",
       "      <td>wallaby</td>\n",
       "      <td>1</td>\n",
       "      <td>0</td>\n",
       "      <td>0</td>\n",
       "      <td>1</td>\n",
       "      <td>0</td>\n",
       "      <td>0</td>\n",
       "      <td>0</td>\n",
       "      <td>1</td>\n",
       "      <td>1</td>\n",
       "      <td>1</td>\n",
       "      <td>0</td>\n",
       "      <td>0</td>\n",
       "      <td>2</td>\n",
       "      <td>1</td>\n",
       "      <td>0</td>\n",
       "      <td>1</td>\n",
       "      <td>1</td>\n",
       "    </tr>\n",
       "    <tr>\n",
       "      <th>97</th>\n",
       "      <td>wasp</td>\n",
       "      <td>1</td>\n",
       "      <td>0</td>\n",
       "      <td>1</td>\n",
       "      <td>0</td>\n",
       "      <td>1</td>\n",
       "      <td>0</td>\n",
       "      <td>0</td>\n",
       "      <td>0</td>\n",
       "      <td>0</td>\n",
       "      <td>1</td>\n",
       "      <td>1</td>\n",
       "      <td>0</td>\n",
       "      <td>6</td>\n",
       "      <td>0</td>\n",
       "      <td>0</td>\n",
       "      <td>0</td>\n",
       "      <td>6</td>\n",
       "    </tr>\n",
       "    <tr>\n",
       "      <th>98</th>\n",
       "      <td>wolf</td>\n",
       "      <td>1</td>\n",
       "      <td>0</td>\n",
       "      <td>0</td>\n",
       "      <td>1</td>\n",
       "      <td>0</td>\n",
       "      <td>0</td>\n",
       "      <td>1</td>\n",
       "      <td>1</td>\n",
       "      <td>1</td>\n",
       "      <td>1</td>\n",
       "      <td>0</td>\n",
       "      <td>0</td>\n",
       "      <td>4</td>\n",
       "      <td>1</td>\n",
       "      <td>0</td>\n",
       "      <td>1</td>\n",
       "      <td>1</td>\n",
       "    </tr>\n",
       "    <tr>\n",
       "      <th>99</th>\n",
       "      <td>worm</td>\n",
       "      <td>0</td>\n",
       "      <td>0</td>\n",
       "      <td>1</td>\n",
       "      <td>0</td>\n",
       "      <td>0</td>\n",
       "      <td>0</td>\n",
       "      <td>0</td>\n",
       "      <td>0</td>\n",
       "      <td>0</td>\n",
       "      <td>1</td>\n",
       "      <td>0</td>\n",
       "      <td>0</td>\n",
       "      <td>0</td>\n",
       "      <td>0</td>\n",
       "      <td>0</td>\n",
       "      <td>0</td>\n",
       "      <td>7</td>\n",
       "    </tr>\n",
       "    <tr>\n",
       "      <th>100</th>\n",
       "      <td>wren</td>\n",
       "      <td>0</td>\n",
       "      <td>1</td>\n",
       "      <td>1</td>\n",
       "      <td>0</td>\n",
       "      <td>1</td>\n",
       "      <td>0</td>\n",
       "      <td>0</td>\n",
       "      <td>0</td>\n",
       "      <td>1</td>\n",
       "      <td>1</td>\n",
       "      <td>0</td>\n",
       "      <td>0</td>\n",
       "      <td>2</td>\n",
       "      <td>1</td>\n",
       "      <td>0</td>\n",
       "      <td>0</td>\n",
       "      <td>2</td>\n",
       "    </tr>\n",
       "  </tbody>\n",
       "</table>\n",
       "<p>101 rows × 18 columns</p>\n",
       "</div>"
      ],
      "text/plain": [
       "    animal name  hair  feathers  eggs  milk  airborne  aquatic  predator  \\\n",
       "0      aardvark     1         0     0     1         0        0         1   \n",
       "1      antelope     1         0     0     1         0        0         0   \n",
       "2          bass     0         0     1     0         0        1         1   \n",
       "3          bear     1         0     0     1         0        0         1   \n",
       "4          boar     1         0     0     1         0        0         1   \n",
       "..          ...   ...       ...   ...   ...       ...      ...       ...   \n",
       "96      wallaby     1         0     0     1         0        0         0   \n",
       "97         wasp     1         0     1     0         1        0         0   \n",
       "98         wolf     1         0     0     1         0        0         1   \n",
       "99         worm     0         0     1     0         0        0         0   \n",
       "100        wren     0         1     1     0         1        0         0   \n",
       "\n",
       "     toothed  backbone  breathes  venomous  fins  legs  tail  domestic  \\\n",
       "0          1         1         1         0     0     4     0         0   \n",
       "1          1         1         1         0     0     4     1         0   \n",
       "2          1         1         0         0     1     0     1         0   \n",
       "3          1         1         1         0     0     4     0         0   \n",
       "4          1         1         1         0     0     4     1         0   \n",
       "..       ...       ...       ...       ...   ...   ...   ...       ...   \n",
       "96         1         1         1         0     0     2     1         0   \n",
       "97         0         0         1         1     0     6     0         0   \n",
       "98         1         1         1         0     0     4     1         0   \n",
       "99         0         0         1         0     0     0     0         0   \n",
       "100        0         1         1         0     0     2     1         0   \n",
       "\n",
       "     catsize  type  \n",
       "0          1     1  \n",
       "1          1     1  \n",
       "2          0     4  \n",
       "3          1     1  \n",
       "4          1     1  \n",
       "..       ...   ...  \n",
       "96         1     1  \n",
       "97         0     6  \n",
       "98         1     1  \n",
       "99         0     7  \n",
       "100        0     2  \n",
       "\n",
       "[101 rows x 18 columns]"
      ]
     },
     "execution_count": 2,
     "metadata": {},
     "output_type": "execute_result"
    }
   ],
   "source": [
    "rawData = pd.read_csv('Zoo.csv')\n",
    "rawData"
   ]
  },
  {
   "cell_type": "markdown",
   "metadata": {},
   "source": [
    "# Exploring and Understanding the data -- EDA\n",
    "-----------------------------------------"
   ]
  },
  {
   "cell_type": "markdown",
   "metadata": {},
   "source": [
    "### How many unique values are ther in each column?? \n",
    "        Most columns have cardinality of 2 and 3 columns have more than 2 cardinality\n",
    "        \n",
    "### Which columns have more than to catagories. (cardinality more than 2)?\n",
    "        Animal names, Legs, Type have greater than 2 categories\n",
    "        \n",
    "### What is the maximum cardinality for any column?\n",
    "        The maximum cardinality is for Animal Names, with a cardinalit of 100, meaning 100 unique values out of 101 values. only one value is being repeted"
   ]
  },
  {
   "cell_type": "code",
   "execution_count": 3,
   "metadata": {},
   "outputs": [
    {
     "name": "stdout",
     "output_type": "stream",
     "text": [
      "\n",
      " NO of unique values in \"animal name\" columns are - 100\n",
      "\n",
      " animal name\n",
      "frog        2\n",
      "chub        1\n",
      "gorilla     1\n",
      "wren        1\n",
      "boar        1\n",
      "           ..\n",
      "pitviper    1\n",
      "haddock     1\n",
      "gnat        1\n",
      "aardvark    1\n",
      "porpoise    1\n",
      "Name: animal name, Length: 100, dtype: int64\n",
      "--------------------------------------------------------\n",
      "\n",
      " NO of unique values in \"legs\" columns are - 6\n",
      "\n",
      " legs\n",
      "4    38\n",
      "2    27\n",
      "0    23\n",
      "6    10\n",
      "8     2\n",
      "5     1\n",
      "Name: legs, dtype: int64\n",
      "--------------------------------------------------------\n",
      "\n",
      " NO of unique values in \"type\" columns are - 7\n",
      "\n",
      " type\n",
      "1    41\n",
      "2    20\n",
      "4    13\n",
      "7    10\n",
      "6     8\n",
      "3     5\n",
      "5     4\n",
      "Name: type, dtype: int64\n",
      "--------------------------------------------------------\n"
     ]
    }
   ],
   "source": [
    "for a in rawData.columns:\n",
    "    if rawData[a].nunique() > 2:\n",
    "        print('\\n',f'NO of unique values in \"{a}\" columns are - {rawData[a].nunique()}',end='\\n')\n",
    "        print('\\n',a,end='\\n')\n",
    "        print(rawData[a].value_counts(),end='\\n')\n",
    "        print('--------------------------------------------------------')"
   ]
  },
  {
   "cell_type": "markdown",
   "metadata": {},
   "source": [
    "**Data Dictionary - Data Description**\n",
    "\n",
    "    Looking at Data.info(), it looks like all the columns from index 1 have numeric value(int value), and we can confirm that there are no null values as all non null value counts are 101, which matches the lenth of Dataframe.\n",
    "    \n",
    "    Further, intutionaly, looking at the column names we can infer that the features of various animals has been given and we are to predict the animal name using the features of animals.\n",
    "    \n",
    "     0   animal name  --  Names of various animals  (there are total 100 animals, frog has repeted 2)\n",
    "     1   hair         --  Binary values (looks like no = 0 and yes = 1)\n",
    "     2   feathers     --  Binary values (looks like no = 0 and yes = 1)\n",
    "     3   eggs         --  Binary values (looks like no = 0 and yes = 1)\n",
    "     4   milk         --  Binary values (looks like no = 0 and yes = 1)\n",
    "     5   airborne     --  Binary values (looks like no = 0 and yes = 1)\n",
    "     6   aquatic      --  Binary values (looks like no = 0 and yes = 1)\n",
    "     7   predator     --  Binary values (looks like no = 0 and yes = 1)\n",
    "     8   toothed      --  Binary values (looks like no = 0 and yes = 1)\n",
    "     9   backbone     --  Binary values (looks like no = 0 and yes = 1)\n",
    "     10  breathes     --  Binary values (looks like no = 0 and yes = 1)\n",
    "     11  venomous     --  Binary values (looks like no = 0 and yes = 1)\n",
    "     12  fins         --  Binary values (looks like no = 0 and yes = 1)\n",
    "     13  legs         --  Count of legs values 0,2,4,5,6,8\n",
    "                             0 - 0 no legs\n",
    "                             2 - 2 legged animal\n",
    "                             4 - 4 legged animal\n",
    "                             5 - 5 legged animal\n",
    "                             6 - 6 legged animal\n",
    "                             8 - 8 legged animal\n",
    "     14  tail         --  Binary values (looks like no = 0 and yes = 1)\n",
    "     15  domestic     --  Binary values (looks like no = 0 and yes = 1)\n",
    "     16  catsize      --  Binary values (looks like no = 0 and yes = 1)\n",
    "     17  type         --  Type has 7 categories probably we need to understand what they mean\n",
    "                             1 -- Land animal\n",
    "                             2 -- Birds\n",
    "                             3 -- Reptile\n",
    "                             4 -- Fish\n",
    "                             5 -- Amphibian\n",
    "                             6 -- Insects\n",
    "                             7 -- others\n",
    "                             \n",
    "                             it was easy to decipher the types of animals by looking at the csv file in excel, as it was a very small file. it would be very difficult to do this analysis in a large dataset."
   ]
  },
  {
   "cell_type": "markdown",
   "metadata": {},
   "source": [
    "## **Are there any null/missing values???**\n",
    "        **looking below there are no null values.**\n",
    "        \n",
    "## Are the datatypes of all the columns  alright??\n",
    "        **All columns are marked appropriately exept that the Animal and Type columns to be marked as Category. Basically Object coulumn is used by pandas to represent mixed values or values other then numbers or floats. However, the correct data type for catagorical or nomial values is category.**\n",
    "        \n",
    "        However, do we need the nominal values for prediction. the strong answer will be no. it is just a noise in the total dataset when we encode the nominal data. Hence drop Animal name column. (let us also verify using other methods)"
   ]
  },
  {
   "cell_type": "code",
   "execution_count": 4,
   "metadata": {},
   "outputs": [
    {
     "name": "stdout",
     "output_type": "stream",
     "text": [
      "<class 'pandas.core.frame.DataFrame'>\n",
      "RangeIndex: 101 entries, 0 to 100\n",
      "Data columns (total 18 columns):\n",
      " #   Column       Non-Null Count  Dtype \n",
      "---  ------       --------------  ----- \n",
      " 0   animal name  101 non-null    object\n",
      " 1   hair         101 non-null    int64 \n",
      " 2   feathers     101 non-null    int64 \n",
      " 3   eggs         101 non-null    int64 \n",
      " 4   milk         101 non-null    int64 \n",
      " 5   airborne     101 non-null    int64 \n",
      " 6   aquatic      101 non-null    int64 \n",
      " 7   predator     101 non-null    int64 \n",
      " 8   toothed      101 non-null    int64 \n",
      " 9   backbone     101 non-null    int64 \n",
      " 10  breathes     101 non-null    int64 \n",
      " 11  venomous     101 non-null    int64 \n",
      " 12  fins         101 non-null    int64 \n",
      " 13  legs         101 non-null    int64 \n",
      " 14  tail         101 non-null    int64 \n",
      " 15  domestic     101 non-null    int64 \n",
      " 16  catsize      101 non-null    int64 \n",
      " 17  type         101 non-null    int64 \n",
      "dtypes: int64(17), object(1)\n",
      "memory usage: 14.3+ KB\n"
     ]
    }
   ],
   "source": [
    "rawData.info()"
   ]
  },
  {
   "cell_type": "markdown",
   "metadata": {},
   "source": [
    "### Let us change the datatypes for \"type\" and \"animal name\""
   ]
  },
  {
   "cell_type": "code",
   "execution_count": 5,
   "metadata": {},
   "outputs": [
    {
     "name": "stdout",
     "output_type": "stream",
     "text": [
      "<class 'pandas.core.frame.DataFrame'>\n",
      "RangeIndex: 101 entries, 0 to 100\n",
      "Data columns (total 2 columns):\n",
      " #   Column       Non-Null Count  Dtype   \n",
      "---  ------       --------------  -----   \n",
      " 0   animal name  101 non-null    category\n",
      " 1   type         101 non-null    category\n",
      "dtypes: category(2)\n",
      "memory usage: 6.5 KB\n"
     ]
    }
   ],
   "source": [
    "rawData = rawData.astype({'animal name':'category','type':'category'})\n",
    "rawData[['animal name','type']].info()"
   ]
  },
  {
   "cell_type": "markdown",
   "metadata": {},
   "source": [
    "# Outlier Detection\n",
    "-------------------"
   ]
  },
  {
   "cell_type": "markdown",
   "metadata": {},
   "source": [
    "### DBSCAN - outliers in multidimentinal space\n",
    "\n",
    "    **DBSCAN does not perform very well in sparse Datasets. Hence, we shall discard the DBSCAN method of outlier Detection in multidimentional space.**"
   ]
  },
  {
   "cell_type": "code",
   "execution_count": 6,
   "metadata": {},
   "outputs": [],
   "source": [
    "from sklearn.cluster import DBSCAN\n",
    "from sklearn.preprocessing import StandardScaler\n",
    "from sklearn.metrics import silhouette_score"
   ]
  },
  {
   "cell_type": "code",
   "execution_count": 7,
   "metadata": {},
   "outputs": [
    {
     "data": {
      "text/plain": [
       "array([[ 1.16139451, -0.49690399, -1.18522652, ..., -1.69841555,\n",
       "        -0.38435306,  1.13818037],\n",
       "       [ 1.16139451, -0.49690399, -1.18522652, ...,  0.58878406,\n",
       "        -0.38435306,  1.13818037],\n",
       "       [-0.86103386, -0.49690399,  0.84372057, ...,  0.58878406,\n",
       "        -0.38435306, -0.87859537],\n",
       "       ...,\n",
       "       [ 1.16139451, -0.49690399, -1.18522652, ...,  0.58878406,\n",
       "        -0.38435306,  1.13818037],\n",
       "       [-0.86103386, -0.49690399,  0.84372057, ..., -1.69841555,\n",
       "        -0.38435306, -0.87859537],\n",
       "       [-0.86103386,  2.01246118,  0.84372057, ...,  0.58878406,\n",
       "        -0.38435306, -0.87859537]])"
      ]
     },
     "execution_count": 7,
     "metadata": {},
     "output_type": "execute_result"
    }
   ],
   "source": [
    "X = rawData.iloc[:,1:-1]\n",
    "X\n",
    "scale = StandardScaler()\n",
    "X_scaled = scale.fit_transform(X)\n",
    "X_scaled"
   ]
  },
  {
   "cell_type": "code",
   "execution_count": 8,
   "metadata": {},
   "outputs": [],
   "source": [
    "Silhouette_scores = []\n",
    "for e in  np.linspace(2.5,5,20,False):\n",
    "#     print(np.round(e,2),'--')\n",
    "    for i in range(17,23,1):\n",
    "        db = DBSCAN(eps=e,min_samples=i).fit(X_scaled)\n",
    "        Silhouette_scores.append([e,i,silhouette_score(X_scaled,db.labels_)]) \n",
    "#         print(silhouette_score(X_scaled,db.labels_))"
   ]
  },
  {
   "cell_type": "code",
   "execution_count": 9,
   "metadata": {},
   "outputs": [
    {
     "data": {
      "text/html": [
       "<div>\n",
       "<style scoped>\n",
       "    .dataframe tbody tr th:only-of-type {\n",
       "        vertical-align: middle;\n",
       "    }\n",
       "\n",
       "    .dataframe tbody tr th {\n",
       "        vertical-align: top;\n",
       "    }\n",
       "\n",
       "    .dataframe thead th {\n",
       "        text-align: right;\n",
       "    }\n",
       "</style>\n",
       "<table border=\"1\" class=\"dataframe\">\n",
       "  <thead>\n",
       "    <tr style=\"text-align: right;\">\n",
       "      <th></th>\n",
       "      <th>eps</th>\n",
       "      <th>min_samples</th>\n",
       "      <th>silhouette_score</th>\n",
       "    </tr>\n",
       "  </thead>\n",
       "  <tbody>\n",
       "    <tr>\n",
       "      <th>17</th>\n",
       "      <td>2.750</td>\n",
       "      <td>22</td>\n",
       "      <td>0.128544</td>\n",
       "    </tr>\n",
       "    <tr>\n",
       "      <th>5</th>\n",
       "      <td>2.500</td>\n",
       "      <td>22</td>\n",
       "      <td>0.128544</td>\n",
       "    </tr>\n",
       "    <tr>\n",
       "      <th>11</th>\n",
       "      <td>2.625</td>\n",
       "      <td>22</td>\n",
       "      <td>0.128544</td>\n",
       "    </tr>\n",
       "    <tr>\n",
       "      <th>0</th>\n",
       "      <td>2.500</td>\n",
       "      <td>17</td>\n",
       "      <td>0.164132</td>\n",
       "    </tr>\n",
       "    <tr>\n",
       "      <th>16</th>\n",
       "      <td>2.750</td>\n",
       "      <td>21</td>\n",
       "      <td>0.164132</td>\n",
       "    </tr>\n",
       "    <tr>\n",
       "      <th>...</th>\n",
       "      <td>...</td>\n",
       "      <td>...</td>\n",
       "      <td>...</td>\n",
       "    </tr>\n",
       "    <tr>\n",
       "      <th>68</th>\n",
       "      <td>3.875</td>\n",
       "      <td>19</td>\n",
       "      <td>0.318197</td>\n",
       "    </tr>\n",
       "    <tr>\n",
       "      <th>54</th>\n",
       "      <td>3.625</td>\n",
       "      <td>17</td>\n",
       "      <td>0.318197</td>\n",
       "    </tr>\n",
       "    <tr>\n",
       "      <th>64</th>\n",
       "      <td>3.750</td>\n",
       "      <td>21</td>\n",
       "      <td>0.318197</td>\n",
       "    </tr>\n",
       "    <tr>\n",
       "      <th>69</th>\n",
       "      <td>3.875</td>\n",
       "      <td>20</td>\n",
       "      <td>0.318197</td>\n",
       "    </tr>\n",
       "    <tr>\n",
       "      <th>76</th>\n",
       "      <td>4.000</td>\n",
       "      <td>21</td>\n",
       "      <td>0.325473</td>\n",
       "    </tr>\n",
       "  </tbody>\n",
       "</table>\n",
       "<p>120 rows × 3 columns</p>\n",
       "</div>"
      ],
      "text/plain": [
       "      eps  min_samples  silhouette_score\n",
       "17  2.750           22          0.128544\n",
       "5   2.500           22          0.128544\n",
       "11  2.625           22          0.128544\n",
       "0   2.500           17          0.164132\n",
       "16  2.750           21          0.164132\n",
       "..    ...          ...               ...\n",
       "68  3.875           19          0.318197\n",
       "54  3.625           17          0.318197\n",
       "64  3.750           21          0.318197\n",
       "69  3.875           20          0.318197\n",
       "76  4.000           21          0.325473\n",
       "\n",
       "[120 rows x 3 columns]"
      ]
     },
     "execution_count": 9,
     "metadata": {},
     "output_type": "execute_result"
    }
   ],
   "source": [
    "a = pd.DataFrame(Silhouette_scores,columns=['eps','min_samples','silhouette_score'])\n",
    "a.sort_values(by='silhouette_score')"
   ]
  },
  {
   "cell_type": "code",
   "execution_count": 10,
   "metadata": {},
   "outputs": [
    {
     "data": {
      "text/plain": [
       "array([ 0,  0, -1,  0,  0,  0,  0, -1, -1,  0,  0,  1, -1, -1, -1, -1,  1,\n",
       "        0, -1,  0,  1,  1,  0,  1, -1, -1, -1,  0,  0,  0, -1,  0,  0,  1,\n",
       "       -1,  0,  0,  1, -1, -1, -1,  1, -1,  1,  0,  0, -1,  0,  0,  0,  0,\n",
       "       -1, -1, -1,  0,  0,  1,  1,  1,  1, -1, -1, -1,  0,  0,  0,  0,  0,\n",
       "        0,  0,  0,  1, -1, -1,  0,  0, -1, -1,  1,  1, -1, -1, -1,  1,  0,\n",
       "       -1, -1,  1, -1, -1,  1,  0, -1,  0,  0,  1,  0, -1,  0, -1,  1],\n",
       "      dtype=int64)"
      ]
     },
     "execution_count": 10,
     "metadata": {},
     "output_type": "execute_result"
    }
   ],
   "source": [
    "db = DBSCAN(eps=4,min_samples=21).fit(X_scaled)\n",
    "db.labels_"
   ]
  },
  {
   "cell_type": "markdown",
   "metadata": {},
   "source": [
    "**DBSCAN does not perform very well in sparse Datasets. Hence, we shall discard the DBSCAN method of outlier Detection in multidimentional space\n",
    "                \n",
    "                        ---------------------------------****--------------------------------------"
   ]
  },
  {
   "cell_type": "markdown",
   "metadata": {},
   "source": [
    "### IsolationForest - Outliers in Multidimentional space\n",
    "\n",
    "    **There are 5 records that isolation forest detects as anomalies in the clusters or groups of animals.**"
   ]
  },
  {
   "cell_type": "code",
   "execution_count": 11,
   "metadata": {},
   "outputs": [],
   "source": [
    "from sklearn.ensemble import IsolationForest"
   ]
  },
  {
   "cell_type": "code",
   "execution_count": 12,
   "metadata": {},
   "outputs": [
    {
     "data": {
      "text/plain": [
       "array([ 1,  1,  1,  1,  1,  1,  1,  1,  1,  1,  1,  1,  1,  1,  1,  1,  1,\n",
       "        1,  1,  1,  1,  1,  1,  1,  1,  1,  1,  1,  1,  1,  1,  1,  1,  1,\n",
       "        1,  1,  1,  1,  1, -1,  1,  1,  1,  1,  1,  1,  1,  1,  1,  1,  1,\n",
       "        1,  1, -1,  1,  1,  1,  1,  1,  1,  1,  1,  1, -1,  1,  1,  1,  1,\n",
       "        1,  1,  1,  1, -1,  1,  1,  1, -1,  1,  1,  1,  1,  1,  1,  1,  1,\n",
       "        1,  1,  1,  1,  1,  1,  1,  1,  1,  1,  1,  1,  1,  1,  1,  1])"
      ]
     },
     "execution_count": 12,
     "metadata": {},
     "output_type": "execute_result"
    }
   ],
   "source": [
    "oldet = IsolationForest(random_state=42,contamination=.05).fit(rawData.iloc[:,1:])\n",
    "oldet.predict(rawData.iloc[:,1:])"
   ]
  },
  {
   "cell_type": "code",
   "execution_count": 13,
   "metadata": {},
   "outputs": [
    {
     "data": {
      "text/html": [
       "<div>\n",
       "<style scoped>\n",
       "    .dataframe tbody tr th:only-of-type {\n",
       "        vertical-align: middle;\n",
       "    }\n",
       "\n",
       "    .dataframe tbody tr th {\n",
       "        vertical-align: top;\n",
       "    }\n",
       "\n",
       "    .dataframe thead th {\n",
       "        text-align: right;\n",
       "    }\n",
       "</style>\n",
       "<table border=\"1\" class=\"dataframe\">\n",
       "  <thead>\n",
       "    <tr style=\"text-align: right;\">\n",
       "      <th></th>\n",
       "      <th>animal name</th>\n",
       "      <th>hair</th>\n",
       "      <th>feathers</th>\n",
       "      <th>eggs</th>\n",
       "      <th>milk</th>\n",
       "      <th>airborne</th>\n",
       "      <th>aquatic</th>\n",
       "      <th>predator</th>\n",
       "      <th>toothed</th>\n",
       "      <th>backbone</th>\n",
       "      <th>breathes</th>\n",
       "      <th>venomous</th>\n",
       "      <th>fins</th>\n",
       "      <th>legs</th>\n",
       "      <th>tail</th>\n",
       "      <th>domestic</th>\n",
       "      <th>catsize</th>\n",
       "      <th>type</th>\n",
       "      <th>anomally</th>\n",
       "      <th>ano-scores</th>\n",
       "    </tr>\n",
       "  </thead>\n",
       "  <tbody>\n",
       "    <tr>\n",
       "      <th>63</th>\n",
       "      <td>platypus</td>\n",
       "      <td>1</td>\n",
       "      <td>0</td>\n",
       "      <td>1</td>\n",
       "      <td>1</td>\n",
       "      <td>0</td>\n",
       "      <td>1</td>\n",
       "      <td>1</td>\n",
       "      <td>0</td>\n",
       "      <td>1</td>\n",
       "      <td>1</td>\n",
       "      <td>0</td>\n",
       "      <td>0</td>\n",
       "      <td>4</td>\n",
       "      <td>1</td>\n",
       "      <td>0</td>\n",
       "      <td>1</td>\n",
       "      <td>1</td>\n",
       "      <td>-1</td>\n",
       "      <td>-0.003352</td>\n",
       "    </tr>\n",
       "    <tr>\n",
       "      <th>53</th>\n",
       "      <td>octopus</td>\n",
       "      <td>0</td>\n",
       "      <td>0</td>\n",
       "      <td>1</td>\n",
       "      <td>0</td>\n",
       "      <td>0</td>\n",
       "      <td>1</td>\n",
       "      <td>1</td>\n",
       "      <td>0</td>\n",
       "      <td>0</td>\n",
       "      <td>0</td>\n",
       "      <td>0</td>\n",
       "      <td>0</td>\n",
       "      <td>8</td>\n",
       "      <td>0</td>\n",
       "      <td>0</td>\n",
       "      <td>1</td>\n",
       "      <td>7</td>\n",
       "      <td>-1</td>\n",
       "      <td>-0.012709</td>\n",
       "    </tr>\n",
       "    <tr>\n",
       "      <th>72</th>\n",
       "      <td>scorpion</td>\n",
       "      <td>0</td>\n",
       "      <td>0</td>\n",
       "      <td>0</td>\n",
       "      <td>0</td>\n",
       "      <td>0</td>\n",
       "      <td>0</td>\n",
       "      <td>1</td>\n",
       "      <td>0</td>\n",
       "      <td>0</td>\n",
       "      <td>1</td>\n",
       "      <td>1</td>\n",
       "      <td>0</td>\n",
       "      <td>8</td>\n",
       "      <td>1</td>\n",
       "      <td>0</td>\n",
       "      <td>0</td>\n",
       "      <td>7</td>\n",
       "      <td>-1</td>\n",
       "      <td>-0.036537</td>\n",
       "    </tr>\n",
       "    <tr>\n",
       "      <th>39</th>\n",
       "      <td>honeybee</td>\n",
       "      <td>1</td>\n",
       "      <td>0</td>\n",
       "      <td>1</td>\n",
       "      <td>0</td>\n",
       "      <td>1</td>\n",
       "      <td>0</td>\n",
       "      <td>0</td>\n",
       "      <td>0</td>\n",
       "      <td>0</td>\n",
       "      <td>1</td>\n",
       "      <td>1</td>\n",
       "      <td>0</td>\n",
       "      <td>6</td>\n",
       "      <td>0</td>\n",
       "      <td>1</td>\n",
       "      <td>0</td>\n",
       "      <td>6</td>\n",
       "      <td>-1</td>\n",
       "      <td>-0.045186</td>\n",
       "    </tr>\n",
       "    <tr>\n",
       "      <th>76</th>\n",
       "      <td>seasnake</td>\n",
       "      <td>0</td>\n",
       "      <td>0</td>\n",
       "      <td>0</td>\n",
       "      <td>0</td>\n",
       "      <td>0</td>\n",
       "      <td>1</td>\n",
       "      <td>1</td>\n",
       "      <td>1</td>\n",
       "      <td>1</td>\n",
       "      <td>0</td>\n",
       "      <td>1</td>\n",
       "      <td>0</td>\n",
       "      <td>0</td>\n",
       "      <td>1</td>\n",
       "      <td>0</td>\n",
       "      <td>0</td>\n",
       "      <td>3</td>\n",
       "      <td>-1</td>\n",
       "      <td>-0.013250</td>\n",
       "    </tr>\n",
       "    <tr>\n",
       "      <th>73</th>\n",
       "      <td>seahorse</td>\n",
       "      <td>0</td>\n",
       "      <td>0</td>\n",
       "      <td>1</td>\n",
       "      <td>0</td>\n",
       "      <td>0</td>\n",
       "      <td>1</td>\n",
       "      <td>0</td>\n",
       "      <td>1</td>\n",
       "      <td>1</td>\n",
       "      <td>0</td>\n",
       "      <td>0</td>\n",
       "      <td>1</td>\n",
       "      <td>0</td>\n",
       "      <td>1</td>\n",
       "      <td>0</td>\n",
       "      <td>0</td>\n",
       "      <td>4</td>\n",
       "      <td>1</td>\n",
       "      <td>0.110539</td>\n",
       "    </tr>\n",
       "    <tr>\n",
       "      <th>71</th>\n",
       "      <td>rhea</td>\n",
       "      <td>0</td>\n",
       "      <td>1</td>\n",
       "      <td>1</td>\n",
       "      <td>0</td>\n",
       "      <td>0</td>\n",
       "      <td>0</td>\n",
       "      <td>1</td>\n",
       "      <td>0</td>\n",
       "      <td>1</td>\n",
       "      <td>1</td>\n",
       "      <td>0</td>\n",
       "      <td>0</td>\n",
       "      <td>2</td>\n",
       "      <td>1</td>\n",
       "      <td>0</td>\n",
       "      <td>1</td>\n",
       "      <td>2</td>\n",
       "      <td>1</td>\n",
       "      <td>0.090419</td>\n",
       "    </tr>\n",
       "    <tr>\n",
       "      <th>70</th>\n",
       "      <td>reindeer</td>\n",
       "      <td>1</td>\n",
       "      <td>0</td>\n",
       "      <td>0</td>\n",
       "      <td>1</td>\n",
       "      <td>0</td>\n",
       "      <td>0</td>\n",
       "      <td>0</td>\n",
       "      <td>1</td>\n",
       "      <td>1</td>\n",
       "      <td>1</td>\n",
       "      <td>0</td>\n",
       "      <td>0</td>\n",
       "      <td>4</td>\n",
       "      <td>1</td>\n",
       "      <td>1</td>\n",
       "      <td>1</td>\n",
       "      <td>1</td>\n",
       "      <td>1</td>\n",
       "      <td>0.145541</td>\n",
       "    </tr>\n",
       "    <tr>\n",
       "      <th>69</th>\n",
       "      <td>raccoon</td>\n",
       "      <td>1</td>\n",
       "      <td>0</td>\n",
       "      <td>0</td>\n",
       "      <td>1</td>\n",
       "      <td>0</td>\n",
       "      <td>0</td>\n",
       "      <td>1</td>\n",
       "      <td>1</td>\n",
       "      <td>1</td>\n",
       "      <td>1</td>\n",
       "      <td>0</td>\n",
       "      <td>0</td>\n",
       "      <td>4</td>\n",
       "      <td>1</td>\n",
       "      <td>0</td>\n",
       "      <td>1</td>\n",
       "      <td>1</td>\n",
       "      <td>1</td>\n",
       "      <td>0.230153</td>\n",
       "    </tr>\n",
       "    <tr>\n",
       "      <th>68</th>\n",
       "      <td>pussycat</td>\n",
       "      <td>1</td>\n",
       "      <td>0</td>\n",
       "      <td>0</td>\n",
       "      <td>1</td>\n",
       "      <td>0</td>\n",
       "      <td>0</td>\n",
       "      <td>1</td>\n",
       "      <td>1</td>\n",
       "      <td>1</td>\n",
       "      <td>1</td>\n",
       "      <td>0</td>\n",
       "      <td>0</td>\n",
       "      <td>4</td>\n",
       "      <td>1</td>\n",
       "      <td>1</td>\n",
       "      <td>1</td>\n",
       "      <td>1</td>\n",
       "      <td>1</td>\n",
       "      <td>0.099208</td>\n",
       "    </tr>\n",
       "  </tbody>\n",
       "</table>\n",
       "</div>"
      ],
      "text/plain": [
       "   animal name  hair  feathers  eggs  milk  airborne  aquatic  predator  \\\n",
       "63    platypus     1         0     1     1         0        1         1   \n",
       "53     octopus     0         0     1     0         0        1         1   \n",
       "72    scorpion     0         0     0     0         0        0         1   \n",
       "39    honeybee     1         0     1     0         1        0         0   \n",
       "76    seasnake     0         0     0     0         0        1         1   \n",
       "73    seahorse     0         0     1     0         0        1         0   \n",
       "71        rhea     0         1     1     0         0        0         1   \n",
       "70    reindeer     1         0     0     1         0        0         0   \n",
       "69     raccoon     1         0     0     1         0        0         1   \n",
       "68    pussycat     1         0     0     1         0        0         1   \n",
       "\n",
       "    toothed  backbone  breathes  venomous  fins  legs  tail  domestic  \\\n",
       "63        0         1         1         0     0     4     1         0   \n",
       "53        0         0         0         0     0     8     0         0   \n",
       "72        0         0         1         1     0     8     1         0   \n",
       "39        0         0         1         1     0     6     0         1   \n",
       "76        1         1         0         1     0     0     1         0   \n",
       "73        1         1         0         0     1     0     1         0   \n",
       "71        0         1         1         0     0     2     1         0   \n",
       "70        1         1         1         0     0     4     1         1   \n",
       "69        1         1         1         0     0     4     1         0   \n",
       "68        1         1         1         0     0     4     1         1   \n",
       "\n",
       "    catsize type  anomally  ano-scores  \n",
       "63        1    1        -1   -0.003352  \n",
       "53        1    7        -1   -0.012709  \n",
       "72        0    7        -1   -0.036537  \n",
       "39        0    6        -1   -0.045186  \n",
       "76        0    3        -1   -0.013250  \n",
       "73        0    4         1    0.110539  \n",
       "71        1    2         1    0.090419  \n",
       "70        1    1         1    0.145541  \n",
       "69        1    1         1    0.230153  \n",
       "68        1    1         1    0.099208  "
      ]
     },
     "execution_count": 13,
     "metadata": {},
     "output_type": "execute_result"
    }
   ],
   "source": [
    "data = rawData.copy(deep=True)\n",
    "data['anomally'] = oldet.predict(rawData.iloc[:,1:])\n",
    "data['ano-scores'] = oldet.decision_function(rawData.iloc[:,1:])\n",
    "data.sort_values(by='anomally').head(10)"
   ]
  },
  {
   "cell_type": "markdown",
   "metadata": {},
   "source": [
    "**There are 5 records that isolation forest detects as anomalies in the clusters or groups of animals.**\n",
    "\n",
    "                             ---------------------------------****--------------------------------------"
   ]
  },
  {
   "cell_type": "markdown",
   "metadata": {},
   "source": [
    "# Feature Selection\n",
    "-------------------\n",
    "\n",
    "###  PPSCORE -- using PPSCORE\n",
    "\n",
    "    **Features namely, 'Animal name', 'Domestic', 'Tail', 'Venomous', 'Predator' do not have any predictive power in determining the type of the animal** \n",
    "    LET US BUILD MODEL WITH AND WITHOUT THE ABOVE COLUMNS TO SEE THE PERFORMANCE"
   ]
  },
  {
   "cell_type": "code",
   "execution_count": 14,
   "metadata": {},
   "outputs": [],
   "source": [
    "import ppscore"
   ]
  },
  {
   "cell_type": "code",
   "execution_count": 15,
   "metadata": {},
   "outputs": [],
   "source": [
    "a = ppscore.matrix(rawData)"
   ]
  },
  {
   "cell_type": "code",
   "execution_count": 16,
   "metadata": {},
   "outputs": [
    {
     "data": {
      "text/html": [
       "<div>\n",
       "<style scoped>\n",
       "    .dataframe tbody tr th:only-of-type {\n",
       "        vertical-align: middle;\n",
       "    }\n",
       "\n",
       "    .dataframe tbody tr th {\n",
       "        vertical-align: top;\n",
       "    }\n",
       "\n",
       "    .dataframe thead th {\n",
       "        text-align: right;\n",
       "    }\n",
       "</style>\n",
       "<table border=\"1\" class=\"dataframe\">\n",
       "  <thead>\n",
       "    <tr style=\"text-align: right;\">\n",
       "      <th></th>\n",
       "      <th>x</th>\n",
       "      <th>y</th>\n",
       "      <th>ppscore</th>\n",
       "      <th>case</th>\n",
       "      <th>is_valid_score</th>\n",
       "      <th>metric</th>\n",
       "      <th>baseline_score</th>\n",
       "      <th>model_score</th>\n",
       "      <th>model</th>\n",
       "    </tr>\n",
       "  </thead>\n",
       "  <tbody>\n",
       "    <tr>\n",
       "      <th>17</th>\n",
       "      <td>animal name</td>\n",
       "      <td>type</td>\n",
       "      <td>0.000000</td>\n",
       "      <td>classification</td>\n",
       "      <td>True</td>\n",
       "      <td>weighted F1</td>\n",
       "      <td>0.287129</td>\n",
       "      <td>0.258528</td>\n",
       "      <td>DecisionTreeClassifier()</td>\n",
       "    </tr>\n",
       "    <tr>\n",
       "      <th>287</th>\n",
       "      <td>domestic</td>\n",
       "      <td>type</td>\n",
       "      <td>0.000000</td>\n",
       "      <td>classification</td>\n",
       "      <td>True</td>\n",
       "      <td>weighted F1</td>\n",
       "      <td>0.287129</td>\n",
       "      <td>0.234927</td>\n",
       "      <td>DecisionTreeClassifier()</td>\n",
       "    </tr>\n",
       "    <tr>\n",
       "      <th>269</th>\n",
       "      <td>tail</td>\n",
       "      <td>type</td>\n",
       "      <td>0.000000</td>\n",
       "      <td>classification</td>\n",
       "      <td>True</td>\n",
       "      <td>weighted F1</td>\n",
       "      <td>0.287129</td>\n",
       "      <td>0.286339</td>\n",
       "      <td>DecisionTreeClassifier()</td>\n",
       "    </tr>\n",
       "    <tr>\n",
       "      <th>215</th>\n",
       "      <td>venomous</td>\n",
       "      <td>type</td>\n",
       "      <td>0.000000</td>\n",
       "      <td>classification</td>\n",
       "      <td>True</td>\n",
       "      <td>weighted F1</td>\n",
       "      <td>0.287129</td>\n",
       "      <td>0.248950</td>\n",
       "      <td>DecisionTreeClassifier()</td>\n",
       "    </tr>\n",
       "    <tr>\n",
       "      <th>143</th>\n",
       "      <td>predator</td>\n",
       "      <td>type</td>\n",
       "      <td>0.000000</td>\n",
       "      <td>classification</td>\n",
       "      <td>True</td>\n",
       "      <td>weighted F1</td>\n",
       "      <td>0.287129</td>\n",
       "      <td>0.234927</td>\n",
       "      <td>DecisionTreeClassifier()</td>\n",
       "    </tr>\n",
       "    <tr>\n",
       "      <th>125</th>\n",
       "      <td>aquatic</td>\n",
       "      <td>type</td>\n",
       "      <td>0.069180</td>\n",
       "      <td>classification</td>\n",
       "      <td>True</td>\n",
       "      <td>weighted F1</td>\n",
       "      <td>0.287129</td>\n",
       "      <td>0.336445</td>\n",
       "      <td>DecisionTreeClassifier()</td>\n",
       "    </tr>\n",
       "    <tr>\n",
       "      <th>179</th>\n",
       "      <td>backbone</td>\n",
       "      <td>type</td>\n",
       "      <td>0.074459</td>\n",
       "      <td>classification</td>\n",
       "      <td>True</td>\n",
       "      <td>weighted F1</td>\n",
       "      <td>0.287129</td>\n",
       "      <td>0.340208</td>\n",
       "      <td>DecisionTreeClassifier()</td>\n",
       "    </tr>\n",
       "    <tr>\n",
       "      <th>233</th>\n",
       "      <td>fins</td>\n",
       "      <td>type</td>\n",
       "      <td>0.091939</td>\n",
       "      <td>classification</td>\n",
       "      <td>True</td>\n",
       "      <td>weighted F1</td>\n",
       "      <td>0.287129</td>\n",
       "      <td>0.352669</td>\n",
       "      <td>DecisionTreeClassifier()</td>\n",
       "    </tr>\n",
       "    <tr>\n",
       "      <th>197</th>\n",
       "      <td>breathes</td>\n",
       "      <td>type</td>\n",
       "      <td>0.122748</td>\n",
       "      <td>classification</td>\n",
       "      <td>True</td>\n",
       "      <td>weighted F1</td>\n",
       "      <td>0.287129</td>\n",
       "      <td>0.374632</td>\n",
       "      <td>DecisionTreeClassifier()</td>\n",
       "    </tr>\n",
       "    <tr>\n",
       "      <th>305</th>\n",
       "      <td>catsize</td>\n",
       "      <td>type</td>\n",
       "      <td>0.127524</td>\n",
       "      <td>classification</td>\n",
       "      <td>True</td>\n",
       "      <td>weighted F1</td>\n",
       "      <td>0.287129</td>\n",
       "      <td>0.378037</td>\n",
       "      <td>DecisionTreeClassifier()</td>\n",
       "    </tr>\n",
       "    <tr>\n",
       "      <th>107</th>\n",
       "      <td>airborne</td>\n",
       "      <td>type</td>\n",
       "      <td>0.177448</td>\n",
       "      <td>classification</td>\n",
       "      <td>True</td>\n",
       "      <td>weighted F1</td>\n",
       "      <td>0.287129</td>\n",
       "      <td>0.413626</td>\n",
       "      <td>DecisionTreeClassifier()</td>\n",
       "    </tr>\n",
       "    <tr>\n",
       "      <th>161</th>\n",
       "      <td>toothed</td>\n",
       "      <td>type</td>\n",
       "      <td>0.230852</td>\n",
       "      <td>classification</td>\n",
       "      <td>True</td>\n",
       "      <td>weighted F1</td>\n",
       "      <td>0.287129</td>\n",
       "      <td>0.451696</td>\n",
       "      <td>DecisionTreeClassifier()</td>\n",
       "    </tr>\n",
       "    <tr>\n",
       "      <th>53</th>\n",
       "      <td>feathers</td>\n",
       "      <td>type</td>\n",
       "      <td>0.258645</td>\n",
       "      <td>classification</td>\n",
       "      <td>True</td>\n",
       "      <td>weighted F1</td>\n",
       "      <td>0.287129</td>\n",
       "      <td>0.471510</td>\n",
       "      <td>DecisionTreeClassifier()</td>\n",
       "    </tr>\n",
       "    <tr>\n",
       "      <th>35</th>\n",
       "      <td>hair</td>\n",
       "      <td>type</td>\n",
       "      <td>0.269079</td>\n",
       "      <td>classification</td>\n",
       "      <td>True</td>\n",
       "      <td>weighted F1</td>\n",
       "      <td>0.287129</td>\n",
       "      <td>0.478947</td>\n",
       "      <td>DecisionTreeClassifier()</td>\n",
       "    </tr>\n",
       "    <tr>\n",
       "      <th>71</th>\n",
       "      <td>eggs</td>\n",
       "      <td>type</td>\n",
       "      <td>0.287812</td>\n",
       "      <td>classification</td>\n",
       "      <td>True</td>\n",
       "      <td>weighted F1</td>\n",
       "      <td>0.287129</td>\n",
       "      <td>0.492302</td>\n",
       "      <td>DecisionTreeClassifier()</td>\n",
       "    </tr>\n",
       "    <tr>\n",
       "      <th>89</th>\n",
       "      <td>milk</td>\n",
       "      <td>type</td>\n",
       "      <td>0.306135</td>\n",
       "      <td>classification</td>\n",
       "      <td>True</td>\n",
       "      <td>weighted F1</td>\n",
       "      <td>0.287129</td>\n",
       "      <td>0.505363</td>\n",
       "      <td>DecisionTreeClassifier()</td>\n",
       "    </tr>\n",
       "    <tr>\n",
       "      <th>251</th>\n",
       "      <td>legs</td>\n",
       "      <td>type</td>\n",
       "      <td>0.545647</td>\n",
       "      <td>classification</td>\n",
       "      <td>True</td>\n",
       "      <td>weighted F1</td>\n",
       "      <td>0.287129</td>\n",
       "      <td>0.676104</td>\n",
       "      <td>DecisionTreeClassifier()</td>\n",
       "    </tr>\n",
       "  </tbody>\n",
       "</table>\n",
       "</div>"
      ],
      "text/plain": [
       "               x     y   ppscore            case  is_valid_score       metric  \\\n",
       "17   animal name  type  0.000000  classification            True  weighted F1   \n",
       "287     domestic  type  0.000000  classification            True  weighted F1   \n",
       "269         tail  type  0.000000  classification            True  weighted F1   \n",
       "215     venomous  type  0.000000  classification            True  weighted F1   \n",
       "143     predator  type  0.000000  classification            True  weighted F1   \n",
       "125      aquatic  type  0.069180  classification            True  weighted F1   \n",
       "179     backbone  type  0.074459  classification            True  weighted F1   \n",
       "233         fins  type  0.091939  classification            True  weighted F1   \n",
       "197     breathes  type  0.122748  classification            True  weighted F1   \n",
       "305      catsize  type  0.127524  classification            True  weighted F1   \n",
       "107     airborne  type  0.177448  classification            True  weighted F1   \n",
       "161      toothed  type  0.230852  classification            True  weighted F1   \n",
       "53      feathers  type  0.258645  classification            True  weighted F1   \n",
       "35          hair  type  0.269079  classification            True  weighted F1   \n",
       "71          eggs  type  0.287812  classification            True  weighted F1   \n",
       "89          milk  type  0.306135  classification            True  weighted F1   \n",
       "251         legs  type  0.545647  classification            True  weighted F1   \n",
       "\n",
       "     baseline_score  model_score                     model  \n",
       "17         0.287129     0.258528  DecisionTreeClassifier()  \n",
       "287        0.287129     0.234927  DecisionTreeClassifier()  \n",
       "269        0.287129     0.286339  DecisionTreeClassifier()  \n",
       "215        0.287129     0.248950  DecisionTreeClassifier()  \n",
       "143        0.287129     0.234927  DecisionTreeClassifier()  \n",
       "125        0.287129     0.336445  DecisionTreeClassifier()  \n",
       "179        0.287129     0.340208  DecisionTreeClassifier()  \n",
       "233        0.287129     0.352669  DecisionTreeClassifier()  \n",
       "197        0.287129     0.374632  DecisionTreeClassifier()  \n",
       "305        0.287129     0.378037  DecisionTreeClassifier()  \n",
       "107        0.287129     0.413626  DecisionTreeClassifier()  \n",
       "161        0.287129     0.451696  DecisionTreeClassifier()  \n",
       "53         0.287129     0.471510  DecisionTreeClassifier()  \n",
       "35         0.287129     0.478947  DecisionTreeClassifier()  \n",
       "71         0.287129     0.492302  DecisionTreeClassifier()  \n",
       "89         0.287129     0.505363  DecisionTreeClassifier()  \n",
       "251        0.287129     0.676104  DecisionTreeClassifier()  "
      ]
     },
     "execution_count": 16,
     "metadata": {},
     "output_type": "execute_result"
    }
   ],
   "source": [
    "a = a[a.y == 'type'].sort_values(by='ppscore').iloc[:-1,:]\n",
    "a"
   ]
  },
  {
   "cell_type": "code",
   "execution_count": 17,
   "metadata": {},
   "outputs": [
    {
     "data": {
      "text/plain": [
       "['aquatic',\n",
       " 'backbone',\n",
       " 'fins',\n",
       " 'breathes',\n",
       " 'catsize',\n",
       " 'airborne',\n",
       " 'toothed',\n",
       " 'feathers',\n",
       " 'hair',\n",
       " 'eggs',\n",
       " 'milk',\n",
       " 'legs']"
      ]
     },
     "execution_count": 17,
     "metadata": {},
     "output_type": "execute_result"
    }
   ],
   "source": [
    "sel_features = list(a.x[5:])\n",
    "sel_features"
   ]
  },
  {
   "cell_type": "code",
   "execution_count": 18,
   "metadata": {},
   "outputs": [
    {
     "data": {
      "text/plain": [
       "Text(0, 0.5, 'ppscores')"
      ]
     },
     "execution_count": 18,
     "metadata": {},
     "output_type": "execute_result"
    },
    {
     "data": {
      "image/png": "[encoded data removed]",
      "text/plain": [
       "<Figure size 1080x360 with 1 Axes>"
      ]
     },
     "metadata": {
      "needs_background": "light"
     },
     "output_type": "display_data"
    }
   ],
   "source": [
    "fig,ax = plt.subplots(1,1,figsize=(15,5))\n",
    "a.plot(x='x',y='ppscore',ax=ax,kind='bar',grid=True,colormap='Set2')\n",
    "plt.xticks(ticks=[a for a in range(len(a))],labels=a.x)\n",
    "plt.xlabel('Feature names')\n",
    "plt.ylabel('ppscores')"
   ]
  },
  {
   "cell_type": "markdown",
   "metadata": {},
   "source": [
    "'Accent', 'Accent_r', 'Blues', 'Blues_r', 'BrBG', 'BrBG_r', 'BuGn', 'BuGn_r', 'BuPu', 'BuPu_r', 'CMRmap', 'CMRmap_r', 'Dark2', 'Dark2_r', 'GnBu', 'GnBu_r', 'Greens', 'Greens_r', 'Greys', 'Greys_r', 'OrRd', 'OrRd_r', 'Oranges', 'Oranges_r', 'PRGn', 'PRGn_r', 'Paired', 'Paired_r', 'Pastel1', 'Pastel1_r', 'Pastel2', 'Pastel2_r', 'PiYG', 'PiYG_r', 'PuBu', 'PuBuGn', 'PuBuGn_r', 'PuBu_r', 'PuOr', 'PuOr_r', 'PuRd', 'PuRd_r', 'Purples', 'Purples_r', 'RdBu', 'RdBu_r', 'RdGy', 'RdGy_r', 'RdPu', 'RdPu_r', 'RdYlBu', 'RdYlBu_r', 'RdYlGn', 'RdYlGn_r', 'Reds', 'Reds_r', 'Set1', 'Set1_r', 'Set2', 'Set2_r', 'Set3', 'Set3_r', 'Spectral', 'Spectral_r', 'Wistia', 'Wistia_r', 'YlGn', 'YlGnBu', 'YlGnBu_r', 'YlGn_r', 'YlOrBr', 'YlOrBr_r', 'YlOrRd', 'YlOrRd_r', 'afmhot', 'afmhot_r', 'autumn', 'autumn_r', 'binary', 'binary_r', 'bone', 'bone_r', 'brg', 'brg_r', 'bwr', 'bwr_r', 'cividis', 'cividis_r', 'cool', 'cool_r', 'coolwarm', 'coolwarm_r', 'copper', 'copper_r', 'crest', 'crest_r', 'cubehelix', 'cubehelix_r', 'flag', 'flag_r', 'flare', 'flare_r', 'gist_earth', 'gist_earth_r', 'gist_gray', 'gist_gray_r', 'gist_heat', 'gist_heat_r', 'gist_ncar', 'gist_ncar_r', 'gist_rainbow', 'gist_rainbow_r', 'gist_stern', 'gist_stern_r', 'gist_yarg', 'gist_yarg_r', 'gnuplot', 'gnuplot2', 'gnuplot2_r', 'gnuplot_r', 'gray', 'gray_r', 'hot', 'hot_r', 'hsv', 'hsv_r', 'icefire', 'icefire_r', 'inferno', 'inferno_r', 'jet', 'jet_r', 'magma', 'magma_r', 'mako', 'mako_r', 'nipy_spectral', 'nipy_spectral_r', 'ocean', 'ocean_r', 'pink', 'pink_r', 'plasma', 'plasma_r', 'prism', 'prism_r', 'rainbow', 'rainbow_r', 'rocket', 'rocket_r', 'seismic', 'seismic_r', 'spring', 'spring_r', 'summer', 'summer_r', 'tab10', 'tab10_r', 'tab20', 'tab20_r', 'tab20b', 'tab20b_r', 'tab20c', 'tab20c_r', 'terrain', 'terrain_r', 'turbo', 'turbo_r', 'twilight', 'twilight_r', 'twilight_shifted', 'twilight_shifted_r', 'viridis', 'viridis_r', 'vlag', 'vlag_r', 'winter', 'winter_r'\n"
   ]
  },
  {
   "cell_type": "markdown",
   "metadata": {},
   "source": [
    "**Features namely, 'Animal name', 'Domestic', 'Tail', 'Venomous', 'Predator' do not have any predictive power in determining the type of the animal** \n",
    "\n",
    "                                    ---------------------------------****--------------------------------------"
   ]
  },
  {
   "cell_type": "markdown",
   "metadata": {},
   "source": [
    "# Model Building\n",
    "----------------"
   ]
  },
  {
   "cell_type": "markdown",
   "metadata": {},
   "source": [
    "### CrossValidation\n",
    "\n",
    "    **Amongst Randomforest and AdaBoost and KNN, Random forst performs the best. however we are asked to build KNN let us build the KNN model (will all the columns and with selected columns)**"
   ]
  },
  {
   "cell_type": "code",
   "execution_count": 19,
   "metadata": {},
   "outputs": [],
   "source": [
    "from sklearn.model_selection import KFold,cross_val_score,StratifiedKFold,GridSearchCV\n",
    "from sklearn.feature_selection import SelectKBest,SelectKBest,chi2,f_classif,mutual_info_classif,RFE,RFECV\n",
    "from sklearn.feature_selection import SelectFromModel \n",
    "from sklearn.ensemble import RandomForestClassifier,AdaBoostClassifier\n",
    "from sklearn.neighbors import KNeighborsClassifier"
   ]
  },
  {
   "cell_type": "code",
   "execution_count": 20,
   "metadata": {},
   "outputs": [
    {
     "data": {
      "text/plain": [
       "array([1, 1, 4, 1, 1, 1, 1, 4, 4, 1, 1, 2, 4, 7, 7, 7, 2, 1, 4, 1, 2, 2,\n",
       "       1, 2, 6, 5, 5, 1, 1, 1, 6, 1, 1, 2, 4, 1, 1, 2, 4, 6, 6, 2, 6, 2,\n",
       "       1, 1, 7, 1, 1, 1, 1, 6, 5, 7, 1, 1, 2, 2, 2, 2, 4, 4, 3, 1, 1, 1,\n",
       "       1, 1, 1, 1, 1, 2, 7, 4, 1, 1, 3, 7, 2, 2, 3, 7, 4, 2, 1, 7, 4, 2,\n",
       "       6, 5, 3, 3, 4, 1, 1, 2, 1, 6, 1, 7, 2], dtype=int64)"
      ]
     },
     "execution_count": 20,
     "metadata": {},
     "output_type": "execute_result"
    }
   ],
   "source": [
    "y= np.array(rawData.type.values)\n",
    "y"
   ]
  },
  {
   "cell_type": "code",
   "execution_count": 21,
   "metadata": {},
   "outputs": [
    {
     "name": "stdout",
     "output_type": "stream",
     "text": [
      "[1.   0.8  0.95 0.9  1.  ]\n"
     ]
    },
    {
     "data": {
      "text/plain": [
       "0.93"
      ]
     },
     "execution_count": 21,
     "metadata": {},
     "output_type": "execute_result"
    }
   ],
   "source": [
    "RDF = RandomForestClassifier()\n",
    "kfold = KFold(n_splits=5,shuffle=True,random_state=0)\n",
    "a = cross_val_score(RDF,X,y,cv=kfold)\n",
    "print(a)\n",
    "a.mean()"
   ]
  },
  {
   "cell_type": "code",
   "execution_count": 22,
   "metadata": {},
   "outputs": [
    {
     "name": "stdout",
     "output_type": "stream",
     "text": [
      "[0.76190476 0.75       0.8        0.65       0.7       ]\n"
     ]
    },
    {
     "data": {
      "text/plain": [
       "0.7323809523809522"
      ]
     },
     "execution_count": 22,
     "metadata": {},
     "output_type": "execute_result"
    }
   ],
   "source": [
    "ADB = AdaBoostClassifier()\n",
    "b = cross_val_score(ADB,X,y,cv = kfold)\n",
    "print(b)\n",
    "b.mean()"
   ]
  },
  {
   "cell_type": "code",
   "execution_count": 23,
   "metadata": {},
   "outputs": [
    {
     "name": "stdout",
     "output_type": "stream",
     "text": [
      "[0.95238095 0.8        0.95       0.8        0.95      ]\n"
     ]
    },
    {
     "data": {
      "text/plain": [
       "0.8904761904761905"
      ]
     },
     "execution_count": 23,
     "metadata": {},
     "output_type": "execute_result"
    }
   ],
   "source": [
    "knn = KNeighborsClassifier(n_neighbors=2)\n",
    "c = cross_val_score(knn,X_scaled,y,cv=kfold)\n",
    "print(c)\n",
    "c.mean()"
   ]
  },
  {
   "cell_type": "markdown",
   "metadata": {},
   "source": [
    "**Amongst Randomforest and AdaBoost and KNN, Random forst performs the best. however we are asked to build KNN let us build the KNN model (will all the columns and with selected columns)**\n",
    "\n",
    "                                ---------------------------------****--------------------------------------"
   ]
  },
  {
   "cell_type": "markdown",
   "metadata": {},
   "source": [
    "# KNN MOEDL\n",
    "------------"
   ]
  },
  {
   "cell_type": "markdown",
   "metadata": {},
   "source": [
    "### Grid Search for finding optimum K value\n",
    "\n",
    "    **Looking at the above table we can clearly there 12 values for k whcich socre the highest accuracy scores, and we have 5 of those K values have the lowest Standerd deviation. So, i have chosen the lowest K value amongs those with highest mean_test_score and lowest std_test_score.**"
   ]
  },
  {
   "cell_type": "code",
   "execution_count": 24,
   "metadata": {},
   "outputs": [
    {
     "data": {
      "text/plain": [
       "GridSearchCV(cv=4, estimator=KNeighborsClassifier(weights='distance'),\n",
       "             param_grid={'n_neighbors': array([ 1,  2,  3,  4,  5,  6,  7,  8,  9, 10, 11, 12, 13, 14, 15, 16, 17,\n",
       "       18, 19, 20, 21, 22, 23, 24, 25, 26, 27, 28, 29, 30, 31, 32, 33, 34,\n",
       "       35, 36, 37, 38, 39, 40])})"
      ]
     },
     "execution_count": 24,
     "metadata": {},
     "output_type": "execute_result"
    }
   ],
   "source": [
    "model = KNeighborsClassifier(weights='distance') ## as class with lowest records has only 4 records, it is ideal to set cv=4 for 4 splits\n",
    "grid = GridSearchCV(estimator=model,cv = 4, param_grid=dict(n_neighbors = np.array(range(1,41))))\n",
    "grid.fit(X_scaled,y)"
   ]
  },
  {
   "cell_type": "code",
   "execution_count": 25,
   "metadata": {},
   "outputs": [
    {
     "name": "stdout",
     "output_type": "stream",
     "text": [
      "The best score by the KNeighborsClassifier(n_neighbors=4, weights='distance') estimator is 0.9303846153846154\n",
      "\n",
      "The best estimator's selected value for 'k' is as follows:\n",
      "{'n_neighbors': 4}\n"
     ]
    }
   ],
   "source": [
    "print(f'The best score by the {grid.best_estimator_} estimator is {grid.best_score_}',end='\\n\\n')\n",
    "print(f\"The best estimator's selected value for 'k' is as follows:\\n{grid.best_params_}\")"
   ]
  },
  {
   "cell_type": "code",
   "execution_count": 26,
   "metadata": {},
   "outputs": [
    {
     "name": "stdout",
     "output_type": "stream",
     "text": [
      "The crossValidation estimator parameters are as follows:\n",
      "\n"
     ]
    },
    {
     "data": {
      "text/plain": [
       "{'cv': 4,\n",
       " 'error_score': nan,\n",
       " 'estimator__algorithm': 'auto',\n",
       " 'estimator__leaf_size': 30,\n",
       " 'estimator__metric': 'minkowski',\n",
       " 'estimator__metric_params': None,\n",
       " 'estimator__n_jobs': None,\n",
       " 'estimator__n_neighbors': 5,\n",
       " 'estimator__p': 2,\n",
       " 'estimator__weights': 'distance',\n",
       " 'estimator': KNeighborsClassifier(weights='distance'),\n",
       " 'iid': 'deprecated',\n",
       " 'n_jobs': None,\n",
       " 'param_grid': {'n_neighbors': array([ 1,  2,  3,  4,  5,  6,  7,  8,  9, 10, 11, 12, 13, 14, 15, 16, 17,\n",
       "         18, 19, 20, 21, 22, 23, 24, 25, 26, 27, 28, 29, 30, 31, 32, 33, 34,\n",
       "         35, 36, 37, 38, 39, 40])},\n",
       " 'pre_dispatch': '2*n_jobs',\n",
       " 'refit': True,\n",
       " 'return_train_score': False,\n",
       " 'scoring': None,\n",
       " 'verbose': 0}"
      ]
     },
     "execution_count": 26,
     "metadata": {},
     "output_type": "execute_result"
    }
   ],
   "source": [
    "print(f'The crossValidation estimator parameters are as follows:\\n')\n",
    "grid.get_params()"
   ]
  },
  {
   "cell_type": "code",
   "execution_count": 27,
   "metadata": {},
   "outputs": [
    {
     "data": {
      "text/plain": [
       "{'mean_fit_time': array([8.47458839e-04, 2.15774775e-03, 3.27169895e-04, 3.74317169e-05,\n",
       "        0.00000000e+00, 0.00000000e+00, 0.00000000e+00, 3.93819809e-03,\n",
       "        3.90601158e-03, 0.00000000e+00, 0.00000000e+00, 2.49028206e-04,\n",
       "        3.92073393e-03, 5.08129597e-04, 5.17368317e-04, 1.31714344e-03,\n",
       "        8.18967819e-04, 2.65389681e-03, 1.15871429e-03, 1.94835663e-03,\n",
       "        4.99904156e-04, 1.89805031e-03, 3.02076340e-03, 9.43362713e-04,\n",
       "        0.00000000e+00, 2.58624554e-04, 0.00000000e+00, 4.04137373e-03,\n",
       "        8.38518143e-04, 2.58326530e-04, 0.00000000e+00, 1.37364864e-03,\n",
       "        3.06463242e-03, 1.44994259e-03, 5.16891479e-04, 5.17308712e-04,\n",
       "        0.00000000e+00, 0.00000000e+00, 5.08606434e-04, 2.92479992e-04]),\n",
       " 'std_fit_time': array([9.68911758e-04, 3.73732873e-03, 5.66674881e-04, 6.48336355e-05,\n",
       "        0.00000000e+00, 0.00000000e+00, 0.00000000e+00, 6.82115918e-03,\n",
       "        6.76541051e-03, 0.00000000e+00, 0.00000000e+00, 4.31329505e-04,\n",
       "        6.79091037e-03, 5.08272551e-04, 5.17368564e-04, 4.96776520e-04,\n",
       "        9.24004945e-04, 2.29568051e-03, 1.65362840e-03, 2.82709533e-03,\n",
       "        4.99904163e-04, 2.76434639e-03, 2.95446955e-03, 1.63395215e-03,\n",
       "        0.00000000e+00, 4.47950867e-04, 0.00000000e+00, 6.99986463e-03,\n",
       "        9.55632390e-04, 4.47434676e-04, 0.00000000e+00, 2.37922924e-03,\n",
       "        3.08436149e-03, 1.97793815e-03, 5.16891727e-04, 5.17309268e-04,\n",
       "        0.00000000e+00, 0.00000000e+00, 5.08850640e-04, 5.06590206e-04]),\n",
       " 'mean_score_time': array([0.0024851 , 0.00229478, 0.00264364, 0.00420886, 0.00391746,\n",
       "        0.00394773, 0.        , 0.        , 0.00155544, 0.00175273,\n",
       "        0.00160611, 0.00384033, 0.00025898, 0.00229293, 0.00036299,\n",
       "        0.00200379, 0.00160545, 0.00074834, 0.00207525, 0.00024921,\n",
       "        0.00334114, 0.00219709, 0.00024992, 0.00455886, 0.0036819 ,\n",
       "        0.00358725, 0.        , 0.00360346, 0.00025898, 0.00047809,\n",
       "        0.00391442, 0.00468749, 0.00050831, 0.00071269, 0.00308251,\n",
       "        0.00213265, 0.00359243, 0.00333816, 0.00122857, 0.0032528 ]),\n",
       " 'std_score_time': array([0.0029537 , 0.00340309, 0.00393234, 0.00672703, 0.00678523,\n",
       "        0.00683768, 0.        , 0.        , 0.00269411, 0.00303582,\n",
       "        0.00278186, 0.00665164, 0.00044857, 0.00340377, 0.00062872,\n",
       "        0.0004365 , 0.00222603, 0.00082689, 0.00143563, 0.00043164,\n",
       "        0.00334115, 0.00152858, 0.00043288, 0.0063782 , 0.0036871 ,\n",
       "        0.00621329, 0.        , 0.00624137, 0.00044857, 0.00082807,\n",
       "        0.00677997, 0.00699401, 0.00088042, 0.00076472, 0.00243075,\n",
       "        0.00266131, 0.00360536, 0.00334716, 0.00212795, 0.00315307]),\n",
       " 'param_n_neighbors': masked_array(data=[1, 2, 3, 4, 5, 6, 7, 8, 9, 10, 11, 12, 13, 14, 15, 16,\n",
       "                    17, 18, 19, 20, 21, 22, 23, 24, 25, 26, 27, 28, 29, 30,\n",
       "                    31, 32, 33, 34, 35, 36, 37, 38, 39, 40],\n",
       "              mask=[False, False, False, False, False, False, False, False,\n",
       "                    False, False, False, False, False, False, False, False,\n",
       "                    False, False, False, False, False, False, False, False,\n",
       "                    False, False, False, False, False, False, False, False,\n",
       "                    False, False, False, False, False, False, False, False],\n",
       "        fill_value='?',\n",
       "             dtype=object),\n",
       " 'params': [{'n_neighbors': 1},\n",
       "  {'n_neighbors': 2},\n",
       "  {'n_neighbors': 3},\n",
       "  {'n_neighbors': 4},\n",
       "  {'n_neighbors': 5},\n",
       "  {'n_neighbors': 6},\n",
       "  {'n_neighbors': 7},\n",
       "  {'n_neighbors': 8},\n",
       "  {'n_neighbors': 9},\n",
       "  {'n_neighbors': 10},\n",
       "  {'n_neighbors': 11},\n",
       "  {'n_neighbors': 12},\n",
       "  {'n_neighbors': 13},\n",
       "  {'n_neighbors': 14},\n",
       "  {'n_neighbors': 15},\n",
       "  {'n_neighbors': 16},\n",
       "  {'n_neighbors': 17},\n",
       "  {'n_neighbors': 18},\n",
       "  {'n_neighbors': 19},\n",
       "  {'n_neighbors': 20},\n",
       "  {'n_neighbors': 21},\n",
       "  {'n_neighbors': 22},\n",
       "  {'n_neighbors': 23},\n",
       "  {'n_neighbors': 24},\n",
       "  {'n_neighbors': 25},\n",
       "  {'n_neighbors': 26},\n",
       "  {'n_neighbors': 27},\n",
       "  {'n_neighbors': 28},\n",
       "  {'n_neighbors': 29},\n",
       "  {'n_neighbors': 30},\n",
       "  {'n_neighbors': 31},\n",
       "  {'n_neighbors': 32},\n",
       "  {'n_neighbors': 33},\n",
       "  {'n_neighbors': 34},\n",
       "  {'n_neighbors': 35},\n",
       "  {'n_neighbors': 36},\n",
       "  {'n_neighbors': 37},\n",
       "  {'n_neighbors': 38},\n",
       "  {'n_neighbors': 39},\n",
       "  {'n_neighbors': 40}],\n",
       " 'split0_test_score': array([0.92307692, 0.92307692, 0.96153846, 0.96153846, 0.96153846,\n",
       "        0.96153846, 0.96153846, 0.96153846, 0.96153846, 0.96153846,\n",
       "        0.96153846, 0.96153846, 0.96153846, 0.96153846, 0.96153846,\n",
       "        0.96153846, 0.96153846, 0.92307692, 0.92307692, 0.92307692,\n",
       "        0.92307692, 0.92307692, 0.92307692, 0.92307692, 0.92307692,\n",
       "        0.88461538, 0.88461538, 0.88461538, 0.84615385, 0.84615385,\n",
       "        0.84615385, 0.84615385, 0.84615385, 0.84615385, 0.84615385,\n",
       "        0.84615385, 0.80769231, 0.80769231, 0.80769231, 0.80769231]),\n",
       " 'split1_test_score': array([0.96, 0.96, 0.96, 1.  , 1.  , 1.  , 1.  , 1.  , 1.  , 1.  , 1.  ,\n",
       "        0.96, 0.96, 0.96, 0.96, 0.96, 0.96, 0.96, 0.92, 0.92, 0.92, 0.92,\n",
       "        0.92, 0.92, 0.92, 0.92, 0.92, 0.92, 0.92, 0.92, 0.92, 0.92, 0.88,\n",
       "        0.88, 0.88, 0.88, 0.88, 0.88, 0.88, 0.88]),\n",
       " 'split2_test_score': array([0.88, 0.88, 0.88, 0.88, 0.88, 0.88, 0.88, 0.88, 0.88, 0.88, 0.84,\n",
       "        0.92, 0.92, 0.92, 0.92, 0.92, 0.88, 0.88, 0.88, 0.88, 0.88, 0.88,\n",
       "        0.88, 0.84, 0.84, 0.84, 0.84, 0.84, 0.84, 0.84, 0.84, 0.84, 0.84,\n",
       "        0.84, 0.84, 0.8 , 0.8 , 0.8 , 0.8 , 0.8 ]),\n",
       " 'split3_test_score': array([0.92, 0.92, 0.88, 0.88, 0.88, 0.88, 0.88, 0.88, 0.88, 0.88, 0.88,\n",
       "        0.88, 0.88, 0.88, 0.88, 0.88, 0.88, 0.88, 0.88, 0.88, 0.88, 0.84,\n",
       "        0.84, 0.84, 0.84, 0.84, 0.84, 0.84, 0.84, 0.84, 0.84, 0.84, 0.84,\n",
       "        0.84, 0.84, 0.8 , 0.8 , 0.8 , 0.8 , 0.8 ]),\n",
       " 'mean_test_score': array([0.92076923, 0.92076923, 0.92038462, 0.93038462, 0.93038462,\n",
       "        0.93038462, 0.93038462, 0.93038462, 0.93038462, 0.93038462,\n",
       "        0.92038462, 0.93038462, 0.93038462, 0.93038462, 0.93038462,\n",
       "        0.93038462, 0.92038462, 0.91076923, 0.90076923, 0.90076923,\n",
       "        0.90076923, 0.89076923, 0.89076923, 0.88076923, 0.88076923,\n",
       "        0.87115385, 0.87115385, 0.87115385, 0.86153846, 0.86153846,\n",
       "        0.86153846, 0.86153846, 0.85153846, 0.85153846, 0.85153846,\n",
       "        0.83153846, 0.82192308, 0.82192308, 0.82192308, 0.82192308]),\n",
       " 'std_test_score': array([0.02831563, 0.02831563, 0.04038828, 0.05218736, 0.05218736,\n",
       "        0.05218736, 0.05218736, 0.05218736, 0.05218736, 0.05218736,\n",
       "        0.06349183, 0.03351896, 0.03351896, 0.03351896, 0.03351896,\n",
       "        0.03351896, 0.04038828, 0.03342394, 0.0207977 , 0.0207977 ,\n",
       "        0.0207977 , 0.0338811 , 0.0338811 , 0.04078374, 0.04078374,\n",
       "        0.03357188, 0.03357188, 0.03357188, 0.03384615, 0.03384615,\n",
       "        0.03384615, 0.03384615, 0.01662322, 0.01662322, 0.01662322,\n",
       "        0.03373233, 0.03367746, 0.03367746, 0.03367746, 0.03367746]),\n",
       " 'rank_test_score': array([13, 13, 15,  1,  1,  1,  1,  1,  1,  1, 15,  1,  1,  1,  1,  1, 15,\n",
       "        18, 19, 19, 19, 22, 22, 24, 24, 26, 26, 26, 29, 29, 29, 29, 33, 33,\n",
       "        33, 36, 37, 37, 37, 37])}"
      ]
     },
     "execution_count": 27,
     "metadata": {},
     "output_type": "execute_result"
    }
   ],
   "source": [
    "grid.cv_results_"
   ]
  },
  {
   "cell_type": "code",
   "execution_count": 28,
   "metadata": {},
   "outputs": [
    {
     "name": "stdout",
     "output_type": "stream",
     "text": [
      "\n",
      "****Table of K values and their respective Scores and Ranks****\n",
      "\n"
     ]
    },
    {
     "data": {
      "text/html": [
       "<div>\n",
       "<style scoped>\n",
       "    .dataframe tbody tr th:only-of-type {\n",
       "        vertical-align: middle;\n",
       "    }\n",
       "\n",
       "    .dataframe tbody tr th {\n",
       "        vertical-align: top;\n",
       "    }\n",
       "\n",
       "    .dataframe thead th {\n",
       "        text-align: right;\n",
       "    }\n",
       "</style>\n",
       "<table border=\"1\" class=\"dataframe\">\n",
       "  <thead>\n",
       "    <tr style=\"text-align: right;\">\n",
       "      <th></th>\n",
       "      <th>param_n_neighbors</th>\n",
       "      <th>mean_test_score</th>\n",
       "      <th>std_test_score</th>\n",
       "      <th>rank_test_score</th>\n",
       "    </tr>\n",
       "  </thead>\n",
       "  <tbody>\n",
       "    <tr>\n",
       "      <th>9</th>\n",
       "      <td>10</td>\n",
       "      <td>0.930385</td>\n",
       "      <td>0.052187</td>\n",
       "      <td>1</td>\n",
       "    </tr>\n",
       "    <tr>\n",
       "      <th>12</th>\n",
       "      <td>13</td>\n",
       "      <td>0.930385</td>\n",
       "      <td>0.033519</td>\n",
       "      <td>1</td>\n",
       "    </tr>\n",
       "    <tr>\n",
       "      <th>15</th>\n",
       "      <td>16</td>\n",
       "      <td>0.930385</td>\n",
       "      <td>0.033519</td>\n",
       "      <td>1</td>\n",
       "    </tr>\n",
       "    <tr>\n",
       "      <th>3</th>\n",
       "      <td>4</td>\n",
       "      <td>0.930385</td>\n",
       "      <td>0.052187</td>\n",
       "      <td>1</td>\n",
       "    </tr>\n",
       "    <tr>\n",
       "      <th>4</th>\n",
       "      <td>5</td>\n",
       "      <td>0.930385</td>\n",
       "      <td>0.052187</td>\n",
       "      <td>1</td>\n",
       "    </tr>\n",
       "    <tr>\n",
       "      <th>5</th>\n",
       "      <td>6</td>\n",
       "      <td>0.930385</td>\n",
       "      <td>0.052187</td>\n",
       "      <td>1</td>\n",
       "    </tr>\n",
       "    <tr>\n",
       "      <th>6</th>\n",
       "      <td>7</td>\n",
       "      <td>0.930385</td>\n",
       "      <td>0.052187</td>\n",
       "      <td>1</td>\n",
       "    </tr>\n",
       "    <tr>\n",
       "      <th>7</th>\n",
       "      <td>8</td>\n",
       "      <td>0.930385</td>\n",
       "      <td>0.052187</td>\n",
       "      <td>1</td>\n",
       "    </tr>\n",
       "    <tr>\n",
       "      <th>8</th>\n",
       "      <td>9</td>\n",
       "      <td>0.930385</td>\n",
       "      <td>0.052187</td>\n",
       "      <td>1</td>\n",
       "    </tr>\n",
       "    <tr>\n",
       "      <th>14</th>\n",
       "      <td>15</td>\n",
       "      <td>0.930385</td>\n",
       "      <td>0.033519</td>\n",
       "      <td>1</td>\n",
       "    </tr>\n",
       "    <tr>\n",
       "      <th>13</th>\n",
       "      <td>14</td>\n",
       "      <td>0.930385</td>\n",
       "      <td>0.033519</td>\n",
       "      <td>1</td>\n",
       "    </tr>\n",
       "    <tr>\n",
       "      <th>11</th>\n",
       "      <td>12</td>\n",
       "      <td>0.930385</td>\n",
       "      <td>0.033519</td>\n",
       "      <td>1</td>\n",
       "    </tr>\n",
       "    <tr>\n",
       "      <th>0</th>\n",
       "      <td>1</td>\n",
       "      <td>0.920769</td>\n",
       "      <td>0.028316</td>\n",
       "      <td>13</td>\n",
       "    </tr>\n",
       "    <tr>\n",
       "      <th>1</th>\n",
       "      <td>2</td>\n",
       "      <td>0.920769</td>\n",
       "      <td>0.028316</td>\n",
       "      <td>13</td>\n",
       "    </tr>\n",
       "    <tr>\n",
       "      <th>10</th>\n",
       "      <td>11</td>\n",
       "      <td>0.920385</td>\n",
       "      <td>0.063492</td>\n",
       "      <td>15</td>\n",
       "    </tr>\n",
       "  </tbody>\n",
       "</table>\n",
       "</div>"
      ],
      "text/plain": [
       "   param_n_neighbors  mean_test_score  std_test_score  rank_test_score\n",
       "9                 10         0.930385        0.052187                1\n",
       "12                13         0.930385        0.033519                1\n",
       "15                16         0.930385        0.033519                1\n",
       "3                  4         0.930385        0.052187                1\n",
       "4                  5         0.930385        0.052187                1\n",
       "5                  6         0.930385        0.052187                1\n",
       "6                  7         0.930385        0.052187                1\n",
       "7                  8         0.930385        0.052187                1\n",
       "8                  9         0.930385        0.052187                1\n",
       "14                15         0.930385        0.033519                1\n",
       "13                14         0.930385        0.033519                1\n",
       "11                12         0.930385        0.033519                1\n",
       "0                  1         0.920769        0.028316               13\n",
       "1                  2         0.920769        0.028316               13\n",
       "10                11         0.920385        0.063492               15"
      ]
     },
     "execution_count": 28,
     "metadata": {},
     "output_type": "execute_result"
    }
   ],
   "source": [
    "cvData = pd.DataFrame(grid.cv_results_)\n",
    "print('\\n****Table of K values and their respective Scores and Ranks****\\n')\n",
    "cvData[['param_n_neighbors','mean_test_score','std_test_score','rank_test_score']].sort_values(by='mean_test_score',ascending=False).head(15)"
   ]
  },
  {
   "cell_type": "code",
   "execution_count": 29,
   "metadata": {},
   "outputs": [
    {
     "data": {
      "image/png": "[encoded data removed]",
      "text/plain": [
       "<Figure size 1296x360 with 1 Axes>"
      ]
     },
     "metadata": {
      "needs_background": "light"
     },
     "output_type": "display_data"
    }
   ],
   "source": [
    "f,ax=plt.subplots(1,1,figsize=(18,5))\n",
    "cvData.plot(ax=ax, y='mean_test_score', yerr='std_test_score',linewidth=3,marker='o',color='r',xticks=[a for a in range(41)])\n",
    "plt.title('CrossValidation Mean Accuracy scores along with their Std Deviations, for different N_Neighbour values')\n",
    "plt.xlabel('n_neighbour Values')\n",
    "plt.ylabel('Test Scores')\n",
    "plt.grid(b=True)\n",
    "plt.show()"
   ]
  },
  {
   "cell_type": "markdown",
   "metadata": {},
   "source": [
    "**Looking at the above table we can clearly there 12 values for k whcich socre the highest accuracy scores, and we have 5 of those K values have the lowest Standerd deviation. So, i have chosen the lowest K value amongs those with highest mean_test_score and lowest std_test_score. So the selected K value is 11**\n",
    "\n",
    "                            ******************************++++++++++++++********************************"
   ]
  },
  {
   "cell_type": "markdown",
   "metadata": {},
   "source": [
    "## KNN MOEDL with all the columns\n",
    "-------------------------------\n",
    "**K = 11, \n",
    "Weight='Distance'**"
   ]
  },
  {
   "cell_type": "code",
   "execution_count": 30,
   "metadata": {},
   "outputs": [],
   "source": [
    "knn = KNeighborsClassifier(n_neighbors=11,weights='distance',metric='euclidean')"
   ]
  },
  {
   "cell_type": "code",
   "execution_count": 31,
   "metadata": {},
   "outputs": [
    {
     "name": "stdout",
     "output_type": "stream",
     "text": [
      "cross validated results are [0.95238095 0.8        0.9        0.8        1.        ]\n",
      "The average scroe is 0.8904761904761905\n"
     ]
    }
   ],
   "source": [
    "results = cross_val_score(knn,X_scaled,y,cv=kfold)\n",
    "print('cross validated results are' ,results)\n",
    "print('The average scroe is',results.mean())"
   ]
  },
  {
   "cell_type": "code",
   "execution_count": 32,
   "metadata": {},
   "outputs": [
    {
     "data": {
      "text/plain": [
       "KNeighborsClassifier(metric='euclidean', n_neighbors=11, weights='distance')"
      ]
     },
     "execution_count": 32,
     "metadata": {},
     "output_type": "execute_result"
    }
   ],
   "source": [
    "results = knn.fit(X_scaled,y)\n",
    "results"
   ]
  },
  {
   "cell_type": "code",
   "execution_count": 33,
   "metadata": {},
   "outputs": [
    {
     "data": {
      "text/plain": [
       "array([1, 2, 3, 4, 5, 6, 7], dtype=int64)"
      ]
     },
     "execution_count": 33,
     "metadata": {},
     "output_type": "execute_result"
    }
   ],
   "source": [
    "results.classes_"
   ]
  },
  {
   "cell_type": "code",
   "execution_count": 34,
   "metadata": {},
   "outputs": [
    {
     "data": {
      "text/plain": [
       "'euclidean'"
      ]
     },
     "execution_count": 34,
     "metadata": {},
     "output_type": "execute_result"
    }
   ],
   "source": [
    "results.effective_metric_"
   ]
  },
  {
   "cell_type": "code",
   "execution_count": 35,
   "metadata": {},
   "outputs": [
    {
     "data": {
      "text/plain": [
       "<bound method BaseEstimator.get_params of KNeighborsClassifier(metric='euclidean', n_neighbors=11, weights='distance')>"
      ]
     },
     "execution_count": 35,
     "metadata": {},
     "output_type": "execute_result"
    }
   ],
   "source": [
    "results.get_params"
   ]
  },
  {
   "cell_type": "code",
   "execution_count": 36,
   "metadata": {},
   "outputs": [
    {
     "data": {
      "text/plain": [
       "1.0"
      ]
     },
     "execution_count": 36,
     "metadata": {},
     "output_type": "execute_result"
    }
   ],
   "source": [
    "results.score(X_scaled,y)"
   ]
  },
  {
   "cell_type": "markdown",
   "metadata": {},
   "source": [
    "KNN is performing better on the dataset"
   ]
  },
  {
   "cell_type": "markdown",
   "metadata": {},
   "source": [
    "## KNN MOEDL with selected features\n",
    "-------------------------------\n",
    "**K = 11, \n",
    "Weight='Distance'**"
   ]
  },
  {
   "cell_type": "code",
   "execution_count": 37,
   "metadata": {},
   "outputs": [],
   "source": [
    "knn = KNeighborsClassifier(n_neighbors=11,weights='distance')"
   ]
  },
  {
   "cell_type": "code",
   "execution_count": 38,
   "metadata": {},
   "outputs": [
    {
     "name": "stdout",
     "output_type": "stream",
     "text": [
      "cross validated results are [0.95238095 0.7        0.95       0.75       0.95      ]\n",
      "The average scroe is 0.8604761904761904\n"
     ]
    }
   ],
   "source": [
    "results = cross_val_score(knn,X_scaled[:,5:],y,cv=kfold)\n",
    "print('cross validated results are' ,results)\n",
    "print('The average scroe is',results.mean())"
   ]
  },
  {
   "cell_type": "code",
   "execution_count": 39,
   "metadata": {},
   "outputs": [
    {
     "data": {
      "text/plain": [
       "array([1, 1, 4, 1, 1, 1, 1, 4, 4, 1, 1, 2, 4, 7, 7, 7, 2, 1, 4, 1, 2, 2,\n",
       "       1, 2, 6, 5, 5, 1, 1, 1, 6, 1, 1, 2, 4, 1, 1, 2, 4, 6, 6, 2, 6, 2,\n",
       "       1, 1, 7, 1, 1, 1, 1, 6, 5, 7, 1, 1, 2, 2, 2, 2, 4, 4, 3, 1, 1, 1,\n",
       "       1, 1, 1, 1, 1, 2, 7, 4, 1, 1, 3, 7, 2, 2, 3, 7, 4, 2, 1, 7, 4, 2,\n",
       "       6, 5, 3, 1, 4, 1, 1, 2, 1, 6, 1, 7, 2], dtype=int64)"
      ]
     },
     "execution_count": 39,
     "metadata": {},
     "output_type": "execute_result"
    }
   ],
   "source": [
    "knn.fit(X_scaled[:,5:],y)\n",
    "knn.predict(X_scaled[:,5:])"
   ]
  },
  {
   "cell_type": "code",
   "execution_count": 40,
   "metadata": {},
   "outputs": [
    {
     "data": {
      "text/plain": [
       "0.9900990099009901"
      ]
     },
     "execution_count": 40,
     "metadata": {},
     "output_type": "execute_result"
    }
   ],
   "source": [
    "knn.score(X_scaled[:,5:],y)"
   ]
  },
  {
   "cell_type": "code",
   "execution_count": 41,
   "metadata": {},
   "outputs": [],
   "source": [
    "from sklearn.metrics import confusion_matrix,plot_confusion_matrix"
   ]
  },
  {
   "cell_type": "code",
   "execution_count": 42,
   "metadata": {},
   "outputs": [
    {
     "data": {
      "text/plain": [
       "array([[41,  0,  1,  0,  0,  0,  0],\n",
       "       [ 0, 20,  0,  0,  0,  0,  0],\n",
       "       [ 0,  0,  4,  0,  0,  0,  0],\n",
       "       [ 0,  0,  0, 13,  0,  0,  0],\n",
       "       [ 0,  0,  0,  0,  4,  0,  0],\n",
       "       [ 0,  0,  0,  0,  0,  8,  0],\n",
       "       [ 0,  0,  0,  0,  0,  0, 10]], dtype=int64)"
      ]
     },
     "execution_count": 42,
     "metadata": {},
     "output_type": "execute_result"
    }
   ],
   "source": [
    "confusion_matrix(knn.predict(X_scaled[:,5:]),y)"
   ]
  },
  {
   "cell_type": "code",
   "execution_count": 43,
   "metadata": {},
   "outputs": [
    {
     "data": {
      "text/plain": [
       "<sklearn.metrics._plot.confusion_matrix.ConfusionMatrixDisplay at 0x1fa011afe50>"
      ]
     },
     "execution_count": 43,
     "metadata": {},
     "output_type": "execute_result"
    },
    {
     "data": {
      "image/png": "[encoded data removed]",
      "text/plain": [
       "<Figure size 432x288 with 2 Axes>"
      ]
     },
     "metadata": {
      "needs_background": "light"
     },
     "output_type": "display_data"
    }
   ],
   "source": [
    "plot_confusion_matrix(knn,X_scaled[:,5:],y)"
   ]
  },
  {
   "cell_type": "markdown",
   "metadata": {},
   "source": [
    "# Conclusion\n",
    "------------\n",
    "\n",
    "**Even though the model with all the columns gives us the better results in Cross validation and accuracy on training data is a perfect score of 1, it is not a best model as it appears that it is memorising the training data and overfitting the values. Hence, in my opinion the model wil selected features even though it has less cross validation score and near perfect accuracy we should select the second model.**"
   ]
  },
  {
   "cell_type": "code",
   "execution_count": null,
   "metadata": {},
   "outputs": [],
   "source": []
  }
 ],
 "metadata": {
  "kernelspec": {
   "display_name": "Python 3",
   "language": "python",
   "name": "python3"
  },
  "language_info": {
   "codemirror_mode": {
    "name": "ipython",
    "version": 3
   },
   "file_extension": ".py",
   "mimetype": "text/x-python",
   "name": "python",
   "nbconvert_exporter": "python",
   "pygments_lexer": "ipython3",
   "version": "3.8.5"
  },
  "latex_envs": {
   "LaTeX_envs_menu_present": true,
   "autoclose": false,
   "autocomplete": true,
   "bibliofile": "biblio.bib",
   "cite_by": "apalike",
   "current_citInitial": 1,
   "eqLabelWithNumbers": true,
   "eqNumInitial": 1,
   "hotkeys": {
    "equation": "Ctrl-E",
    "itemize": "Ctrl-I"
   },
   "labels_anchors": false,
   "latex_user_defs": false,
   "report_style_numbering": false,
   "user_envs_cfg": false
  }
 },
 "nbformat": 4,
 "nbformat_minor": 4
}
